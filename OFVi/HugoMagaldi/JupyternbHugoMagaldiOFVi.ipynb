{
  "metadata": {
    "kernelspec": {
      "name": "python",
      "display_name": "Python (Pyodide)",
      "language": "python"
    },
    "language_info": {
      "codemirror_mode": {
        "name": "python",
        "version": 3
      },
      "file_extension": ".py",
      "mimetype": "text/x-python",
      "name": "python",
      "nbconvert_exporter": "python",
      "pygments_lexer": "ipython3",
      "version": "3.8"
    }
  },
  "nbformat_minor": 5,
  "nbformat": 4,
  "cells": [
    {
      "id": "1ea550c0-b747-477c-a0f9-c7333b831f3a",
      "cell_type": "code",
      "source": "# Dependencies installation\nos.system(\"conda install libgl\")\nos.system(\"pip install PytorchWildlife transformers\")\nos.system(\"pip install lightning\")\nos.system(\"conda install omegaconf\")",
      "metadata": {
        "execution": {
          "iopub.execute_input": "2025-10-10T10:10:44.433521Z",
          "iopub.status.busy": "2025-10-10T10:10:44.432967Z",
          "iopub.status.idle": "2025-10-10T10:17:58.379564Z",
          "shell.execute_reply": "2025-10-10T10:17:58.378359Z"
        }
      },
      "outputs": [
        {
          "name": "stdout",
          "output_type": "stream",
          "text": "Retrieving notices: - \b\b\\ \b\bdone\n"
        },
        {
          "name": "stdout",
          "output_type": "stream",
          "text": "Channels:\n, - conda-forge\n, - bioconda\n,Platform: linux-64\n,Collecting package metadata (repodata.json): ...working... "
        },
        {
          "name": "stdout",
          "output_type": "stream",
          "text": "done\n,Solving environment: ...working... "
        },
        {
          "name": "stdout",
          "output_type": "stream",
          "text": "done\n"
        },
        {
          "name": "stderr",
          "output_type": "stream",
          "text": "\n,\n,==> WARNING: A newer version of conda exists. <==\n,    current version: 25.3.1\n,    latest version: 25.9.0\n,\n,Please update conda by running\n,\n,    $ conda update -n base -c conda-forge conda\n,\n,\n"
        },
        {
          "name": "stdout",
          "output_type": "stream",
          "text": "\n,## Package Plan ##\n,\n,  environment location: /opt/conda\n,\n,  added / updated specs:\n,    - libgl\n,\n,\n,The following packages will be downloaded:\n,\n,    package                    |            build\n,    ---------------------------|-----------------\n,    ca-certificates-2025.10.5  |       hbd8a1cb_0         152 KB  conda-forge\n,    certifi-2025.10.5          |     pyhd8ed1ab_0         156 KB  conda-forge\n,    libgl-1.7.0                |       ha4b6fd6_2         132 KB  conda-forge\n,    libglvnd-1.7.0             |       ha4b6fd6_2         129 KB  conda-forge\n,    libglx-1.7.0               |       ha4b6fd6_2          74 KB  conda-forge\n,    openssl-3.5.4              |       h26f9b46_0         3.0 MB  conda-forge\n,    pthread-stubs-0.4          |    hb9d3cd8_1002           8 KB  conda-forge\n,    ------------------------------------------------------------\n,                                           Total:         3.6 MB\n,\n,The following NEW packages will be INSTALLED:\n,\n,  libgl              conda-forge/linux-64::libgl-1.7.0-ha4b6fd6_2 \n,  libglvnd           conda-forge/linux-64::libglvnd-1.7.0-ha4b6fd6_2 \n,  libglx             conda-forge/linux-64::libglx-1.7.0-ha4b6fd6_2 \n,  libxcb             conda-forge/linux-64::libxcb-1.17.0-h8a09558_0 \n,  pthread-stubs      conda-forge/linux-64::pthread-stubs-0.4-hb9d3cd8_1002 \n,  xorg-libx11        conda-forge/linux-64::xorg-libx11-1.8.12-h4f16b4b_0 \n,  xorg-libxau        conda-forge/linux-64::xorg-libxau-1.0.12-hb9d3cd8_0 \n,  xorg-libxdmcp      conda-forge/linux-64::xorg-libxdmcp-1.1.5-hb9d3cd8_0 \n,\n,The following packages will be UPDATED:\n,\n,  ca-certificates    conda-forge/linux-64::ca-certificates~ --> conda-forge/noarch::ca-certificates-2025.10.5-hbd8a1cb_0 \n,  certifi                            2025.1.31-pyhd8ed1ab_0 --> 2025.10.5-pyhd8ed1ab_0 \n,  openssl                                  3.5.0-h7b32b05_0 --> 3.5.4-h26f9b46_0 \n,\n,\n,Proceed ([y]/n)? \n,\n,Downloading and Extracting Packages: ...working...\r,openssl-3.5.4        | 3.0 MB    |            |   0% \n,\r,certifi-2025.10.5    | 156 KB    |            |   0% \u001b[A\n,\n,\r,ca-certificates-2025 | 152 KB    |            |   0% \u001b[A\u001b[A\n,\n,\n,\r,libgl-1.7.0          | 132 KB    |            |   0% \u001b[A\u001b[A\u001b[A\n,\n,\n,\n,\r,libglvnd-1.7.0       | 129 KB    |            |   0% \u001b[A\u001b[A\u001b[A\u001b[A\n,\n,\n,\n,\n,\r,libglx-1.7.0         | 74 KB     |            |   0% \u001b[A\u001b[A\u001b[A\u001b[A\u001b[A\n,\n,\n,\n,\n,\n,\r,pthread-stubs-0.4    | 8 KB      |            |   0% \u001b[A\u001b[A\u001b[A\u001b[A\u001b[A\u001b[A\r,openssl-3.5.4        | 3.0 MB    | 1          |   1% \n,\n,\r,ca-certificates-2025 | 152 KB    | ####2      |  42% \u001b[A\u001b[A\n,\r,certifi-2025.10.5    | 156 KB    | ##         |  20% \u001b[A\n,\n,\n,\n,\r,libglvnd-1.7.0       | 129 KB    | ####9      |  49% \u001b[A\u001b[A\u001b[A\u001b[A\n,\n,\n,\r,libgl-1.7.0          | 132 KB    | #2         |  12% \u001b[A\u001b[A\u001b[A"
        },
        {
          "name": "stdout",
          "output_type": "stream",
          "text": "\n,\n,\r,ca-certificates-2025 | 152 KB    | ########## | 100% \u001b[A\u001b[A\n,\n,\n,\n,\r,libglvnd-1.7.0       | 129 KB    | ########## | 100% \u001b[A\u001b[A\u001b[A\u001b[A\n,\r,certifi-2025.10.5    | 156 KB    | ########## | 100% \u001b[A\n,\n,\n,\r,libgl-1.7.0          | 132 KB    | ########## | 100% \u001b[A\u001b[A\u001b[A\n,\n,\n,\n,\n,\r,libglx-1.7.0         | 74 KB     | ##1        |  22% \u001b[A\u001b[A\u001b[A\u001b[A\u001b[A\n,\n,\n,\n,\n,\n,\r,pthread-stubs-0.4    | 8 KB      | ########## | 100% \u001b[A\u001b[A\u001b[A\u001b[A\u001b[A\u001b[A\r,openssl-3.5.4        | 3.0 MB    | #9         |  20% \n,\n,\n,\n,\n,\n,\r,pthread-stubs-0.4    | 8 KB      | ########## | 100% \u001b[A\u001b[A\u001b[A\u001b[A\u001b[A\u001b[A\n,\n,\n,\n,\n,\r,libglx-1.7.0         | 74 KB     | ########## | 100% \u001b[A\u001b[A\u001b[A\u001b[A\u001b[A\r,openssl-3.5.4        | 3.0 MB    | ####9      |  50% "
        },
        {
          "name": "stdout",
          "output_type": "stream",
          "text": "\n,\n,\r,ca-certificates-2025 | 152 KB    | ########## | 100% \u001b[A\u001b[A\n,\n,\r,ca-certificates-2025 | 152 KB    | ########## | 100% \u001b[A\u001b[A\r,openssl-3.5.4        | 3.0 MB    | #######8   |  78% \n,\r,certifi-2025.10.5    | 156 KB    | ########## | 100% \u001b[A\n,\r,certifi-2025.10.5    | 156 KB    | ########## | 100% \u001b[A\n,\n,\n,\n,\r,libglvnd-1.7.0       | 129 KB    | ########## | 100% \u001b[A\u001b[A\u001b[A\u001b[A\n,\n,\n,\n,\r,libglvnd-1.7.0       | 129 KB    | ########## | 100% \u001b[A\u001b[A\u001b[A\u001b[A\r,openssl-3.5.4        | 3.0 MB    | #########9 | 100% "
        },
        {
          "name": "stdout",
          "output_type": "stream",
          "text": "\n,\n,\n,\n,\n,\n,\r,pthread-stubs-0.4    | 8 KB      | ########## | 100% \u001b[A\u001b[A\u001b[A\u001b[A\u001b[A\u001b[A\n,\n,\n,\n,\n,\r,libglx-1.7.0         | 74 KB     | ########## | 100% \u001b[A\u001b[A\u001b[A\u001b[A\u001b[A\n,\n,\n,\n,\n,\r,libglx-1.7.0         | 74 KB     | ########## | 100% \u001b[A\u001b[A\u001b[A\u001b[A\u001b[A\n,\n,\n,\r,libgl-1.7.0          | 132 KB    | ########## | 100% \u001b[A\u001b[A\u001b[A\n,\n,\n,\r,libgl-1.7.0          | 132 KB    | ########## | 100% \u001b[A\u001b[A\u001b[A\r,openssl-3.5.4        | 3.0 MB    | ########## | 100% "
        },
        {
          "name": "stdout",
          "output_type": "stream",
          "text": "\r,openssl-3.5.4        | 3.0 MB    | ########## | 100% \r,                                                     \r\n,\r,                                                     \u001b[A\n,\n,\r,                                                     \u001b[A\u001b[A\n,\n,\n,\r,                                                     \u001b[A\u001b[A\u001b[A\n,\n,\n,\n,\r,                                                     \u001b[A\u001b[A\u001b[A\u001b[A\n,\n,\n,\n,\n,\r,                                                     \u001b[A\u001b[A\u001b[A\u001b[A\u001b[A\n,\n,\n,\n,\n,\n,\r,                                                     \u001b[A\u001b[A\u001b[A\u001b[A\u001b[A\u001b[A done\n,Preparing transaction: / \b\b- "
        },
        {
          "name": "stdout",
          "output_type": "stream",
          "text": "\b\bdone\n,Verifying transaction: | \b\b/ "
        },
        {
          "name": "stdout",
          "output_type": "stream",
          "text": "\b\b- \b\b\\ \b\b| "
        },
        {
          "name": "stdout",
          "output_type": "stream",
          "text": "\b\b/ \b\bdone\n,Executing transaction: \\ "
        },
        {
          "name": "stdout",
          "output_type": "stream",
          "text": "\b\b| \b\b/ \b\b- "
        },
        {
          "name": "stdout",
          "output_type": "stream",
          "text": "\b\b\\ \b\b| \b\b/ "
        },
        {
          "name": "stdout",
          "output_type": "stream",
          "text": "\b\b- \b\b\\ \b\b| "
        },
        {
          "name": "stdout",
          "output_type": "stream",
          "text": "\b\b/ \b\b- \b\b\\ "
        },
        {
          "name": "stdout",
          "output_type": "stream",
          "text": "\b\b| \b\b/ \b\b- "
        },
        {
          "name": "stdout",
          "output_type": "stream",
          "text": "\b\b\\ \b\b| \b\b/ "
        },
        {
          "name": "stdout",
          "output_type": "stream",
          "text": "\b\b- \b\b\\ \b\b| "
        },
        {
          "name": "stdout",
          "output_type": "stream",
          "text": "\b\b/ \b\b- \b\b\\ "
        },
        {
          "name": "stdout",
          "output_type": "stream",
          "text": "\b\b| \b\b/ \b\b- "
        },
        {
          "name": "stdout",
          "output_type": "stream",
          "text": "\b\b\\ \b\b| "
        },
        {
          "name": "stdout",
          "output_type": "stream",
          "text": "\b\b/ \b\b- \b\b\\ "
        },
        {
          "name": "stdout",
          "output_type": "stream",
          "text": "\b\b| \b\b/ "
        },
        {
          "name": "stdout",
          "output_type": "stream",
          "text": "\b\b- \b\b\\ \b\b| "
        },
        {
          "name": "stdout",
          "output_type": "stream",
          "text": "\b\b/ \b\bdone\n"
        },
        {
          "name": "stdout",
          "output_type": "stream",
          "text": "Collecting PytorchWildlife\n,  Downloading pytorchwildlife-1.2.4.2-py3-none-any.whl.metadata (18 kB)\n,Collecting transformers\n,  Downloading transformers-4.57.0-py3-none-any.whl.metadata (41 kB)\n"
        },
        {
          "name": "stdout",
          "output_type": "stream",
          "text": "Collecting torch (from PytorchWildlife)\n,  Downloading torch-2.8.0-cp312-cp312-manylinux_2_28_x86_64.whl.metadata (30 kB)\n,Collecting torchvision (from PytorchWildlife)\n,  Downloading torchvision-0.23.0-cp312-cp312-manylinux_2_28_x86_64.whl.metadata (6.1 kB)\n"
        },
        {
          "name": "stdout",
          "output_type": "stream",
          "text": "Collecting torchaudio (from PytorchWildlife)\n,  Downloading torchaudio-2.8.0-cp312-cp312-manylinux_2_28_x86_64.whl.metadata (7.2 kB)\n,Requirement already satisfied: tqdm in /opt/conda/lib/python3.12/site-packages (from PytorchWildlife) (4.67.1)\n"
        },
        {
          "name": "stdout",
          "output_type": "stream",
          "text": "Collecting Pillow (from PytorchWildlife)\n,  Downloading pillow-11.3.0-cp312-cp312-manylinux_2_27_x86_64.manylinux_2_28_x86_64.whl.metadata (9.0 kB)\n,Collecting supervision==0.23.0 (from PytorchWildlife)\n,  Downloading supervision-0.23.0-py3-none-any.whl.metadata (14 kB)\n"
        },
        {
          "name": "stdout",
          "output_type": "stream",
          "text": "Collecting gradio (from PytorchWildlife)\n,  Downloading gradio-5.49.1-py3-none-any.whl.metadata (16 kB)\n,Collecting ultralytics (from PytorchWildlife)\n"
        },
        {
          "name": "stdout",
          "output_type": "stream",
          "text": "  Downloading ultralytics-8.3.208-py3-none-any.whl.metadata (37 kB)\n,Collecting chardet (from PytorchWildlife)\n,  Downloading chardet-5.2.0-py3-none-any.whl.metadata (3.4 kB)\n,Collecting wget (from PytorchWildlife)\n,  Downloading wget-3.2.zip (10 kB)\n,  Preparing metadata (setup.py): started\n"
        },
        {
          "name": "stdout",
          "output_type": "stream",
          "text": "  Preparing metadata (setup.py): finished with status 'done'\n,Collecting yolov5 (from PytorchWildlife)\n,  Downloading yolov5-7.0.14-py37.py38.py39.py310-none-any.whl.metadata (10 kB)\n,Requirement already satisfied: setuptools in /opt/conda/lib/python3.12/site-packages (from PytorchWildlife) (78.1.0)\n,Collecting scikit-learn (from PytorchWildlife)\n"
        },
        {
          "name": "stdout",
          "output_type": "stream",
          "text": "  Downloading scikit_learn-1.7.2-cp312-cp312-manylinux2014_x86_64.manylinux_2_17_x86_64.whl.metadata (11 kB)\n,Collecting timm (from PytorchWildlife)\n,  Downloading timm-1.0.20-py3-none-any.whl.metadata (61 kB)\n,Requirement already satisfied: defusedxml<0.8.0,>=0.7.1 in /opt/conda/lib/python3.12/site-packages (from supervision==0.23.0->PytorchWildlife) (0.7.1)\n"
        },
        {
          "name": "stdout",
          "output_type": "stream",
          "text": "Collecting matplotlib>=3.6.0 (from supervision==0.23.0->PytorchWildlife)\n,  Downloading matplotlib-3.10.7-cp312-cp312-manylinux2014_x86_64.manylinux_2_17_x86_64.whl.metadata (11 kB)\n,Requirement already satisfied: numpy>=1.23.3 in /opt/conda/lib/python3.12/site-packages (from supervision==0.23.0->PytorchWildlife) (2.2.4)\n,Collecting opencv-python-headless>=4.5.5.64 (from supervision==0.23.0->PytorchWildlife)\n,  Downloading opencv_python_headless-4.12.0.88-cp37-abi3-manylinux2014_x86_64.manylinux_2_17_x86_64.whl.metadata (19 kB)\n,Requirement already satisfied: pyyaml>=5.3 in /opt/conda/lib/python3.12/site-packages (from supervision==0.23.0->PytorchWildlife) (6.0.2)\n,Requirement already satisfied: scipy<2.0.0,>=1.10.0 in /opt/conda/lib/python3.12/site-packages (from supervision==0.23.0->PytorchWildlife) (1.15.2)\n"
        },
        {
          "name": "stdout",
          "output_type": "stream",
          "text": "Collecting filelock (from transformers)\n,  Downloading filelock-3.20.0-py3-none-any.whl.metadata (2.1 kB)\n,Collecting huggingface-hub<1.0,>=0.34.0 (from transformers)\n,  Downloading huggingface_hub-0.35.3-py3-none-any.whl.metadata (14 kB)\n,Requirement already satisfied: packaging>=20.0 in /opt/conda/lib/python3.12/site-packages (from transformers) (24.2)\n"
        },
        {
          "name": "stdout",
          "output_type": "stream",
          "text": "Collecting regex!=2019.12.17 (from transformers)\n,  Downloading regex-2025.9.18-cp312-cp312-manylinux2014_x86_64.manylinux_2_17_x86_64.manylinux_2_28_x86_64.whl.metadata (40 kB)\n,Requirement already satisfied: requests in /opt/conda/lib/python3.12/site-packages (from transformers) (2.32.3)\n"
        },
        {
          "name": "stdout",
          "output_type": "stream",
          "text": "Collecting tokenizers<=0.23.0,>=0.22.0 (from transformers)\n,  Downloading tokenizers-0.22.1-cp39-abi3-manylinux_2_17_x86_64.manylinux2014_x86_64.whl.metadata (6.8 kB)\n"
        },
        {
          "name": "stdout",
          "output_type": "stream",
          "text": "Collecting safetensors>=0.4.3 (from transformers)\n,  Downloading safetensors-0.6.2-cp38-abi3-manylinux_2_17_x86_64.manylinux2014_x86_64.whl.metadata (4.1 kB)\n,Collecting fsspec>=2023.5.0 (from huggingface-hub<1.0,>=0.34.0->transformers)\n,  Downloading fsspec-2025.9.0-py3-none-any.whl.metadata (10 kB)\n"
        },
        {
          "name": "stdout",
          "output_type": "stream",
          "text": "Requirement already satisfied: typing-extensions>=3.7.4.3 in /opt/conda/lib/python3.12/site-packages (from huggingface-hub<1.0,>=0.34.0->transformers) (4.13.2)\n,Collecting hf-xet<2.0.0,>=1.1.3 (from huggingface-hub<1.0,>=0.34.0->transformers)\n,  Downloading hf_xet-1.1.10-cp37-abi3-manylinux_2_17_x86_64.manylinux2014_x86_64.whl.metadata (4.7 kB)\n"
        },
        {
          "name": "stdout",
          "output_type": "stream",
          "text": "Collecting aiofiles<25.0,>=22.0 (from gradio->PytorchWildlife)\n,  Downloading aiofiles-24.1.0-py3-none-any.whl.metadata (10 kB)\n,Requirement already satisfied: anyio<5.0,>=3.0 in /opt/conda/lib/python3.12/site-packages (from gradio->PytorchWildlife) (4.9.0)\n,Requirement already satisfied: brotli>=1.1.0 in /opt/conda/lib/python3.12/site-packages (from gradio->PytorchWildlife) (1.1.0)\n,Collecting fastapi<1.0,>=0.115.2 (from gradio->PytorchWildlife)\n,  Downloading fastapi-0.118.2-py3-none-any.whl.metadata (28 kB)\n"
        },
        {
          "name": "stdout",
          "output_type": "stream",
          "text": "Collecting ffmpy (from gradio->PytorchWildlife)\n,  Downloading ffmpy-0.6.2-py3-none-any.whl.metadata (2.9 kB)\n,Collecting gradio-client==1.13.3 (from gradio->PytorchWildlife)\n,  Downloading gradio_client-1.13.3-py3-none-any.whl.metadata (7.1 kB)\n,Collecting groovy~=0.1 (from gradio->PytorchWildlife)\n,  Downloading groovy-0.1.2-py3-none-any.whl.metadata (6.1 kB)\n,Requirement already satisfied: httpx<1.0,>=0.24.1 in /opt/conda/lib/python3.12/site-packages (from gradio->PytorchWildlife) (0.28.1)\n,Requirement already satisfied: jinja2<4.0 in /opt/conda/lib/python3.12/site-packages (from gradio->PytorchWildlife) (3.1.6)\n,Requirement already satisfied: markupsafe<4.0,>=2.0 in /opt/conda/lib/python3.12/site-packages (from gradio->PytorchWildlife) (3.0.2)\n"
        },
        {
          "name": "stdout",
          "output_type": "stream",
          "text": "Collecting orjson~=3.0 (from gradio->PytorchWildlife)\n,  Downloading orjson-3.11.3-cp312-cp312-manylinux_2_17_x86_64.manylinux2014_x86_64.whl.metadata (41 kB)\n,Requirement already satisfied: pandas<3.0,>=1.0 in /opt/conda/lib/python3.12/site-packages (from gradio->PytorchWildlife) (2.2.3)\n,Requirement already satisfied: pydantic<2.12,>=2.0 in /opt/conda/lib/python3.12/site-packages (from gradio->PytorchWildlife) (2.11.3)\n,Collecting pydub (from gradio->PytorchWildlife)\n,  Downloading pydub-0.25.1-py2.py3-none-any.whl.metadata (1.4 kB)\n,Collecting python-multipart>=0.0.18 (from gradio->PytorchWildlife)\n,  Downloading python_multipart-0.0.20-py3-none-any.whl.metadata (1.8 kB)\n"
        },
        {
          "name": "stdout",
          "output_type": "stream",
          "text": "Collecting ruff>=0.9.3 (from gradio->PytorchWildlife)\n,  Downloading ruff-0.14.0-py3-none-manylinux_2_17_x86_64.manylinux2014_x86_64.whl.metadata (25 kB)\n,Collecting safehttpx<0.2.0,>=0.1.6 (from gradio->PytorchWildlife)\n,  Downloading safehttpx-0.1.6-py3-none-any.whl.metadata (4.2 kB)\n,Collecting semantic-version~=2.0 (from gradio->PytorchWildlife)\n,  Downloading semantic_version-2.10.0-py2.py3-none-any.whl.metadata (9.7 kB)\n,Collecting starlette<1.0,>=0.40.0 (from gradio->PytorchWildlife)\n,  Downloading starlette-0.48.0-py3-none-any.whl.metadata (6.3 kB)\n"
        },
        {
          "name": "stdout",
          "output_type": "stream",
          "text": "Collecting tomlkit<0.14.0,>=0.12.0 (from gradio->PytorchWildlife)\n,  Downloading tomlkit-0.13.3-py3-none-any.whl.metadata (2.8 kB)\n,Collecting typer<1.0,>=0.12 (from gradio->PytorchWildlife)\n,  Downloading typer-0.19.2-py3-none-any.whl.metadata (16 kB)\n,Collecting uvicorn>=0.14.0 (from gradio->PytorchWildlife)\n,  Downloading uvicorn-0.37.0-py3-none-any.whl.metadata (6.6 kB)\n"
        },
        {
          "name": "stdout",
          "output_type": "stream",
          "text": "Collecting websockets<16.0,>=13.0 (from gradio-client==1.13.3->gradio->PytorchWildlife)\n,  Downloading websockets-15.0.1-cp312-cp312-manylinux_2_5_x86_64.manylinux1_x86_64.manylinux_2_17_x86_64.manylinux2014_x86_64.whl.metadata (6.8 kB)\n,Requirement already satisfied: charset_normalizer<4,>=2 in /opt/conda/lib/python3.12/site-packages (from requests->transformers) (3.4.1)\n,Requirement already satisfied: idna<4,>=2.5 in /opt/conda/lib/python3.12/site-packages (from requests->transformers) (3.10)\n,Requirement already satisfied: urllib3<3,>=1.21.1 in /opt/conda/lib/python3.12/site-packages (from requests->transformers) (2.4.0)\n,Requirement already satisfied: certifi>=2017.4.17 in /opt/conda/lib/python3.12/site-packages (from requests->transformers) (2025.10.5)\n,Collecting joblib>=1.2.0 (from scikit-learn->PytorchWildlife)\n,  Downloading joblib-1.5.2-py3-none-any.whl.metadata (5.6 kB)\n,Collecting threadpoolctl>=3.1.0 (from scikit-learn->PytorchWildlife)\n,  Downloading threadpoolctl-3.6.0-py3-none-any.whl.metadata (13 kB)\n,Collecting sympy>=1.13.3 (from torch->PytorchWildlife)\n,  Downloading sympy-1.14.0-py3-none-any.whl.metadata (12 kB)\n"
        },
        {
          "name": "stdout",
          "output_type": "stream",
          "text": "Collecting networkx (from torch->PytorchWildlife)\n,  Downloading networkx-3.5-py3-none-any.whl.metadata (6.3 kB)\n,Collecting nvidia-cuda-nvrtc-cu12==12.8.93 (from torch->PytorchWildlife)\n,  Downloading nvidia_cuda_nvrtc_cu12-12.8.93-py3-none-manylinux2010_x86_64.manylinux_2_12_x86_64.whl.metadata (1.7 kB)\n,Collecting nvidia-cuda-runtime-cu12==12.8.90 (from torch->PytorchWildlife)\n,  Downloading nvidia_cuda_runtime_cu12-12.8.90-py3-none-manylinux2014_x86_64.manylinux_2_17_x86_64.whl.metadata (1.7 kB)\n,Collecting nvidia-cuda-cupti-cu12==12.8.90 (from torch->PytorchWildlife)\n,  Downloading nvidia_cuda_cupti_cu12-12.8.90-py3-none-manylinux2014_x86_64.manylinux_2_17_x86_64.whl.metadata (1.7 kB)\n,Collecting nvidia-cudnn-cu12==9.10.2.21 (from torch->PytorchWildlife)\n"
        },
        {
          "name": "stdout",
          "output_type": "stream",
          "text": "  Downloading nvidia_cudnn_cu12-9.10.2.21-py3-none-manylinux_2_27_x86_64.whl.metadata (1.8 kB)\n,Collecting nvidia-cublas-cu12==12.8.4.1 (from torch->PytorchWildlife)\n,  Downloading nvidia_cublas_cu12-12.8.4.1-py3-none-manylinux_2_27_x86_64.whl.metadata (1.7 kB)\n,Collecting nvidia-cufft-cu12==11.3.3.83 (from torch->PytorchWildlife)\n,  Downloading nvidia_cufft_cu12-11.3.3.83-py3-none-manylinux2014_x86_64.manylinux_2_17_x86_64.whl.metadata (1.7 kB)\n,Collecting nvidia-curand-cu12==10.3.9.90 (from torch->PytorchWildlife)\n,  Downloading nvidia_curand_cu12-10.3.9.90-py3-none-manylinux_2_27_x86_64.whl.metadata (1.7 kB)\n,Collecting nvidia-cusolver-cu12==11.7.3.90 (from torch->PytorchWildlife)\n"
        },
        {
          "name": "stdout",
          "output_type": "stream",
          "text": "  Downloading nvidia_cusolver_cu12-11.7.3.90-py3-none-manylinux_2_27_x86_64.whl.metadata (1.8 kB)\n,Collecting nvidia-cusparse-cu12==12.5.8.93 (from torch->PytorchWildlife)\n,  Downloading nvidia_cusparse_cu12-12.5.8.93-py3-none-manylinux2014_x86_64.manylinux_2_17_x86_64.whl.metadata (1.8 kB)\n,Collecting nvidia-cusparselt-cu12==0.7.1 (from torch->PytorchWildlife)\n,  Downloading nvidia_cusparselt_cu12-0.7.1-py3-none-manylinux2014_x86_64.whl.metadata (7.0 kB)\n,Collecting nvidia-nccl-cu12==2.27.3 (from torch->PytorchWildlife)\n,  Downloading nvidia_nccl_cu12-2.27.3-py3-none-manylinux2014_x86_64.manylinux_2_17_x86_64.whl.metadata (2.0 kB)\n,Collecting nvidia-nvtx-cu12==12.8.90 (from torch->PytorchWildlife)\n,  Downloading nvidia_nvtx_cu12-12.8.90-py3-none-manylinux2014_x86_64.manylinux_2_17_x86_64.whl.metadata (1.8 kB)\n"
        },
        {
          "name": "stdout",
          "output_type": "stream",
          "text": "Collecting nvidia-nvjitlink-cu12==12.8.93 (from torch->PytorchWildlife)\n,  Downloading nvidia_nvjitlink_cu12-12.8.93-py3-none-manylinux2010_x86_64.manylinux_2_12_x86_64.whl.metadata (1.7 kB)\n,Collecting nvidia-cufile-cu12==1.13.1.3 (from torch->PytorchWildlife)\n,  Downloading nvidia_cufile_cu12-1.13.1.3-py3-none-manylinux2014_x86_64.manylinux_2_17_x86_64.whl.metadata (1.7 kB)\n,Collecting triton==3.4.0 (from torch->PytorchWildlife)\n,  Downloading triton-3.4.0-cp312-cp312-manylinux_2_27_x86_64.manylinux_2_28_x86_64.whl.metadata (1.7 kB)\n"
        },
        {
          "name": "stdout",
          "output_type": "stream",
          "text": "Collecting opencv-python>=4.6.0 (from ultralytics->PytorchWildlife)\n,  Downloading opencv_python-4.12.0.88-cp37-abi3-manylinux2014_x86_64.manylinux_2_17_x86_64.whl.metadata (19 kB)\n,Requirement already satisfied: psutil in /opt/conda/lib/python3.12/site-packages (from ultralytics->PytorchWildlife) (7.0.0)\n"
        },
        {
          "name": "stdout",
          "output_type": "stream",
          "text": "Collecting polars (from ultralytics->PytorchWildlife)\n,  Downloading polars-1.34.0-py3-none-any.whl.metadata (10 kB)\n,Collecting ultralytics-thop>=2.0.0 (from ultralytics->PytorchWildlife)\n,  Downloading ultralytics_thop-2.0.17-py3-none-any.whl.metadata (14 kB)\n,Collecting gitpython>=3.1.30 (from yolov5->PytorchWildlife)\n,  Downloading gitpython-3.1.45-py3-none-any.whl.metadata (13 kB)\n"
        },
        {
          "name": "stdout",
          "output_type": "stream",
          "text": "Collecting thop>=0.1.1 (from yolov5->PytorchWildlife)\n,  Downloading thop-0.1.1.post2209072238-py3-none-any.whl.metadata (2.7 kB)\n,Collecting tensorboard>=2.4.1 (from yolov5->PytorchWildlife)\n"
        },
        {
          "name": "stdout",
          "output_type": "stream",
          "text": "  Downloading tensorboard-2.20.0-py3-none-any.whl.metadata (1.8 kB)\n,Collecting seaborn>=0.11.0 (from yolov5->PytorchWildlife)\n,  Downloading seaborn-0.13.2-py3-none-any.whl.metadata (5.4 kB)\n,Collecting fire (from yolov5->PytorchWildlife)\n,  Downloading fire-0.7.1-py3-none-any.whl.metadata (5.8 kB)\n"
        },
        {
          "name": "stdout",
          "output_type": "stream",
          "text": "Collecting boto3>=1.19.1 (from yolov5->PytorchWildlife)\n,  Downloading boto3-1.40.49-py3-none-any.whl.metadata (6.7 kB)\n,Collecting sahi>=0.11.10 (from yolov5->PytorchWildlife)\n,  Downloading sahi-0.11.36-py3-none-any.whl.metadata (19 kB)\n,INFO: pip is looking at multiple versions of yolov5 to determine which version is compatible with other requirements. This could take a while.\n,Collecting yolov5 (from PytorchWildlife)\n,  Downloading yolov5-7.0.13-py37.py38.py39.py310-none-any.whl.metadata (10 kB)\n"
        },
        {
          "name": "stdout",
          "output_type": "stream",
          "text": "Collecting roboflow>=0.2.29 (from yolov5->PytorchWildlife)\n,  Downloading roboflow-1.2.10-py3-none-any.whl.metadata (9.7 kB)\n,Requirement already satisfied: sniffio>=1.1 in /opt/conda/lib/python3.12/site-packages (from anyio<5.0,>=3.0->gradio->PytorchWildlife) (1.3.1)\n"
        },
        {
          "name": "stdout",
          "output_type": "stream",
          "text": "Collecting botocore<1.41.0,>=1.40.49 (from boto3>=1.19.1->yolov5->PytorchWildlife)\n,  Downloading botocore-1.40.49-py3-none-any.whl.metadata (5.7 kB)\n,Collecting jmespath<2.0.0,>=0.7.1 (from boto3>=1.19.1->yolov5->PytorchWildlife)\n,  Downloading jmespath-1.0.1-py3-none-any.whl.metadata (7.6 kB)\n,Collecting s3transfer<0.15.0,>=0.14.0 (from boto3>=1.19.1->yolov5->PytorchWildlife)\n,  Downloading s3transfer-0.14.0-py3-none-any.whl.metadata (1.7 kB)\n"
        },
        {
          "name": "stdout",
          "output_type": "stream",
          "text": "Collecting gitdb<5,>=4.0.1 (from gitpython>=3.1.30->yolov5->PytorchWildlife)\n,  Downloading gitdb-4.0.12-py3-none-any.whl.metadata (1.2 kB)\n,Requirement already satisfied: httpcore==1.* in /opt/conda/lib/python3.12/site-packages (from httpx<1.0,>=0.24.1->gradio->PytorchWildlife) (1.0.7)\n,Requirement already satisfied: h11<0.15,>=0.13 in /opt/conda/lib/python3.12/site-packages (from httpcore==1.*->httpx<1.0,>=0.24.1->gradio->PytorchWildlife) (0.14.0)\n"
        },
        {
          "name": "stdout",
          "output_type": "stream",
          "text": "Collecting contourpy>=1.0.1 (from matplotlib>=3.6.0->supervision==0.23.0->PytorchWildlife)\n,  Downloading contourpy-1.3.3-cp312-cp312-manylinux_2_27_x86_64.manylinux_2_28_x86_64.whl.metadata (5.5 kB)\n,Collecting cycler>=0.10 (from matplotlib>=3.6.0->supervision==0.23.0->PytorchWildlife)\n,  Downloading cycler-0.12.1-py3-none-any.whl.metadata (3.8 kB)\n"
        },
        {
          "name": "stdout",
          "output_type": "stream",
          "text": "Collecting fonttools>=4.22.0 (from matplotlib>=3.6.0->supervision==0.23.0->PytorchWildlife)\n,  Downloading fonttools-4.60.1-cp312-cp312-manylinux1_x86_64.manylinux2014_x86_64.manylinux_2_17_x86_64.manylinux_2_5_x86_64.whl.metadata (112 kB)\n"
        },
        {
          "name": "stdout",
          "output_type": "stream",
          "text": "Collecting kiwisolver>=1.3.1 (from matplotlib>=3.6.0->supervision==0.23.0->PytorchWildlife)\n,  Downloading kiwisolver-1.4.9-cp312-cp312-manylinux2014_x86_64.manylinux_2_17_x86_64.whl.metadata (6.3 kB)\n,Collecting pyparsing>=3 (from matplotlib>=3.6.0->supervision==0.23.0->PytorchWildlife)\n,  Downloading pyparsing-3.2.5-py3-none-any.whl.metadata (5.0 kB)\n,Requirement already satisfied: python-dateutil>=2.7 in /opt/conda/lib/python3.12/site-packages (from matplotlib>=3.6.0->supervision==0.23.0->PytorchWildlife) (2.9.0.post0)\n,Requirement already satisfied: pytz>=2020.1 in /opt/conda/lib/python3.12/site-packages (from pandas<3.0,>=1.0->gradio->PytorchWildlife) (2025.2)\n,Requirement already satisfied: tzdata>=2022.7 in /opt/conda/lib/python3.12/site-packages (from pandas<3.0,>=1.0->gradio->PytorchWildlife) (2025.2)\n,Requirement already satisfied: annotated-types>=0.6.0 in /opt/conda/lib/python3.12/site-packages (from pydantic<2.12,>=2.0->gradio->PytorchWildlife) (0.7.0)\n,Requirement already satisfied: pydantic-core==2.33.1 in /opt/conda/lib/python3.12/site-packages (from pydantic<2.12,>=2.0->gradio->PytorchWildlife) (2.33.1)\n,Requirement already satisfied: typing-inspection>=0.4.0 in /opt/conda/lib/python3.12/site-packages (from pydantic<2.12,>=2.0->gradio->PytorchWildlife) (0.4.0)\n"
        },
        {
          "name": "stdout",
          "output_type": "stream",
          "text": "Collecting idna<4,>=2.5 (from requests->transformers)\n,  Downloading idna-3.7-py3-none-any.whl.metadata (9.9 kB)\n,Collecting opencv-python-headless>=4.5.5.64 (from supervision==0.23.0->PytorchWildlife)\n,  Downloading opencv_python_headless-4.10.0.84-cp37-abi3-manylinux_2_17_x86_64.manylinux2014_x86_64.whl.metadata (20 kB)\n,Collecting pi-heif<2 (from roboflow>=0.2.29->yolov5->PytorchWildlife)\n,  Downloading pi_heif-1.1.1-cp312-cp312-manylinux_2_27_x86_64.manylinux_2_28_x86_64.whl.metadata (6.5 kB)\n"
        },
        {
          "name": "stdout",
          "output_type": "stream",
          "text": "Collecting pillow-avif-plugin<2 (from roboflow>=0.2.29->yolov5->PytorchWildlife)\n,  Downloading pillow_avif_plugin-1.5.2-cp312-cp312-manylinux_2_28_x86_64.whl.metadata (2.1 kB)\n,Collecting python-dotenv (from roboflow>=0.2.29->yolov5->PytorchWildlife)\n,  Downloading python_dotenv-1.1.1-py3-none-any.whl.metadata (24 kB)\n,Requirement already satisfied: six in /opt/conda/lib/python3.12/site-packages (from roboflow>=0.2.29->yolov5->PytorchWildlife) (1.17.0)\n,Requirement already satisfied: requests-toolbelt in /opt/conda/lib/python3.12/site-packages (from roboflow>=0.2.29->yolov5->PytorchWildlife) (1.0.0)\n,Collecting filetype (from roboflow>=0.2.29->yolov5->PytorchWildlife)\n,  Downloading filetype-1.2.0-py2.py3-none-any.whl.metadata (6.5 kB)\n"
        },
        {
          "name": "stdout",
          "output_type": "stream",
          "text": "Collecting click (from sahi>=0.11.10->yolov5->PytorchWildlife)\n,  Downloading click-8.3.0-py3-none-any.whl.metadata (2.6 kB)\n,Collecting opencv-python>=4.6.0 (from ultralytics->PytorchWildlife)\n,  Downloading opencv_python-4.11.0.86-cp37-abi3-manylinux_2_17_x86_64.manylinux2014_x86_64.whl.metadata (20 kB)\n,Collecting pybboxes==0.1.6 (from sahi>=0.11.10->yolov5->PytorchWildlife)\n,  Downloading pybboxes-0.1.6-py3-none-any.whl.metadata (9.9 kB)\n"
        },
        {
          "name": "stdout",
          "output_type": "stream",
          "text": "Collecting shapely>=2.0.0 (from sahi>=0.11.10->yolov5->PytorchWildlife)\n,  Downloading shapely-2.1.2-cp312-cp312-manylinux2014_x86_64.manylinux_2_17_x86_64.whl.metadata (6.8 kB)\n,Collecting terminaltables (from sahi>=0.11.10->yolov5->PytorchWildlife)\n,  Downloading terminaltables-3.1.10-py2.py3-none-any.whl.metadata (3.5 kB)\n,Collecting mpmath<1.4,>=1.1.0 (from sympy>=1.13.3->torch->PytorchWildlife)\n,  Downloading mpmath-1.3.0-py3-none-any.whl.metadata (8.6 kB)\n"
        },
        {
          "name": "stdout",
          "output_type": "stream",
          "text": "Collecting absl-py>=0.4 (from tensorboard>=2.4.1->yolov5->PytorchWildlife)\n,  Downloading absl_py-2.3.1-py3-none-any.whl.metadata (3.3 kB)\n"
        },
        {
          "name": "stdout",
          "output_type": "stream",
          "text": "Collecting grpcio>=1.48.2 (from tensorboard>=2.4.1->yolov5->PytorchWildlife)\n,  Downloading grpcio-1.75.1-cp312-cp312-manylinux2014_x86_64.manylinux_2_17_x86_64.whl.metadata (3.7 kB)\n,Collecting markdown>=2.6.8 (from tensorboard>=2.4.1->yolov5->PytorchWildlife)\n,  Downloading markdown-3.9-py3-none-any.whl.metadata (5.1 kB)\n"
        },
        {
          "name": "stdout",
          "output_type": "stream",
          "text": "Collecting protobuf!=4.24.0,>=3.19.6 (from tensorboard>=2.4.1->yolov5->PytorchWildlife)\n,  Downloading protobuf-6.32.1-cp39-abi3-manylinux2014_x86_64.whl.metadata (593 bytes)\n,Collecting tensorboard-data-server<0.8.0,>=0.7.0 (from tensorboard>=2.4.1->yolov5->PytorchWildlife)\n,  Downloading tensorboard_data_server-0.7.2-py3-none-manylinux_2_31_x86_64.whl.metadata (1.1 kB)\n,Collecting werkzeug>=1.0.1 (from tensorboard>=2.4.1->yolov5->PytorchWildlife)\n,  Downloading werkzeug-3.1.3-py3-none-any.whl.metadata (3.7 kB)\n,Collecting shellingham>=1.3.0 (from typer<1.0,>=0.12->gradio->PytorchWildlife)\n,  Downloading shellingham-1.5.4-py2.py3-none-any.whl.metadata (3.5 kB)\n"
        },
        {
          "name": "stdout",
          "output_type": "stream",
          "text": "Collecting rich>=10.11.0 (from typer<1.0,>=0.12->gradio->PytorchWildlife)\n,  Downloading rich-14.2.0-py3-none-any.whl.metadata (18 kB)\n,Collecting termcolor (from fire->yolov5->PytorchWildlife)\n,  Downloading termcolor-3.1.0-py3-none-any.whl.metadata (6.4 kB)\n,Collecting polars-runtime-32==1.34.0 (from polars->ultralytics->PytorchWildlife)\n,  Downloading polars_runtime_32-1.34.0-cp39-abi3-manylinux_2_17_x86_64.manylinux2014_x86_64.whl.metadata (1.5 kB)\n"
        },
        {
          "name": "stdout",
          "output_type": "stream",
          "text": "Collecting smmap<6,>=3.0.1 (from gitdb<5,>=4.0.1->gitpython>=3.1.30->yolov5->PytorchWildlife)\n,  Downloading smmap-5.0.2-py3-none-any.whl.metadata (4.3 kB)\n,Requirement already satisfied: markdown-it-py>=2.2.0 in /opt/conda/lib/python3.12/site-packages (from rich>=10.11.0->typer<1.0,>=0.12->gradio->PytorchWildlife) (3.0.0)\n,Requirement already satisfied: pygments<3.0.0,>=2.13.0 in /opt/conda/lib/python3.12/site-packages (from rich>=10.11.0->typer<1.0,>=0.12->gradio->PytorchWildlife) (2.19.1)\n"
        },
        {
          "name": "stdout",
          "output_type": "stream",
          "text": "Requirement already satisfied: mdurl~=0.1 in /opt/conda/lib/python3.12/site-packages (from markdown-it-py>=2.2.0->rich>=10.11.0->typer<1.0,>=0.12->gradio->PytorchWildlife) (0.1.2)\n,Downloading pytorchwildlife-1.2.4.2-py3-none-any.whl (126 kB)\n,Downloading supervision-0.23.0-py3-none-any.whl (151 kB)\n,Downloading transformers-4.57.0-py3-none-any.whl (12.0 MB)\n,\u001b[?25l   \u001b[90m━━━━━━━━━━━━━━━━━━━━━━━━━━━━━━━━━━━━━━━━\u001b[0m \u001b[32m0.0/12.0 MB\u001b[0m \u001b[31m?\u001b[0m eta \u001b[36m-:--:--\u001b[0m"
        },
        {
          "name": "stdout",
          "output_type": "stream",
          "text": "\r,\u001b[2K   \u001b[91m━━━━━━━━━━━━━━━\u001b[0m\u001b[91m╸\u001b[0m\u001b[90m━━━━━━━━━━━━━━━━━━━━━━━━\u001b[0m \u001b[32m4.7/12.0 MB\u001b[0m \u001b[31m24.8 MB/s\u001b[0m eta \u001b[36m0:00:01\u001b[0m"
        },
        {
          "name": "stdout",
          "output_type": "stream",
          "text": "\r,\u001b[2K   \u001b[91m━━━━━━━━━━━━━━━━━━━━━━━━━━━━━━━━━━━━━━━\u001b[0m\u001b[90m╺\u001b[0m \u001b[32m11.8/12.0 MB\u001b[0m \u001b[31m35.4 MB/s\u001b[0m eta \u001b[36m0:00:01\u001b[0m\r,\u001b[2K   \u001b[90m━━━━━━━━━━━━━━━━━━━━━━━━━━━━━━━━━━━━━━━━\u001b[0m \u001b[32m12.0/12.0 MB\u001b[0m \u001b[31m24.3 MB/s\u001b[0m eta \u001b[36m0:00:00\u001b[0m\n,\u001b[?25hDownloading huggingface_hub-0.35.3-py3-none-any.whl (564 kB)\n,\u001b[?25l   \u001b[90m━━━━━━━━━━━━━━━━━━━━━━━━━━━━━━━━━━━━━━━━\u001b[0m \u001b[32m0.0/564.3 kB\u001b[0m \u001b[31m?\u001b[0m eta \u001b[36m-:--:--\u001b[0m\r,\u001b[2K   \u001b[90m━━━━━━━━━━━━━━━━━━━━━━━━━━━━━━━━━━━━━━━━\u001b[0m \u001b[32m564.3/564.3 kB\u001b[0m \u001b[31m18.8 MB/s\u001b[0m eta \u001b[36m0:00:00\u001b[0m\n,\u001b[?25hDownloading pillow-11.3.0-cp312-cp312-manylinux_2_27_x86_64.manylinux_2_28_x86_64.whl (6.6 MB)\n,\u001b[?25l   \u001b[90m━━━━━━━━━━━━━━━━━━━━━━━━━━━━━━━━━━━━━━━━\u001b[0m \u001b[32m0.0/6.6 MB\u001b[0m \u001b[31m?\u001b[0m eta \u001b[36m-:--:--\u001b[0m"
        },
        {
          "name": "stdout",
          "output_type": "stream",
          "text": "\r,\u001b[2K   \u001b[90m━━━━━━━━━━━━━━━━━━━━━━━━━━━━━━━━━━━━━━━━\u001b[0m \u001b[32m6.6/6.6 MB\u001b[0m \u001b[31m37.3 MB/s\u001b[0m eta \u001b[36m0:00:00\u001b[0m\n,\u001b[?25hDownloading regex-2025.9.18-cp312-cp312-manylinux2014_x86_64.manylinux_2_17_x86_64.manylinux_2_28_x86_64.whl (802 kB)\n,\u001b[?25l   \u001b[90m━━━━━━━━━━━━━━━━━━━━━━━━━━━━━━━━━━━━━━━━\u001b[0m \u001b[32m0.0/802.0 kB\u001b[0m \u001b[31m?\u001b[0m eta \u001b[36m-:--:--\u001b[0m\r,\u001b[2K   \u001b[90m━━━━━━━━━━━━━━━━━━━━━━━━━━━━━━━━━━━━━━━━\u001b[0m \u001b[32m802.0/802.0 kB\u001b[0m \u001b[31m34.6 MB/s\u001b[0m eta \u001b[36m0:00:00\u001b[0m\n,\u001b[?25hDownloading safetensors-0.6.2-cp38-abi3-manylinux_2_17_x86_64.manylinux2014_x86_64.whl (485 kB)\n,Downloading tokenizers-0.22.1-cp39-abi3-manylinux_2_17_x86_64.manylinux2014_x86_64.whl (3.3 MB)\n,\u001b[?25l   \u001b[90m━━━━━━━━━━━━━━━━━━━━━━━━━━━━━━━━━━━━━━━━\u001b[0m \u001b[32m0.0/3.3 MB\u001b[0m \u001b[31m?\u001b[0m eta \u001b[36m-:--:--\u001b[0m\r,\u001b[2K   \u001b[90m━━━━━━━━━━━━━━━━━━━━━━━━━━━━━━━━━━━━━━━━\u001b[0m \u001b[32m3.3/3.3 MB\u001b[0m \u001b[31m51.0 MB/s\u001b[0m eta \u001b[36m0:00:00\u001b[0m\n,\u001b[?25hDownloading chardet-5.2.0-py3-none-any.whl (199 kB)\n"
        },
        {
          "name": "stdout",
          "output_type": "stream",
          "text": "Downloading filelock-3.20.0-py3-none-any.whl (16 kB)\n,Downloading gradio-5.49.1-py3-none-any.whl (63.5 MB)\n,\u001b[?25l   \u001b[90m━━━━━━━━━━━━━━━━━━━━━━━━━━━━━━━━━━━━━━━━\u001b[0m \u001b[32m0.0/63.5 MB\u001b[0m \u001b[31m?\u001b[0m eta \u001b[36m-:--:--\u001b[0m"
        },
        {
          "name": "stdout",
          "output_type": "stream",
          "text": "\r,\u001b[2K   \u001b[91m━━━━━━━━━\u001b[0m\u001b[91m╸\u001b[0m\u001b[90m━━━━━━━━━━━━━━━━━━━━━━━━━━━━━━\u001b[0m \u001b[32m15.5/63.5 MB\u001b[0m \u001b[31m77.9 MB/s\u001b[0m eta \u001b[36m0:00:01\u001b[0m"
        },
        {
          "name": "stdout",
          "output_type": "stream",
          "text": "\r,\u001b[2K   \u001b[91m━━━━━━━━━━━━━━━━━\u001b[0m\u001b[91m╸\u001b[0m\u001b[90m━━━━━━━━━━━━━━━━━━━━━━\u001b[0m \u001b[32m28.6/63.5 MB\u001b[0m \u001b[31m72.0 MB/s\u001b[0m eta \u001b[36m0:00:01\u001b[0m"
        },
        {
          "name": "stdout",
          "output_type": "stream",
          "text": "\r,\u001b[2K   \u001b[91m━━━━━━━━━━━━━━━━━━━━━━━━━━\u001b[0m\u001b[91m╸\u001b[0m\u001b[90m━━━━━━━━━━━━━\u001b[0m \u001b[32m42.5/63.5 MB\u001b[0m \u001b[31m69.9 MB/s\u001b[0m eta \u001b[36m0:00:01\u001b[0m"
        },
        {
          "name": "stdout",
          "output_type": "stream",
          "text": "\r,\u001b[2K   \u001b[91m━━━━━━━━━━━━━━━━━━━━━━━━━━━━━━━━━━\u001b[0m\u001b[90m╺\u001b[0m\u001b[90m━━━━━\u001b[0m \u001b[32m54.8/63.5 MB\u001b[0m \u001b[31m67.4 MB/s\u001b[0m eta \u001b[36m0:00:01\u001b[0m"
        },
        {
          "name": "stdout",
          "output_type": "stream",
          "text": "\r,\u001b[2K   \u001b[91m━━━━━━━━━━━━━━━━━━━━━━━━━━━━━━━━━━━━━━━\u001b[0m\u001b[91m╸\u001b[0m \u001b[32m63.4/63.5 MB\u001b[0m \u001b[31m67.5 MB/s\u001b[0m eta \u001b[36m0:00:01\u001b[0m\r,\u001b[2K   \u001b[91m━━━━━━━━━━━━━━━━━━━━━━━━━━━━━━━━━━━━━━━\u001b[0m\u001b[91m╸\u001b[0m \u001b[32m63.4/63.5 MB\u001b[0m \u001b[31m67.5 MB/s\u001b[0m eta \u001b[36m0:00:01\u001b[0m"
        },
        {
          "name": "stdout",
          "output_type": "stream",
          "text": "\r,\u001b[2K   \u001b[91m━━━━━━━━━━━━━━━━━━━━━━━━━━━━━━━━━━━━━━━\u001b[0m\u001b[91m╸\u001b[0m \u001b[32m63.4/63.5 MB\u001b[0m \u001b[31m67.5 MB/s\u001b[0m eta \u001b[36m0:00:01\u001b[0m"
        },
        {
          "name": "stdout",
          "output_type": "stream",
          "text": "\r,\u001b[2K   \u001b[91m━━━━━━━━━━━━━━━━━━━━━━━━━━━━━━━━━━━━━━━\u001b[0m\u001b[91m╸\u001b[0m \u001b[32m63.4/63.5 MB\u001b[0m \u001b[31m67.5 MB/s\u001b[0m eta \u001b[36m0:00:01\u001b[0m"
        },
        {
          "name": "stdout",
          "output_type": "stream",
          "text": "\r,\u001b[2K   \u001b[91m━━━━━━━━━━━━━━━━━━━━━━━━━━━━━━━━━━━━━━━\u001b[0m\u001b[91m╸\u001b[0m \u001b[32m63.4/63.5 MB\u001b[0m \u001b[31m67.5 MB/s\u001b[0m eta \u001b[36m0:00:01\u001b[0m\r,\u001b[2K   \u001b[90m━━━━━━━━━━━━━━━━━━━━━━━━━━━━━━━━━━━━━━━━\u001b[0m \u001b[32m63.5/63.5 MB\u001b[0m \u001b[31m32.3 MB/s\u001b[0m eta \u001b[36m0:00:00\u001b[0m\n,\u001b[?25hDownloading gradio_client-1.13.3-py3-none-any.whl (325 kB)\n"
        },
        {
          "name": "stdout",
          "output_type": "stream",
          "text": "Downloading scikit_learn-1.7.2-cp312-cp312-manylinux2014_x86_64.manylinux_2_17_x86_64.whl (9.5 MB)\n,\u001b[?25l   \u001b[90m━━━━━━━━━━━━━━━━━━━━━━━━━━━━━━━━━━━━━━━━\u001b[0m \u001b[32m0.0/9.5 MB\u001b[0m \u001b[31m?\u001b[0m eta \u001b[36m-:--:--\u001b[0m"
        },
        {
          "name": "stdout",
          "output_type": "stream",
          "text": "\r,\u001b[2K   \u001b[91m━━━━━━━━━━━━━━━━━━━━━━━━━━━━━━━━\u001b[0m\u001b[90m╺\u001b[0m\u001b[90m━━━━━━━\u001b[0m \u001b[32m7.6/9.5 MB\u001b[0m \u001b[31m37.7 MB/s\u001b[0m eta \u001b[36m0:00:01\u001b[0m\r,\u001b[2K   \u001b[90m━━━━━━━━━━━━━━━━━━━━━━━━━━━━━━━━━━━━━━━━\u001b[0m \u001b[32m9.5/9.5 MB\u001b[0m \u001b[31m29.3 MB/s\u001b[0m eta \u001b[36m0:00:00\u001b[0m\n,\u001b[?25hDownloading timm-1.0.20-py3-none-any.whl (2.5 MB)\n,\u001b[?25l   \u001b[90m━━━━━━━━━━━━━━━━━━━━━━━━━━━━━━━━━━━━━━━━\u001b[0m \u001b[32m0.0/2.5 MB\u001b[0m \u001b[31m?\u001b[0m eta \u001b[36m-:--:--\u001b[0m"
        },
        {
          "name": "stdout",
          "output_type": "stream",
          "text": "\r,\u001b[2K   \u001b[90m━━━━━━━━━━━━━━━━━━━━━━━━━━━━━━━━━━━━━━━━\u001b[0m \u001b[32m2.5/2.5 MB\u001b[0m \u001b[31m67.3 MB/s\u001b[0m eta \u001b[36m0:00:00\u001b[0m\n,\u001b[?25hDownloading torch-2.8.0-cp312-cp312-manylinux_2_28_x86_64.whl (887.9 MB)\n,\u001b[?25l   \u001b[90m━━━━━━━━━━━━━━━━━━━━━━━━━━━━━━━━━━━━━━━━\u001b[0m \u001b[32m0.0/887.9 MB\u001b[0m \u001b[31m?\u001b[0m eta \u001b[36m-:--:--\u001b[0m"
        },
        {
          "name": "stdout",
          "output_type": "stream",
          "text": "\r,\u001b[2K   \u001b[91m╸\u001b[0m\u001b[90m━━━━━━━━━━━━━━━━━━━━━━━━━━━━━━━━━━━━━━━\u001b[0m \u001b[32m12.6/887.9 MB\u001b[0m \u001b[31m64.6 MB/s\u001b[0m eta \u001b[36m0:00:14\u001b[0m"
        },
        {
          "name": "stdout",
          "output_type": "stream",
          "text": "\r,\u001b[2K   \u001b[91m━\u001b[0m\u001b[90m╺\u001b[0m\u001b[90m━━━━━━━━━━━━━━━━━━━━━━━━━━━━━━━━━━━━━━\u001b[0m \u001b[32m27.3/887.9 MB\u001b[0m \u001b[31m68.2 MB/s\u001b[0m eta \u001b[36m0:00:13\u001b[0m"
        },
        {
          "name": "stdout",
          "output_type": "stream",
          "text": "\r,\u001b[2K   \u001b[91m━\u001b[0m\u001b[91m╸\u001b[0m\u001b[90m━━━━━━━━━━━━━━━━━━━━━━━━━━━━━━━━━━━━━━\u001b[0m \u001b[32m42.2/887.9 MB\u001b[0m \u001b[31m70.0 MB/s\u001b[0m eta \u001b[36m0:00:13\u001b[0m"
        },
        {
          "name": "stdout",
          "output_type": "stream",
          "text": "\r,\u001b[2K   \u001b[91m━━\u001b[0m\u001b[91m╸\u001b[0m\u001b[90m━━━━━━━━━━━━━━━━━━━━━━━━━━━━━━━━━━━━━\u001b[0m \u001b[32m57.9/887.9 MB\u001b[0m \u001b[31m71.4 MB/s\u001b[0m eta \u001b[36m0:00:12\u001b[0m"
        },
        {
          "name": "stdout",
          "output_type": "stream",
          "text": "\r,\u001b[2K   \u001b[91m━━━\u001b[0m\u001b[90m╺\u001b[0m\u001b[90m━━━━━━━━━━━━━━━━━━━━━━━━━━━━━━━━━━━━\u001b[0m \u001b[32m70.0/887.9 MB\u001b[0m \u001b[31m69.3 MB/s\u001b[0m eta \u001b[36m0:00:12\u001b[0m"
        },
        {
          "name": "stdout",
          "output_type": "stream",
          "text": "\r,\u001b[2K   \u001b[91m━━━\u001b[0m\u001b[91m╸\u001b[0m\u001b[90m━━━━━━━━━━━━━━━━━━━━━━━━━━━━━━━━━━━━\u001b[0m \u001b[32m85.2/887.9 MB\u001b[0m \u001b[31m70.0 MB/s\u001b[0m eta \u001b[36m0:00:12\u001b[0m"
        },
        {
          "name": "stdout",
          "output_type": "stream",
          "text": "\r,\u001b[2K   \u001b[91m━━━━\u001b[0m\u001b[91m╸\u001b[0m\u001b[90m━━━━━━━━━━━━━━━━━━━━━━━━━━━━━━━━━━━\u001b[0m \u001b[32m100.1/887.9 MB\u001b[0m \u001b[31m70.4 MB/s\u001b[0m eta \u001b[36m0:00:12\u001b[0m"
        },
        {
          "name": "stdout",
          "output_type": "stream",
          "text": "\r,\u001b[2K   \u001b[91m━━━━━\u001b[0m\u001b[90m╺\u001b[0m\u001b[90m━━━━━━━━━━━━━━━━━━━━━━━━━━━━━━━━━━\u001b[0m \u001b[32m111.9/887.9 MB\u001b[0m \u001b[31m68.8 MB/s\u001b[0m eta \u001b[36m0:00:12\u001b[0m"
        },
        {
          "name": "stdout",
          "output_type": "stream",
          "text": "\r,\u001b[2K   \u001b[91m━━━━━\u001b[0m\u001b[91m╸\u001b[0m\u001b[90m━━━━━━━━━━━━━━━━━━━━━━━━━━━━━━━━━━\u001b[0m \u001b[32m123.5/887.9 MB\u001b[0m \u001b[31m67.5 MB/s\u001b[0m eta \u001b[36m0:00:12\u001b[0m"
        },
        {
          "name": "stdout",
          "output_type": "stream",
          "text": "\r,\u001b[2K   \u001b[91m━━━━━━\u001b[0m\u001b[90m╺\u001b[0m\u001b[90m━━━━━━━━━━━━━━━━━━━━━━━━━━━━━━━━━\u001b[0m \u001b[32m134.2/887.9 MB\u001b[0m \u001b[31m65.9 MB/s\u001b[0m eta \u001b[36m0:00:12\u001b[0m"
        },
        {
          "name": "stdout",
          "output_type": "stream",
          "text": "\r,\u001b[2K   \u001b[91m━━━━━━\u001b[0m\u001b[91m╸\u001b[0m\u001b[90m━━━━━━━━━━━━━━━━━━━━━━━━━━━━━━━━━\u001b[0m \u001b[32m145.0/887.9 MB\u001b[0m \u001b[31m64.7 MB/s\u001b[0m eta \u001b[36m0:00:12\u001b[0m"
        },
        {
          "name": "stdout",
          "output_type": "stream",
          "text": "\r,\u001b[2K   \u001b[91m━━━━━━━\u001b[0m\u001b[90m╺\u001b[0m\u001b[90m━━━━━━━━━━━━━━━━━━━━━━━━━━━━━━━━\u001b[0m \u001b[32m155.7/887.9 MB\u001b[0m \u001b[31m63.9 MB/s\u001b[0m eta \u001b[36m0:00:12\u001b[0m"
        },
        {
          "name": "stdout",
          "output_type": "stream",
          "text": "\r,\u001b[2K   \u001b[91m━━━━━━━\u001b[0m\u001b[91m╸\u001b[0m\u001b[90m━━━━━━━━━━━━━━━━━━━━━━━━━━━━━━━━\u001b[0m \u001b[32m167.0/887.9 MB\u001b[0m \u001b[31m63.2 MB/s\u001b[0m eta \u001b[36m0:00:12\u001b[0m"
        },
        {
          "name": "stdout",
          "output_type": "stream",
          "text": "\r,\u001b[2K   \u001b[91m━━━━━━━━\u001b[0m\u001b[90m╺\u001b[0m\u001b[90m━━━━━━━━━━━━━━━━━━━━━━━━━━━━━━━\u001b[0m \u001b[32m177.7/887.9 MB\u001b[0m \u001b[31m62.4 MB/s\u001b[0m eta \u001b[36m0:00:12\u001b[0m"
        },
        {
          "name": "stdout",
          "output_type": "stream",
          "text": "\r,\u001b[2K   \u001b[91m━━━━━━━━\u001b[0m\u001b[90m╺\u001b[0m\u001b[90m━━━━━━━━━━━━━━━━━━━━━━━━━━━━━━━\u001b[0m \u001b[32m188.5/887.9 MB\u001b[0m \u001b[31m61.8 MB/s\u001b[0m eta \u001b[36m0:00:12\u001b[0m"
        },
        {
          "name": "stdout",
          "output_type": "stream",
          "text": "\r,\u001b[2K   \u001b[91m━━━━━━━━\u001b[0m\u001b[91m╸\u001b[0m\u001b[90m━━━━━━━━━━━━━━━━━━━━━━━━━━━━━━━\u001b[0m \u001b[32m199.0/887.9 MB\u001b[0m \u001b[31m61.1 MB/s\u001b[0m eta \u001b[36m0:00:12\u001b[0m"
        },
        {
          "name": "stdout",
          "output_type": "stream",
          "text": "\r,\u001b[2K   \u001b[91m━━━━━━━━━\u001b[0m\u001b[90m╺\u001b[0m\u001b[90m━━━━━━━━━━━━━━━━━━━━━━━━━━━━━━\u001b[0m \u001b[32m206.6/887.9 MB\u001b[0m \u001b[31m59.1 MB/s\u001b[0m eta \u001b[36m0:00:12\u001b[0m"
        },
        {
          "name": "stdout",
          "output_type": "stream",
          "text": "\r,\u001b[2K   \u001b[91m━━━━━━━━━\u001b[0m\u001b[91m╸\u001b[0m\u001b[90m━━━━━━━━━━━━━━━━━━━━━━━━━━━━━━\u001b[0m \u001b[32m217.8/887.9 MB\u001b[0m \u001b[31m58.9 MB/s\u001b[0m eta \u001b[36m0:00:12\u001b[0m"
        },
        {
          "name": "stdout",
          "output_type": "stream",
          "text": "\r,\u001b[2K   \u001b[91m━━━━━━━━━━\u001b[0m\u001b[90m╺\u001b[0m\u001b[90m━━━━━━━━━━━━━━━━━━━━━━━━━━━━━\u001b[0m \u001b[32m229.4/887.9 MB\u001b[0m \u001b[31m58.7 MB/s\u001b[0m eta \u001b[36m0:00:12\u001b[0m"
        },
        {
          "name": "stdout",
          "output_type": "stream",
          "text": "\r,\u001b[2K   \u001b[91m━━━━━━━━━━\u001b[0m\u001b[91m╸\u001b[0m\u001b[90m━━━━━━━━━━━━━━━━━━━━━━━━━━━━━\u001b[0m \u001b[32m241.4/887.9 MB\u001b[0m \u001b[31m58.7 MB/s\u001b[0m eta \u001b[36m0:00:12\u001b[0m"
        },
        {
          "name": "stdout",
          "output_type": "stream",
          "text": "\r,\u001b[2K   \u001b[91m━━━━━━━━━━━\u001b[0m\u001b[90m╺\u001b[0m\u001b[90m━━━━━━━━━━━━━━━━━━━━━━━━━━━━\u001b[0m \u001b[32m255.1/887.9 MB\u001b[0m \u001b[31m59.1 MB/s\u001b[0m eta \u001b[36m0:00:11\u001b[0m"
        },
        {
          "name": "stdout",
          "output_type": "stream",
          "text": "\r,\u001b[2K   \u001b[91m━━━━━━━━━━━\u001b[0m\u001b[91m╸\u001b[0m\u001b[90m━━━━━━━━━━━━━━━━━━━━━━━━━━━━\u001b[0m \u001b[32m257.7/887.9 MB\u001b[0m \u001b[31m59.1 MB/s\u001b[0m eta \u001b[36m0:00:11\u001b[0m"
        },
        {
          "name": "stdout",
          "output_type": "stream",
          "text": "\r,\u001b[2K   \u001b[91m━━━━━━━━━━━━\u001b[0m\u001b[90m╺\u001b[0m\u001b[90m━━━━━━━━━━━━━━━━━━━━━━━━━━━\u001b[0m \u001b[32m271.8/887.9 MB\u001b[0m \u001b[31m57.1 MB/s\u001b[0m eta \u001b[36m0:00:11\u001b[0m"
        },
        {
          "name": "stdout",
          "output_type": "stream",
          "text": "\r,\u001b[2K   \u001b[91m━━━━━━━━━━━━\u001b[0m\u001b[91m╸\u001b[0m\u001b[90m━━━━━━━━━━━━━━━━━━━━━━━━━━━\u001b[0m \u001b[32m285.0/887.9 MB\u001b[0m \u001b[31m57.2 MB/s\u001b[0m eta \u001b[36m0:00:11\u001b[0m"
        },
        {
          "name": "stdout",
          "output_type": "stream",
          "text": "\r,\u001b[2K   \u001b[91m━━━━━━━━━━━━━\u001b[0m\u001b[90m╺\u001b[0m\u001b[90m━━━━━━━━━━━━━━━━━━━━━━━━━━\u001b[0m \u001b[32m296.5/887.9 MB\u001b[0m \u001b[31m56.7 MB/s\u001b[0m eta \u001b[36m0:00:11\u001b[0m"
        },
        {
          "name": "stdout",
          "output_type": "stream",
          "text": "\r,\u001b[2K   \u001b[91m━━━━━━━━━━━━━\u001b[0m\u001b[91m╸\u001b[0m\u001b[90m━━━━━━━━━━━━━━━━━━━━━━━━━━\u001b[0m \u001b[32m307.2/887.9 MB\u001b[0m \u001b[31m55.9 MB/s\u001b[0m eta \u001b[36m0:00:11\u001b[0m"
        },
        {
          "name": "stdout",
          "output_type": "stream",
          "text": "\r,\u001b[2K   \u001b[91m━━━━━━━━━━━━━━\u001b[0m\u001b[90m╺\u001b[0m\u001b[90m━━━━━━━━━━━━━━━━━━━━━━━━━\u001b[0m \u001b[32m318.0/887.9 MB\u001b[0m \u001b[31m55.1 MB/s\u001b[0m eta \u001b[36m0:00:11\u001b[0m"
        },
        {
          "name": "stdout",
          "output_type": "stream",
          "text": "\r,\u001b[2K   \u001b[91m━━━━━━━━━━━━━━\u001b[0m\u001b[91m╸\u001b[0m\u001b[90m━━━━━━━━━━━━━━━━━━━━━━━━━\u001b[0m \u001b[32m329.0/887.9 MB\u001b[0m \u001b[31m55.0 MB/s\u001b[0m eta \u001b[36m0:00:11\u001b[0m"
        },
        {
          "name": "stdout",
          "output_type": "stream",
          "text": "\r,\u001b[2K   \u001b[91m━━━━━━━━━━━━━━━\u001b[0m\u001b[90m╺\u001b[0m\u001b[90m━━━━━━━━━━━━━━━━━━━━━━━━\u001b[0m \u001b[32m340.0/887.9 MB\u001b[0m \u001b[31m54.4 MB/s\u001b[0m eta \u001b[36m0:00:11\u001b[0m"
        },
        {
          "name": "stdout",
          "output_type": "stream",
          "text": "\r,\u001b[2K   \u001b[91m━━━━━━━━━━━━━━━\u001b[0m\u001b[91m╸\u001b[0m\u001b[90m━━━━━━━━━━━━━━━━━━━━━━━━\u001b[0m \u001b[32m350.2/887.9 MB\u001b[0m \u001b[31m53.6 MB/s\u001b[0m eta \u001b[36m0:00:11\u001b[0m"
        },
        {
          "name": "stdout",
          "output_type": "stream",
          "text": "\r,\u001b[2K   \u001b[91m━━━━━━━━━━━━━━━━\u001b[0m\u001b[90m╺\u001b[0m\u001b[90m━━━━━━━━━━━━━━━━━━━━━━━\u001b[0m \u001b[32m360.7/887.9 MB\u001b[0m \u001b[31m52.9 MB/s\u001b[0m eta \u001b[36m0:00:10\u001b[0m"
        },
        {
          "name": "stdout",
          "output_type": "stream",
          "text": "\r,\u001b[2K   \u001b[91m━━━━━━━━━━━━━━━━\u001b[0m\u001b[91m╸\u001b[0m\u001b[90m━━━━━━━━━━━━━━━━━━━━━━━\u001b[0m \u001b[32m371.5/887.9 MB\u001b[0m \u001b[31m52.7 MB/s\u001b[0m eta \u001b[36m0:00:10\u001b[0m"
        },
        {
          "name": "stdout",
          "output_type": "stream",
          "text": "\r,\u001b[2K   \u001b[91m━━━━━━━━━━━━━━━━━\u001b[0m\u001b[90m╺\u001b[0m\u001b[90m━━━━━━━━━━━━━━━━━━━━━━\u001b[0m \u001b[32m382.5/887.9 MB\u001b[0m \u001b[31m52.6 MB/s\u001b[0m eta \u001b[36m0:00:10\u001b[0m"
        },
        {
          "name": "stdout",
          "output_type": "stream",
          "text": "\r,\u001b[2K   \u001b[91m━━━━━━━━━━━━━━━━━\u001b[0m\u001b[91m╸\u001b[0m\u001b[90m━━━━━━━━━━━━━━━━━━━━━━\u001b[0m \u001b[32m393.2/887.9 MB\u001b[0m \u001b[31m52.5 MB/s\u001b[0m eta \u001b[36m0:00:10\u001b[0m"
        },
        {
          "name": "stdout",
          "output_type": "stream",
          "text": "\r,\u001b[2K   \u001b[91m━━━━━━━━━━━━━━━━━━\u001b[0m\u001b[90m╺\u001b[0m\u001b[90m━━━━━━━━━━━━━━━━━━━━━\u001b[0m \u001b[32m404.0/887.9 MB\u001b[0m \u001b[31m52.4 MB/s\u001b[0m eta \u001b[36m0:00:10\u001b[0m"
        },
        {
          "name": "stdout",
          "output_type": "stream",
          "text": "\r,\u001b[2K   \u001b[91m━━━━━━━━━━━━━━━━━━\u001b[0m\u001b[91m╸\u001b[0m\u001b[90m━━━━━━━━━━━━━━━━━━━━━\u001b[0m \u001b[32m413.1/887.9 MB\u001b[0m \u001b[31m52.5 MB/s\u001b[0m eta \u001b[36m0:00:10\u001b[0m"
        },
        {
          "name": "stdout",
          "output_type": "stream",
          "text": "\r,\u001b[2K   \u001b[91m━━━━━━━━━━━━━━━━━━\u001b[0m\u001b[91m╸\u001b[0m\u001b[90m━━━━━━━━━━━━━━━━━━━━━\u001b[0m \u001b[32m418.6/887.9 MB\u001b[0m \u001b[31m51.0 MB/s\u001b[0m eta \u001b[36m0:00:10\u001b[0m"
        },
        {
          "name": "stdout",
          "output_type": "stream",
          "text": "\r,\u001b[2K   \u001b[91m━━━━━━━━━━━━━━━━━━━\u001b[0m\u001b[90m╺\u001b[0m\u001b[90m━━━━━━━━━━━━━━━━━━━━\u001b[0m \u001b[32m430.7/887.9 MB\u001b[0m \u001b[31m51.2 MB/s\u001b[0m eta \u001b[36m0:00:09\u001b[0m\r,\u001b[2K   \u001b[91m━━━━━━━━━━━━━━━━━━━\u001b[0m\u001b[91m╸\u001b[0m\u001b[90m━━━━━━━━━━━━━━━━━━━━\u001b[0m \u001b[32m440.7/887.9 MB\u001b[0m \u001b[31m51.0 MB/s\u001b[0m eta \u001b[36m0:00:09\u001b[0m"
        },
        {
          "name": "stdout",
          "output_type": "stream",
          "text": "\r,\u001b[2K   \u001b[91m━━━━━━━━━━━━━━━━━━━━\u001b[0m\u001b[90m╺\u001b[0m\u001b[90m━━━━━━━━━━━━━━━━━━━\u001b[0m \u001b[32m451.7/887.9 MB\u001b[0m \u001b[31m51.0 MB/s\u001b[0m eta \u001b[36m0:00:09\u001b[0m"
        },
        {
          "name": "stdout",
          "output_type": "stream",
          "text": "\r,\u001b[2K   \u001b[91m━━━━━━━━━━━━━━━━━━━━\u001b[0m\u001b[91m╸\u001b[0m\u001b[90m━━━━━━━━━━━━━━━━━━━\u001b[0m \u001b[32m463.2/887.9 MB\u001b[0m \u001b[31m51.4 MB/s\u001b[0m eta \u001b[36m0:00:09\u001b[0m"
        },
        {
          "name": "stdout",
          "output_type": "stream",
          "text": "\r,\u001b[2K   \u001b[91m━━━━━━━━━━━━━━━━━━━━━\u001b[0m\u001b[90m╺\u001b[0m\u001b[90m━━━━━━━━━━━━━━━━━━\u001b[0m \u001b[32m475.3/887.9 MB\u001b[0m \u001b[31m52.3 MB/s\u001b[0m eta \u001b[36m0:00:08\u001b[0m"
        },
        {
          "name": "stdout",
          "output_type": "stream",
          "text": "\r,\u001b[2K   \u001b[91m━━━━━━━━━━━━━━━━━━━━━━\u001b[0m\u001b[90m╺\u001b[0m\u001b[90m━━━━━━━━━━━━━━━━━\u001b[0m \u001b[32m488.4/887.9 MB\u001b[0m \u001b[31m52.5 MB/s\u001b[0m eta \u001b[36m0:00:08\u001b[0m"
        },
        {
          "name": "stdout",
          "output_type": "stream",
          "text": "\r,\u001b[2K   \u001b[91m━━━━━━━━━━━━━━━━━━━━━━\u001b[0m\u001b[91m╸\u001b[0m\u001b[90m━━━━━━━━━━━━━━━━━\u001b[0m \u001b[32m501.5/887.9 MB\u001b[0m \u001b[31m53.1 MB/s\u001b[0m eta \u001b[36m0:00:08\u001b[0m\r,\u001b[2K   \u001b[91m━━━━━━━━━━━━━━━━━━━━━━━\u001b[0m\u001b[90m╺\u001b[0m\u001b[90m━━━━━━━━━━━━━━━━\u001b[0m \u001b[32m511.2/887.9 MB\u001b[0m \u001b[31m52.4 MB/s\u001b[0m eta \u001b[36m0:00:08\u001b[0m"
        },
        {
          "name": "stdout",
          "output_type": "stream",
          "text": "\r,\u001b[2K   \u001b[91m━━━━━━━━━━━━━━━━━━━━━━━\u001b[0m\u001b[91m╸\u001b[0m\u001b[90m━━━━━━━━━━━━━━━━\u001b[0m \u001b[32m521.9/887.9 MB\u001b[0m \u001b[31m53.9 MB/s\u001b[0m eta \u001b[36m0:00:07\u001b[0m"
        },
        {
          "name": "stdout",
          "output_type": "stream",
          "text": "\r,\u001b[2K   \u001b[91m━━━━━━━━━━━━━━━━━━━━━━━━\u001b[0m\u001b[90m╺\u001b[0m\u001b[90m━━━━━━━━━━━━━━━\u001b[0m \u001b[32m533.2/887.9 MB\u001b[0m \u001b[31m53.2 MB/s\u001b[0m eta \u001b[36m0:00:07\u001b[0m"
        },
        {
          "name": "stdout",
          "output_type": "stream",
          "text": "\r,\u001b[2K   \u001b[91m━━━━━━━━━━━━━━━━━━━━━━━━\u001b[0m\u001b[91m╸\u001b[0m\u001b[90m━━━━━━━━━━━━━━━\u001b[0m \u001b[32m543.9/887.9 MB\u001b[0m \u001b[31m52.7 MB/s\u001b[0m eta \u001b[36m0:00:07\u001b[0m"
        },
        {
          "name": "stdout",
          "output_type": "stream",
          "text": "\r,\u001b[2K   \u001b[91m━━━━━━━━━━━━━━━━━━━━━━━━\u001b[0m\u001b[91m╸\u001b[0m\u001b[90m━━━━━━━━━━━━━━━\u001b[0m \u001b[32m554.7/887.9 MB\u001b[0m \u001b[31m52.5 MB/s\u001b[0m eta \u001b[36m0:00:07\u001b[0m"
        },
        {
          "name": "stdout",
          "output_type": "stream",
          "text": "\r,\u001b[2K   \u001b[91m━━━━━━━━━━━━━━━━━━━━━━━━━\u001b[0m\u001b[90m╺\u001b[0m\u001b[90m━━━━━━━━━━━━━━\u001b[0m \u001b[32m566.0/887.9 MB\u001b[0m \u001b[31m52.6 MB/s\u001b[0m eta \u001b[36m0:00:07\u001b[0m"
        },
        {
          "name": "stdout",
          "output_type": "stream",
          "text": "\r,\u001b[2K   \u001b[91m━━━━━━━━━━━━━━━━━━━━━━━━━\u001b[0m\u001b[91m╸\u001b[0m\u001b[90m━━━━━━━━━━━━━━\u001b[0m \u001b[32m575.1/887.9 MB\u001b[0m \u001b[31m52.3 MB/s\u001b[0m eta \u001b[36m0:00:06\u001b[0m"
        },
        {
          "name": "stdout",
          "output_type": "stream",
          "text": "\r,\u001b[2K   \u001b[91m━━━━━━━━━━━━━━━━━━━━━━━━━━\u001b[0m\u001b[90m╺\u001b[0m\u001b[90m━━━━━━━━━━━━━\u001b[0m \u001b[32m587.2/887.9 MB\u001b[0m \u001b[31m52.5 MB/s\u001b[0m eta \u001b[36m0:00:06\u001b[0m"
        },
        {
          "name": "stdout",
          "output_type": "stream",
          "text": "\r,\u001b[2K   \u001b[91m━━━━━━━━━━━━━━━━━━━━━━━━━━\u001b[0m\u001b[91m╸\u001b[0m\u001b[90m━━━━━━━━━━━━━\u001b[0m \u001b[32m595.9/887.9 MB\u001b[0m \u001b[31m52.1 MB/s\u001b[0m eta \u001b[36m0:00:06\u001b[0m\r,\u001b[2K   \u001b[91m━━━━━━━━━━━━━━━━━━━━━━━━━━━\u001b[0m\u001b[90m╺\u001b[0m\u001b[90m━━━━━━━━━━━━\u001b[0m \u001b[32m605.8/887.9 MB\u001b[0m \u001b[31m51.8 MB/s\u001b[0m eta \u001b[36m0:00:06\u001b[0m"
        },
        {
          "name": "stdout",
          "output_type": "stream",
          "text": "\r,\u001b[2K   \u001b[91m━━━━━━━━━━━━━━━━━━━━━━━━━━━\u001b[0m\u001b[91m╸\u001b[0m\u001b[90m━━━━━━━━━━━━\u001b[0m \u001b[32m612.9/887.9 MB\u001b[0m \u001b[31m51.5 MB/s\u001b[0m eta \u001b[36m0:00:06\u001b[0m"
        },
        {
          "name": "stdout",
          "output_type": "stream",
          "text": "\r,\u001b[2K   \u001b[91m━━━━━━━━━━━━━━━━━━━━━━━━━━━\u001b[0m\u001b[91m╸\u001b[0m\u001b[90m━━━━━━━━━━━━\u001b[0m \u001b[32m619.2/887.9 MB\u001b[0m \u001b[31m50.2 MB/s\u001b[0m eta \u001b[36m0:00:06\u001b[0m"
        },
        {
          "name": "stdout",
          "output_type": "stream",
          "text": "\r,\u001b[2K   \u001b[91m━━━━━━━━━━━━━━━━━━━━━━━━━━━━\u001b[0m\u001b[90m╺\u001b[0m\u001b[90m━━━━━━━━━━━\u001b[0m \u001b[32m625.7/887.9 MB\u001b[0m \u001b[31m50.0 MB/s\u001b[0m eta \u001b[36m0:00:06\u001b[0m"
        },
        {
          "name": "stdout",
          "output_type": "stream",
          "text": "\r,\u001b[2K   \u001b[91m━━━━━━━━━━━━━━━━━━━━━━━━━━━━\u001b[0m\u001b[90m╺\u001b[0m\u001b[90m━━━━━━━━━━━\u001b[0m \u001b[32m631.8/887.9 MB\u001b[0m \u001b[31m48.6 MB/s\u001b[0m eta \u001b[36m0:00:06\u001b[0m"
        },
        {
          "name": "stdout",
          "output_type": "stream",
          "text": "\r,\u001b[2K   \u001b[91m━━━━━━━━━━━━━━━━━━━━━━━━━━━━\u001b[0m\u001b[91m╸\u001b[0m\u001b[90m━━━━━━━━━━━\u001b[0m \u001b[32m641.2/887.9 MB\u001b[0m \u001b[31m48.4 MB/s\u001b[0m eta \u001b[36m0:00:06\u001b[0m"
        },
        {
          "name": "stdout",
          "output_type": "stream",
          "text": "\r,\u001b[2K   \u001b[91m━━━━━━━━━━━━━━━━━━━━━━━━━━━━━\u001b[0m\u001b[90m╺\u001b[0m\u001b[90m━━━━━━━━━━\u001b[0m \u001b[32m650.1/887.9 MB\u001b[0m \u001b[31m48.1 MB/s\u001b[0m eta \u001b[36m0:00:05\u001b[0m"
        },
        {
          "name": "stdout",
          "output_type": "stream",
          "text": "\r,\u001b[2K   \u001b[91m━━━━━━━━━━━━━━━━━━━━━━━━━━━━━\u001b[0m\u001b[91m╸\u001b[0m\u001b[90m━━━━━━━━━━\u001b[0m \u001b[32m661.1/887.9 MB\u001b[0m \u001b[31m48.2 MB/s\u001b[0m eta \u001b[36m0:00:05\u001b[0m"
        },
        {
          "name": "stdout",
          "output_type": "stream",
          "text": "\r,\u001b[2K   \u001b[91m━━━━━━━━━━━━━━━━━━━━━━━━━━━━━━\u001b[0m\u001b[90m╺\u001b[0m\u001b[90m━━━━━━━━━\u001b[0m \u001b[32m674.2/887.9 MB\u001b[0m \u001b[31m48.6 MB/s\u001b[0m eta \u001b[36m0:00:05\u001b[0m"
        },
        {
          "name": "stdout",
          "output_type": "stream",
          "text": "\r,\u001b[2K   \u001b[91m━━━━━━━━━━━━━━━━━━━━━━━━━━━━━━\u001b[0m\u001b[91m╸\u001b[0m\u001b[90m━━━━━━━━━\u001b[0m \u001b[32m686.8/887.9 MB\u001b[0m \u001b[31m50.1 MB/s\u001b[0m eta \u001b[36m0:00:05\u001b[0m"
        },
        {
          "name": "stdout",
          "output_type": "stream",
          "text": "\r,\u001b[2K   \u001b[91m━━━━━━━━━━━━━━━━━━━━━━━━━━━━━━━\u001b[0m\u001b[91m╸\u001b[0m\u001b[90m━━━━━━━━\u001b[0m \u001b[32m700.7/887.9 MB\u001b[0m \u001b[31m50.4 MB/s\u001b[0m eta \u001b[36m0:00:04\u001b[0m\r,\u001b[2K   \u001b[91m━━━━━━━━━━━━━━━━━━━━━━━━━━━━━━━━\u001b[0m\u001b[90m╺\u001b[0m\u001b[90m━━━━━━━\u001b[0m \u001b[32m713.6/887.9 MB\u001b[0m \u001b[31m51.1 MB/s\u001b[0m eta \u001b[36m0:00:04\u001b[0m"
        },
        {
          "name": "stdout",
          "output_type": "stream",
          "text": "\r,\u001b[2K   \u001b[91m━━━━━━━━━━━━━━━━━━━━━━━━━━━━━━━━\u001b[0m\u001b[91m╸\u001b[0m\u001b[90m━━━━━━━\u001b[0m \u001b[32m728.5/887.9 MB\u001b[0m \u001b[31m51.7 MB/s\u001b[0m eta \u001b[36m0:00:04\u001b[0m"
        },
        {
          "name": "stdout",
          "output_type": "stream",
          "text": "\r,\u001b[2K   \u001b[91m━━━━━━━━━━━━━━━━━━━━━━━━━━━━━━━━━\u001b[0m\u001b[90m╺\u001b[0m\u001b[90m━━━━━━\u001b[0m \u001b[32m743.4/887.9 MB\u001b[0m \u001b[31m52.1 MB/s\u001b[0m eta \u001b[36m0:00:03\u001b[0m"
        },
        {
          "name": "stdout",
          "output_type": "stream",
          "text": "\r,\u001b[2K   \u001b[91m━━━━━━━━━━━━━━━━━━━━━━━━━━━━━━━━━━\u001b[0m\u001b[90m╺\u001b[0m\u001b[90m━━━━━\u001b[0m \u001b[32m757.1/887.9 MB\u001b[0m \u001b[31m52.2 MB/s\u001b[0m eta \u001b[36m0:00:03\u001b[0m"
        },
        {
          "name": "stdout",
          "output_type": "stream",
          "text": "\r,\u001b[2K   \u001b[91m━━━━━━━━━━━━━━━━━━━━━━━━━━━━━━━━━━\u001b[0m\u001b[91m╸\u001b[0m\u001b[90m━━━━━\u001b[0m \u001b[32m768.6/887.9 MB\u001b[0m \u001b[31m52.2 MB/s\u001b[0m eta \u001b[36m0:00:03\u001b[0m"
        },
        {
          "name": "stdout",
          "output_type": "stream",
          "text": "\r,\u001b[2K   \u001b[91m━━━━━━━━━━━━━━━━━━━━━━━━━━━━━━━━━━━\u001b[0m\u001b[90m╺\u001b[0m\u001b[90m━━━━\u001b[0m \u001b[32m780.1/887.9 MB\u001b[0m \u001b[31m52.4 MB/s\u001b[0m eta \u001b[36m0:00:03\u001b[0m"
        },
        {
          "name": "stdout",
          "output_type": "stream",
          "text": "\r,\u001b[2K   \u001b[91m━━━━━━━━━━━━━━━━━━━━━━━━━━━━━━━━━━━\u001b[0m\u001b[91m╸\u001b[0m\u001b[90m━━━━\u001b[0m \u001b[32m791.4/887.9 MB\u001b[0m \u001b[31m52.4 MB/s\u001b[0m eta \u001b[36m0:00:02\u001b[0m"
        },
        {
          "name": "stdout",
          "output_type": "stream",
          "text": "\r,\u001b[2K   \u001b[91m━━━━━━━━━━━━━━━━━━━━━━━━━━━━━━━━━━━━\u001b[0m\u001b[90m╺\u001b[0m\u001b[90m━━━\u001b[0m \u001b[32m801.9/887.9 MB\u001b[0m \u001b[31m52.5 MB/s\u001b[0m eta \u001b[36m0:00:02\u001b[0m"
        },
        {
          "name": "stdout",
          "output_type": "stream",
          "text": "\r,\u001b[2K   \u001b[91m━━━━━━━━━━━━━━━━━━━━━━━━━━━━━━━━━━━━\u001b[0m\u001b[91m╸\u001b[0m\u001b[90m━━━\u001b[0m \u001b[32m812.9/887.9 MB\u001b[0m \u001b[31m52.7 MB/s\u001b[0m eta \u001b[36m0:00:02\u001b[0m"
        },
        {
          "name": "stdout",
          "output_type": "stream",
          "text": "\r,\u001b[2K   \u001b[91m━━━━━━━━━━━━━━━━━━━━━━━━━━━━━━━━━━━━━\u001b[0m\u001b[90m╺\u001b[0m\u001b[90m━━\u001b[0m \u001b[32m822.9/887.9 MB\u001b[0m \u001b[31m52.4 MB/s\u001b[0m eta \u001b[36m0:00:02\u001b[0m"
        },
        {
          "name": "stdout",
          "output_type": "stream",
          "text": "\r,\u001b[2K   \u001b[91m━━━━━━━━━━━━━━━━━━━━━━━━━━━━━━━━━━━━━\u001b[0m\u001b[90m╺\u001b[0m\u001b[90m━━\u001b[0m \u001b[32m831.0/887.9 MB\u001b[0m \u001b[31m52.3 MB/s\u001b[0m eta \u001b[36m0:00:02\u001b[0m"
        },
        {
          "name": "stdout",
          "output_type": "stream",
          "text": "\r,\u001b[2K   \u001b[91m━━━━━━━━━━━━━━━━━━━━━━━━━━━━━━━━━━━━━\u001b[0m\u001b[91m╸\u001b[0m\u001b[90m━━\u001b[0m \u001b[32m839.4/887.9 MB\u001b[0m \u001b[31m51.5 MB/s\u001b[0m eta \u001b[36m0:00:01\u001b[0m"
        },
        {
          "name": "stdout",
          "output_type": "stream",
          "text": "\r,\u001b[2K   \u001b[91m━━━━━━━━━━━━━━━━━━━━━━━━━━━━━━━━━━━━━━\u001b[0m\u001b[90m╺\u001b[0m\u001b[90m━\u001b[0m \u001b[32m848.8/887.9 MB\u001b[0m \u001b[31m50.9 MB/s\u001b[0m eta \u001b[36m0:00:01\u001b[0m"
        },
        {
          "name": "stdout",
          "output_type": "stream",
          "text": "\r,\u001b[2K   \u001b[91m━━━━━━━━━━━━━━━━━━━━━━━━━━━━━━━━━━━━━━\u001b[0m\u001b[91m╸\u001b[0m\u001b[90m━\u001b[0m \u001b[32m858.8/887.9 MB\u001b[0m \u001b[31m51.2 MB/s\u001b[0m eta \u001b[36m0:00:01\u001b[0m"
        },
        {
          "name": "stdout",
          "output_type": "stream",
          "text": "\r,\u001b[2K   \u001b[91m━━━━━━━━━━━━━━━━━━━━━━━━━━━━━━━━━━━━━━━\u001b[0m\u001b[90m╺\u001b[0m \u001b[32m866.6/887.9 MB\u001b[0m \u001b[31m50.8 MB/s\u001b[0m eta \u001b[36m0:00:01\u001b[0m"
        },
        {
          "name": "stdout",
          "output_type": "stream",
          "text": "\r,\u001b[2K   \u001b[91m━━━━━━━━━━━━━━━━━━━━━━━━━━━━━━━━━━━━━━━\u001b[0m\u001b[90m╺\u001b[0m \u001b[32m874.0/887.9 MB\u001b[0m \u001b[31m50.5 MB/s\u001b[0m eta \u001b[36m0:00:01\u001b[0m"
        },
        {
          "name": "stdout",
          "output_type": "stream",
          "text": "\r,\u001b[2K   \u001b[91m━━━━━━━━━━━━━━━━━━━━━━━━━━━━━━━━━━━━━━━\u001b[0m\u001b[91m╸\u001b[0m \u001b[32m887.1/887.9 MB\u001b[0m \u001b[31m52.7 MB/s\u001b[0m eta \u001b[36m0:00:01\u001b[0m"
        },
        {
          "name": "stdout",
          "output_type": "stream",
          "text": "\r,\u001b[2K   \u001b[91m━━━━━━━━━━━━━━━━━━━━━━━━━━━━━━━━━━━━━━━\u001b[0m\u001b[91m╸\u001b[0m \u001b[32m887.9/887.9 MB\u001b[0m \u001b[31m53.1 MB/s\u001b[0m eta \u001b[36m0:00:01\u001b[0m"
        },
        {
          "name": "stdout",
          "output_type": "stream",
          "text": "\r,\u001b[2K   \u001b[91m━━━━━━━━━━━━━━━━━━━━━━━━━━━━━━━━━━━━━━━\u001b[0m\u001b[91m╸\u001b[0m \u001b[32m887.9/887.9 MB\u001b[0m \u001b[31m53.1 MB/s\u001b[0m eta \u001b[36m0:00:01\u001b[0m"
        },
        {
          "name": "stdout",
          "output_type": "stream",
          "text": "\r,\u001b[2K   \u001b[91m━━━━━━━━━━━━━━━━━━━━━━━━━━━━━━━━━━━━━━━\u001b[0m\u001b[91m╸\u001b[0m \u001b[32m887.9/887.9 MB\u001b[0m \u001b[31m53.1 MB/s\u001b[0m eta \u001b[36m0:00:01\u001b[0m"
        },
        {
          "name": "stdout",
          "output_type": "stream",
          "text": "\r,\u001b[2K   \u001b[91m━━━━━━━━━━━━━━━━━━━━━━━━━━━━━━━━━━━━━━━\u001b[0m\u001b[91m╸\u001b[0m \u001b[32m887.9/887.9 MB\u001b[0m \u001b[31m53.1 MB/s\u001b[0m eta \u001b[36m0:00:01\u001b[0m"
        },
        {
          "name": "stdout",
          "output_type": "stream",
          "text": "\r,\u001b[2K   \u001b[91m━━━━━━━━━━━━━━━━━━━━━━━━━━━━━━━━━━━━━━━\u001b[0m\u001b[91m╸\u001b[0m \u001b[32m887.9/887.9 MB\u001b[0m \u001b[31m53.1 MB/s\u001b[0m eta \u001b[36m0:00:01\u001b[0m"
        },
        {
          "name": "stdout",
          "output_type": "stream",
          "text": "\r,\u001b[2K   \u001b[91m━━━━━━━━━━━━━━━━━━━━━━━━━━━━━━━━━━━━━━━\u001b[0m\u001b[91m╸\u001b[0m \u001b[32m887.9/887.9 MB\u001b[0m \u001b[31m53.1 MB/s\u001b[0m eta \u001b[36m0:00:01\u001b[0m"
        },
        {
          "name": "stdout",
          "output_type": "stream",
          "text": "\r,\u001b[2K   \u001b[91m━━━━━━━━━━━━━━━━━━━━━━━━━━━━━━━━━━━━━━━\u001b[0m\u001b[91m╸\u001b[0m \u001b[32m887.9/887.9 MB\u001b[0m \u001b[31m53.1 MB/s\u001b[0m eta \u001b[36m0:00:01\u001b[0m"
        },
        {
          "name": "stdout",
          "output_type": "stream",
          "text": "\r,\u001b[2K   \u001b[91m━━━━━━━━━━━━━━━━━━━━━━━━━━━━━━━━━━━━━━━\u001b[0m\u001b[91m╸\u001b[0m \u001b[32m887.9/887.9 MB\u001b[0m \u001b[31m53.1 MB/s\u001b[0m eta \u001b[36m0:00:01\u001b[0m"
        },
        {
          "name": "stdout",
          "output_type": "stream",
          "text": "\r,\u001b[2K   \u001b[91m━━━━━━━━━━━━━━━━━━━━━━━━━━━━━━━━━━━━━━━\u001b[0m\u001b[91m╸\u001b[0m \u001b[32m887.9/887.9 MB\u001b[0m \u001b[31m53.1 MB/s\u001b[0m eta \u001b[36m0:00:01\u001b[0m"
        },
        {
          "name": "stdout",
          "output_type": "stream",
          "text": "\r,\u001b[2K   \u001b[91m━━━━━━━━━━━━━━━━━━━━━━━━━━━━━━━━━━━━━━━\u001b[0m\u001b[91m╸\u001b[0m \u001b[32m887.9/887.9 MB\u001b[0m \u001b[31m53.1 MB/s\u001b[0m eta \u001b[36m0:00:01\u001b[0m"
        },
        {
          "name": "stdout",
          "output_type": "stream",
          "text": "\r,\u001b[2K   \u001b[91m━━━━━━━━━━━━━━━━━━━━━━━━━━━━━━━━━━━━━━━\u001b[0m\u001b[91m╸\u001b[0m \u001b[32m887.9/887.9 MB\u001b[0m \u001b[31m53.1 MB/s\u001b[0m eta \u001b[36m0:00:01\u001b[0m"
        },
        {
          "name": "stdout",
          "output_type": "stream",
          "text": "\r,\u001b[2K   \u001b[91m━━━━━━━━━━━━━━━━━━━━━━━━━━━━━━━━━━━━━━━\u001b[0m\u001b[91m╸\u001b[0m \u001b[32m887.9/887.9 MB\u001b[0m \u001b[31m53.1 MB/s\u001b[0m eta \u001b[36m0:00:01\u001b[0m"
        },
        {
          "name": "stdout",
          "output_type": "stream",
          "text": "\r,\u001b[2K   \u001b[91m━━━━━━━━━━━━━━━━━━━━━━━━━━━━━━━━━━━━━━━\u001b[0m\u001b[91m╸\u001b[0m \u001b[32m887.9/887.9 MB\u001b[0m \u001b[31m53.1 MB/s\u001b[0m eta \u001b[36m0:00:01\u001b[0m"
        },
        {
          "name": "stdout",
          "output_type": "stream",
          "text": "\r,\u001b[2K   \u001b[91m━━━━━━━━━━━━━━━━━━━━━━━━━━━━━━━━━━━━━━━\u001b[0m\u001b[91m╸\u001b[0m \u001b[32m887.9/887.9 MB\u001b[0m \u001b[31m53.1 MB/s\u001b[0m eta \u001b[36m0:00:01\u001b[0m"
        },
        {
          "name": "stdout",
          "output_type": "stream",
          "text": "\r,\u001b[2K   \u001b[91m━━━━━━━━━━━━━━━━━━━━━━━━━━━━━━━━━━━━━━━\u001b[0m\u001b[91m╸\u001b[0m \u001b[32m887.9/887.9 MB\u001b[0m \u001b[31m53.1 MB/s\u001b[0m eta \u001b[36m0:00:01\u001b[0m"
        },
        {
          "name": "stdout",
          "output_type": "stream",
          "text": "\r,\u001b[2K   \u001b[91m━━━━━━━━━━━━━━━━━━━━━━━━━━━━━━━━━━━━━━━\u001b[0m\u001b[91m╸\u001b[0m \u001b[32m887.9/887.9 MB\u001b[0m \u001b[31m53.1 MB/s\u001b[0m eta \u001b[36m0:00:01\u001b[0m"
        },
        {
          "name": "stdout",
          "output_type": "stream",
          "text": "\r,\u001b[2K   \u001b[91m━━━━━━━━━━━━━━━━━━━━━━━━━━━━━━━━━━━━━━━\u001b[0m\u001b[91m╸\u001b[0m \u001b[32m887.9/887.9 MB\u001b[0m \u001b[31m53.1 MB/s\u001b[0m eta \u001b[36m0:00:01\u001b[0m"
        },
        {
          "name": "stdout",
          "output_type": "stream",
          "text": "\r,\u001b[2K   \u001b[91m━━━━━━━━━━━━━━━━━━━━━━━━━━━━━━━━━━━━━━━\u001b[0m\u001b[91m╸\u001b[0m \u001b[32m887.9/887.9 MB\u001b[0m \u001b[31m53.1 MB/s\u001b[0m eta \u001b[36m0:00:01\u001b[0m"
        },
        {
          "name": "stdout",
          "output_type": "stream",
          "text": "\r,\u001b[2K   \u001b[91m━━━━━━━━━━━━━━━━━━━━━━━━━━━━━━━━━━━━━━━\u001b[0m\u001b[91m╸\u001b[0m \u001b[32m887.9/887.9 MB\u001b[0m \u001b[31m53.1 MB/s\u001b[0m eta \u001b[36m0:00:01\u001b[0m"
        },
        {
          "name": "stdout",
          "output_type": "stream",
          "text": "\r,\u001b[2K   \u001b[91m━━━━━━━━━━━━━━━━━━━━━━━━━━━━━━━━━━━━━━━\u001b[0m\u001b[91m╸\u001b[0m \u001b[32m887.9/887.9 MB\u001b[0m \u001b[31m53.1 MB/s\u001b[0m eta \u001b[36m0:00:01\u001b[0m"
        },
        {
          "name": "stdout",
          "output_type": "stream",
          "text": "\r,\u001b[2K   \u001b[91m━━━━━━━━━━━━━━━━━━━━━━━━━━━━━━━━━━━━━━━\u001b[0m\u001b[91m╸\u001b[0m \u001b[32m887.9/887.9 MB\u001b[0m \u001b[31m53.1 MB/s\u001b[0m eta \u001b[36m0:00:01\u001b[0m"
        },
        {
          "name": "stdout",
          "output_type": "stream",
          "text": "\r,\u001b[2K   \u001b[91m━━━━━━━━━━━━━━━━━━━━━━━━━━━━━━━━━━━━━━━\u001b[0m\u001b[91m╸\u001b[0m \u001b[32m887.9/887.9 MB\u001b[0m \u001b[31m53.1 MB/s\u001b[0m eta \u001b[36m0:00:01\u001b[0m"
        },
        {
          "name": "stdout",
          "output_type": "stream",
          "text": "\r,\u001b[2K   \u001b[91m━━━━━━━━━━━━━━━━━━━━━━━━━━━━━━━━━━━━━━━\u001b[0m\u001b[91m╸\u001b[0m \u001b[32m887.9/887.9 MB\u001b[0m \u001b[31m53.1 MB/s\u001b[0m eta \u001b[36m0:00:01\u001b[0m"
        },
        {
          "name": "stdout",
          "output_type": "stream",
          "text": "\r,\u001b[2K   \u001b[91m━━━━━━━━━━━━━━━━━━━━━━━━━━━━━━━━━━━━━━━\u001b[0m\u001b[91m╸\u001b[0m \u001b[32m887.9/887.9 MB\u001b[0m \u001b[31m53.1 MB/s\u001b[0m eta \u001b[36m0:00:01\u001b[0m"
        },
        {
          "name": "stdout",
          "output_type": "stream",
          "text": "\r,\u001b[2K   \u001b[91m━━━━━━━━━━━━━━━━━━━━━━━━━━━━━━━━━━━━━━━\u001b[0m\u001b[91m╸\u001b[0m \u001b[32m887.9/887.9 MB\u001b[0m \u001b[31m53.1 MB/s\u001b[0m eta \u001b[36m0:00:01\u001b[0m"
        },
        {
          "name": "stdout",
          "output_type": "stream",
          "text": "\r,\u001b[2K   \u001b[91m━━━━━━━━━━━━━━━━━━━━━━━━━━━━━━━━━━━━━━━\u001b[0m\u001b[91m╸\u001b[0m \u001b[32m887.9/887.9 MB\u001b[0m \u001b[31m53.1 MB/s\u001b[0m eta \u001b[36m0:00:01\u001b[0m"
        },
        {
          "name": "stdout",
          "output_type": "stream",
          "text": "\r,\u001b[2K   \u001b[91m━━━━━━━━━━━━━━━━━━━━━━━━━━━━━━━━━━━━━━━\u001b[0m\u001b[91m╸\u001b[0m \u001b[32m887.9/887.9 MB\u001b[0m \u001b[31m53.1 MB/s\u001b[0m eta \u001b[36m0:00:01\u001b[0m"
        },
        {
          "name": "stdout",
          "output_type": "stream",
          "text": "\r,\u001b[2K   \u001b[91m━━━━━━━━━━━━━━━━━━━━━━━━━━━━━━━━━━━━━━━\u001b[0m\u001b[91m╸\u001b[0m \u001b[32m887.9/887.9 MB\u001b[0m \u001b[31m53.1 MB/s\u001b[0m eta \u001b[36m0:00:01\u001b[0m"
        },
        {
          "name": "stdout",
          "output_type": "stream",
          "text": "\r,\u001b[2K   \u001b[91m━━━━━━━━━━━━━━━━━━━━━━━━━━━━━━━━━━━━━━━\u001b[0m\u001b[91m╸\u001b[0m \u001b[32m887.9/887.9 MB\u001b[0m \u001b[31m53.1 MB/s\u001b[0m eta \u001b[36m0:00:01\u001b[0m"
        },
        {
          "name": "stdout",
          "output_type": "stream",
          "text": "\r,\u001b[2K   \u001b[91m━━━━━━━━━━━━━━━━━━━━━━━━━━━━━━━━━━━━━━━\u001b[0m\u001b[91m╸\u001b[0m \u001b[32m887.9/887.9 MB\u001b[0m \u001b[31m53.1 MB/s\u001b[0m eta \u001b[36m0:00:01\u001b[0m"
        },
        {
          "name": "stdout",
          "output_type": "stream",
          "text": "\r,\u001b[2K   \u001b[91m━━━━━━━━━━━━━━━━━━━━━━━━━━━━━━━━━━━━━━━\u001b[0m\u001b[91m╸\u001b[0m \u001b[32m887.9/887.9 MB\u001b[0m \u001b[31m53.1 MB/s\u001b[0m eta \u001b[36m0:00:01\u001b[0m"
        },
        {
          "name": "stdout",
          "output_type": "stream",
          "text": "\r,\u001b[2K   \u001b[91m━━━━━━━━━━━━━━━━━━━━━━━━━━━━━━━━━━━━━━━\u001b[0m\u001b[91m╸\u001b[0m \u001b[32m887.9/887.9 MB\u001b[0m \u001b[31m53.1 MB/s\u001b[0m eta \u001b[36m0:00:01\u001b[0m"
        },
        {
          "name": "stdout",
          "output_type": "stream",
          "text": "\r,\u001b[2K   \u001b[91m━━━━━━━━━━━━━━━━━━━━━━━━━━━━━━━━━━━━━━━\u001b[0m\u001b[91m╸\u001b[0m \u001b[32m887.9/887.9 MB\u001b[0m \u001b[31m53.1 MB/s\u001b[0m eta \u001b[36m0:00:01\u001b[0m"
        },
        {
          "name": "stdout",
          "output_type": "stream",
          "text": "\r,\u001b[2K   \u001b[91m━━━━━━━━━━━━━━━━━━━━━━━━━━━━━━━━━━━━━━━\u001b[0m\u001b[91m╸\u001b[0m \u001b[32m887.9/887.9 MB\u001b[0m \u001b[31m53.1 MB/s\u001b[0m eta \u001b[36m0:00:01\u001b[0m"
        },
        {
          "name": "stdout",
          "output_type": "stream",
          "text": "\r,\u001b[2K   \u001b[91m━━━━━━━━━━━━━━━━━━━━━━━━━━━━━━━━━━━━━━━\u001b[0m\u001b[91m╸\u001b[0m \u001b[32m887.9/887.9 MB\u001b[0m \u001b[31m53.1 MB/s\u001b[0m eta \u001b[36m0:00:01\u001b[0m"
        },
        {
          "name": "stdout",
          "output_type": "stream",
          "text": "\r,\u001b[2K   \u001b[91m━━━━━━━━━━━━━━━━━━━━━━━━━━━━━━━━━━━━━━━\u001b[0m\u001b[91m╸\u001b[0m \u001b[32m887.9/887.9 MB\u001b[0m \u001b[31m53.1 MB/s\u001b[0m eta \u001b[36m0:00:01\u001b[0m"
        },
        {
          "name": "stdout",
          "output_type": "stream",
          "text": "\r,\u001b[2K   \u001b[91m━━━━━━━━━━━━━━━━━━━━━━━━━━━━━━━━━━━━━━━\u001b[0m\u001b[91m╸\u001b[0m \u001b[32m887.9/887.9 MB\u001b[0m \u001b[31m53.1 MB/s\u001b[0m eta \u001b[36m0:00:01\u001b[0m"
        },
        {
          "name": "stdout",
          "output_type": "stream",
          "text": "\r,\u001b[2K   \u001b[91m━━━━━━━━━━━━━━━━━━━━━━━━━━━━━━━━━━━━━━━\u001b[0m\u001b[91m╸\u001b[0m \u001b[32m887.9/887.9 MB\u001b[0m \u001b[31m53.1 MB/s\u001b[0m eta \u001b[36m0:00:01\u001b[0m"
        },
        {
          "name": "stdout",
          "output_type": "stream",
          "text": "\r,\u001b[2K   \u001b[91m━━━━━━━━━━━━━━━━━━━━━━━━━━━━━━━━━━━━━━━\u001b[0m\u001b[91m╸\u001b[0m \u001b[32m887.9/887.9 MB\u001b[0m \u001b[31m53.1 MB/s\u001b[0m eta \u001b[36m0:00:01\u001b[0m"
        },
        {
          "name": "stdout",
          "output_type": "stream",
          "text": "\r,\u001b[2K   \u001b[91m━━━━━━━━━━━━━━━━━━━━━━━━━━━━━━━━━━━━━━━\u001b[0m\u001b[91m╸\u001b[0m \u001b[32m887.9/887.9 MB\u001b[0m \u001b[31m53.1 MB/s\u001b[0m eta \u001b[36m0:00:01\u001b[0m"
        },
        {
          "name": "stdout",
          "output_type": "stream",
          "text": "\r,\u001b[2K   \u001b[91m━━━━━━━━━━━━━━━━━━━━━━━━━━━━━━━━━━━━━━━\u001b[0m\u001b[91m╸\u001b[0m \u001b[32m887.9/887.9 MB\u001b[0m \u001b[31m53.1 MB/s\u001b[0m eta \u001b[36m0:00:01\u001b[0m"
        },
        {
          "name": "stdout",
          "output_type": "stream",
          "text": "\r,\u001b[2K   \u001b[91m━━━━━━━━━━━━━━━━━━━━━━━━━━━━━━━━━━━━━━━\u001b[0m\u001b[91m╸\u001b[0m \u001b[32m887.9/887.9 MB\u001b[0m \u001b[31m53.1 MB/s\u001b[0m eta \u001b[36m0:00:01\u001b[0m"
        },
        {
          "name": "stdout",
          "output_type": "stream",
          "text": "\r,\u001b[2K   \u001b[91m━━━━━━━━━━━━━━━━━━━━━━━━━━━━━━━━━━━━━━━\u001b[0m\u001b[91m╸\u001b[0m \u001b[32m887.9/887.9 MB\u001b[0m \u001b[31m53.1 MB/s\u001b[0m eta \u001b[36m0:00:01\u001b[0m"
        },
        {
          "name": "stdout",
          "output_type": "stream",
          "text": "\r,\u001b[2K   \u001b[91m━━━━━━━━━━━━━━━━━━━━━━━━━━━━━━━━━━━━━━━\u001b[0m\u001b[91m╸\u001b[0m \u001b[32m887.9/887.9 MB\u001b[0m \u001b[31m53.1 MB/s\u001b[0m eta \u001b[36m0:00:01\u001b[0m"
        },
        {
          "name": "stdout",
          "output_type": "stream",
          "text": "\r,\u001b[2K   \u001b[91m━━━━━━━━━━━━━━━━━━━━━━━━━━━━━━━━━━━━━━━\u001b[0m\u001b[91m╸\u001b[0m \u001b[32m887.9/887.9 MB\u001b[0m \u001b[31m53.1 MB/s\u001b[0m eta \u001b[36m0:00:01\u001b[0m"
        },
        {
          "name": "stdout",
          "output_type": "stream",
          "text": "\r,\u001b[2K   \u001b[91m━━━━━━━━━━━━━━━━━━━━━━━━━━━━━━━━━━━━━━━\u001b[0m\u001b[91m╸\u001b[0m \u001b[32m887.9/887.9 MB\u001b[0m \u001b[31m53.1 MB/s\u001b[0m eta \u001b[36m0:00:01\u001b[0m\r,\u001b[2K   \u001b[90m━━━━━━━━━━━━━━━━━━━━━━━━━━━━━━━━━━━━━━━━\u001b[0m \u001b[32m887.9/887.9 MB\u001b[0m \u001b[31m18.1 MB/s\u001b[0m eta \u001b[36m0:00:00\u001b[0m\n,\u001b[?25hDownloading nvidia_cublas_cu12-12.8.4.1-py3-none-manylinux_2_27_x86_64.whl (594.3 MB)\n,\u001b[?25l   \u001b[90m━━━━━━━━━━━━━━━━━━━━━━━━━━━━━━━━━━━━━━━━\u001b[0m \u001b[32m0.0/594.3 MB\u001b[0m \u001b[31m?\u001b[0m eta \u001b[36m-:--:--\u001b[0m"
        },
        {
          "name": "stdout",
          "output_type": "stream",
          "text": "\r,\u001b[2K   \u001b[91m╸\u001b[0m\u001b[90m━━━━━━━━━━━━━━━━━━━━━━━━━━━━━━━━━━━━━━━\u001b[0m \u001b[32m11.8/594.3 MB\u001b[0m \u001b[31m58.5 MB/s\u001b[0m eta \u001b[36m0:00:10\u001b[0m"
        },
        {
          "name": "stdout",
          "output_type": "stream",
          "text": "\r,\u001b[2K   \u001b[91m━\u001b[0m\u001b[91m╸\u001b[0m\u001b[90m━━━━━━━━━━━━━━━━━━━━━━━━━━━━━━━━━━━━━━\u001b[0m \u001b[32m23.1/594.3 MB\u001b[0m \u001b[31m57.0 MB/s\u001b[0m eta \u001b[36m0:00:11\u001b[0m"
        },
        {
          "name": "stdout",
          "output_type": "stream",
          "text": "\r,\u001b[2K   \u001b[91m━━\u001b[0m\u001b[90m╺\u001b[0m\u001b[90m━━━━━━━━━━━━━━━━━━━━━━━━━━━━━━━━━━━━━\u001b[0m \u001b[32m35.4/594.3 MB\u001b[0m \u001b[31m58.2 MB/s\u001b[0m eta \u001b[36m0:00:10\u001b[0m"
        },
        {
          "name": "stdout",
          "output_type": "stream",
          "text": "\r,\u001b[2K   \u001b[91m━━━\u001b[0m\u001b[90m╺\u001b[0m\u001b[90m━━━━━━━━━━━━━━━━━━━━━━━━━━━━━━━━━━━━\u001b[0m \u001b[32m48.8/594.3 MB\u001b[0m \u001b[31m59.7 MB/s\u001b[0m eta \u001b[36m0:00:10\u001b[0m"
        },
        {
          "name": "stdout",
          "output_type": "stream",
          "text": "\r,\u001b[2K   \u001b[91m━━━━\u001b[0m\u001b[90m╺\u001b[0m\u001b[90m━━━━━━━━━━━━━━━━━━━━━━━━━━━━━━━━━━━\u001b[0m \u001b[32m62.7/594.3 MB\u001b[0m \u001b[31m61.3 MB/s\u001b[0m eta \u001b[36m0:00:09\u001b[0m"
        },
        {
          "name": "stdout",
          "output_type": "stream",
          "text": "\r,\u001b[2K   \u001b[91m━━━━━\u001b[0m\u001b[90m╺\u001b[0m\u001b[90m━━━━━━━━━━━━━━━━━━━━━━━━━━━━━━━━━━\u001b[0m \u001b[32m76.0/594.3 MB\u001b[0m \u001b[31m61.8 MB/s\u001b[0m eta \u001b[36m0:00:09\u001b[0m"
        },
        {
          "name": "stdout",
          "output_type": "stream",
          "text": "\r,\u001b[2K   \u001b[91m━━━━━\u001b[0m\u001b[91m╸\u001b[0m\u001b[90m━━━━━━━━━━━━━━━━━━━━━━━━━━━━━━━━━━\u001b[0m \u001b[32m88.1/594.3 MB\u001b[0m \u001b[31m61.5 MB/s\u001b[0m eta \u001b[36m0:00:09\u001b[0m"
        },
        {
          "name": "stdout",
          "output_type": "stream",
          "text": "\r,\u001b[2K   \u001b[91m━━━━━━\u001b[0m\u001b[91m╸\u001b[0m\u001b[90m━━━━━━━━━━━━━━━━━━━━━━━━━━━━━━━━━\u001b[0m \u001b[32m98.0/594.3 MB\u001b[0m \u001b[31m60.0 MB/s\u001b[0m eta \u001b[36m0:00:09\u001b[0m"
        },
        {
          "name": "stdout",
          "output_type": "stream",
          "text": "\r,\u001b[2K   \u001b[91m━━━━━━━\u001b[0m\u001b[90m╺\u001b[0m\u001b[90m━━━━━━━━━━━━━━━━━━━━━━━━━━━━━━━━\u001b[0m \u001b[32m106.2/594.3 MB\u001b[0m \u001b[31m57.7 MB/s\u001b[0m eta \u001b[36m0:00:09\u001b[0m"
        },
        {
          "name": "stdout",
          "output_type": "stream",
          "text": "\r,\u001b[2K   \u001b[91m━━━━━━━\u001b[0m\u001b[91m╸\u001b[0m\u001b[90m━━━━━━━━━━━━━━━━━━━━━━━━━━━━━━━━\u001b[0m \u001b[32m114.8/594.3 MB\u001b[0m \u001b[31m56.2 MB/s\u001b[0m eta \u001b[36m0:00:09\u001b[0m"
        },
        {
          "name": "stdout",
          "output_type": "stream",
          "text": "\r,\u001b[2K   \u001b[91m━━━━━━━━\u001b[0m\u001b[90m╺\u001b[0m\u001b[90m━━━━━━━━━━━━━━━━━━━━━━━━━━━━━━━\u001b[0m \u001b[32m122.9/594.3 MB\u001b[0m \u001b[31m54.8 MB/s\u001b[0m eta \u001b[36m0:00:09\u001b[0m"
        },
        {
          "name": "stdout",
          "output_type": "stream",
          "text": "\r,\u001b[2K   \u001b[91m━━━━━━━━\u001b[0m\u001b[91m╸\u001b[0m\u001b[90m━━━━━━━━━━━━━━━━━━━━━━━━━━━━━━━\u001b[0m \u001b[32m130.8/594.3 MB\u001b[0m \u001b[31m53.3 MB/s\u001b[0m eta \u001b[36m0:00:09\u001b[0m"
        },
        {
          "name": "stdout",
          "output_type": "stream",
          "text": "\r,\u001b[2K   \u001b[91m━━━━━━━━━\u001b[0m\u001b[91m╸\u001b[0m\u001b[90m━━━━━━━━━━━━━━━━━━━━━━━━━━━━━━\u001b[0m \u001b[32m142.9/594.3 MB\u001b[0m \u001b[31m53.8 MB/s\u001b[0m eta \u001b[36m0:00:09\u001b[0m"
        },
        {
          "name": "stdout",
          "output_type": "stream",
          "text": "\r,\u001b[2K   \u001b[91m━━━━━━━━━━\u001b[0m\u001b[90m╺\u001b[0m\u001b[90m━━━━━━━━━━━━━━━━━━━━━━━━━━━━━\u001b[0m \u001b[32m155.5/594.3 MB\u001b[0m \u001b[31m54.3 MB/s\u001b[0m eta \u001b[36m0:00:09\u001b[0m"
        },
        {
          "name": "stdout",
          "output_type": "stream",
          "text": "\r,\u001b[2K   \u001b[91m━━━━━━━━━━━\u001b[0m\u001b[90m╺\u001b[0m\u001b[90m━━━━━━━━━━━━━━━━━━━━━━━━━━━━\u001b[0m \u001b[32m168.0/594.3 MB\u001b[0m \u001b[31m54.8 MB/s\u001b[0m eta \u001b[36m0:00:08\u001b[0m"
        },
        {
          "name": "stdout",
          "output_type": "stream",
          "text": "\r,\u001b[2K   \u001b[91m━━━━━━━━━━━━\u001b[0m\u001b[90m╺\u001b[0m\u001b[90m━━━━━━━━━━━━━━━━━━━━━━━━━━━\u001b[0m \u001b[32m181.4/594.3 MB\u001b[0m \u001b[31m55.5 MB/s\u001b[0m eta \u001b[36m0:00:08\u001b[0m"
        },
        {
          "name": "stdout",
          "output_type": "stream",
          "text": "\r,\u001b[2K   \u001b[91m━━━━━━━━━━━━━\u001b[0m\u001b[90m╺\u001b[0m\u001b[90m━━━━━━━━━━━━━━━━━━━━━━━━━━\u001b[0m \u001b[32m195.8/594.3 MB\u001b[0m \u001b[31m56.3 MB/s\u001b[0m eta \u001b[36m0:00:08\u001b[0m"
        },
        {
          "name": "stdout",
          "output_type": "stream",
          "text": "\r,\u001b[2K   \u001b[91m━━━━━━━━━━━━━━\u001b[0m\u001b[90m╺\u001b[0m\u001b[90m━━━━━━━━━━━━━━━━━━━━━━━━━\u001b[0m \u001b[32m210.2/594.3 MB\u001b[0m \u001b[31m57.2 MB/s\u001b[0m eta \u001b[36m0:00:07\u001b[0m"
        },
        {
          "name": "stdout",
          "output_type": "stream",
          "text": "\r,\u001b[2K   \u001b[91m━━━━━━━━━━━━━━━\u001b[0m\u001b[90m╺\u001b[0m\u001b[90m━━━━━━━━━━━━━━━━━━━━━━━━\u001b[0m \u001b[32m225.4/594.3 MB\u001b[0m \u001b[31m58.1 MB/s\u001b[0m eta \u001b[36m0:00:07\u001b[0m"
        },
        {
          "name": "stdout",
          "output_type": "stream",
          "text": "\r,\u001b[2K   \u001b[91m━━━━━━━━━━━━━━━━\u001b[0m\u001b[90m╺\u001b[0m\u001b[90m━━━━━━━━━━━━━━━━━━━━━━━\u001b[0m \u001b[32m238.0/594.3 MB\u001b[0m \u001b[31m58.3 MB/s\u001b[0m eta \u001b[36m0:00:07\u001b[0m"
        },
        {
          "name": "stdout",
          "output_type": "stream",
          "text": "\r,\u001b[2K   \u001b[91m━━━━━━━━━━━━━━━━\u001b[0m\u001b[91m╸\u001b[0m\u001b[90m━━━━━━━━━━━━━━━━━━━━━━━\u001b[0m \u001b[32m249.3/594.3 MB\u001b[0m \u001b[31m58.2 MB/s\u001b[0m eta \u001b[36m0:00:06\u001b[0m"
        },
        {
          "name": "stdout",
          "output_type": "stream",
          "text": "\r,\u001b[2K   \u001b[91m━━━━━━━━━━━━━━━━━\u001b[0m\u001b[91m╸\u001b[0m\u001b[90m━━━━━━━━━━━━━━━━━━━━━━\u001b[0m \u001b[32m260.6/594.3 MB\u001b[0m \u001b[31m58.0 MB/s\u001b[0m eta \u001b[36m0:00:06\u001b[0m"
        },
        {
          "name": "stdout",
          "output_type": "stream",
          "text": "\r,\u001b[2K   \u001b[91m━━━━━━━━━━━━━━━━━━\u001b[0m\u001b[90m╺\u001b[0m\u001b[90m━━━━━━━━━━━━━━━━━━━━━\u001b[0m \u001b[32m271.8/594.3 MB\u001b[0m \u001b[31m57.9 MB/s\u001b[0m eta \u001b[36m0:00:06\u001b[0m"
        },
        {
          "name": "stdout",
          "output_type": "stream",
          "text": "\r,\u001b[2K   \u001b[91m━━━━━━━━━━━━━━━━━━━\u001b[0m\u001b[90m╺\u001b[0m\u001b[90m━━━━━━━━━━━━━━━━━━━━\u001b[0m \u001b[32m282.3/594.3 MB\u001b[0m \u001b[31m57.5 MB/s\u001b[0m eta \u001b[36m0:00:06\u001b[0m"
        },
        {
          "name": "stdout",
          "output_type": "stream",
          "text": "\r,\u001b[2K   \u001b[91m━━━━━━━━━━━━━━━━━━━\u001b[0m\u001b[91m╸\u001b[0m\u001b[90m━━━━━━━━━━━━━━━━━━━━\u001b[0m \u001b[32m293.1/594.3 MB\u001b[0m \u001b[31m57.4 MB/s\u001b[0m eta \u001b[36m0:00:06\u001b[0m\r,\u001b[2K   \u001b[91m━━━━━━━━━━━━━━━━━━━━\u001b[0m\u001b[90m╺\u001b[0m\u001b[90m━━━━━━━━━━━━━━━━━━━\u001b[0m \u001b[32m302.8/594.3 MB\u001b[0m \u001b[31m57.2 MB/s\u001b[0m eta \u001b[36m0:00:06\u001b[0m"
        },
        {
          "name": "stdout",
          "output_type": "stream",
          "text": "\r,\u001b[2K   \u001b[91m━━━━━━━━━━━━━━━━━━━━\u001b[0m\u001b[91m╸\u001b[0m\u001b[90m━━━━━━━━━━━━━━━━━━━\u001b[0m \u001b[32m312.0/594.3 MB\u001b[0m \u001b[31m56.7 MB/s\u001b[0m eta \u001b[36m0:00:05\u001b[0m"
        },
        {
          "name": "stdout",
          "output_type": "stream",
          "text": "\r,\u001b[2K   \u001b[91m━━━━━━━━━━━━━━━━━━━━━\u001b[0m\u001b[90m╺\u001b[0m\u001b[90m━━━━━━━━━━━━━━━━━━\u001b[0m \u001b[32m318.2/594.3 MB\u001b[0m \u001b[31m54.7 MB/s\u001b[0m eta \u001b[36m0:00:06\u001b[0m"
        },
        {
          "name": "stdout",
          "output_type": "stream",
          "text": "\r,\u001b[2K   \u001b[91m━━━━━━━━━━━━━━━━━━━━━━\u001b[0m\u001b[90m╺\u001b[0m\u001b[90m━━━━━━━━━━━━━━━━━\u001b[0m \u001b[32m327.2/594.3 MB\u001b[0m \u001b[31m53.9 MB/s\u001b[0m eta \u001b[36m0:00:05\u001b[0m"
        },
        {
          "name": "stdout",
          "output_type": "stream",
          "text": "\r,\u001b[2K   \u001b[91m━━━━━━━━━━━━━━━━━━━━━━\u001b[0m\u001b[91m╸\u001b[0m\u001b[90m━━━━━━━━━━━━━━━━━\u001b[0m \u001b[32m337.1/594.3 MB\u001b[0m \u001b[31m53.5 MB/s\u001b[0m eta \u001b[36m0:00:05\u001b[0m"
        },
        {
          "name": "stdout",
          "output_type": "stream",
          "text": "\r,\u001b[2K   \u001b[91m━━━━━━━━━━━━━━━━━━━━━━━\u001b[0m\u001b[90m╺\u001b[0m\u001b[90m━━━━━━━━━━━━━━━━\u001b[0m \u001b[32m344.7/594.3 MB\u001b[0m \u001b[31m52.5 MB/s\u001b[0m eta \u001b[36m0:00:05\u001b[0m"
        },
        {
          "name": "stdout",
          "output_type": "stream",
          "text": "\r,\u001b[2K   \u001b[91m━━━━━━━━━━━━━━━━━━━━━━━━\u001b[0m\u001b[90m╺\u001b[0m\u001b[90m━━━━━━━━━━━━━━━\u001b[0m \u001b[32m358.1/594.3 MB\u001b[0m \u001b[31m53.3 MB/s\u001b[0m eta \u001b[36m0:00:05\u001b[0m"
        },
        {
          "name": "stdout",
          "output_type": "stream",
          "text": "\r,\u001b[2K   \u001b[91m━━━━━━━━━━━━━━━━━━━━━━━━\u001b[0m\u001b[91m╸\u001b[0m\u001b[90m━━━━━━━━━━━━━━━\u001b[0m \u001b[32m371.5/594.3 MB\u001b[0m \u001b[31m54.6 MB/s\u001b[0m eta \u001b[36m0:00:05\u001b[0m"
        },
        {
          "name": "stdout",
          "output_type": "stream",
          "text": "\r,\u001b[2K   \u001b[91m━━━━━━━━━━━━━━━━━━━━━━━━━\u001b[0m\u001b[91m╸\u001b[0m\u001b[90m━━━━━━━━━━━━━━\u001b[0m \u001b[32m382.2/594.3 MB\u001b[0m \u001b[31m54.7 MB/s\u001b[0m eta \u001b[36m0:00:04\u001b[0m"
        },
        {
          "name": "stdout",
          "output_type": "stream",
          "text": "\r,\u001b[2K   \u001b[91m━━━━━━━━━━━━━━━━━━━━━━━━━━\u001b[0m\u001b[90m╺\u001b[0m\u001b[90m━━━━━━━━━━━━━\u001b[0m \u001b[32m393.5/594.3 MB\u001b[0m \u001b[31m56.0 MB/s\u001b[0m eta \u001b[36m0:00:04\u001b[0m"
        },
        {
          "name": "stdout",
          "output_type": "stream",
          "text": "\r,\u001b[2K   \u001b[91m━━━━━━━━━━━━━━━━━━━━━━━━━━━\u001b[0m\u001b[90m╺\u001b[0m\u001b[90m━━━━━━━━━━━━\u001b[0m \u001b[32m405.5/594.3 MB\u001b[0m \u001b[31m56.0 MB/s\u001b[0m eta \u001b[36m0:00:04\u001b[0m"
        },
        {
          "name": "stdout",
          "output_type": "stream",
          "text": "\r,\u001b[2K   \u001b[91m━━━━━━━━━━━━━━━━━━━━━━━━━━━━\u001b[0m\u001b[90m╺\u001b[0m\u001b[90m━━━━━━━━━━━\u001b[0m \u001b[32m418.1/594.3 MB\u001b[0m \u001b[31m56.0 MB/s\u001b[0m eta \u001b[36m0:00:04\u001b[0m"
        },
        {
          "name": "stdout",
          "output_type": "stream",
          "text": "\r,\u001b[2K   \u001b[91m━━━━━━━━━━━━━━━━━━━━━━━━━━━━\u001b[0m\u001b[91m╸\u001b[0m\u001b[90m━━━━━━━━━━━\u001b[0m \u001b[32m430.4/594.3 MB\u001b[0m \u001b[31m55.9 MB/s\u001b[0m eta \u001b[36m0:00:03\u001b[0m"
        },
        {
          "name": "stdout",
          "output_type": "stream",
          "text": "\r,\u001b[2K   \u001b[91m━━━━━━━━━━━━━━━━━━━━━━━━━━━━━\u001b[0m\u001b[91m╸\u001b[0m\u001b[90m━━━━━━━━━━\u001b[0m \u001b[32m443.0/594.3 MB\u001b[0m \u001b[31m55.9 MB/s\u001b[0m eta \u001b[36m0:00:03\u001b[0m"
        },
        {
          "name": "stdout",
          "output_type": "stream",
          "text": "\r,\u001b[2K   \u001b[91m━━━━━━━━━━━━━━━━━━━━━━━━━━━━━━\u001b[0m\u001b[91m╸\u001b[0m\u001b[90m━━━━━━━━━\u001b[0m \u001b[32m453.5/594.3 MB\u001b[0m \u001b[31m55.3 MB/s\u001b[0m eta \u001b[36m0:00:03\u001b[0m"
        },
        {
          "name": "stdout",
          "output_type": "stream",
          "text": "\r,\u001b[2K   \u001b[91m━━━━━━━━━━━━━━━━━━━━━━━━━━━━━━━\u001b[0m\u001b[90m╺\u001b[0m\u001b[90m━━━━━━━━\u001b[0m \u001b[32m464.5/594.3 MB\u001b[0m \u001b[31m54.6 MB/s\u001b[0m eta \u001b[36m0:00:03\u001b[0m"
        },
        {
          "name": "stdout",
          "output_type": "stream",
          "text": "\r,\u001b[2K   \u001b[91m━━━━━━━━━━━━━━━━━━━━━━━━━━━━━━━\u001b[0m\u001b[91m╸\u001b[0m\u001b[90m━━━━━━━━\u001b[0m \u001b[32m474.7/594.3 MB\u001b[0m \u001b[31m54.0 MB/s\u001b[0m eta \u001b[36m0:00:03\u001b[0m"
        },
        {
          "name": "stdout",
          "output_type": "stream",
          "text": "\r,\u001b[2K   \u001b[91m━━━━━━━━━━━━━━━━━━━━━━━━━━━━━━━━\u001b[0m\u001b[91m╸\u001b[0m\u001b[90m━━━━━━━\u001b[0m \u001b[32m485.8/594.3 MB\u001b[0m \u001b[31m53.4 MB/s\u001b[0m eta \u001b[36m0:00:03\u001b[0m"
        },
        {
          "name": "stdout",
          "output_type": "stream",
          "text": "\r,\u001b[2K   \u001b[91m━━━━━━━━━━━━━━━━━━━━━━━━━━━━━━━━━\u001b[0m\u001b[90m╺\u001b[0m\u001b[90m━━━━━━\u001b[0m \u001b[32m496.5/594.3 MB\u001b[0m \u001b[31m52.8 MB/s\u001b[0m eta \u001b[36m0:00:02\u001b[0m"
        },
        {
          "name": "stdout",
          "output_type": "stream",
          "text": "\r,\u001b[2K   \u001b[91m━━━━━━━━━━━━━━━━━━━━━━━━━━━━━━━━━━\u001b[0m\u001b[90m╺\u001b[0m\u001b[90m━━━━━\u001b[0m \u001b[32m507.0/594.3 MB\u001b[0m \u001b[31m52.7 MB/s\u001b[0m eta \u001b[36m0:00:02\u001b[0m"
        },
        {
          "name": "stdout",
          "output_type": "stream",
          "text": "\r,\u001b[2K   \u001b[91m━━━━━━━━━━━━━━━━━━━━━━━━━━━━━━━━━━\u001b[0m\u001b[91m╸\u001b[0m\u001b[90m━━━━━\u001b[0m \u001b[32m516.9/594.3 MB\u001b[0m \u001b[31m52.7 MB/s\u001b[0m eta \u001b[36m0:00:02\u001b[0m"
        },
        {
          "name": "stdout",
          "output_type": "stream",
          "text": "\r,\u001b[2K   \u001b[91m━━━━━━━━━━━━━━━━━━━━━━━━━━━━━━━━━━━\u001b[0m\u001b[90m╺\u001b[0m\u001b[90m━━━━\u001b[0m \u001b[32m525.1/594.3 MB\u001b[0m \u001b[31m52.2 MB/s\u001b[0m eta \u001b[36m0:00:02\u001b[0m"
        },
        {
          "name": "stdout",
          "output_type": "stream",
          "text": "\r,\u001b[2K   \u001b[91m━━━━━━━━━━━━━━━━━━━━━━━━━━━━━━━━━━━\u001b[0m\u001b[91m╸\u001b[0m\u001b[90m━━━━\u001b[0m \u001b[32m533.7/594.3 MB\u001b[0m \u001b[31m51.8 MB/s\u001b[0m eta \u001b[36m0:00:02\u001b[0m"
        },
        {
          "name": "stdout",
          "output_type": "stream",
          "text": "\r,\u001b[2K   \u001b[91m━━━━━━━━━━━━━━━━━━━━━━━━━━━━━━━━━━━━\u001b[0m\u001b[91m╸\u001b[0m\u001b[90m━━━\u001b[0m \u001b[32m542.4/594.3 MB\u001b[0m \u001b[31m50.9 MB/s\u001b[0m eta \u001b[36m0:00:02\u001b[0m"
        },
        {
          "name": "stdout",
          "output_type": "stream",
          "text": "\r,\u001b[2K   \u001b[91m━━━━━━━━━━━━━━━━━━━━━━━━━━━━━━━━━━━━\u001b[0m\u001b[91m╸\u001b[0m\u001b[90m━━━\u001b[0m \u001b[32m549.5/594.3 MB\u001b[0m \u001b[31m50.1 MB/s\u001b[0m eta \u001b[36m0:00:01\u001b[0m"
        },
        {
          "name": "stdout",
          "output_type": "stream",
          "text": "\r,\u001b[2K   \u001b[91m━━━━━━━━━━━━━━━━━━━━━━━━━━━━━━━━━━━━━\u001b[0m\u001b[91m╸\u001b[0m\u001b[90m━━\u001b[0m \u001b[32m557.8/594.3 MB\u001b[0m \u001b[31m49.7 MB/s\u001b[0m eta \u001b[36m0:00:01\u001b[0m"
        },
        {
          "name": "stdout",
          "output_type": "stream",
          "text": "\r,\u001b[2K   \u001b[91m━━━━━━━━━━━━━━━━━━━━━━━━━━━━━━━━━━━━━━\u001b[0m\u001b[90m╺\u001b[0m\u001b[90m━\u001b[0m \u001b[32m564.9/594.3 MB\u001b[0m \u001b[31m49.3 MB/s\u001b[0m eta \u001b[36m0:00:01\u001b[0m"
        },
        {
          "name": "stdout",
          "output_type": "stream",
          "text": "\r,\u001b[2K   \u001b[91m━━━━━━━━━━━━━━━━━━━━━━━━━━━━━━━━━━━━━━\u001b[0m\u001b[91m╸\u001b[0m\u001b[90m━\u001b[0m \u001b[32m575.9/594.3 MB\u001b[0m \u001b[31m49.5 MB/s\u001b[0m eta \u001b[36m0:00:01\u001b[0m"
        },
        {
          "name": "stdout",
          "output_type": "stream",
          "text": "\r,\u001b[2K   \u001b[91m━━━━━━━━━━━━━━━━━━━━━━━━━━━━━━━━━━━━━━━\u001b[0m\u001b[90m╺\u001b[0m \u001b[32m585.4/594.3 MB\u001b[0m \u001b[31m50.2 MB/s\u001b[0m eta \u001b[36m0:00:01\u001b[0m"
        },
        {
          "name": "stdout",
          "output_type": "stream",
          "text": "\r,\u001b[2K   \u001b[91m━━━━━━━━━━━━━━━━━━━━━━━━━━━━━━━━━━━━━━━\u001b[0m\u001b[91m╸\u001b[0m \u001b[32m594.3/594.3 MB\u001b[0m \u001b[31m50.5 MB/s\u001b[0m eta \u001b[36m0:00:01\u001b[0m"
        },
        {
          "name": "stdout",
          "output_type": "stream",
          "text": "\r,\u001b[2K   \u001b[91m━━━━━━━━━━━━━━━━━━━━━━━━━━━━━━━━━━━━━━━\u001b[0m\u001b[91m╸\u001b[0m \u001b[32m594.3/594.3 MB\u001b[0m \u001b[31m50.5 MB/s\u001b[0m eta \u001b[36m0:00:01\u001b[0m"
        },
        {
          "name": "stdout",
          "output_type": "stream",
          "text": "\r,\u001b[2K   \u001b[91m━━━━━━━━━━━━━━━━━━━━━━━━━━━━━━━━━━━━━━━\u001b[0m\u001b[91m╸\u001b[0m \u001b[32m594.3/594.3 MB\u001b[0m \u001b[31m50.5 MB/s\u001b[0m eta \u001b[36m0:00:01\u001b[0m"
        },
        {
          "name": "stdout",
          "output_type": "stream",
          "text": "\r,\u001b[2K   \u001b[91m━━━━━━━━━━━━━━━━━━━━━━━━━━━━━━━━━━━━━━━\u001b[0m\u001b[91m╸\u001b[0m \u001b[32m594.3/594.3 MB\u001b[0m \u001b[31m50.5 MB/s\u001b[0m eta \u001b[36m0:00:01\u001b[0m"
        },
        {
          "name": "stdout",
          "output_type": "stream",
          "text": "\r,\u001b[2K   \u001b[91m━━━━━━━━━━━━━━━━━━━━━━━━━━━━━━━━━━━━━━━\u001b[0m\u001b[91m╸\u001b[0m \u001b[32m594.3/594.3 MB\u001b[0m \u001b[31m50.5 MB/s\u001b[0m eta \u001b[36m0:00:01\u001b[0m"
        },
        {
          "name": "stdout",
          "output_type": "stream",
          "text": "\r,\u001b[2K   \u001b[91m━━━━━━━━━━━━━━━━━━━━━━━━━━━━━━━━━━━━━━━\u001b[0m\u001b[91m╸\u001b[0m \u001b[32m594.3/594.3 MB\u001b[0m \u001b[31m50.5 MB/s\u001b[0m eta \u001b[36m0:00:01\u001b[0m"
        },
        {
          "name": "stdout",
          "output_type": "stream",
          "text": "\r,\u001b[2K   \u001b[91m━━━━━━━━━━━━━━━━━━━━━━━━━━━━━━━━━━━━━━━\u001b[0m\u001b[91m╸\u001b[0m \u001b[32m594.3/594.3 MB\u001b[0m \u001b[31m50.5 MB/s\u001b[0m eta \u001b[36m0:00:01\u001b[0m"
        },
        {
          "name": "stdout",
          "output_type": "stream",
          "text": "\r,\u001b[2K   \u001b[91m━━━━━━━━━━━━━━━━━━━━━━━━━━━━━━━━━━━━━━━\u001b[0m\u001b[91m╸\u001b[0m \u001b[32m594.3/594.3 MB\u001b[0m \u001b[31m50.5 MB/s\u001b[0m eta \u001b[36m0:00:01\u001b[0m"
        },
        {
          "name": "stdout",
          "output_type": "stream",
          "text": "\r,\u001b[2K   \u001b[91m━━━━━━━━━━━━━━━━━━━━━━━━━━━━━━━━━━━━━━━\u001b[0m\u001b[91m╸\u001b[0m \u001b[32m594.3/594.3 MB\u001b[0m \u001b[31m50.5 MB/s\u001b[0m eta \u001b[36m0:00:01\u001b[0m"
        },
        {
          "name": "stdout",
          "output_type": "stream",
          "text": "\r,\u001b[2K   \u001b[91m━━━━━━━━━━━━━━━━━━━━━━━━━━━━━━━━━━━━━━━\u001b[0m\u001b[91m╸\u001b[0m \u001b[32m594.3/594.3 MB\u001b[0m \u001b[31m50.5 MB/s\u001b[0m eta \u001b[36m0:00:01\u001b[0m"
        },
        {
          "name": "stdout",
          "output_type": "stream",
          "text": "\r,\u001b[2K   \u001b[91m━━━━━━━━━━━━━━━━━━━━━━━━━━━━━━━━━━━━━━━\u001b[0m\u001b[91m╸\u001b[0m \u001b[32m594.3/594.3 MB\u001b[0m \u001b[31m50.5 MB/s\u001b[0m eta \u001b[36m0:00:01\u001b[0m"
        },
        {
          "name": "stdout",
          "output_type": "stream",
          "text": "\r,\u001b[2K   \u001b[91m━━━━━━━━━━━━━━━━━━━━━━━━━━━━━━━━━━━━━━━\u001b[0m\u001b[91m╸\u001b[0m \u001b[32m594.3/594.3 MB\u001b[0m \u001b[31m50.5 MB/s\u001b[0m eta \u001b[36m0:00:01\u001b[0m"
        },
        {
          "name": "stdout",
          "output_type": "stream",
          "text": "\r,\u001b[2K   \u001b[91m━━━━━━━━━━━━━━━━━━━━━━━━━━━━━━━━━━━━━━━\u001b[0m\u001b[91m╸\u001b[0m \u001b[32m594.3/594.3 MB\u001b[0m \u001b[31m50.5 MB/s\u001b[0m eta \u001b[36m0:00:01\u001b[0m"
        },
        {
          "name": "stdout",
          "output_type": "stream",
          "text": "\r,\u001b[2K   \u001b[91m━━━━━━━━━━━━━━━━━━━━━━━━━━━━━━━━━━━━━━━\u001b[0m\u001b[91m╸\u001b[0m \u001b[32m594.3/594.3 MB\u001b[0m \u001b[31m50.5 MB/s\u001b[0m eta \u001b[36m0:00:01\u001b[0m"
        },
        {
          "name": "stdout",
          "output_type": "stream",
          "text": "\r,\u001b[2K   \u001b[91m━━━━━━━━━━━━━━━━━━━━━━━━━━━━━━━━━━━━━━━\u001b[0m\u001b[91m╸\u001b[0m \u001b[32m594.3/594.3 MB\u001b[0m \u001b[31m50.5 MB/s\u001b[0m eta \u001b[36m0:00:01\u001b[0m"
        },
        {
          "name": "stdout",
          "output_type": "stream",
          "text": "\r,\u001b[2K   \u001b[91m━━━━━━━━━━━━━━━━━━━━━━━━━━━━━━━━━━━━━━━\u001b[0m\u001b[91m╸\u001b[0m \u001b[32m594.3/594.3 MB\u001b[0m \u001b[31m50.5 MB/s\u001b[0m eta \u001b[36m0:00:01\u001b[0m"
        },
        {
          "name": "stdout",
          "output_type": "stream",
          "text": "\r,\u001b[2K   \u001b[91m━━━━━━━━━━━━━━━━━━━━━━━━━━━━━━━━━━━━━━━\u001b[0m\u001b[91m╸\u001b[0m \u001b[32m594.3/594.3 MB\u001b[0m \u001b[31m50.5 MB/s\u001b[0m eta \u001b[36m0:00:01\u001b[0m"
        },
        {
          "name": "stdout",
          "output_type": "stream",
          "text": "\r,\u001b[2K   \u001b[91m━━━━━━━━━━━━━━━━━━━━━━━━━━━━━━━━━━━━━━━\u001b[0m\u001b[91m╸\u001b[0m \u001b[32m594.3/594.3 MB\u001b[0m \u001b[31m50.5 MB/s\u001b[0m eta \u001b[36m0:00:01\u001b[0m"
        },
        {
          "name": "stdout",
          "output_type": "stream",
          "text": "\r,\u001b[2K   \u001b[91m━━━━━━━━━━━━━━━━━━━━━━━━━━━━━━━━━━━━━━━\u001b[0m\u001b[91m╸\u001b[0m \u001b[32m594.3/594.3 MB\u001b[0m \u001b[31m50.5 MB/s\u001b[0m eta \u001b[36m0:00:01\u001b[0m"
        },
        {
          "name": "stdout",
          "output_type": "stream",
          "text": "\r,\u001b[2K   \u001b[91m━━━━━━━━━━━━━━━━━━━━━━━━━━━━━━━━━━━━━━━\u001b[0m\u001b[91m╸\u001b[0m \u001b[32m594.3/594.3 MB\u001b[0m \u001b[31m50.5 MB/s\u001b[0m eta \u001b[36m0:00:01\u001b[0m"
        },
        {
          "name": "stdout",
          "output_type": "stream",
          "text": "\r,\u001b[2K   \u001b[91m━━━━━━━━━━━━━━━━━━━━━━━━━━━━━━━━━━━━━━━\u001b[0m\u001b[91m╸\u001b[0m \u001b[32m594.3/594.3 MB\u001b[0m \u001b[31m50.5 MB/s\u001b[0m eta \u001b[36m0:00:01\u001b[0m"
        },
        {
          "name": "stdout",
          "output_type": "stream",
          "text": "\r,\u001b[2K   \u001b[91m━━━━━━━━━━━━━━━━━━━━━━━━━━━━━━━━━━━━━━━\u001b[0m\u001b[91m╸\u001b[0m \u001b[32m594.3/594.3 MB\u001b[0m \u001b[31m50.5 MB/s\u001b[0m eta \u001b[36m0:00:01\u001b[0m"
        },
        {
          "name": "stdout",
          "output_type": "stream",
          "text": "\r,\u001b[2K   \u001b[91m━━━━━━━━━━━━━━━━━━━━━━━━━━━━━━━━━━━━━━━\u001b[0m\u001b[91m╸\u001b[0m \u001b[32m594.3/594.3 MB\u001b[0m \u001b[31m50.5 MB/s\u001b[0m eta \u001b[36m0:00:01\u001b[0m"
        },
        {
          "name": "stdout",
          "output_type": "stream",
          "text": "\r,\u001b[2K   \u001b[91m━━━━━━━━━━━━━━━━━━━━━━━━━━━━━━━━━━━━━━━\u001b[0m\u001b[91m╸\u001b[0m \u001b[32m594.3/594.3 MB\u001b[0m \u001b[31m50.5 MB/s\u001b[0m eta \u001b[36m0:00:01\u001b[0m"
        },
        {
          "name": "stdout",
          "output_type": "stream",
          "text": "\r,\u001b[2K   \u001b[91m━━━━━━━━━━━━━━━━━━━━━━━━━━━━━━━━━━━━━━━\u001b[0m\u001b[91m╸\u001b[0m \u001b[32m594.3/594.3 MB\u001b[0m \u001b[31m50.5 MB/s\u001b[0m eta \u001b[36m0:00:01\u001b[0m"
        },
        {
          "name": "stdout",
          "output_type": "stream",
          "text": "\r,\u001b[2K   \u001b[91m━━━━━━━━━━━━━━━━━━━━━━━━━━━━━━━━━━━━━━━\u001b[0m\u001b[91m╸\u001b[0m \u001b[32m594.3/594.3 MB\u001b[0m \u001b[31m50.5 MB/s\u001b[0m eta \u001b[36m0:00:01\u001b[0m"
        },
        {
          "name": "stdout",
          "output_type": "stream",
          "text": "\r,\u001b[2K   \u001b[91m━━━━━━━━━━━━━━━━━━━━━━━━━━━━━━━━━━━━━━━\u001b[0m\u001b[91m╸\u001b[0m \u001b[32m594.3/594.3 MB\u001b[0m \u001b[31m50.5 MB/s\u001b[0m eta \u001b[36m0:00:01\u001b[0m"
        },
        {
          "name": "stdout",
          "output_type": "stream",
          "text": "\r,\u001b[2K   \u001b[91m━━━━━━━━━━━━━━━━━━━━━━━━━━━━━━━━━━━━━━━\u001b[0m\u001b[91m╸\u001b[0m \u001b[32m594.3/594.3 MB\u001b[0m \u001b[31m50.5 MB/s\u001b[0m eta \u001b[36m0:00:01\u001b[0m"
        },
        {
          "name": "stdout",
          "output_type": "stream",
          "text": "\r,\u001b[2K   \u001b[91m━━━━━━━━━━━━━━━━━━━━━━━━━━━━━━━━━━━━━━━\u001b[0m\u001b[91m╸\u001b[0m \u001b[32m594.3/594.3 MB\u001b[0m \u001b[31m50.5 MB/s\u001b[0m eta \u001b[36m0:00:01\u001b[0m"
        },
        {
          "name": "stdout",
          "output_type": "stream",
          "text": "\r,\u001b[2K   \u001b[91m━━━━━━━━━━━━━━━━━━━━━━━━━━━━━━━━━━━━━━━\u001b[0m\u001b[91m╸\u001b[0m \u001b[32m594.3/594.3 MB\u001b[0m \u001b[31m50.5 MB/s\u001b[0m eta \u001b[36m0:00:01\u001b[0m"
        },
        {
          "name": "stdout",
          "output_type": "stream",
          "text": "\r,\u001b[2K   \u001b[91m━━━━━━━━━━━━━━━━━━━━━━━━━━━━━━━━━━━━━━━\u001b[0m\u001b[91m╸\u001b[0m \u001b[32m594.3/594.3 MB\u001b[0m \u001b[31m50.5 MB/s\u001b[0m eta \u001b[36m0:00:01\u001b[0m\r,\u001b[2K   \u001b[90m━━━━━━━━━━━━━━━━━━━━━━━━━━━━━━━━━━━━━━━━\u001b[0m \u001b[32m594.3/594.3 MB\u001b[0m \u001b[31m22.7 MB/s\u001b[0m eta \u001b[36m0:00:00\u001b[0m\n,\u001b[?25hDownloading nvidia_cuda_cupti_cu12-12.8.90-py3-none-manylinux2014_x86_64.manylinux_2_17_x86_64.whl (10.2 MB)\n"
        },
        {
          "name": "stdout",
          "output_type": "stream",
          "text": "\u001b[?25l   \u001b[90m━━━━━━━━━━━━━━━━━━━━━━━━━━━━━━━━━━━━━━━━\u001b[0m \u001b[32m0.0/10.2 MB\u001b[0m \u001b[31m?\u001b[0m eta \u001b[36m-:--:--\u001b[0m"
        },
        {
          "name": "stdout",
          "output_type": "stream",
          "text": "\r,\u001b[2K   \u001b[91m━━━━━━━━━━━━━━━━━━━━━━━━━━━━━━━━━━━━━━━\u001b[0m\u001b[91m╸\u001b[0m \u001b[32m10.2/10.2 MB\u001b[0m \u001b[31m69.8 MB/s\u001b[0m eta \u001b[36m0:00:01\u001b[0m\r,\u001b[2K   \u001b[90m━━━━━━━━━━━━━━━━━━━━━━━━━━━━━━━━━━━━━━━━\u001b[0m \u001b[32m10.2/10.2 MB\u001b[0m \u001b[31m41.4 MB/s\u001b[0m eta \u001b[36m0:00:00\u001b[0m\n,\u001b[?25hDownloading nvidia_cuda_nvrtc_cu12-12.8.93-py3-none-manylinux2010_x86_64.manylinux_2_12_x86_64.whl (88.0 MB)\n,\u001b[?25l   \u001b[90m━━━━━━━━━━━━━━━━━━━━━━━━━━━━━━━━━━━━━━━━\u001b[0m \u001b[32m0.0/88.0 MB\u001b[0m \u001b[31m?\u001b[0m eta \u001b[36m-:--:--\u001b[0m"
        },
        {
          "name": "stdout",
          "output_type": "stream",
          "text": "\r,\u001b[2K   \u001b[91m━━━\u001b[0m\u001b[91m╸\u001b[0m\u001b[90m━━━━━━━━━━━━━━━━━━━━━━━━━━━━━━━━━━━━\u001b[0m \u001b[32m8.1/88.0 MB\u001b[0m \u001b[31m39.9 MB/s\u001b[0m eta \u001b[36m0:00:03\u001b[0m"
        },
        {
          "name": "stdout",
          "output_type": "stream",
          "text": "\r,\u001b[2K   \u001b[91m━━━━━━━━\u001b[0m\u001b[90m╺\u001b[0m\u001b[90m━━━━━━━━━━━━━━━━━━━━━━━━━━━━━━━\u001b[0m \u001b[32m18.4/88.0 MB\u001b[0m \u001b[31m45.3 MB/s\u001b[0m eta \u001b[36m0:00:02\u001b[0m\r,\u001b[2K   \u001b[91m━━━━━━━━━━━━\u001b[0m\u001b[90m╺\u001b[0m\u001b[90m━━━━━━━━━━━━━━━━━━━━━━━━━━━\u001b[0m \u001b[32m27.0/88.0 MB\u001b[0m \u001b[31m44.2 MB/s\u001b[0m eta \u001b[36m0:00:02\u001b[0m"
        },
        {
          "name": "stdout",
          "output_type": "stream",
          "text": "\r,\u001b[2K   \u001b[91m━━━━━━━━━━━━━━━━━━\u001b[0m\u001b[91m╸\u001b[0m\u001b[90m━━━━━━━━━━━━━━━━━━━━━\u001b[0m \u001b[32m41.7/88.0 MB\u001b[0m \u001b[31m51.5 MB/s\u001b[0m eta \u001b[36m0:00:01\u001b[0m"
        },
        {
          "name": "stdout",
          "output_type": "stream",
          "text": "\r,\u001b[2K   \u001b[91m━━━━━━━━━━━━━━━━━━━━━━━━\u001b[0m\u001b[91m╸\u001b[0m\u001b[90m━━━━━━━━━━━━━━━\u001b[0m \u001b[32m54.5/88.0 MB\u001b[0m \u001b[31m53.9 MB/s\u001b[0m eta \u001b[36m0:00:01\u001b[0m"
        },
        {
          "name": "stdout",
          "output_type": "stream",
          "text": "\r,\u001b[2K   \u001b[91m━━━━━━━━━━━━━━━━━━━━━━━━━━━━━━\u001b[0m\u001b[91m╸\u001b[0m\u001b[90m━━━━━━━━━\u001b[0m \u001b[32m67.9/88.0 MB\u001b[0m \u001b[31m55.8 MB/s\u001b[0m eta \u001b[36m0:00:01\u001b[0m"
        },
        {
          "name": "stdout",
          "output_type": "stream",
          "text": "\r,\u001b[2K   \u001b[91m━━━━━━━━━━━━━━━━━━━━━━━━━━━━━━━━━━━━━\u001b[0m\u001b[90m╺\u001b[0m\u001b[90m━━\u001b[0m \u001b[32m82.1/88.0 MB\u001b[0m \u001b[31m57.7 MB/s\u001b[0m eta \u001b[36m0:00:01\u001b[0m"
        },
        {
          "name": "stdout",
          "output_type": "stream",
          "text": "\r,\u001b[2K   \u001b[91m━━━━━━━━━━━━━━━━━━━━━━━━━━━━━━━━━━━━━━━\u001b[0m\u001b[91m╸\u001b[0m \u001b[32m87.8/88.0 MB\u001b[0m \u001b[31m58.5 MB/s\u001b[0m eta \u001b[36m0:00:01\u001b[0m"
        },
        {
          "name": "stdout",
          "output_type": "stream",
          "text": "\r,\u001b[2K   \u001b[91m━━━━━━━━━━━━━━━━━━━━━━━━━━━━━━━━━━━━━━━\u001b[0m\u001b[91m╸\u001b[0m \u001b[32m87.8/88.0 MB\u001b[0m \u001b[31m58.5 MB/s\u001b[0m eta \u001b[36m0:00:01\u001b[0m"
        },
        {
          "name": "stdout",
          "output_type": "stream",
          "text": "\r,\u001b[2K   \u001b[91m━━━━━━━━━━━━━━━━━━━━━━━━━━━━━━━━━━━━━━━\u001b[0m\u001b[91m╸\u001b[0m \u001b[32m87.8/88.0 MB\u001b[0m \u001b[31m58.5 MB/s\u001b[0m eta \u001b[36m0:00:01\u001b[0m"
        },
        {
          "name": "stdout",
          "output_type": "stream",
          "text": "\r,\u001b[2K   \u001b[91m━━━━━━━━━━━━━━━━━━━━━━━━━━━━━━━━━━━━━━━\u001b[0m\u001b[91m╸\u001b[0m \u001b[32m87.8/88.0 MB\u001b[0m \u001b[31m58.5 MB/s\u001b[0m eta \u001b[36m0:00:01\u001b[0m"
        },
        {
          "name": "stdout",
          "output_type": "stream",
          "text": "\r,\u001b[2K   \u001b[91m━━━━━━━━━━━━━━━━━━━━━━━━━━━━━━━━━━━━━━━\u001b[0m\u001b[91m╸\u001b[0m \u001b[32m87.8/88.0 MB\u001b[0m \u001b[31m58.5 MB/s\u001b[0m eta \u001b[36m0:00:01\u001b[0m"
        },
        {
          "name": "stdout",
          "output_type": "stream",
          "text": "\r,\u001b[2K   \u001b[91m━━━━━━━━━━━━━━━━━━━━━━━━━━━━━━━━━━━━━━━\u001b[0m\u001b[91m╸\u001b[0m \u001b[32m87.8/88.0 MB\u001b[0m \u001b[31m58.5 MB/s\u001b[0m eta \u001b[36m0:00:01\u001b[0m"
        },
        {
          "name": "stdout",
          "output_type": "stream",
          "text": "\r,\u001b[2K   \u001b[91m━━━━━━━━━━━━━━━━━━━━━━━━━━━━━━━━━━━━━━━\u001b[0m\u001b[91m╸\u001b[0m \u001b[32m87.8/88.0 MB\u001b[0m \u001b[31m58.5 MB/s\u001b[0m eta \u001b[36m0:00:01\u001b[0m\r,\u001b[2K   \u001b[90m━━━━━━━━━━━━━━━━━━━━━━━━━━━━━━━━━━━━━━━━\u001b[0m \u001b[32m88.0/88.0 MB\u001b[0m \u001b[31m29.6 MB/s\u001b[0m eta \u001b[36m0:00:00\u001b[0m\n,\u001b[?25hDownloading nvidia_cuda_runtime_cu12-12.8.90-py3-none-manylinux2014_x86_64.manylinux_2_17_x86_64.whl (954 kB)\n,\u001b[?25l   \u001b[90m━━━━━━━━━━━━━━━━━━━━━━━━━━━━━━━━━━━━━━━━\u001b[0m \u001b[32m0.0/954.8 kB\u001b[0m \u001b[31m?\u001b[0m eta \u001b[36m-:--:--\u001b[0m\r,\u001b[2K   \u001b[90m━━━━━━━━━━━━━━━━━━━━━━━━━━━━━━━━━━━━━━━━\u001b[0m \u001b[32m954.8/954.8 kB\u001b[0m \u001b[31m26.1 MB/s\u001b[0m eta \u001b[36m0:00:00\u001b[0m\n,\u001b[?25hDownloading nvidia_cudnn_cu12-9.10.2.21-py3-none-manylinux_2_27_x86_64.whl (706.8 MB)\n,\u001b[?25l   \u001b[90m━━━━━━━━━━━━━━━━━━━━━━━━━━━━━━━━━━━━━━━━\u001b[0m \u001b[32m0.0/706.8 MB\u001b[0m \u001b[31m?\u001b[0m eta \u001b[36m-:--:--\u001b[0m"
        },
        {
          "name": "stdout",
          "output_type": "stream",
          "text": "\r,\u001b[2K   \u001b[91m╸\u001b[0m\u001b[90m━━━━━━━━━━━━━━━━━━━━━━━━━━━━━━━━━━━━━━━\u001b[0m \u001b[32m13.4/706.8 MB\u001b[0m \u001b[31m68.0 MB/s\u001b[0m eta \u001b[36m0:00:11\u001b[0m"
        },
        {
          "name": "stdout",
          "output_type": "stream",
          "text": "\r,\u001b[2K   \u001b[91m━\u001b[0m\u001b[91m╸\u001b[0m\u001b[90m━━━━━━━━━━━━━━━━━━━━━━━━━━━━━━━━━━━━━━\u001b[0m \u001b[32m29.1/706.8 MB\u001b[0m \u001b[31m72.7 MB/s\u001b[0m eta \u001b[36m0:00:10\u001b[0m"
        },
        {
          "name": "stdout",
          "output_type": "stream",
          "text": "\r,\u001b[2K   \u001b[91m━━\u001b[0m\u001b[91m╸\u001b[0m\u001b[90m━━━━━━━━━━━━━━━━━━━━━━━━━━━━━━━━━━━━━\u001b[0m \u001b[32m45.4/706.8 MB\u001b[0m \u001b[31m74.9 MB/s\u001b[0m eta \u001b[36m0:00:09\u001b[0m"
        },
        {
          "name": "stdout",
          "output_type": "stream",
          "text": "\r,\u001b[2K   \u001b[91m━━━\u001b[0m\u001b[90m╺\u001b[0m\u001b[90m━━━━━━━━━━━━━━━━━━━━━━━━━━━━━━━━━━━━\u001b[0m \u001b[32m55.1/706.8 MB\u001b[0m \u001b[31m69.8 MB/s\u001b[0m eta \u001b[36m0:00:10\u001b[0m"
        },
        {
          "name": "stdout",
          "output_type": "stream",
          "text": "\r,\u001b[2K   \u001b[91m━━━\u001b[0m\u001b[91m╸\u001b[0m\u001b[90m━━━━━━━━━━━━━━━━━━━━━━━━━━━━━━━━━━━━\u001b[0m \u001b[32m62.7/706.8 MB\u001b[0m \u001b[31m62.8 MB/s\u001b[0m eta \u001b[36m0:00:11\u001b[0m"
        },
        {
          "name": "stdout",
          "output_type": "stream",
          "text": "\r,\u001b[2K   \u001b[91m━━━━\u001b[0m\u001b[90m╺\u001b[0m\u001b[90m━━━━━━━━━━━━━━━━━━━━━━━━━━━━━━━━━━━\u001b[0m \u001b[32m71.8/706.8 MB\u001b[0m \u001b[31m57.3 MB/s\u001b[0m eta \u001b[36m0:00:12\u001b[0m"
        },
        {
          "name": "stdout",
          "output_type": "stream",
          "text": "\r,\u001b[2K   \u001b[91m━━━━\u001b[0m\u001b[91m╸\u001b[0m\u001b[90m━━━━━━━━━━━━━━━━━━━━━━━━━━━━━━━━━━━\u001b[0m \u001b[32m80.2/706.8 MB\u001b[0m \u001b[31m55.0 MB/s\u001b[0m eta \u001b[36m0:00:12\u001b[0m"
        },
        {
          "name": "stdout",
          "output_type": "stream",
          "text": "\r,\u001b[2K   \u001b[91m━━━━━\u001b[0m\u001b[90m╺\u001b[0m\u001b[90m━━━━━━━━━━━━━━━━━━━━━━━━━━━━━━━━━━\u001b[0m \u001b[32m89.1/706.8 MB\u001b[0m \u001b[31m53.7 MB/s\u001b[0m eta \u001b[36m0:00:12\u001b[0m"
        },
        {
          "name": "stdout",
          "output_type": "stream",
          "text": "\r,\u001b[2K   \u001b[91m━━━━━\u001b[0m\u001b[90m╺\u001b[0m\u001b[90m━━━━━━━━━━━━━━━━━━━━━━━━━━━━━━━━━━\u001b[0m \u001b[32m95.7/706.8 MB\u001b[0m \u001b[31m51.3 MB/s\u001b[0m eta \u001b[36m0:00:12\u001b[0m"
        },
        {
          "name": "stdout",
          "output_type": "stream",
          "text": "\r,\u001b[2K   \u001b[91m━━━━━\u001b[0m\u001b[91m╸\u001b[0m\u001b[90m━━━━━━━━━━━━━━━━━━━━━━━━━━━━━━━━━━\u001b[0m \u001b[32m104.3/706.8 MB\u001b[0m \u001b[31m50.5 MB/s\u001b[0m eta \u001b[36m0:00:12\u001b[0m"
        },
        {
          "name": "stdout",
          "output_type": "stream",
          "text": "\r,\u001b[2K   \u001b[91m━━━━━━\u001b[0m\u001b[90m╺\u001b[0m\u001b[90m━━━━━━━━━━━━━━━━━━━━━━━━━━━━━━━━━\u001b[0m \u001b[32m114.0/706.8 MB\u001b[0m \u001b[31m50.2 MB/s\u001b[0m eta \u001b[36m0:00:12\u001b[0m"
        },
        {
          "name": "stdout",
          "output_type": "stream",
          "text": "\r,\u001b[2K   \u001b[91m━━━━━━━\u001b[0m\u001b[90m╺\u001b[0m\u001b[90m━━━━━━━━━━━━━━━━━━━━━━━━━━━━━━━━\u001b[0m \u001b[32m124.8/706.8 MB\u001b[0m \u001b[31m50.3 MB/s\u001b[0m eta \u001b[36m0:00:12\u001b[0m"
        },
        {
          "name": "stdout",
          "output_type": "stream",
          "text": "\r,\u001b[2K   \u001b[91m━━━━━━━\u001b[0m\u001b[91m╸\u001b[0m\u001b[90m━━━━━━━━━━━━━━━━━━━━━━━━━━━━━━━━\u001b[0m \u001b[32m135.0/706.8 MB\u001b[0m \u001b[31m50.3 MB/s\u001b[0m eta \u001b[36m0:00:12\u001b[0m"
        },
        {
          "name": "stdout",
          "output_type": "stream",
          "text": "\r,\u001b[2K   \u001b[91m━━━━━━━━\u001b[0m\u001b[90m╺\u001b[0m\u001b[90m━━━━━━━━━━━━━━━━━━━━━━━━━━━━━━━\u001b[0m \u001b[32m145.5/706.8 MB\u001b[0m \u001b[31m50.4 MB/s\u001b[0m eta \u001b[36m0:00:12\u001b[0m"
        },
        {
          "name": "stdout",
          "output_type": "stream",
          "text": "\r,\u001b[2K   \u001b[91m━━━━━━━━\u001b[0m\u001b[91m╸\u001b[0m\u001b[90m━━━━━━━━━━━━━━━━━━━━━━━━━━━━━━━\u001b[0m \u001b[32m157.5/706.8 MB\u001b[0m \u001b[31m50.9 MB/s\u001b[0m eta \u001b[36m0:00:11\u001b[0m\r,\u001b[2K   \u001b[91m━━━━━━━━━\u001b[0m\u001b[91m╸\u001b[0m\u001b[90m━━━━━━━━━━━━━━━━━━━━━━━━━━━━━━\u001b[0m \u001b[32m169.9/706.8 MB\u001b[0m \u001b[31m51.6 MB/s\u001b[0m eta \u001b[36m0:00:11\u001b[0m"
        },
        {
          "name": "stdout",
          "output_type": "stream",
          "text": "\r,\u001b[2K   \u001b[91m━━━━━━━━━━\u001b[0m\u001b[90m╺\u001b[0m\u001b[90m━━━━━━━━━━━━━━━━━━━━━━━━━━━━━\u001b[0m \u001b[32m182.5/706.8 MB\u001b[0m \u001b[31m52.2 MB/s\u001b[0m eta \u001b[36m0:00:11\u001b[0m"
        },
        {
          "name": "stdout",
          "output_type": "stream",
          "text": "\r,\u001b[2K   \u001b[91m━━━━━━━━━━━\u001b[0m\u001b[90m╺\u001b[0m\u001b[90m━━━━━━━━━━━━━━━━━━━━━━━━━━━━\u001b[0m \u001b[32m195.8/706.8 MB\u001b[0m \u001b[31m52.8 MB/s\u001b[0m eta \u001b[36m0:00:10\u001b[0m"
        },
        {
          "name": "stdout",
          "output_type": "stream",
          "text": "\r,\u001b[2K   \u001b[91m━━━━━━━━━━━\u001b[0m\u001b[91m╸\u001b[0m\u001b[90m━━━━━━━━━━━━━━━━━━━━━━━━━━━━\u001b[0m \u001b[32m208.9/706.8 MB\u001b[0m \u001b[31m53.4 MB/s\u001b[0m eta \u001b[36m0:00:10\u001b[0m"
        },
        {
          "name": "stdout",
          "output_type": "stream",
          "text": "\r,\u001b[2K   \u001b[91m━━━━━━━━━━━━\u001b[0m\u001b[91m╸\u001b[0m\u001b[90m━━━━━━━━━━━━━━━━━━━━━━━━━━━\u001b[0m \u001b[32m222.8/706.8 MB\u001b[0m \u001b[31m54.1 MB/s\u001b[0m eta \u001b[36m0:00:09\u001b[0m"
        },
        {
          "name": "stdout",
          "output_type": "stream",
          "text": "\r,\u001b[2K   \u001b[91m━━━━━━━━━━━━━\u001b[0m\u001b[90m╺\u001b[0m\u001b[90m━━━━━━━━━━━━━━━━━━━━━━━━━━\u001b[0m \u001b[32m236.5/706.8 MB\u001b[0m \u001b[31m54.7 MB/s\u001b[0m eta \u001b[36m0:00:09\u001b[0m"
        },
        {
          "name": "stdout",
          "output_type": "stream",
          "text": "\r,\u001b[2K   \u001b[91m━━━━━━━━━━━━━━\u001b[0m\u001b[90m╺\u001b[0m\u001b[90m━━━━━━━━━━━━━━━━━━━━━━━━━\u001b[0m \u001b[32m249.6/706.8 MB\u001b[0m \u001b[31m55.2 MB/s\u001b[0m eta \u001b[36m0:00:09\u001b[0m"
        },
        {
          "name": "stdout",
          "output_type": "stream",
          "text": "\r,\u001b[2K   \u001b[91m━━━━━━━━━━━━━━\u001b[0m\u001b[91m╸\u001b[0m\u001b[90m━━━━━━━━━━━━━━━━━━━━━━━━━\u001b[0m \u001b[32m264.0/706.8 MB\u001b[0m \u001b[31m55.8 MB/s\u001b[0m eta \u001b[36m0:00:08\u001b[0m"
        },
        {
          "name": "stdout",
          "output_type": "stream",
          "text": "\r,\u001b[2K   \u001b[91m━━━━━━━━━━━━━━━\u001b[0m\u001b[90m╺\u001b[0m\u001b[90m━━━━━━━━━━━━━━━━━━━━━━━━\u001b[0m \u001b[32m270.8/706.8 MB\u001b[0m \u001b[31m55.0 MB/s\u001b[0m eta \u001b[36m0:00:08\u001b[0m"
        },
        {
          "name": "stdout",
          "output_type": "stream",
          "text": "\r,\u001b[2K   \u001b[91m━━━━━━━━━━━━━━━\u001b[0m\u001b[91m╸\u001b[0m\u001b[90m━━━━━━━━━━━━━━━━━━━━━━━━\u001b[0m \u001b[32m280.2/706.8 MB\u001b[0m \u001b[31m54.2 MB/s\u001b[0m eta \u001b[36m0:00:08\u001b[0m\r,\u001b[2K   \u001b[91m━━━━━━━━━━━━━━━━\u001b[0m\u001b[90m╺\u001b[0m\u001b[90m━━━━━━━━━━━━━━━━━━━━━━━\u001b[0m \u001b[32m287.0/706.8 MB\u001b[0m \u001b[31m52.4 MB/s\u001b[0m eta \u001b[36m0:00:09\u001b[0m"
        },
        {
          "name": "stdout",
          "output_type": "stream",
          "text": "\r,\u001b[2K   \u001b[91m━━━━━━━━━━━━━━━━\u001b[0m\u001b[91m╸\u001b[0m\u001b[90m━━━━━━━━━━━━━━━━━━━━━━━\u001b[0m \u001b[32m294.4/706.8 MB\u001b[0m \u001b[31m51.2 MB/s\u001b[0m eta \u001b[36m0:00:09\u001b[0m"
        },
        {
          "name": "stdout",
          "output_type": "stream",
          "text": "\r,\u001b[2K   \u001b[91m━━━━━━━━━━━━━━━━━\u001b[0m\u001b[90m╺\u001b[0m\u001b[90m━━━━━━━━━━━━━━━━━━━━━━\u001b[0m \u001b[32m303.0/706.8 MB\u001b[0m \u001b[31m50.2 MB/s\u001b[0m eta \u001b[36m0:00:09\u001b[0m"
        },
        {
          "name": "stdout",
          "output_type": "stream",
          "text": "\r,\u001b[2K   \u001b[91m━━━━━━━━━━━━━━━━━━\u001b[0m\u001b[90m╺\u001b[0m\u001b[90m━━━━━━━━━━━━━━━━━━━━━\u001b[0m \u001b[32m321.4/706.8 MB\u001b[0m \u001b[31m52.3 MB/s\u001b[0m eta \u001b[36m0:00:08\u001b[0m"
        },
        {
          "name": "stdout",
          "output_type": "stream",
          "text": "\r,\u001b[2K   \u001b[91m━━━━━━━━━━━━━━━━━━\u001b[0m\u001b[91m╸\u001b[0m\u001b[90m━━━━━━━━━━━━━━━━━━━━━\u001b[0m \u001b[32m335.3/706.8 MB\u001b[0m \u001b[31m53.3 MB/s\u001b[0m eta \u001b[36m0:00:07\u001b[0m"
        },
        {
          "name": "stdout",
          "output_type": "stream",
          "text": "\r,\u001b[2K   \u001b[91m━━━━━━━━━━━━━━━━━━━\u001b[0m\u001b[91m╸\u001b[0m\u001b[90m━━━━━━━━━━━━━━━━━━━━\u001b[0m \u001b[32m346.8/706.8 MB\u001b[0m \u001b[31m53.6 MB/s\u001b[0m eta \u001b[36m0:00:07\u001b[0m"
        },
        {
          "name": "stdout",
          "output_type": "stream",
          "text": "\r,\u001b[2K   \u001b[91m━━━━━━━━━━━━━━━━━━━━\u001b[0m\u001b[90m╺\u001b[0m\u001b[90m━━━━━━━━━━━━━━━━━━━\u001b[0m \u001b[32m359.9/706.8 MB\u001b[0m \u001b[31m56.7 MB/s\u001b[0m eta \u001b[36m0:00:07\u001b[0m"
        },
        {
          "name": "stdout",
          "output_type": "stream",
          "text": "\r,\u001b[2K   \u001b[91m━━━━━━━━━━━━━━━━━━━━━\u001b[0m\u001b[90m╺\u001b[0m\u001b[90m━━━━━━━━━━━━━━━━━━\u001b[0m \u001b[32m373.8/706.8 MB\u001b[0m \u001b[31m57.4 MB/s\u001b[0m eta \u001b[36m0:00:06\u001b[0m"
        },
        {
          "name": "stdout",
          "output_type": "stream",
          "text": "\r,\u001b[2K   \u001b[91m━━━━━━━━━━━━━━━━━━━━━\u001b[0m\u001b[91m╸\u001b[0m\u001b[90m━━━━━━━━━━━━━━━━━━\u001b[0m \u001b[32m384.3/706.8 MB\u001b[0m \u001b[31m57.5 MB/s\u001b[0m eta \u001b[36m0:00:06\u001b[0m"
        },
        {
          "name": "stdout",
          "output_type": "stream",
          "text": "\r,\u001b[2K   \u001b[91m━━━━━━━━━━━━━━━━━━━━━━\u001b[0m\u001b[90m╺\u001b[0m\u001b[90m━━━━━━━━━━━━━━━━━\u001b[0m \u001b[32m394.0/706.8 MB\u001b[0m \u001b[31m57.2 MB/s\u001b[0m eta \u001b[36m0:00:06\u001b[0m"
        },
        {
          "name": "stdout",
          "output_type": "stream",
          "text": "\r,\u001b[2K   \u001b[91m━━━━━━━━━━━━━━━━━━━━━━\u001b[0m\u001b[91m╸\u001b[0m\u001b[90m━━━━━━━━━━━━━━━━━\u001b[0m \u001b[32m404.2/706.8 MB\u001b[0m \u001b[31m57.4 MB/s\u001b[0m eta \u001b[36m0:00:06\u001b[0m"
        },
        {
          "name": "stdout",
          "output_type": "stream",
          "text": "\r,\u001b[2K   \u001b[91m━━━━━━━━━━━━━━━━━━━━━━━\u001b[0m\u001b[91m╸\u001b[0m\u001b[90m━━━━━━━━━━━━━━━━\u001b[0m \u001b[32m415.8/706.8 MB\u001b[0m \u001b[31m57.3 MB/s\u001b[0m eta \u001b[36m0:00:06\u001b[0m"
        },
        {
          "name": "stdout",
          "output_type": "stream",
          "text": "\r,\u001b[2K   \u001b[91m━━━━━━━━━━━━━━━━━━━━━━━━\u001b[0m\u001b[90m╺\u001b[0m\u001b[90m━━━━━━━━━━━━━━━\u001b[0m \u001b[32m426.2/706.8 MB\u001b[0m \u001b[31m56.9 MB/s\u001b[0m eta \u001b[36m0:00:05\u001b[0m\r,\u001b[2K   \u001b[91m━━━━━━━━━━━━━━━━━━━━━━━━\u001b[0m\u001b[91m╸\u001b[0m\u001b[90m━━━━━━━━━━━━━━━\u001b[0m \u001b[32m437.5/706.8 MB\u001b[0m \u001b[31m56.7 MB/s\u001b[0m eta \u001b[36m0:00:05\u001b[0m"
        },
        {
          "name": "stdout",
          "output_type": "stream",
          "text": "\r,\u001b[2K   \u001b[91m━━━━━━━━━━━━━━━━━━━━━━━━━\u001b[0m\u001b[90m╺\u001b[0m\u001b[90m━━━━━━━━━━━━━━\u001b[0m \u001b[32m447.2/706.8 MB\u001b[0m \u001b[31m56.1 MB/s\u001b[0m eta \u001b[36m0:00:05\u001b[0m"
        },
        {
          "name": "stdout",
          "output_type": "stream",
          "text": "\r,\u001b[2K   \u001b[91m━━━━━━━━━━━━━━━━━━━━━━━━━\u001b[0m\u001b[91m╸\u001b[0m\u001b[90m━━━━━━━━━━━━━━\u001b[0m \u001b[32m458.5/706.8 MB\u001b[0m \u001b[31m55.7 MB/s\u001b[0m eta \u001b[36m0:00:05\u001b[0m"
        },
        {
          "name": "stdout",
          "output_type": "stream",
          "text": "\r,\u001b[2K   \u001b[91m━━━━━━━━━━━━━━━━━━━━━━━━━━\u001b[0m\u001b[91m╸\u001b[0m\u001b[90m━━━━━━━━━━━━━\u001b[0m \u001b[32m469.5/706.8 MB\u001b[0m \u001b[31m55.5 MB/s\u001b[0m eta \u001b[36m0:00:05\u001b[0m"
        },
        {
          "name": "stdout",
          "output_type": "stream",
          "text": "\r,\u001b[2K   \u001b[91m━━━━━━━━━━━━━━━━━━━━━━━━━━━\u001b[0m\u001b[90m╺\u001b[0m\u001b[90m━━━━━━━━━━━━\u001b[0m \u001b[32m479.5/706.8 MB\u001b[0m \u001b[31m54.7 MB/s\u001b[0m eta \u001b[36m0:00:05\u001b[0m\r,\u001b[2K   \u001b[91m━━━━━━━━━━━━━━━━━━━━━━━━━━━\u001b[0m\u001b[91m╸\u001b[0m\u001b[90m━━━━━━━━━━━━\u001b[0m \u001b[32m488.6/706.8 MB\u001b[0m \u001b[31m54.4 MB/s\u001b[0m eta \u001b[36m0:00:05\u001b[0m"
        },
        {
          "name": "stdout",
          "output_type": "stream",
          "text": "\r,\u001b[2K   \u001b[91m━━━━━━━━━━━━━━━━━━━━━━━━━━━━\u001b[0m\u001b[90m╺\u001b[0m\u001b[90m━━━━━━━━━━━\u001b[0m \u001b[32m497.8/706.8 MB\u001b[0m \u001b[31m53.0 MB/s\u001b[0m eta \u001b[36m0:00:04\u001b[0m"
        },
        {
          "name": "stdout",
          "output_type": "stream",
          "text": "\r,\u001b[2K   \u001b[91m━━━━━━━━━━━━━━━━━━━━━━━━━━━━\u001b[0m\u001b[91m╸\u001b[0m\u001b[90m━━━━━━━━━━━\u001b[0m \u001b[32m507.8/706.8 MB\u001b[0m \u001b[31m52.5 MB/s\u001b[0m eta \u001b[36m0:00:04\u001b[0m\r,\u001b[2K   \u001b[91m━━━━━━━━━━━━━━━━━━━━━━━━━━━━━\u001b[0m\u001b[90m╺\u001b[0m\u001b[90m━━━━━━━━━━\u001b[0m \u001b[32m516.2/706.8 MB\u001b[0m \u001b[31m51.7 MB/s\u001b[0m eta \u001b[36m0:00:04\u001b[0m"
        },
        {
          "name": "stdout",
          "output_type": "stream",
          "text": "\r,\u001b[2K   \u001b[91m━━━━━━━━━━━━━━━━━━━━━━━━━━━━━\u001b[0m\u001b[91m╸\u001b[0m\u001b[90m━━━━━━━━━━\u001b[0m \u001b[32m522.7/706.8 MB\u001b[0m \u001b[31m50.7 MB/s\u001b[0m eta \u001b[36m0:00:04\u001b[0m"
        },
        {
          "name": "stdout",
          "output_type": "stream",
          "text": "\r,\u001b[2K   \u001b[91m━━━━━━━━━━━━━━━━━━━━━━━━━━━━━━\u001b[0m\u001b[90m╺\u001b[0m\u001b[90m━━━━━━━━━\u001b[0m \u001b[32m536.3/706.8 MB\u001b[0m \u001b[31m51.4 MB/s\u001b[0m eta \u001b[36m0:00:04\u001b[0m"
        },
        {
          "name": "stdout",
          "output_type": "stream",
          "text": "\r,\u001b[2K   \u001b[91m━━━━━━━━━━━━━━━━━━━━━━━━━━━━━━\u001b[0m\u001b[91m╸\u001b[0m\u001b[90m━━━━━━━━━\u001b[0m \u001b[32m546.8/706.8 MB\u001b[0m \u001b[31m52.3 MB/s\u001b[0m eta \u001b[36m0:00:04\u001b[0m"
        },
        {
          "name": "stdout",
          "output_type": "stream",
          "text": "\r,\u001b[2K   \u001b[91m━━━━━━━━━━━━━━━━━━━━━━━━━━━━━━━\u001b[0m\u001b[91m╸\u001b[0m\u001b[90m━━━━━━━━\u001b[0m \u001b[32m558.4/706.8 MB\u001b[0m \u001b[31m53.7 MB/s\u001b[0m eta \u001b[36m0:00:03\u001b[0m"
        },
        {
          "name": "stdout",
          "output_type": "stream",
          "text": "\r,\u001b[2K   \u001b[91m━━━━━━━━━━━━━━━━━━━━━━━━━━━━━━━━\u001b[0m\u001b[90m╺\u001b[0m\u001b[90m━━━━━━━\u001b[0m \u001b[32m570.4/706.8 MB\u001b[0m \u001b[31m53.8 MB/s\u001b[0m eta \u001b[36m0:00:03\u001b[0m"
        },
        {
          "name": "stdout",
          "output_type": "stream",
          "text": "\r,\u001b[2K   \u001b[91m━━━━━━━━━━━━━━━━━━━━━━━━━━━━━━━━━\u001b[0m\u001b[90m╺\u001b[0m\u001b[90m━━━━━━\u001b[0m \u001b[32m583.3/706.8 MB\u001b[0m \u001b[31m53.2 MB/s\u001b[0m eta \u001b[36m0:00:03\u001b[0m"
        },
        {
          "name": "stdout",
          "output_type": "stream",
          "text": "\r,\u001b[2K   \u001b[91m━━━━━━━━━━━━━━━━━━━━━━━━━━━━━━━━━\u001b[0m\u001b[91m╸\u001b[0m\u001b[90m━━━━━━\u001b[0m \u001b[32m595.9/706.8 MB\u001b[0m \u001b[31m53.0 MB/s\u001b[0m eta \u001b[36m0:00:03\u001b[0m"
        },
        {
          "name": "stdout",
          "output_type": "stream",
          "text": "\r,\u001b[2K   \u001b[91m━━━━━━━━━━━━━━━━━━━━━━━━━━━━━━━━━━\u001b[0m\u001b[90m╺\u001b[0m\u001b[90m━━━━━\u001b[0m \u001b[32m609.5/706.8 MB\u001b[0m \u001b[31m53.4 MB/s\u001b[0m eta \u001b[36m0:00:02\u001b[0m"
        },
        {
          "name": "stdout",
          "output_type": "stream",
          "text": "\r,\u001b[2K   \u001b[91m━━━━━━━━━━━━━━━━━━━━━━━━━━━━━━━━━━━\u001b[0m\u001b[90m╺\u001b[0m\u001b[90m━━━━\u001b[0m \u001b[32m620.8/706.8 MB\u001b[0m \u001b[31m53.0 MB/s\u001b[0m eta \u001b[36m0:00:02\u001b[0m"
        },
        {
          "name": "stdout",
          "output_type": "stream",
          "text": "\r,\u001b[2K   \u001b[91m━━━━━━━━━━━━━━━━━━━━━━━━━━━━━━━━━━━\u001b[0m\u001b[91m╸\u001b[0m\u001b[90m━━━━\u001b[0m \u001b[32m632.0/706.8 MB\u001b[0m \u001b[31m52.7 MB/s\u001b[0m eta \u001b[36m0:00:02\u001b[0m"
        },
        {
          "name": "stdout",
          "output_type": "stream",
          "text": "\r,\u001b[2K   \u001b[91m━━━━━━━━━━━━━━━━━━━━━━━━━━━━━━━━━━━━\u001b[0m\u001b[90m╺\u001b[0m\u001b[90m━━━\u001b[0m \u001b[32m642.5/706.8 MB\u001b[0m \u001b[31m52.5 MB/s\u001b[0m eta \u001b[36m0:00:02\u001b[0m"
        },
        {
          "name": "stdout",
          "output_type": "stream",
          "text": "\r,\u001b[2K   \u001b[91m━━━━━━━━━━━━━━━━━━━━━━━━━━━━━━━━━━━━\u001b[0m\u001b[91m╸\u001b[0m\u001b[90m━━━\u001b[0m \u001b[32m653.5/706.8 MB\u001b[0m \u001b[31m52.7 MB/s\u001b[0m eta \u001b[36m0:00:02\u001b[0m"
        },
        {
          "name": "stdout",
          "output_type": "stream",
          "text": "\r,\u001b[2K   \u001b[91m━━━━━━━━━━━━━━━━━━━━━━━━━━━━━━━━━━━━━\u001b[0m\u001b[91m╸\u001b[0m\u001b[90m━━\u001b[0m \u001b[32m663.2/706.8 MB\u001b[0m \u001b[31m52.5 MB/s\u001b[0m eta \u001b[36m0:00:01\u001b[0m"
        },
        {
          "name": "stdout",
          "output_type": "stream",
          "text": "\r,\u001b[2K   \u001b[91m━━━━━━━━━━━━━━━━━━━━━━━━━━━━━━━━━━━━━━\u001b[0m\u001b[90m╺\u001b[0m\u001b[90m━\u001b[0m \u001b[32m674.2/706.8 MB\u001b[0m \u001b[31m52.5 MB/s\u001b[0m eta \u001b[36m0:00:01\u001b[0m"
        },
        {
          "name": "stdout",
          "output_type": "stream",
          "text": "\r,\u001b[2K   \u001b[91m━━━━━━━━━━━━━━━━━━━━━━━━━━━━━━━━━━━━━━\u001b[0m\u001b[91m╸\u001b[0m\u001b[90m━\u001b[0m \u001b[32m684.5/706.8 MB\u001b[0m \u001b[31m52.3 MB/s\u001b[0m eta \u001b[36m0:00:01\u001b[0m"
        },
        {
          "name": "stdout",
          "output_type": "stream",
          "text": "\r,\u001b[2K   \u001b[91m━━━━━━━━━━━━━━━━━━━━━━━━━━━━━━━━━━━━━━━\u001b[0m\u001b[90m╺\u001b[0m \u001b[32m693.4/706.8 MB\u001b[0m \u001b[31m52.4 MB/s\u001b[0m eta \u001b[36m0:00:01\u001b[0m"
        },
        {
          "name": "stdout",
          "output_type": "stream",
          "text": "\r,\u001b[2K   \u001b[91m━━━━━━━━━━━━━━━━━━━━━━━━━━━━━━━━━━━━━━━\u001b[0m\u001b[91m╸\u001b[0m \u001b[32m699.9/706.8 MB\u001b[0m \u001b[31m51.6 MB/s\u001b[0m eta \u001b[36m0:00:01\u001b[0m"
        },
        {
          "name": "stdout",
          "output_type": "stream",
          "text": "\r,\u001b[2K   \u001b[91m━━━━━━━━━━━━━━━━━━━━━━━━━━━━━━━━━━━━━━━\u001b[0m\u001b[91m╸\u001b[0m \u001b[32m706.7/706.8 MB\u001b[0m \u001b[31m51.1 MB/s\u001b[0m eta \u001b[36m0:00:01\u001b[0m"
        },
        {
          "name": "stdout",
          "output_type": "stream",
          "text": "\r,\u001b[2K   \u001b[91m━━━━━━━━━━━━━━━━━━━━━━━━━━━━━━━━━━━━━━━\u001b[0m\u001b[91m╸\u001b[0m \u001b[32m706.7/706.8 MB\u001b[0m \u001b[31m51.1 MB/s\u001b[0m eta \u001b[36m0:00:01\u001b[0m"
        },
        {
          "name": "stdout",
          "output_type": "stream",
          "text": "\r,\u001b[2K   \u001b[91m━━━━━━━━━━━━━━━━━━━━━━━━━━━━━━━━━━━━━━━\u001b[0m\u001b[91m╸\u001b[0m \u001b[32m706.7/706.8 MB\u001b[0m \u001b[31m51.1 MB/s\u001b[0m eta \u001b[36m0:00:01\u001b[0m"
        },
        {
          "name": "stdout",
          "output_type": "stream",
          "text": "\r,\u001b[2K   \u001b[91m━━━━━━━━━━━━━━━━━━━━━━━━━━━━━━━━━━━━━━━\u001b[0m\u001b[91m╸\u001b[0m \u001b[32m706.7/706.8 MB\u001b[0m \u001b[31m51.1 MB/s\u001b[0m eta \u001b[36m0:00:01\u001b[0m"
        },
        {
          "name": "stdout",
          "output_type": "stream",
          "text": "\r,\u001b[2K   \u001b[91m━━━━━━━━━━━━━━━━━━━━━━━━━━━━━━━━━━━━━━━\u001b[0m\u001b[91m╸\u001b[0m \u001b[32m706.7/706.8 MB\u001b[0m \u001b[31m51.1 MB/s\u001b[0m eta \u001b[36m0:00:01\u001b[0m"
        },
        {
          "name": "stdout",
          "output_type": "stream",
          "text": "\r,\u001b[2K   \u001b[91m━━━━━━━━━━━━━━━━━━━━━━━━━━━━━━━━━━━━━━━\u001b[0m\u001b[91m╸\u001b[0m \u001b[32m706.7/706.8 MB\u001b[0m \u001b[31m51.1 MB/s\u001b[0m eta \u001b[36m0:00:01\u001b[0m"
        },
        {
          "name": "stdout",
          "output_type": "stream",
          "text": "\r,\u001b[2K   \u001b[91m━━━━━━━━━━━━━━━━━━━━━━━━━━━━━━━━━━━━━━━\u001b[0m\u001b[91m╸\u001b[0m \u001b[32m706.7/706.8 MB\u001b[0m \u001b[31m51.1 MB/s\u001b[0m eta \u001b[36m0:00:01\u001b[0m"
        },
        {
          "name": "stdout",
          "output_type": "stream",
          "text": "\r,\u001b[2K   \u001b[91m━━━━━━━━━━━━━━━━━━━━━━━━━━━━━━━━━━━━━━━\u001b[0m\u001b[91m╸\u001b[0m \u001b[32m706.7/706.8 MB\u001b[0m \u001b[31m51.1 MB/s\u001b[0m eta \u001b[36m0:00:01\u001b[0m"
        },
        {
          "name": "stdout",
          "output_type": "stream",
          "text": "\r,\u001b[2K   \u001b[91m━━━━━━━━━━━━━━━━━━━━━━━━━━━━━━━━━━━━━━━\u001b[0m\u001b[91m╸\u001b[0m \u001b[32m706.7/706.8 MB\u001b[0m \u001b[31m51.1 MB/s\u001b[0m eta \u001b[36m0:00:01\u001b[0m"
        },
        {
          "name": "stdout",
          "output_type": "stream",
          "text": "\r,\u001b[2K   \u001b[91m━━━━━━━━━━━━━━━━━━━━━━━━━━━━━━━━━━━━━━━\u001b[0m\u001b[91m╸\u001b[0m \u001b[32m706.7/706.8 MB\u001b[0m \u001b[31m51.1 MB/s\u001b[0m eta \u001b[36m0:00:01\u001b[0m"
        },
        {
          "name": "stdout",
          "output_type": "stream",
          "text": "\r,\u001b[2K   \u001b[91m━━━━━━━━━━━━━━━━━━━━━━━━━━━━━━━━━━━━━━━\u001b[0m\u001b[91m╸\u001b[0m \u001b[32m706.7/706.8 MB\u001b[0m \u001b[31m51.1 MB/s\u001b[0m eta \u001b[36m0:00:01\u001b[0m"
        },
        {
          "name": "stdout",
          "output_type": "stream",
          "text": "\r,\u001b[2K   \u001b[91m━━━━━━━━━━━━━━━━━━━━━━━━━━━━━━━━━━━━━━━\u001b[0m\u001b[91m╸\u001b[0m \u001b[32m706.7/706.8 MB\u001b[0m \u001b[31m51.1 MB/s\u001b[0m eta \u001b[36m0:00:01\u001b[0m"
        },
        {
          "name": "stdout",
          "output_type": "stream",
          "text": "\r,\u001b[2K   \u001b[91m━━━━━━━━━━━━━━━━━━━━━━━━━━━━━━━━━━━━━━━\u001b[0m\u001b[91m╸\u001b[0m \u001b[32m706.7/706.8 MB\u001b[0m \u001b[31m51.1 MB/s\u001b[0m eta \u001b[36m0:00:01\u001b[0m"
        },
        {
          "name": "stdout",
          "output_type": "stream",
          "text": "\r,\u001b[2K   \u001b[91m━━━━━━━━━━━━━━━━━━━━━━━━━━━━━━━━━━━━━━━\u001b[0m\u001b[91m╸\u001b[0m \u001b[32m706.7/706.8 MB\u001b[0m \u001b[31m51.1 MB/s\u001b[0m eta \u001b[36m0:00:01\u001b[0m"
        },
        {
          "name": "stdout",
          "output_type": "stream",
          "text": "\r,\u001b[2K   \u001b[91m━━━━━━━━━━━━━━━━━━━━━━━━━━━━━━━━━━━━━━━\u001b[0m\u001b[91m╸\u001b[0m \u001b[32m706.7/706.8 MB\u001b[0m \u001b[31m51.1 MB/s\u001b[0m eta \u001b[36m0:00:01\u001b[0m"
        },
        {
          "name": "stdout",
          "output_type": "stream",
          "text": "\r,\u001b[2K   \u001b[91m━━━━━━━━━━━━━━━━━━━━━━━━━━━━━━━━━━━━━━━\u001b[0m\u001b[91m╸\u001b[0m \u001b[32m706.7/706.8 MB\u001b[0m \u001b[31m51.1 MB/s\u001b[0m eta \u001b[36m0:00:01\u001b[0m"
        },
        {
          "name": "stdout",
          "output_type": "stream",
          "text": "\r,\u001b[2K   \u001b[91m━━━━━━━━━━━━━━━━━━━━━━━━━━━━━━━━━━━━━━━\u001b[0m\u001b[91m╸\u001b[0m \u001b[32m706.7/706.8 MB\u001b[0m \u001b[31m51.1 MB/s\u001b[0m eta \u001b[36m0:00:01\u001b[0m"
        },
        {
          "name": "stdout",
          "output_type": "stream",
          "text": "\r,\u001b[2K   \u001b[91m━━━━━━━━━━━━━━━━━━━━━━━━━━━━━━━━━━━━━━━\u001b[0m\u001b[91m╸\u001b[0m \u001b[32m706.7/706.8 MB\u001b[0m \u001b[31m51.1 MB/s\u001b[0m eta \u001b[36m0:00:01\u001b[0m"
        },
        {
          "name": "stdout",
          "output_type": "stream",
          "text": "\r,\u001b[2K   \u001b[91m━━━━━━━━━━━━━━━━━━━━━━━━━━━━━━━━━━━━━━━\u001b[0m\u001b[91m╸\u001b[0m \u001b[32m706.7/706.8 MB\u001b[0m \u001b[31m51.1 MB/s\u001b[0m eta \u001b[36m0:00:01\u001b[0m"
        },
        {
          "name": "stdout",
          "output_type": "stream",
          "text": "\r,\u001b[2K   \u001b[91m━━━━━━━━━━━━━━━━━━━━━━━━━━━━━━━━━━━━━━━\u001b[0m\u001b[91m╸\u001b[0m \u001b[32m706.7/706.8 MB\u001b[0m \u001b[31m51.1 MB/s\u001b[0m eta \u001b[36m0:00:01\u001b[0m"
        },
        {
          "name": "stdout",
          "output_type": "stream",
          "text": "\r,\u001b[2K   \u001b[91m━━━━━━━━━━━━━━━━━━━━━━━━━━━━━━━━━━━━━━━\u001b[0m\u001b[91m╸\u001b[0m \u001b[32m706.7/706.8 MB\u001b[0m \u001b[31m51.1 MB/s\u001b[0m eta \u001b[36m0:00:01\u001b[0m"
        },
        {
          "name": "stdout",
          "output_type": "stream",
          "text": "\r,\u001b[2K   \u001b[91m━━━━━━━━━━━━━━━━━━━━━━━━━━━━━━━━━━━━━━━\u001b[0m\u001b[91m╸\u001b[0m \u001b[32m706.7/706.8 MB\u001b[0m \u001b[31m51.1 MB/s\u001b[0m eta \u001b[36m0:00:01\u001b[0m"
        },
        {
          "name": "stdout",
          "output_type": "stream",
          "text": "\r,\u001b[2K   \u001b[91m━━━━━━━━━━━━━━━━━━━━━━━━━━━━━━━━━━━━━━━\u001b[0m\u001b[91m╸\u001b[0m \u001b[32m706.7/706.8 MB\u001b[0m \u001b[31m51.1 MB/s\u001b[0m eta \u001b[36m0:00:01\u001b[0m"
        },
        {
          "name": "stdout",
          "output_type": "stream",
          "text": "\r,\u001b[2K   \u001b[91m━━━━━━━━━━━━━━━━━━━━━━━━━━━━━━━━━━━━━━━\u001b[0m\u001b[91m╸\u001b[0m \u001b[32m706.7/706.8 MB\u001b[0m \u001b[31m51.1 MB/s\u001b[0m eta \u001b[36m0:00:01\u001b[0m"
        },
        {
          "name": "stdout",
          "output_type": "stream",
          "text": "\r,\u001b[2K   \u001b[91m━━━━━━━━━━━━━━━━━━━━━━━━━━━━━━━━━━━━━━━\u001b[0m\u001b[91m╸\u001b[0m \u001b[32m706.7/706.8 MB\u001b[0m \u001b[31m51.1 MB/s\u001b[0m eta \u001b[36m0:00:01\u001b[0m"
        },
        {
          "name": "stdout",
          "output_type": "stream",
          "text": "\r,\u001b[2K   \u001b[91m━━━━━━━━━━━━━━━━━━━━━━━━━━━━━━━━━━━━━━━\u001b[0m\u001b[91m╸\u001b[0m \u001b[32m706.7/706.8 MB\u001b[0m \u001b[31m51.1 MB/s\u001b[0m eta \u001b[36m0:00:01\u001b[0m"
        },
        {
          "name": "stdout",
          "output_type": "stream",
          "text": "\r,\u001b[2K   \u001b[91m━━━━━━━━━━━━━━━━━━━━━━━━━━━━━━━━━━━━━━━\u001b[0m\u001b[91m╸\u001b[0m \u001b[32m706.7/706.8 MB\u001b[0m \u001b[31m51.1 MB/s\u001b[0m eta \u001b[36m0:00:01\u001b[0m"
        },
        {
          "name": "stdout",
          "output_type": "stream",
          "text": "\r,\u001b[2K   \u001b[91m━━━━━━━━━━━━━━━━━━━━━━━━━━━━━━━━━━━━━━━\u001b[0m\u001b[91m╸\u001b[0m \u001b[32m706.7/706.8 MB\u001b[0m \u001b[31m51.1 MB/s\u001b[0m eta \u001b[36m0:00:01\u001b[0m"
        },
        {
          "name": "stdout",
          "output_type": "stream",
          "text": "\r,\u001b[2K   \u001b[91m━━━━━━━━━━━━━━━━━━━━━━━━━━━━━━━━━━━━━━━\u001b[0m\u001b[91m╸\u001b[0m \u001b[32m706.7/706.8 MB\u001b[0m \u001b[31m51.1 MB/s\u001b[0m eta \u001b[36m0:00:01\u001b[0m"
        },
        {
          "name": "stdout",
          "output_type": "stream",
          "text": "\r,\u001b[2K   \u001b[91m━━━━━━━━━━━━━━━━━━━━━━━━━━━━━━━━━━━━━━━\u001b[0m\u001b[91m╸\u001b[0m \u001b[32m706.7/706.8 MB\u001b[0m \u001b[31m51.1 MB/s\u001b[0m eta \u001b[36m0:00:01\u001b[0m"
        },
        {
          "name": "stdout",
          "output_type": "stream",
          "text": "\r,\u001b[2K   \u001b[91m━━━━━━━━━━━━━━━━━━━━━━━━━━━━━━━━━━━━━━━\u001b[0m\u001b[91m╸\u001b[0m \u001b[32m706.7/706.8 MB\u001b[0m \u001b[31m51.1 MB/s\u001b[0m eta \u001b[36m0:00:01\u001b[0m"
        },
        {
          "name": "stdout",
          "output_type": "stream",
          "text": "\r,\u001b[2K   \u001b[91m━━━━━━━━━━━━━━━━━━━━━━━━━━━━━━━━━━━━━━━\u001b[0m\u001b[91m╸\u001b[0m \u001b[32m706.7/706.8 MB\u001b[0m \u001b[31m51.1 MB/s\u001b[0m eta \u001b[36m0:00:01\u001b[0m"
        },
        {
          "name": "stdout",
          "output_type": "stream",
          "text": "\r,\u001b[2K   \u001b[91m━━━━━━━━━━━━━━━━━━━━━━━━━━━━━━━━━━━━━━━\u001b[0m\u001b[91m╸\u001b[0m \u001b[32m706.7/706.8 MB\u001b[0m \u001b[31m51.1 MB/s\u001b[0m eta \u001b[36m0:00:01\u001b[0m"
        },
        {
          "name": "stdout",
          "output_type": "stream",
          "text": "\r,\u001b[2K   \u001b[91m━━━━━━━━━━━━━━━━━━━━━━━━━━━━━━━━━━━━━━━\u001b[0m\u001b[91m╸\u001b[0m \u001b[32m706.7/706.8 MB\u001b[0m \u001b[31m51.1 MB/s\u001b[0m eta \u001b[36m0:00:01\u001b[0m"
        },
        {
          "name": "stdout",
          "output_type": "stream",
          "text": "\r,\u001b[2K   \u001b[91m━━━━━━━━━━━━━━━━━━━━━━━━━━━━━━━━━━━━━━━\u001b[0m\u001b[91m╸\u001b[0m \u001b[32m706.7/706.8 MB\u001b[0m \u001b[31m51.1 MB/s\u001b[0m eta \u001b[36m0:00:01\u001b[0m"
        },
        {
          "name": "stdout",
          "output_type": "stream",
          "text": "\r,\u001b[2K   \u001b[91m━━━━━━━━━━━━━━━━━━━━━━━━━━━━━━━━━━━━━━━\u001b[0m\u001b[91m╸\u001b[0m \u001b[32m706.7/706.8 MB\u001b[0m \u001b[31m51.1 MB/s\u001b[0m eta \u001b[36m0:00:01\u001b[0m"
        },
        {
          "name": "stdout",
          "output_type": "stream",
          "text": "\r,\u001b[2K   \u001b[91m━━━━━━━━━━━━━━━━━━━━━━━━━━━━━━━━━━━━━━━\u001b[0m\u001b[91m╸\u001b[0m \u001b[32m706.7/706.8 MB\u001b[0m \u001b[31m51.1 MB/s\u001b[0m eta \u001b[36m0:00:01\u001b[0m"
        },
        {
          "name": "stdout",
          "output_type": "stream",
          "text": "\r,\u001b[2K   \u001b[91m━━━━━━━━━━━━━━━━━━━━━━━━━━━━━━━━━━━━━━━\u001b[0m\u001b[91m╸\u001b[0m \u001b[32m706.7/706.8 MB\u001b[0m \u001b[31m51.1 MB/s\u001b[0m eta \u001b[36m0:00:01\u001b[0m"
        },
        {
          "name": "stdout",
          "output_type": "stream",
          "text": "\r,\u001b[2K   \u001b[91m━━━━━━━━━━━━━━━━━━━━━━━━━━━━━━━━━━━━━━━\u001b[0m\u001b[91m╸\u001b[0m \u001b[32m706.7/706.8 MB\u001b[0m \u001b[31m51.1 MB/s\u001b[0m eta \u001b[36m0:00:01\u001b[0m\r,\u001b[2K   \u001b[90m━━━━━━━━━━━━━━━━━━━━━━━━━━━━━━━━━━━━━━━━\u001b[0m \u001b[32m706.8/706.8 MB\u001b[0m \u001b[31m19.9 MB/s\u001b[0m eta \u001b[36m0:00:00\u001b[0m\n,\u001b[?25hDownloading nvidia_cufft_cu12-11.3.3.83-py3-none-manylinux2014_x86_64.manylinux_2_17_x86_64.whl (193.1 MB)\n,\u001b[?25l   \u001b[90m━━━━━━━━━━━━━━━━━━━━━━━━━━━━━━━━━━━━━━━━\u001b[0m \u001b[32m0.0/193.1 MB\u001b[0m \u001b[31m?\u001b[0m eta \u001b[36m-:--:--\u001b[0m"
        },
        {
          "name": "stdout",
          "output_type": "stream",
          "text": "\r,\u001b[2K   \u001b[91m━\u001b[0m\u001b[91m╸\u001b[0m\u001b[90m━━━━━━━━━━━━━━━━━━━━━━━━━━━━━━━━━━━━━━\u001b[0m \u001b[32m9.2/193.1 MB\u001b[0m \u001b[31m45.2 MB/s\u001b[0m eta \u001b[36m0:00:05\u001b[0m"
        },
        {
          "name": "stdout",
          "output_type": "stream",
          "text": "\r,\u001b[2K   \u001b[91m━━━━\u001b[0m\u001b[90m╺\u001b[0m\u001b[90m━━━━━━━━━━━━━━━━━━━━━━━━━━━━━━━━━━━\u001b[0m \u001b[32m19.7/193.1 MB\u001b[0m \u001b[31m48.6 MB/s\u001b[0m eta \u001b[36m0:00:04\u001b[0m"
        },
        {
          "name": "stdout",
          "output_type": "stream",
          "text": "\r,\u001b[2K   \u001b[91m━━━━━━\u001b[0m\u001b[90m╺\u001b[0m\u001b[90m━━━━━━━━━━━━━━━━━━━━━━━━━━━━━━━━━\u001b[0m \u001b[32m30.1/193.1 MB\u001b[0m \u001b[31m49.7 MB/s\u001b[0m eta \u001b[36m0:00:04\u001b[0m"
        },
        {
          "name": "stdout",
          "output_type": "stream",
          "text": "\r,\u001b[2K   \u001b[91m━━━━━━━━━\u001b[0m\u001b[90m╺\u001b[0m\u001b[90m━━━━━━━━━━━━━━━━━━━━━━━━━━━━━━\u001b[0m \u001b[32m44.6/193.1 MB\u001b[0m \u001b[31m55.0 MB/s\u001b[0m eta \u001b[36m0:00:03\u001b[0m"
        },
        {
          "name": "stdout",
          "output_type": "stream",
          "text": "\r,\u001b[2K   \u001b[91m━━━━━━━━━━━━\u001b[0m\u001b[90m╺\u001b[0m\u001b[90m━━━━━━━━━━━━━━━━━━━━━━━━━━━\u001b[0m \u001b[32m59.8/193.1 MB\u001b[0m \u001b[31m59.1 MB/s\u001b[0m eta \u001b[36m0:00:03\u001b[0m"
        },
        {
          "name": "stdout",
          "output_type": "stream",
          "text": "\r,\u001b[2K   \u001b[91m━━━━━━━━━━━━━━━\u001b[0m\u001b[91m╸\u001b[0m\u001b[90m━━━━━━━━━━━━━━━━━━━━━━━━\u001b[0m \u001b[32m75.8/193.1 MB\u001b[0m \u001b[31m62.4 MB/s\u001b[0m eta \u001b[36m0:00:02\u001b[0m"
        },
        {
          "name": "stdout",
          "output_type": "stream",
          "text": "\r,\u001b[2K   \u001b[91m━━━━━━━━━━━━━━━━━━\u001b[0m\u001b[91m╸\u001b[0m\u001b[90m━━━━━━━━━━━━━━━━━━━━━\u001b[0m \u001b[32m91.5/193.1 MB\u001b[0m \u001b[31m64.6 MB/s\u001b[0m eta \u001b[36m0:00:02\u001b[0m"
        },
        {
          "name": "stdout",
          "output_type": "stream",
          "text": "\r,\u001b[2K   \u001b[91m━━━━━━━━━━━━━━━━━━━━━━\u001b[0m\u001b[90m╺\u001b[0m\u001b[90m━━━━━━━━━━━━━━━━━\u001b[0m \u001b[32m106.4/193.1 MB\u001b[0m \u001b[31m65.7 MB/s\u001b[0m eta \u001b[36m0:00:02\u001b[0m"
        },
        {
          "name": "stdout",
          "output_type": "stream",
          "text": "\r,\u001b[2K   \u001b[91m━━━━━━━━━━━━━━━━━━━━━━━━\u001b[0m\u001b[91m╸\u001b[0m\u001b[90m━━━━━━━━━━━━━━━\u001b[0m \u001b[32m119.0/193.1 MB\u001b[0m \u001b[31m65.2 MB/s\u001b[0m eta \u001b[36m0:00:02\u001b[0m"
        },
        {
          "name": "stdout",
          "output_type": "stream",
          "text": "\r,\u001b[2K   \u001b[91m━━━━━━━━━━━━━━━━━━━━━━━━━━\u001b[0m\u001b[91m╸\u001b[0m\u001b[90m━━━━━━━━━━━━━\u001b[0m \u001b[32m130.0/193.1 MB\u001b[0m \u001b[31m64.1 MB/s\u001b[0m eta \u001b[36m0:00:01\u001b[0m"
        },
        {
          "name": "stdout",
          "output_type": "stream",
          "text": "\r,\u001b[2K   \u001b[91m━━━━━━━━━━━━━━━━━━━━━━━━━━━━━\u001b[0m\u001b[90m╺\u001b[0m\u001b[90m━━━━━━━━━━\u001b[0m \u001b[32m141.6/193.1 MB\u001b[0m \u001b[31m63.4 MB/s\u001b[0m eta \u001b[36m0:00:01\u001b[0m"
        },
        {
          "name": "stdout",
          "output_type": "stream",
          "text": "\r,\u001b[2K   \u001b[91m━━━━━━━━━━━━━━━━━━━━━━━━━━━━━━━\u001b[0m\u001b[91m╸\u001b[0m\u001b[90m━━━━━━━━\u001b[0m \u001b[32m152.8/193.1 MB\u001b[0m \u001b[31m62.5 MB/s\u001b[0m eta \u001b[36m0:00:01\u001b[0m"
        },
        {
          "name": "stdout",
          "output_type": "stream",
          "text": "\r,\u001b[2K   \u001b[91m━━━━━━━━━━━━━━━━━━━━━━━━━━━━━━━━━\u001b[0m\u001b[91m╸\u001b[0m\u001b[90m━━━━━━\u001b[0m \u001b[32m163.6/193.1 MB\u001b[0m \u001b[31m61.7 MB/s\u001b[0m eta \u001b[36m0:00:01\u001b[0m"
        },
        {
          "name": "stdout",
          "output_type": "stream",
          "text": "\r,\u001b[2K   \u001b[91m━━━━━━━━━━━━━━━━━━━━━━━━━━━━━━━━━━━━\u001b[0m\u001b[90m╺\u001b[0m\u001b[90m━━━\u001b[0m \u001b[32m174.1/193.1 MB\u001b[0m \u001b[31m61.1 MB/s\u001b[0m eta \u001b[36m0:00:01\u001b[0m"
        },
        {
          "name": "stdout",
          "output_type": "stream",
          "text": "\r,\u001b[2K   \u001b[91m━━━━━━━━━━━━━━━━━━━━━━━━━━━━━━━━━━━━━━\u001b[0m\u001b[90m╺\u001b[0m\u001b[90m━\u001b[0m \u001b[32m185.1/193.1 MB\u001b[0m \u001b[31m60.6 MB/s\u001b[0m eta \u001b[36m0:00:01\u001b[0m"
        },
        {
          "name": "stdout",
          "output_type": "stream",
          "text": "\r,\u001b[2K   \u001b[91m━━━━━━━━━━━━━━━━━━━━━━━━━━━━━━━━━━━━━━━\u001b[0m\u001b[91m╸\u001b[0m \u001b[32m192.9/193.1 MB\u001b[0m \u001b[31m60.3 MB/s\u001b[0m eta \u001b[36m0:00:01\u001b[0m"
        },
        {
          "name": "stdout",
          "output_type": "stream",
          "text": "\r,\u001b[2K   \u001b[91m━━━━━━━━━━━━━━━━━━━━━━━━━━━━━━━━━━━━━━━\u001b[0m\u001b[91m╸\u001b[0m \u001b[32m192.9/193.1 MB\u001b[0m \u001b[31m60.3 MB/s\u001b[0m eta \u001b[36m0:00:01\u001b[0m"
        },
        {
          "name": "stdout",
          "output_type": "stream",
          "text": "\r,\u001b[2K   \u001b[91m━━━━━━━━━━━━━━━━━━━━━━━━━━━━━━━━━━━━━━━\u001b[0m\u001b[91m╸\u001b[0m \u001b[32m192.9/193.1 MB\u001b[0m \u001b[31m60.3 MB/s\u001b[0m eta \u001b[36m0:00:01\u001b[0m"
        },
        {
          "name": "stdout",
          "output_type": "stream",
          "text": "\r,\u001b[2K   \u001b[91m━━━━━━━━━━━━━━━━━━━━━━━━━━━━━━━━━━━━━━━\u001b[0m\u001b[91m╸\u001b[0m \u001b[32m192.9/193.1 MB\u001b[0m \u001b[31m60.3 MB/s\u001b[0m eta \u001b[36m0:00:01\u001b[0m"
        },
        {
          "name": "stdout",
          "output_type": "stream",
          "text": "\r,\u001b[2K   \u001b[91m━━━━━━━━━━━━━━━━━━━━━━━━━━━━━━━━━━━━━━━\u001b[0m\u001b[91m╸\u001b[0m \u001b[32m192.9/193.1 MB\u001b[0m \u001b[31m60.3 MB/s\u001b[0m eta \u001b[36m0:00:01\u001b[0m"
        },
        {
          "name": "stdout",
          "output_type": "stream",
          "text": "\r,\u001b[2K   \u001b[91m━━━━━━━━━━━━━━━━━━━━━━━━━━━━━━━━━━━━━━━\u001b[0m\u001b[91m╸\u001b[0m \u001b[32m192.9/193.1 MB\u001b[0m \u001b[31m60.3 MB/s\u001b[0m eta \u001b[36m0:00:01\u001b[0m"
        },
        {
          "name": "stdout",
          "output_type": "stream",
          "text": "\r,\u001b[2K   \u001b[91m━━━━━━━━━━━━━━━━━━━━━━━━━━━━━━━━━━━━━━━\u001b[0m\u001b[91m╸\u001b[0m \u001b[32m192.9/193.1 MB\u001b[0m \u001b[31m60.3 MB/s\u001b[0m eta \u001b[36m0:00:01\u001b[0m"
        },
        {
          "name": "stdout",
          "output_type": "stream",
          "text": "\r,\u001b[2K   \u001b[91m━━━━━━━━━━━━━━━━━━━━━━━━━━━━━━━━━━━━━━━\u001b[0m\u001b[91m╸\u001b[0m \u001b[32m192.9/193.1 MB\u001b[0m \u001b[31m60.3 MB/s\u001b[0m eta \u001b[36m0:00:01\u001b[0m"
        },
        {
          "name": "stdout",
          "output_type": "stream",
          "text": "\r,\u001b[2K   \u001b[91m━━━━━━━━━━━━━━━━━━━━━━━━━━━━━━━━━━━━━━━\u001b[0m\u001b[91m╸\u001b[0m \u001b[32m192.9/193.1 MB\u001b[0m \u001b[31m60.3 MB/s\u001b[0m eta \u001b[36m0:00:01\u001b[0m"
        },
        {
          "name": "stdout",
          "output_type": "stream",
          "text": "\r,\u001b[2K   \u001b[91m━━━━━━━━━━━━━━━━━━━━━━━━━━━━━━━━━━━━━━━\u001b[0m\u001b[91m╸\u001b[0m \u001b[32m192.9/193.1 MB\u001b[0m \u001b[31m60.3 MB/s\u001b[0m eta \u001b[36m0:00:01\u001b[0m"
        },
        {
          "name": "stdout",
          "output_type": "stream",
          "text": "\r,\u001b[2K   \u001b[91m━━━━━━━━━━━━━━━━━━━━━━━━━━━━━━━━━━━━━━━\u001b[0m\u001b[91m╸\u001b[0m \u001b[32m192.9/193.1 MB\u001b[0m \u001b[31m60.3 MB/s\u001b[0m eta \u001b[36m0:00:01\u001b[0m"
        },
        {
          "name": "stdout",
          "output_type": "stream",
          "text": "\r,\u001b[2K   \u001b[91m━━━━━━━━━━━━━━━━━━━━━━━━━━━━━━━━━━━━━━━\u001b[0m\u001b[91m╸\u001b[0m \u001b[32m192.9/193.1 MB\u001b[0m \u001b[31m60.3 MB/s\u001b[0m eta \u001b[36m0:00:01\u001b[0m"
        },
        {
          "name": "stdout",
          "output_type": "stream",
          "text": "\r,\u001b[2K   \u001b[91m━━━━━━━━━━━━━━━━━━━━━━━━━━━━━━━━━━━━━━━\u001b[0m\u001b[91m╸\u001b[0m \u001b[32m192.9/193.1 MB\u001b[0m \u001b[31m60.3 MB/s\u001b[0m eta \u001b[36m0:00:01\u001b[0m"
        },
        {
          "name": "stdout",
          "output_type": "stream",
          "text": "\r,\u001b[2K   \u001b[91m━━━━━━━━━━━━━━━━━━━━━━━━━━━━━━━━━━━━━━━\u001b[0m\u001b[91m╸\u001b[0m \u001b[32m192.9/193.1 MB\u001b[0m \u001b[31m60.3 MB/s\u001b[0m eta \u001b[36m0:00:01\u001b[0m\r,\u001b[2K   \u001b[90m━━━━━━━━━━━━━━━━━━━━━━━━━━━━━━━━━━━━━━━━\u001b[0m \u001b[32m193.1/193.1 MB\u001b[0m \u001b[31m32.4 MB/s\u001b[0m eta \u001b[36m0:00:00\u001b[0m\n,\u001b[?25hDownloading nvidia_cufile_cu12-1.13.1.3-py3-none-manylinux2014_x86_64.manylinux_2_17_x86_64.whl (1.2 MB)\n,\u001b[?25l   \u001b[90m━━━━━━━━━━━━━━━━━━━━━━━━━━━━━━━━━━━━━━━━\u001b[0m \u001b[32m0.0/1.2 MB\u001b[0m \u001b[31m?\u001b[0m eta \u001b[36m-:--:--\u001b[0m\r,\u001b[2K   \u001b[90m━━━━━━━━━━━━━━━━━━━━━━━━━━━━━━━━━━━━━━━━\u001b[0m \u001b[32m1.2/1.2 MB\u001b[0m \u001b[31m42.8 MB/s\u001b[0m eta \u001b[36m0:00:00\u001b[0m\n,\u001b[?25hDownloading nvidia_curand_cu12-10.3.9.90-py3-none-manylinux_2_27_x86_64.whl (63.6 MB)\n,\u001b[?25l   \u001b[90m━━━━━━━━━━━━━━━━━━━━━━━━━━━━━━━━━━━━━━━━\u001b[0m \u001b[32m0.0/63.6 MB\u001b[0m \u001b[31m?\u001b[0m eta \u001b[36m-:--:--\u001b[0m"
        },
        {
          "name": "stdout",
          "output_type": "stream",
          "text": "\r,\u001b[2K   \u001b[91m━━━━━━━━━\u001b[0m\u001b[90m╺\u001b[0m\u001b[90m━━━━━━━━━━━━━━━━━━━━━━━━━━━━━━\u001b[0m \u001b[32m14.7/63.6 MB\u001b[0m \u001b[31m73.3 MB/s\u001b[0m eta \u001b[36m0:00:01\u001b[0m"
        },
        {
          "name": "stdout",
          "output_type": "stream",
          "text": "\r,\u001b[2K   \u001b[91m━━━━━━━━━━━━━━━━━━\u001b[0m\u001b[90m╺\u001b[0m\u001b[90m━━━━━━━━━━━━━━━━━━━━━\u001b[0m \u001b[32m29.4/63.6 MB\u001b[0m \u001b[31m73.4 MB/s\u001b[0m eta \u001b[36m0:00:01\u001b[0m"
        },
        {
          "name": "stdout",
          "output_type": "stream",
          "text": "\r,\u001b[2K   \u001b[91m━━━━━━━━━━━━━━━━━━━━━━━━━━━━\u001b[0m\u001b[90m╺\u001b[0m\u001b[90m━━━━━━━━━━━\u001b[0m \u001b[32m45.1/63.6 MB\u001b[0m \u001b[31m74.6 MB/s\u001b[0m eta \u001b[36m0:00:01\u001b[0m"
        },
        {
          "name": "stdout",
          "output_type": "stream",
          "text": "\r,\u001b[2K   \u001b[91m━━━━━━━━━━━━━━━━━━━━━━━━━━━━━━━━━━━━━━\u001b[0m\u001b[91m╸\u001b[0m\u001b[90m━\u001b[0m \u001b[32m61.3/63.6 MB\u001b[0m \u001b[31m76.0 MB/s\u001b[0m eta \u001b[36m0:00:01\u001b[0m"
        },
        {
          "name": "stdout",
          "output_type": "stream",
          "text": "\r,\u001b[2K   \u001b[91m━━━━━━━━━━━━━━━━━━━━━━━━━━━━━━━━━━━━━━━\u001b[0m\u001b[91m╸\u001b[0m \u001b[32m63.4/63.6 MB\u001b[0m \u001b[31m75.9 MB/s\u001b[0m eta \u001b[36m0:00:01\u001b[0m"
        },
        {
          "name": "stdout",
          "output_type": "stream",
          "text": "\r,\u001b[2K   \u001b[91m━━━━━━━━━━━━━━━━━━━━━━━━━━━━━━━━━━━━━━━\u001b[0m\u001b[91m╸\u001b[0m \u001b[32m63.4/63.6 MB\u001b[0m \u001b[31m75.9 MB/s\u001b[0m eta \u001b[36m0:00:01\u001b[0m\r,\u001b[2K   \u001b[91m━━━━━━━━━━━━━━━━━━━━━━━━━━━━━━━━━━━━━━━\u001b[0m\u001b[91m╸\u001b[0m \u001b[32m63.4/63.6 MB\u001b[0m \u001b[31m75.9 MB/s\u001b[0m eta \u001b[36m0:00:01\u001b[0m"
        },
        {
          "name": "stdout",
          "output_type": "stream",
          "text": "\r,\u001b[2K   \u001b[91m━━━━━━━━━━━━━━━━━━━━━━━━━━━━━━━━━━━━━━━\u001b[0m\u001b[91m╸\u001b[0m \u001b[32m63.4/63.6 MB\u001b[0m \u001b[31m75.9 MB/s\u001b[0m eta \u001b[36m0:00:01\u001b[0m"
        },
        {
          "name": "stdout",
          "output_type": "stream",
          "text": "\r,\u001b[2K   \u001b[91m━━━━━━━━━━━━━━━━━━━━━━━━━━━━━━━━━━━━━━━\u001b[0m\u001b[91m╸\u001b[0m \u001b[32m63.4/63.6 MB\u001b[0m \u001b[31m75.9 MB/s\u001b[0m eta \u001b[36m0:00:01\u001b[0m"
        },
        {
          "name": "stdout",
          "output_type": "stream",
          "text": "\r,\u001b[2K   \u001b[91m━━━━━━━━━━━━━━━━━━━━━━━━━━━━━━━━━━━━━━━\u001b[0m\u001b[91m╸\u001b[0m \u001b[32m63.4/63.6 MB\u001b[0m \u001b[31m75.9 MB/s\u001b[0m eta \u001b[36m0:00:01\u001b[0m\r,\u001b[2K   \u001b[90m━━━━━━━━━━━━━━━━━━━━━━━━━━━━━━━━━━━━━━━━\u001b[0m \u001b[32m63.6/63.6 MB\u001b[0m \u001b[31m30.6 MB/s\u001b[0m eta \u001b[36m0:00:00\u001b[0m\n,\u001b[?25hDownloading nvidia_cusolver_cu12-11.7.3.90-py3-none-manylinux_2_27_x86_64.whl (267.5 MB)\n,\u001b[?25l   \u001b[90m━━━━━━━━━━━━━━━━━━━━━━━━━━━━━━━━━━━━━━━━\u001b[0m \u001b[32m0.0/267.5 MB\u001b[0m \u001b[31m?\u001b[0m eta \u001b[36m-:--:--\u001b[0m"
        },
        {
          "name": "stdout",
          "output_type": "stream",
          "text": "\r,\u001b[2K   \u001b[91m━━\u001b[0m\u001b[90m╺\u001b[0m\u001b[90m━━━━━━━━━━━━━━━━━━━━━━━━━━━━━━━━━━━━━\u001b[0m \u001b[32m15.7/267.5 MB\u001b[0m \u001b[31m79.0 MB/s\u001b[0m eta \u001b[36m0:00:04\u001b[0m"
        },
        {
          "name": "stdout",
          "output_type": "stream",
          "text": "\r,\u001b[2K   \u001b[91m━━━━\u001b[0m\u001b[90m╺\u001b[0m\u001b[90m━━━━━━━━━━━━━━━━━━━━━━━━━━━━━━━━━━━\u001b[0m \u001b[32m28.0/267.5 MB\u001b[0m \u001b[31m72.4 MB/s\u001b[0m eta \u001b[36m0:00:04\u001b[0m"
        },
        {
          "name": "stdout",
          "output_type": "stream",
          "text": "\r,\u001b[2K   \u001b[91m━━━━━━\u001b[0m\u001b[90m╺\u001b[0m\u001b[90m━━━━━━━━━━━━━━━━━━━━━━━━━━━━━━━━━\u001b[0m \u001b[32m43.3/267.5 MB\u001b[0m \u001b[31m71.6 MB/s\u001b[0m eta \u001b[36m0:00:04\u001b[0m"
        },
        {
          "name": "stdout",
          "output_type": "stream",
          "text": "\r,\u001b[2K   \u001b[91m━━━━━━━━\u001b[0m\u001b[90m╺\u001b[0m\u001b[90m━━━━━━━━━━━━━━━━━━━━━━━━━━━━━━━\u001b[0m \u001b[32m56.4/267.5 MB\u001b[0m \u001b[31m69.6 MB/s\u001b[0m eta \u001b[36m0:00:04\u001b[0m"
        },
        {
          "name": "stdout",
          "output_type": "stream",
          "text": "\r,\u001b[2K   \u001b[91m━━━━━━━━━━\u001b[0m\u001b[90m╺\u001b[0m\u001b[90m━━━━━━━━━━━━━━━━━━━━━━━━━━━━━\u001b[0m \u001b[32m69.2/267.5 MB\u001b[0m \u001b[31m68.3 MB/s\u001b[0m eta \u001b[36m0:00:03\u001b[0m"
        },
        {
          "name": "stdout",
          "output_type": "stream",
          "text": "\r,\u001b[2K   \u001b[91m━━━━━━━━━━━━\u001b[0m\u001b[90m╺\u001b[0m\u001b[90m━━━━━━━━━━━━━━━━━━━━━━━━━━━\u001b[0m \u001b[32m83.1/267.5 MB\u001b[0m \u001b[31m68.2 MB/s\u001b[0m eta \u001b[36m0:00:03\u001b[0m"
        },
        {
          "name": "stdout",
          "output_type": "stream",
          "text": "\r,\u001b[2K   \u001b[91m━━━━━━━━━━━━━━\u001b[0m\u001b[91m╸\u001b[0m\u001b[90m━━━━━━━━━━━━━━━━━━━━━━━━━\u001b[0m \u001b[32m97.3/267.5 MB\u001b[0m \u001b[31m68.4 MB/s\u001b[0m eta \u001b[36m0:00:03\u001b[0m"
        },
        {
          "name": "stdout",
          "output_type": "stream",
          "text": "\r,\u001b[2K   \u001b[91m━━━━━━━━━━━━━━━━\u001b[0m\u001b[91m╸\u001b[0m\u001b[90m━━━━━━━━━━━━━━━━━━━━━━━\u001b[0m \u001b[32m112.5/267.5 MB\u001b[0m \u001b[31m69.3 MB/s\u001b[0m eta \u001b[36m0:00:03\u001b[0m"
        },
        {
          "name": "stdout",
          "output_type": "stream",
          "text": "\r,\u001b[2K   \u001b[91m━━━━━━━━━━━━━━━━━━\u001b[0m\u001b[91m╸\u001b[0m\u001b[90m━━━━━━━━━━━━━━━━━━━━━\u001b[0m \u001b[32m124.3/267.5 MB\u001b[0m \u001b[31m68.2 MB/s\u001b[0m eta \u001b[36m0:00:03\u001b[0m"
        },
        {
          "name": "stdout",
          "output_type": "stream",
          "text": "\r,\u001b[2K   \u001b[91m━━━━━━━━━━━━━━━━━━━━\u001b[0m\u001b[90m╺\u001b[0m\u001b[90m━━━━━━━━━━━━━━━━━━━\u001b[0m \u001b[32m135.8/267.5 MB\u001b[0m \u001b[31m66.9 MB/s\u001b[0m eta \u001b[36m0:00:02\u001b[0m"
        },
        {
          "name": "stdout",
          "output_type": "stream",
          "text": "\r,\u001b[2K   \u001b[91m━━━━━━━━━━━━━━━━━━━━━\u001b[0m\u001b[91m╸\u001b[0m\u001b[90m━━━━━━━━━━━━━━━━━━\u001b[0m \u001b[32m147.1/267.5 MB\u001b[0m \u001b[31m65.9 MB/s\u001b[0m eta \u001b[36m0:00:02\u001b[0m"
        },
        {
          "name": "stdout",
          "output_type": "stream",
          "text": "\r,\u001b[2K   \u001b[91m━━━━━━━━━━━━━━━━━━━━━━━\u001b[0m\u001b[91m╸\u001b[0m\u001b[90m━━━━━━━━━━━━━━━━\u001b[0m \u001b[32m157.8/267.5 MB\u001b[0m \u001b[31m64.7 MB/s\u001b[0m eta \u001b[36m0:00:02\u001b[0m"
        },
        {
          "name": "stdout",
          "output_type": "stream",
          "text": "\r,\u001b[2K   \u001b[91m━━━━━━━━━━━━━━━━━━━━━━━━━\u001b[0m\u001b[90m╺\u001b[0m\u001b[90m━━━━━━━━━━━━━━\u001b[0m \u001b[32m168.3/267.5 MB\u001b[0m \u001b[31m63.8 MB/s\u001b[0m eta \u001b[36m0:00:02\u001b[0m"
        },
        {
          "name": "stdout",
          "output_type": "stream",
          "text": "\r,\u001b[2K   \u001b[91m━━━━━━━━━━━━━━━━━━━━━━━━━━\u001b[0m\u001b[91m╸\u001b[0m\u001b[90m━━━━━━━━━━━━━\u001b[0m \u001b[32m177.5/267.5 MB\u001b[0m \u001b[31m62.6 MB/s\u001b[0m eta \u001b[36m0:00:02\u001b[0m"
        },
        {
          "name": "stdout",
          "output_type": "stream",
          "text": "\r,\u001b[2K   \u001b[91m━━━━━━━━━━━━━━━━━━━━━━━━━━━\u001b[0m\u001b[91m╸\u001b[0m\u001b[90m━━━━━━━━━━━━\u001b[0m \u001b[32m185.9/267.5 MB\u001b[0m \u001b[31m60.1 MB/s\u001b[0m eta \u001b[36m0:00:02\u001b[0m"
        },
        {
          "name": "stdout",
          "output_type": "stream",
          "text": "\r,\u001b[2K   \u001b[91m━━━━━━━━━━━━━━━━━━━━━━━━━━━━\u001b[0m\u001b[90m╺\u001b[0m\u001b[90m━━━━━━━━━━━\u001b[0m \u001b[32m190.3/267.5 MB\u001b[0m \u001b[31m57.7 MB/s\u001b[0m eta \u001b[36m0:00:02\u001b[0m"
        },
        {
          "name": "stdout",
          "output_type": "stream",
          "text": "\r,\u001b[2K   \u001b[91m━━━━━━━━━━━━━━━━━━━━━━━━━━━━━\u001b[0m\u001b[91m╸\u001b[0m\u001b[90m━━━━━━━━━━\u001b[0m \u001b[32m200.0/267.5 MB\u001b[0m \u001b[31m57.2 MB/s\u001b[0m eta \u001b[36m0:00:02\u001b[0m"
        },
        {
          "name": "stdout",
          "output_type": "stream",
          "text": "\r,\u001b[2K   \u001b[91m━━━━━━━━━━━━━━━━━━━━━━━━━━━━━━━\u001b[0m\u001b[90m╺\u001b[0m\u001b[90m━━━━━━━━\u001b[0m \u001b[32m209.7/267.5 MB\u001b[0m \u001b[31m56.6 MB/s\u001b[0m eta \u001b[36m0:00:02\u001b[0m"
        },
        {
          "name": "stdout",
          "output_type": "stream",
          "text": "\r,\u001b[2K   \u001b[91m━━━━━━━━━━━━━━━━━━━━━━━━━━━━━━━━━\u001b[0m\u001b[90m╺\u001b[0m\u001b[90m━━━━━━\u001b[0m \u001b[32m221.2/267.5 MB\u001b[0m \u001b[31m56.6 MB/s\u001b[0m eta \u001b[36m0:00:01\u001b[0m"
        },
        {
          "name": "stdout",
          "output_type": "stream",
          "text": "\r,\u001b[2K   \u001b[91m━━━━━━━━━━━━━━━━━━━━━━━━━━━━━━━━━━━\u001b[0m\u001b[91m╸\u001b[0m\u001b[90m━━━━\u001b[0m \u001b[32m237.5/267.5 MB\u001b[0m \u001b[31m57.8 MB/s\u001b[0m eta \u001b[36m0:00:01\u001b[0m"
        },
        {
          "name": "stdout",
          "output_type": "stream",
          "text": "\r,\u001b[2K   \u001b[91m━━━━━━━━━━━━━━━━━━━━━━━━━━━━━━━━━━━━━\u001b[0m\u001b[91m╸\u001b[0m\u001b[90m━━\u001b[0m \u001b[32m252.4/267.5 MB\u001b[0m \u001b[31m58.5 MB/s\u001b[0m eta \u001b[36m0:00:01\u001b[0m"
        },
        {
          "name": "stdout",
          "output_type": "stream",
          "text": "\r,\u001b[2K   \u001b[91m━━━━━━━━━━━━━━━━━━━━━━━━━━━━━━━━━━━━━━━\u001b[0m\u001b[91m╸\u001b[0m \u001b[32m264.8/267.5 MB\u001b[0m \u001b[31m58.5 MB/s\u001b[0m eta \u001b[36m0:00:01\u001b[0m"
        },
        {
          "name": "stdout",
          "output_type": "stream",
          "text": "\r,\u001b[2K   \u001b[91m━━━━━━━━━━━━━━━━━━━━━━━━━━━━━━━━━━━━━━━\u001b[0m\u001b[91m╸\u001b[0m \u001b[32m267.4/267.5 MB\u001b[0m \u001b[31m58.3 MB/s\u001b[0m eta \u001b[36m0:00:01\u001b[0m"
        },
        {
          "name": "stdout",
          "output_type": "stream",
          "text": "\r,\u001b[2K   \u001b[91m━━━━━━━━━━━━━━━━━━━━━━━━━━━━━━━━━━━━━━━\u001b[0m\u001b[91m╸\u001b[0m \u001b[32m267.4/267.5 MB\u001b[0m \u001b[31m58.3 MB/s\u001b[0m eta \u001b[36m0:00:01\u001b[0m"
        },
        {
          "name": "stdout",
          "output_type": "stream",
          "text": "\r,\u001b[2K   \u001b[91m━━━━━━━━━━━━━━━━━━━━━━━━━━━━━━━━━━━━━━━\u001b[0m\u001b[91m╸\u001b[0m \u001b[32m267.4/267.5 MB\u001b[0m \u001b[31m58.3 MB/s\u001b[0m eta \u001b[36m0:00:01\u001b[0m"
        },
        {
          "name": "stdout",
          "output_type": "stream",
          "text": "\r,\u001b[2K   \u001b[91m━━━━━━━━━━━━━━━━━━━━━━━━━━━━━━━━━━━━━━━\u001b[0m\u001b[91m╸\u001b[0m \u001b[32m267.4/267.5 MB\u001b[0m \u001b[31m58.3 MB/s\u001b[0m eta \u001b[36m0:00:01\u001b[0m"
        },
        {
          "name": "stdout",
          "output_type": "stream",
          "text": "\r,\u001b[2K   \u001b[91m━━━━━━━━━━━━━━━━━━━━━━━━━━━━━━━━━━━━━━━\u001b[0m\u001b[91m╸\u001b[0m \u001b[32m267.4/267.5 MB\u001b[0m \u001b[31m58.3 MB/s\u001b[0m eta \u001b[36m0:00:01\u001b[0m"
        },
        {
          "name": "stdout",
          "output_type": "stream",
          "text": "\r,\u001b[2K   \u001b[91m━━━━━━━━━━━━━━━━━━━━━━━━━━━━━━━━━━━━━━━\u001b[0m\u001b[91m╸\u001b[0m \u001b[32m267.4/267.5 MB\u001b[0m \u001b[31m58.3 MB/s\u001b[0m eta \u001b[36m0:00:01\u001b[0m"
        },
        {
          "name": "stdout",
          "output_type": "stream",
          "text": "\r,\u001b[2K   \u001b[91m━━━━━━━━━━━━━━━━━━━━━━━━━━━━━━━━━━━━━━━\u001b[0m\u001b[91m╸\u001b[0m \u001b[32m267.4/267.5 MB\u001b[0m \u001b[31m58.3 MB/s\u001b[0m eta \u001b[36m0:00:01\u001b[0m"
        },
        {
          "name": "stdout",
          "output_type": "stream",
          "text": "\r,\u001b[2K   \u001b[91m━━━━━━━━━━━━━━━━━━━━━━━━━━━━━━━━━━━━━━━\u001b[0m\u001b[91m╸\u001b[0m \u001b[32m267.4/267.5 MB\u001b[0m \u001b[31m58.3 MB/s\u001b[0m eta \u001b[36m0:00:01\u001b[0m"
        },
        {
          "name": "stdout",
          "output_type": "stream",
          "text": "\r,\u001b[2K   \u001b[91m━━━━━━━━━━━━━━━━━━━━━━━━━━━━━━━━━━━━━━━\u001b[0m\u001b[91m╸\u001b[0m \u001b[32m267.4/267.5 MB\u001b[0m \u001b[31m58.3 MB/s\u001b[0m eta \u001b[36m0:00:01\u001b[0m"
        },
        {
          "name": "stdout",
          "output_type": "stream",
          "text": "\r,\u001b[2K   \u001b[91m━━━━━━━━━━━━━━━━━━━━━━━━━━━━━━━━━━━━━━━\u001b[0m\u001b[91m╸\u001b[0m \u001b[32m267.4/267.5 MB\u001b[0m \u001b[31m58.3 MB/s\u001b[0m eta \u001b[36m0:00:01\u001b[0m"
        },
        {
          "name": "stdout",
          "output_type": "stream",
          "text": "\r,\u001b[2K   \u001b[91m━━━━━━━━━━━━━━━━━━━━━━━━━━━━━━━━━━━━━━━\u001b[0m\u001b[91m╸\u001b[0m \u001b[32m267.4/267.5 MB\u001b[0m \u001b[31m58.3 MB/s\u001b[0m eta \u001b[36m0:00:01\u001b[0m"
        },
        {
          "name": "stdout",
          "output_type": "stream",
          "text": "\r,\u001b[2K   \u001b[91m━━━━━━━━━━━━━━━━━━━━━━━━━━━━━━━━━━━━━━━\u001b[0m\u001b[91m╸\u001b[0m \u001b[32m267.4/267.5 MB\u001b[0m \u001b[31m58.3 MB/s\u001b[0m eta \u001b[36m0:00:01\u001b[0m"
        },
        {
          "name": "stdout",
          "output_type": "stream",
          "text": "\r,\u001b[2K   \u001b[91m━━━━━━━━━━━━━━━━━━━━━━━━━━━━━━━━━━━━━━━\u001b[0m\u001b[91m╸\u001b[0m \u001b[32m267.4/267.5 MB\u001b[0m \u001b[31m58.3 MB/s\u001b[0m eta \u001b[36m0:00:01\u001b[0m"
        },
        {
          "name": "stdout",
          "output_type": "stream",
          "text": "\r,\u001b[2K   \u001b[91m━━━━━━━━━━━━━━━━━━━━━━━━━━━━━━━━━━━━━━━\u001b[0m\u001b[91m╸\u001b[0m \u001b[32m267.4/267.5 MB\u001b[0m \u001b[31m58.3 MB/s\u001b[0m eta \u001b[36m0:00:01\u001b[0m"
        },
        {
          "name": "stdout",
          "output_type": "stream",
          "text": "\r,\u001b[2K   \u001b[91m━━━━━━━━━━━━━━━━━━━━━━━━━━━━━━━━━━━━━━━\u001b[0m\u001b[91m╸\u001b[0m \u001b[32m267.4/267.5 MB\u001b[0m \u001b[31m58.3 MB/s\u001b[0m eta \u001b[36m0:00:01\u001b[0m"
        },
        {
          "name": "stdout",
          "output_type": "stream",
          "text": "\r,\u001b[2K   \u001b[91m━━━━━━━━━━━━━━━━━━━━━━━━━━━━━━━━━━━━━━━\u001b[0m\u001b[91m╸\u001b[0m \u001b[32m267.4/267.5 MB\u001b[0m \u001b[31m58.3 MB/s\u001b[0m eta \u001b[36m0:00:01\u001b[0m\r,\u001b[2K   \u001b[90m━━━━━━━━━━━━━━━━━━━━━━━━━━━━━━━━━━━━━━━━\u001b[0m \u001b[32m267.5/267.5 MB\u001b[0m \u001b[31m33.0 MB/s\u001b[0m eta \u001b[36m0:00:00\u001b[0m\n,\u001b[?25h"
        },
        {
          "name": "stdout",
          "output_type": "stream",
          "text": "Downloading nvidia_cusparse_cu12-12.5.8.93-py3-none-manylinux2014_x86_64.manylinux_2_17_x86_64.whl (288.2 MB)\n,\u001b[?25l   \u001b[90m━━━━━━━━━━━━━━━━━━━━━━━━━━━━━━━━━━━━━━━━\u001b[0m \u001b[32m0.0/288.2 MB\u001b[0m \u001b[31m?\u001b[0m eta \u001b[36m-:--:--\u001b[0m"
        },
        {
          "name": "stdout",
          "output_type": "stream",
          "text": "\r,\u001b[2K   \u001b[91m━━\u001b[0m\u001b[90m╺\u001b[0m\u001b[90m━━━━━━━━━━━━━━━━━━━━━━━━━━━━━━━━━━━━━\u001b[0m \u001b[32m16.3/288.2 MB\u001b[0m \u001b[31m80.8 MB/s\u001b[0m eta \u001b[36m0:00:04\u001b[0m"
        },
        {
          "name": "stdout",
          "output_type": "stream",
          "text": "\r,\u001b[2K   \u001b[91m━━━━\u001b[0m\u001b[90m╺\u001b[0m\u001b[90m━━━━━━━━━━━━━━━━━━━━━━━━━━━━━━━━━━━\u001b[0m \u001b[32m30.9/288.2 MB\u001b[0m \u001b[31m76.6 MB/s\u001b[0m eta \u001b[36m0:00:04\u001b[0m"
        },
        {
          "name": "stdout",
          "output_type": "stream",
          "text": "\r,\u001b[2K   \u001b[91m━━━━━━\u001b[0m\u001b[90m╺\u001b[0m\u001b[90m━━━━━━━━━━━━━━━━━━━━━━━━━━━━━━━━━\u001b[0m \u001b[32m46.4/288.2 MB\u001b[0m \u001b[31m76.7 MB/s\u001b[0m eta \u001b[36m0:00:04\u001b[0m"
        },
        {
          "name": "stdout",
          "output_type": "stream",
          "text": "\r,\u001b[2K   \u001b[91m━━━━━━━━\u001b[0m\u001b[91m╸\u001b[0m\u001b[90m━━━━━━━━━━━━━━━━━━━━━━━━━━━━━━━\u001b[0m \u001b[32m61.6/288.2 MB\u001b[0m \u001b[31m75.9 MB/s\u001b[0m eta \u001b[36m0:00:03\u001b[0m"
        },
        {
          "name": "stdout",
          "output_type": "stream",
          "text": "\r,\u001b[2K   \u001b[91m━━━━━━━━━━\u001b[0m\u001b[91m╸\u001b[0m\u001b[90m━━━━━━━━━━━━━━━━━━━━━━━━━━━━━\u001b[0m \u001b[32m77.3/288.2 MB\u001b[0m \u001b[31m76.2 MB/s\u001b[0m eta \u001b[36m0:00:03\u001b[0m"
        },
        {
          "name": "stdout",
          "output_type": "stream",
          "text": "\r,\u001b[2K   \u001b[91m━━━━━━━━━━━━\u001b[0m\u001b[91m╸\u001b[0m\u001b[90m━━━━━━━━━━━━━━━━━━━━━━━━━━━\u001b[0m \u001b[32m92.0/288.2 MB\u001b[0m \u001b[31m75.4 MB/s\u001b[0m eta \u001b[36m0:00:03\u001b[0m"
        },
        {
          "name": "stdout",
          "output_type": "stream",
          "text": "\r,\u001b[2K   \u001b[91m━━━━━━━━━━━━━━\u001b[0m\u001b[91m╸\u001b[0m\u001b[90m━━━━━━━━━━━━━━━━━━━━━━━━━\u001b[0m \u001b[32m105.1/288.2 MB\u001b[0m \u001b[31m73.8 MB/s\u001b[0m eta \u001b[36m0:00:03\u001b[0m"
        },
        {
          "name": "stdout",
          "output_type": "stream",
          "text": "\r,\u001b[2K   \u001b[91m━━━━━━━━━━━━━━━━\u001b[0m\u001b[90m╺\u001b[0m\u001b[90m━━━━━━━━━━━━━━━━━━━━━━━\u001b[0m \u001b[32m116.1/288.2 MB\u001b[0m \u001b[31m71.3 MB/s\u001b[0m eta \u001b[36m0:00:03\u001b[0m"
        },
        {
          "name": "stdout",
          "output_type": "stream",
          "text": "\r,\u001b[2K   \u001b[91m━━━━━━━━━━━━━━━━━\u001b[0m\u001b[91m╸\u001b[0m\u001b[90m━━━━━━━━━━━━━━━━━━━━━━\u001b[0m \u001b[32m127.7/288.2 MB\u001b[0m \u001b[31m69.6 MB/s\u001b[0m eta \u001b[36m0:00:03\u001b[0m"
        },
        {
          "name": "stdout",
          "output_type": "stream",
          "text": "\r,\u001b[2K   \u001b[91m━━━━━━━━━━━━━━━━━━━\u001b[0m\u001b[90m╺\u001b[0m\u001b[90m━━━━━━━━━━━━━━━━━━━━\u001b[0m \u001b[32m138.7/288.2 MB\u001b[0m \u001b[31m68.1 MB/s\u001b[0m eta \u001b[36m0:00:03\u001b[0m"
        },
        {
          "name": "stdout",
          "output_type": "stream",
          "text": "\r,\u001b[2K   \u001b[91m━━━━━━━━━━━━━━━━━━━━\u001b[0m\u001b[91m╸\u001b[0m\u001b[90m━━━━━━━━━━━━━━━━━━━\u001b[0m \u001b[32m147.8/288.2 MB\u001b[0m \u001b[31m65.9 MB/s\u001b[0m eta \u001b[36m0:00:03\u001b[0m"
        },
        {
          "name": "stdout",
          "output_type": "stream",
          "text": "\r,\u001b[2K   \u001b[91m━━━━━━━━━━━━━━━━━━━━━━\u001b[0m\u001b[90m╺\u001b[0m\u001b[90m━━━━━━━━━━━━━━━━━\u001b[0m \u001b[32m158.6/288.2 MB\u001b[0m \u001b[31m64.8 MB/s\u001b[0m eta \u001b[36m0:00:02\u001b[0m"
        },
        {
          "name": "stdout",
          "output_type": "stream",
          "text": "\r,\u001b[2K   \u001b[91m━━━━━━━━━━━━━━━━━━━━━━━\u001b[0m\u001b[90m╺\u001b[0m\u001b[90m━━━━━━━━━━━━━━━━\u001b[0m \u001b[32m169.1/288.2 MB\u001b[0m \u001b[31m64.4 MB/s\u001b[0m eta \u001b[36m0:00:02\u001b[0m\r,\u001b[2K   \u001b[91m━━━━━━━━━━━━━━━━━━━━━━━━\u001b[0m\u001b[91m╸\u001b[0m\u001b[90m━━━━━━━━━━━━━━━\u001b[0m \u001b[32m176.9/288.2 MB\u001b[0m \u001b[31m61.6 MB/s\u001b[0m eta \u001b[36m0:00:02\u001b[0m"
        },
        {
          "name": "stdout",
          "output_type": "stream",
          "text": "\r,\u001b[2K   \u001b[91m━━━━━━━━━━━━━━━━━━━━━━━━━\u001b[0m\u001b[91m╸\u001b[0m\u001b[90m━━━━━━━━━━━━━━\u001b[0m \u001b[32m186.4/288.2 MB\u001b[0m \u001b[31m61.6 MB/s\u001b[0m eta \u001b[36m0:00:02\u001b[0m"
        },
        {
          "name": "stdout",
          "output_type": "stream",
          "text": "\r,\u001b[2K   \u001b[91m━━━━━━━━━━━━━━━━━━━━━━━━━━\u001b[0m\u001b[91m╸\u001b[0m\u001b[90m━━━━━━━━━━━━━\u001b[0m \u001b[32m192.4/288.2 MB\u001b[0m \u001b[31m58.6 MB/s\u001b[0m eta \u001b[36m0:00:02\u001b[0m"
        },
        {
          "name": "stdout",
          "output_type": "stream",
          "text": "\r,\u001b[2K   \u001b[91m━━━━━━━━━━━━━━━━━━━━━━━━━━━\u001b[0m\u001b[91m╸\u001b[0m\u001b[90m━━━━━━━━━━━━\u001b[0m \u001b[32m200.5/288.2 MB\u001b[0m \u001b[31m57.6 MB/s\u001b[0m eta \u001b[36m0:00:02\u001b[0m"
        },
        {
          "name": "stdout",
          "output_type": "stream",
          "text": "\r,\u001b[2K   \u001b[91m━━━━━━━━━━━━━━━━━━━━━━━━━━━━\u001b[0m\u001b[91m╸\u001b[0m\u001b[90m━━━━━━━━━━━\u001b[0m \u001b[32m207.6/288.2 MB\u001b[0m \u001b[31m56.3 MB/s\u001b[0m eta \u001b[36m0:00:02\u001b[0m"
        },
        {
          "name": "stdout",
          "output_type": "stream",
          "text": "\r,\u001b[2K   \u001b[91m━━━━━━━━━━━━━━━━━━━━━━━━━━━━━━\u001b[0m\u001b[90m╺\u001b[0m\u001b[90m━━━━━━━━━\u001b[0m \u001b[32m217.8/288.2 MB\u001b[0m \u001b[31m56.0 MB/s\u001b[0m eta \u001b[36m0:00:02\u001b[0m"
        },
        {
          "name": "stdout",
          "output_type": "stream",
          "text": "\r,\u001b[2K   \u001b[91m━━━━━━━━━━━━━━━━━━━━━━━━━━━━━━━\u001b[0m\u001b[91m╸\u001b[0m\u001b[90m━━━━━━━━\u001b[0m \u001b[32m227.5/288.2 MB\u001b[0m \u001b[31m55.5 MB/s\u001b[0m eta \u001b[36m0:00:02\u001b[0m"
        },
        {
          "name": "stdout",
          "output_type": "stream",
          "text": "\r,\u001b[2K   \u001b[91m━━━━━━━━━━━━━━━━━━━━━━━━━━━━━━━━━\u001b[0m\u001b[90m╺\u001b[0m\u001b[90m━━━━━━\u001b[0m \u001b[32m238.0/288.2 MB\u001b[0m \u001b[31m55.3 MB/s\u001b[0m eta \u001b[36m0:00:01\u001b[0m"
        },
        {
          "name": "stdout",
          "output_type": "stream",
          "text": "\r,\u001b[2K   \u001b[91m━━━━━━━━━━━━━━━━━━━━━━━━━━━━━━━━━━\u001b[0m\u001b[90m╺\u001b[0m\u001b[90m━━━━━\u001b[0m \u001b[32m248.5/288.2 MB\u001b[0m \u001b[31m55.1 MB/s\u001b[0m eta \u001b[36m0:00:01\u001b[0m"
        },
        {
          "name": "stdout",
          "output_type": "stream",
          "text": "\r,\u001b[2K   \u001b[91m━━━━━━━━━━━━━━━━━━━━━━━━━━━━━━━━━━━\u001b[0m\u001b[91m╸\u001b[0m\u001b[90m━━━━\u001b[0m \u001b[32m259.3/288.2 MB\u001b[0m \u001b[31m54.9 MB/s\u001b[0m eta \u001b[36m0:00:01\u001b[0m\r,\u001b[2K   \u001b[91m━━━━━━━━━━━━━━━━━━━━━━━━━━━━━━━━━━━━━\u001b[0m\u001b[91m╸\u001b[0m\u001b[90m━━\u001b[0m \u001b[32m271.1/288.2 MB\u001b[0m \u001b[31m54.4 MB/s\u001b[0m eta \u001b[36m0:00:01\u001b[0m"
        },
        {
          "name": "stdout",
          "output_type": "stream",
          "text": "\r,\u001b[2K   \u001b[91m━━━━━━━━━━━━━━━━━━━━━━━━━━━━━━━━━━━━━━━\u001b[0m\u001b[90m╺\u001b[0m \u001b[32m282.6/288.2 MB\u001b[0m \u001b[31m53.8 MB/s\u001b[0m eta \u001b[36m0:00:01\u001b[0m"
        },
        {
          "name": "stdout",
          "output_type": "stream",
          "text": "\r,\u001b[2K   \u001b[91m━━━━━━━━━━━━━━━━━━━━━━━━━━━━━━━━━━━━━━━\u001b[0m\u001b[91m╸\u001b[0m \u001b[32m288.1/288.2 MB\u001b[0m \u001b[31m53.5 MB/s\u001b[0m eta \u001b[36m0:00:01\u001b[0m\r,\u001b[2K   \u001b[91m━━━━━━━━━━━━━━━━━━━━━━━━━━━━━━━━━━━━━━━\u001b[0m\u001b[91m╸\u001b[0m \u001b[32m288.1/288.2 MB\u001b[0m \u001b[31m53.5 MB/s\u001b[0m eta \u001b[36m0:00:01\u001b[0m"
        },
        {
          "name": "stdout",
          "output_type": "stream",
          "text": "\r,\u001b[2K   \u001b[91m━━━━━━━━━━━━━━━━━━━━━━━━━━━━━━━━━━━━━━━\u001b[0m\u001b[91m╸\u001b[0m \u001b[32m288.1/288.2 MB\u001b[0m \u001b[31m53.5 MB/s\u001b[0m eta \u001b[36m0:00:01\u001b[0m"
        },
        {
          "name": "stdout",
          "output_type": "stream",
          "text": "\r,\u001b[2K   \u001b[91m━━━━━━━━━━━━━━━━━━━━━━━━━━━━━━━━━━━━━━━\u001b[0m\u001b[91m╸\u001b[0m \u001b[32m288.1/288.2 MB\u001b[0m \u001b[31m53.5 MB/s\u001b[0m eta \u001b[36m0:00:01\u001b[0m"
        },
        {
          "name": "stdout",
          "output_type": "stream",
          "text": "\r,\u001b[2K   \u001b[91m━━━━━━━━━━━━━━━━━━━━━━━━━━━━━━━━━━━━━━━\u001b[0m\u001b[91m╸\u001b[0m \u001b[32m288.1/288.2 MB\u001b[0m \u001b[31m53.5 MB/s\u001b[0m eta \u001b[36m0:00:01\u001b[0m"
        },
        {
          "name": "stdout",
          "output_type": "stream",
          "text": "\r,\u001b[2K   \u001b[91m━━━━━━━━━━━━━━━━━━━━━━━━━━━━━━━━━━━━━━━\u001b[0m\u001b[91m╸\u001b[0m \u001b[32m288.1/288.2 MB\u001b[0m \u001b[31m53.5 MB/s\u001b[0m eta \u001b[36m0:00:01\u001b[0m"
        },
        {
          "name": "stdout",
          "output_type": "stream",
          "text": "\r,\u001b[2K   \u001b[91m━━━━━━━━━━━━━━━━━━━━━━━━━━━━━━━━━━━━━━━\u001b[0m\u001b[91m╸\u001b[0m \u001b[32m288.1/288.2 MB\u001b[0m \u001b[31m53.5 MB/s\u001b[0m eta \u001b[36m0:00:01\u001b[0m"
        },
        {
          "name": "stdout",
          "output_type": "stream",
          "text": "\r,\u001b[2K   \u001b[91m━━━━━━━━━━━━━━━━━━━━━━━━━━━━━━━━━━━━━━━\u001b[0m\u001b[91m╸\u001b[0m \u001b[32m288.1/288.2 MB\u001b[0m \u001b[31m53.5 MB/s\u001b[0m eta \u001b[36m0:00:01\u001b[0m"
        },
        {
          "name": "stdout",
          "output_type": "stream",
          "text": "\r,\u001b[2K   \u001b[91m━━━━━━━━━━━━━━━━━━━━━━━━━━━━━━━━━━━━━━━\u001b[0m\u001b[91m╸\u001b[0m \u001b[32m288.1/288.2 MB\u001b[0m \u001b[31m53.5 MB/s\u001b[0m eta \u001b[36m0:00:01\u001b[0m"
        },
        {
          "name": "stdout",
          "output_type": "stream",
          "text": "\r,\u001b[2K   \u001b[91m━━━━━━━━━━━━━━━━━━━━━━━━━━━━━━━━━━━━━━━\u001b[0m\u001b[91m╸\u001b[0m \u001b[32m288.1/288.2 MB\u001b[0m \u001b[31m53.5 MB/s\u001b[0m eta \u001b[36m0:00:01\u001b[0m"
        },
        {
          "name": "stdout",
          "output_type": "stream",
          "text": "\r,\u001b[2K   \u001b[91m━━━━━━━━━━━━━━━━━━━━━━━━━━━━━━━━━━━━━━━\u001b[0m\u001b[91m╸\u001b[0m \u001b[32m288.1/288.2 MB\u001b[0m \u001b[31m53.5 MB/s\u001b[0m eta \u001b[36m0:00:01\u001b[0m\r,\u001b[2K   \u001b[91m━━━━━━━━━━━━━━━━━━━━━━━━━━━━━━━━━━━━━━━\u001b[0m\u001b[91m╸\u001b[0m \u001b[32m288.1/288.2 MB\u001b[0m \u001b[31m53.5 MB/s\u001b[0m eta \u001b[36m0:00:01\u001b[0m"
        },
        {
          "name": "stdout",
          "output_type": "stream",
          "text": "\r,\u001b[2K   \u001b[91m━━━━━━━━━━━━━━━━━━━━━━━━━━━━━━━━━━━━━━━\u001b[0m\u001b[91m╸\u001b[0m \u001b[32m288.1/288.2 MB\u001b[0m \u001b[31m53.5 MB/s\u001b[0m eta \u001b[36m0:00:01\u001b[0m"
        },
        {
          "name": "stdout",
          "output_type": "stream",
          "text": "\r,\u001b[2K   \u001b[91m━━━━━━━━━━━━━━━━━━━━━━━━━━━━━━━━━━━━━━━\u001b[0m\u001b[91m╸\u001b[0m \u001b[32m288.1/288.2 MB\u001b[0m \u001b[31m53.5 MB/s\u001b[0m eta \u001b[36m0:00:01\u001b[0m"
        },
        {
          "name": "stdout",
          "output_type": "stream",
          "text": "\r,\u001b[2K   \u001b[91m━━━━━━━━━━━━━━━━━━━━━━━━━━━━━━━━━━━━━━━\u001b[0m\u001b[91m╸\u001b[0m \u001b[32m288.1/288.2 MB\u001b[0m \u001b[31m53.5 MB/s\u001b[0m eta \u001b[36m0:00:01\u001b[0m"
        },
        {
          "name": "stdout",
          "output_type": "stream",
          "text": "\r,\u001b[2K   \u001b[91m━━━━━━━━━━━━━━━━━━━━━━━━━━━━━━━━━━━━━━━\u001b[0m\u001b[91m╸\u001b[0m \u001b[32m288.1/288.2 MB\u001b[0m \u001b[31m53.5 MB/s\u001b[0m eta \u001b[36m0:00:01\u001b[0m\r,\u001b[2K   \u001b[90m━━━━━━━━━━━━━━━━━━━━━━━━━━━━━━━━━━━━━━━━\u001b[0m \u001b[32m288.2/288.2 MB\u001b[0m \u001b[31m31.8 MB/s\u001b[0m eta \u001b[36m0:00:00\u001b[0m\n,\u001b[?25hDownloading nvidia_cusparselt_cu12-0.7.1-py3-none-manylinux2014_x86_64.whl (287.2 MB)\n,\u001b[?25l   \u001b[90m━━━━━━━━━━━━━━━━━━━━━━━━━━━━━━━━━━━━━━━━\u001b[0m \u001b[32m0.0/287.2 MB\u001b[0m \u001b[31m?\u001b[0m eta \u001b[36m-:--:--\u001b[0m"
        },
        {
          "name": "stdout",
          "output_type": "stream",
          "text": "\r,\u001b[2K   \u001b[91m━\u001b[0m\u001b[91m╸\u001b[0m\u001b[90m━━━━━━━━━━━━━━━━━━━━━━━━━━━━━━━━━━━━━━\u001b[0m \u001b[32m12.8/287.2 MB\u001b[0m \u001b[31m64.7 MB/s\u001b[0m eta \u001b[36m0:00:05\u001b[0m"
        },
        {
          "name": "stdout",
          "output_type": "stream",
          "text": "\r,\u001b[2K   \u001b[91m━━━\u001b[0m\u001b[91m╸\u001b[0m\u001b[90m━━━━━━━━━━━━━━━━━━━━━━━━━━━━━━━━━━━━\u001b[0m \u001b[32m26.5/287.2 MB\u001b[0m \u001b[31m65.9 MB/s\u001b[0m eta \u001b[36m0:00:04\u001b[0m"
        },
        {
          "name": "stdout",
          "output_type": "stream",
          "text": "\r,\u001b[2K   \u001b[91m━━━━━\u001b[0m\u001b[91m╸\u001b[0m\u001b[90m━━━━━━━━━━━━━━━━━━━━━━━━━━━━━━━━━━\u001b[0m \u001b[32m40.9/287.2 MB\u001b[0m \u001b[31m67.3 MB/s\u001b[0m eta \u001b[36m0:00:04\u001b[0m"
        },
        {
          "name": "stdout",
          "output_type": "stream",
          "text": "\r,\u001b[2K   \u001b[91m━━━━━━━\u001b[0m\u001b[91m╸\u001b[0m\u001b[90m━━━━━━━━━━━━━━━━━━━━━━━━━━━━━━━━\u001b[0m \u001b[32m55.1/287.2 MB\u001b[0m \u001b[31m67.3 MB/s\u001b[0m eta \u001b[36m0:00:04\u001b[0m"
        },
        {
          "name": "stdout",
          "output_type": "stream",
          "text": "\r,\u001b[2K   \u001b[91m━━━━━━━━━\u001b[0m\u001b[91m╸\u001b[0m\u001b[90m━━━━━━━━━━━━━━━━━━━━━━━━━━━━━━\u001b[0m \u001b[32m68.4/287.2 MB\u001b[0m \u001b[31m66.8 MB/s\u001b[0m eta \u001b[36m0:00:04\u001b[0m"
        },
        {
          "name": "stdout",
          "output_type": "stream",
          "text": "\r,\u001b[2K   \u001b[91m━━━━━━━━━━━\u001b[0m\u001b[90m╺\u001b[0m\u001b[90m━━━━━━━━━━━━━━━━━━━━━━━━━━━━\u001b[0m \u001b[32m81.3/287.2 MB\u001b[0m \u001b[31m66.1 MB/s\u001b[0m eta \u001b[36m0:00:04\u001b[0m"
        },
        {
          "name": "stdout",
          "output_type": "stream",
          "text": "\r,\u001b[2K   \u001b[91m━━━━━━━━━━━━━\u001b[0m\u001b[90m╺\u001b[0m\u001b[90m━━━━━━━━━━━━━━━━━━━━━━━━━━\u001b[0m \u001b[32m94.9/287.2 MB\u001b[0m \u001b[31m66.1 MB/s\u001b[0m eta \u001b[36m0:00:03\u001b[0m"
        },
        {
          "name": "stdout",
          "output_type": "stream",
          "text": "\r,\u001b[2K   \u001b[91m━━━━━━━━━━━━━━\u001b[0m\u001b[91m╸\u001b[0m\u001b[90m━━━━━━━━━━━━━━━━━━━━━━━━━\u001b[0m \u001b[32m105.6/287.2 MB\u001b[0m \u001b[31m64.3 MB/s\u001b[0m eta \u001b[36m0:00:03\u001b[0m"
        },
        {
          "name": "stdout",
          "output_type": "stream",
          "text": "\r,\u001b[2K   \u001b[91m━━━━━━━━━━━━━━━━━\u001b[0m\u001b[90m╺\u001b[0m\u001b[90m━━━━━━━━━━━━━━━━━━━━━━\u001b[0m \u001b[32m122.7/287.2 MB\u001b[0m \u001b[31m66.1 MB/s\u001b[0m eta \u001b[36m0:00:03\u001b[0m"
        },
        {
          "name": "stdout",
          "output_type": "stream",
          "text": "\r,\u001b[2K   \u001b[91m━━━━━━━━━━━━━━━━━━\u001b[0m\u001b[91m╸\u001b[0m\u001b[90m━━━━━━━━━━━━━━━━━━━━━\u001b[0m \u001b[32m134.0/287.2 MB\u001b[0m \u001b[31m65.7 MB/s\u001b[0m eta \u001b[36m0:00:03\u001b[0m"
        },
        {
          "name": "stdout",
          "output_type": "stream",
          "text": "\r,\u001b[2K   \u001b[91m━━━━━━━━━━━━━━━━━━━━\u001b[0m\u001b[90m╺\u001b[0m\u001b[90m━━━━━━━━━━━━━━━━━━━\u001b[0m \u001b[32m144.2/287.2 MB\u001b[0m \u001b[31m63.0 MB/s\u001b[0m eta \u001b[36m0:00:03\u001b[0m"
        },
        {
          "name": "stdout",
          "output_type": "stream",
          "text": "\r,\u001b[2K   \u001b[91m━━━━━━━━━━━━━━━━━━━━━\u001b[0m\u001b[91m╸\u001b[0m\u001b[90m━━━━━━━━━━━━━━━━━━\u001b[0m \u001b[32m154.4/287.2 MB\u001b[0m \u001b[31m61.9 MB/s\u001b[0m eta \u001b[36m0:00:03\u001b[0m"
        },
        {
          "name": "stdout",
          "output_type": "stream",
          "text": "\r,\u001b[2K   \u001b[91m━━━━━━━━━━━━━━━━━━━━━━\u001b[0m\u001b[91m╸\u001b[0m\u001b[90m━━━━━━━━━━━━━━━━━\u001b[0m \u001b[32m164.6/287.2 MB\u001b[0m \u001b[31m61.0 MB/s\u001b[0m eta \u001b[36m0:00:03\u001b[0m"
        },
        {
          "name": "stdout",
          "output_type": "stream",
          "text": "\r,\u001b[2K   \u001b[91m━━━━━━━━━━━━━━━━━━━━━━━\u001b[0m\u001b[91m╸\u001b[0m\u001b[90m━━━━━━━━━━━━━━━━\u001b[0m \u001b[32m172.2/287.2 MB\u001b[0m \u001b[31m59.4 MB/s\u001b[0m eta \u001b[36m0:00:02\u001b[0m"
        },
        {
          "name": "stdout",
          "output_type": "stream",
          "text": "\r,\u001b[2K   \u001b[91m━━━━━━━━━━━━━━━━━━━━━━━━\u001b[0m\u001b[91m╸\u001b[0m\u001b[90m━━━━━━━━━━━━━━━\u001b[0m \u001b[32m179.0/287.2 MB\u001b[0m \u001b[31m57.8 MB/s\u001b[0m eta \u001b[36m0:00:02\u001b[0m"
        },
        {
          "name": "stdout",
          "output_type": "stream",
          "text": "\r,\u001b[2K   \u001b[91m━━━━━━━━━━━━━━━━━━━━━━━━━━\u001b[0m\u001b[90m╺\u001b[0m\u001b[90m━━━━━━━━━━━━━\u001b[0m \u001b[32m188.7/287.2 MB\u001b[0m \u001b[31m57.0 MB/s\u001b[0m eta \u001b[36m0:00:02\u001b[0m"
        },
        {
          "name": "stdout",
          "output_type": "stream",
          "text": "\r,\u001b[2K   \u001b[91m━━━━━━━━━━━━━━━━━━━━━━━━━━━\u001b[0m\u001b[91m╸\u001b[0m\u001b[90m━━━━━━━━━━━━\u001b[0m \u001b[32m199.0/287.2 MB\u001b[0m \u001b[31m56.7 MB/s\u001b[0m eta \u001b[36m0:00:02\u001b[0m"
        },
        {
          "name": "stdout",
          "output_type": "stream",
          "text": "\r,\u001b[2K   \u001b[91m━━━━━━━━━━━━━━━━━━━━━━━━━━━━━\u001b[0m\u001b[90m╺\u001b[0m\u001b[90m━━━━━━━━━━\u001b[0m \u001b[32m210.0/287.2 MB\u001b[0m \u001b[31m56.5 MB/s\u001b[0m eta \u001b[36m0:00:02\u001b[0m"
        },
        {
          "name": "stdout",
          "output_type": "stream",
          "text": "\r,\u001b[2K   \u001b[91m━━━━━━━━━━━━━━━━━━━━━━━━━━━━━━\u001b[0m\u001b[91m╸\u001b[0m\u001b[90m━━━━━━━━━\u001b[0m \u001b[32m221.2/287.2 MB\u001b[0m \u001b[31m56.4 MB/s\u001b[0m eta \u001b[36m0:00:02\u001b[0m"
        },
        {
          "name": "stdout",
          "output_type": "stream",
          "text": "\r,\u001b[2K   \u001b[91m━━━━━━━━━━━━━━━━━━━━━━━━━━━━━━━━\u001b[0m\u001b[90m╺\u001b[0m\u001b[90m━━━━━━━\u001b[0m \u001b[32m233.3/287.2 MB\u001b[0m \u001b[31m56.5 MB/s\u001b[0m eta \u001b[36m0:00:01\u001b[0m"
        },
        {
          "name": "stdout",
          "output_type": "stream",
          "text": "\r,\u001b[2K   \u001b[91m━━━━━━━━━━━━━━━━━━━━━━━━━━━━━━━━━━\u001b[0m\u001b[90m╺\u001b[0m\u001b[90m━━━━━\u001b[0m \u001b[32m245.6/287.2 MB\u001b[0m \u001b[31m56.7 MB/s\u001b[0m eta \u001b[36m0:00:01\u001b[0m"
        },
        {
          "name": "stdout",
          "output_type": "stream",
          "text": "\r,\u001b[2K   \u001b[91m━━━━━━━━━━━━━━━━━━━━━━━━━━━━━━━━━━━\u001b[0m\u001b[91m╸\u001b[0m\u001b[90m━━━━\u001b[0m \u001b[32m258.2/287.2 MB\u001b[0m \u001b[31m56.9 MB/s\u001b[0m eta \u001b[36m0:00:01\u001b[0m"
        },
        {
          "name": "stdout",
          "output_type": "stream",
          "text": "\r,\u001b[2K   \u001b[91m━━━━━━━━━━━━━━━━━━━━━━━━━━━━━━━━━━━━━\u001b[0m\u001b[91m╸\u001b[0m\u001b[90m━━\u001b[0m \u001b[32m270.5/287.2 MB\u001b[0m \u001b[31m56.9 MB/s\u001b[0m eta \u001b[36m0:00:01\u001b[0m"
        },
        {
          "name": "stdout",
          "output_type": "stream",
          "text": "\r,\u001b[2K   \u001b[91m━━━━━━━━━━━━━━━━━━━━━━━━━━━━━━━━━━━━━━━\u001b[0m\u001b[91m╸\u001b[0m \u001b[32m284.4/287.2 MB\u001b[0m \u001b[31m57.0 MB/s\u001b[0m eta \u001b[36m0:00:01\u001b[0m"
        },
        {
          "name": "stdout",
          "output_type": "stream",
          "text": "\r,\u001b[2K   \u001b[91m━━━━━━━━━━━━━━━━━━━━━━━━━━━━━━━━━━━━━━━\u001b[0m\u001b[91m╸\u001b[0m \u001b[32m287.0/287.2 MB\u001b[0m \u001b[31m57.0 MB/s\u001b[0m eta \u001b[36m0:00:01\u001b[0m"
        },
        {
          "name": "stdout",
          "output_type": "stream",
          "text": "\r,\u001b[2K   \u001b[91m━━━━━━━━━━━━━━━━━━━━━━━━━━━━━━━━━━━━━━━\u001b[0m\u001b[91m╸\u001b[0m \u001b[32m287.0/287.2 MB\u001b[0m \u001b[31m57.0 MB/s\u001b[0m eta \u001b[36m0:00:01\u001b[0m"
        },
        {
          "name": "stdout",
          "output_type": "stream",
          "text": "\r,\u001b[2K   \u001b[91m━━━━━━━━━━━━━━━━━━━━━━━━━━━━━━━━━━━━━━━\u001b[0m\u001b[91m╸\u001b[0m \u001b[32m287.0/287.2 MB\u001b[0m \u001b[31m57.0 MB/s\u001b[0m eta \u001b[36m0:00:01\u001b[0m"
        },
        {
          "name": "stdout",
          "output_type": "stream",
          "text": "\r,\u001b[2K   \u001b[91m━━━━━━━━━━━━━━━━━━━━━━━━━━━━━━━━━━━━━━━\u001b[0m\u001b[91m╸\u001b[0m \u001b[32m287.0/287.2 MB\u001b[0m \u001b[31m57.0 MB/s\u001b[0m eta \u001b[36m0:00:01\u001b[0m"
        },
        {
          "name": "stdout",
          "output_type": "stream",
          "text": "\r,\u001b[2K   \u001b[91m━━━━━━━━━━━━━━━━━━━━━━━━━━━━━━━━━━━━━━━\u001b[0m\u001b[91m╸\u001b[0m \u001b[32m287.0/287.2 MB\u001b[0m \u001b[31m57.0 MB/s\u001b[0m eta \u001b[36m0:00:01\u001b[0m"
        },
        {
          "name": "stdout",
          "output_type": "stream",
          "text": "\r,\u001b[2K   \u001b[91m━━━━━━━━━━━━━━━━━━━━━━━━━━━━━━━━━━━━━━━\u001b[0m\u001b[91m╸\u001b[0m \u001b[32m287.0/287.2 MB\u001b[0m \u001b[31m57.0 MB/s\u001b[0m eta \u001b[36m0:00:01\u001b[0m"
        },
        {
          "name": "stdout",
          "output_type": "stream",
          "text": "\r,\u001b[2K   \u001b[91m━━━━━━━━━━━━━━━━━━━━━━━━━━━━━━━━━━━━━━━\u001b[0m\u001b[91m╸\u001b[0m \u001b[32m287.0/287.2 MB\u001b[0m \u001b[31m57.0 MB/s\u001b[0m eta \u001b[36m0:00:01\u001b[0m"
        },
        {
          "name": "stdout",
          "output_type": "stream",
          "text": "\r,\u001b[2K   \u001b[91m━━━━━━━━━━━━━━━━━━━━━━━━━━━━━━━━━━━━━━━\u001b[0m\u001b[91m╸\u001b[0m \u001b[32m287.0/287.2 MB\u001b[0m \u001b[31m57.0 MB/s\u001b[0m eta \u001b[36m0:00:01\u001b[0m\r,\u001b[2K   \u001b[91m━━━━━━━━━━━━━━━━━━━━━━━━━━━━━━━━━━━━━━━\u001b[0m\u001b[91m╸\u001b[0m \u001b[32m287.0/287.2 MB\u001b[0m \u001b[31m57.0 MB/s\u001b[0m eta \u001b[36m0:00:01\u001b[0m"
        },
        {
          "name": "stdout",
          "output_type": "stream",
          "text": "\r,\u001b[2K   \u001b[91m━━━━━━━━━━━━━━━━━━━━━━━━━━━━━━━━━━━━━━━\u001b[0m\u001b[91m╸\u001b[0m \u001b[32m287.0/287.2 MB\u001b[0m \u001b[31m57.0 MB/s\u001b[0m eta \u001b[36m0:00:01\u001b[0m"
        },
        {
          "name": "stdout",
          "output_type": "stream",
          "text": "\r,\u001b[2K   \u001b[91m━━━━━━━━━━━━━━━━━━━━━━━━━━━━━━━━━━━━━━━\u001b[0m\u001b[91m╸\u001b[0m \u001b[32m287.0/287.2 MB\u001b[0m \u001b[31m57.0 MB/s\u001b[0m eta \u001b[36m0:00:01\u001b[0m"
        },
        {
          "name": "stdout",
          "output_type": "stream",
          "text": "\r,\u001b[2K   \u001b[91m━━━━━━━━━━━━━━━━━━━━━━━━━━━━━━━━━━━━━━━\u001b[0m\u001b[91m╸\u001b[0m \u001b[32m287.0/287.2 MB\u001b[0m \u001b[31m57.0 MB/s\u001b[0m eta \u001b[36m0:00:01\u001b[0m"
        },
        {
          "name": "stdout",
          "output_type": "stream",
          "text": "\r,\u001b[2K   \u001b[91m━━━━━━━━━━━━━━━━━━━━━━━━━━━━━━━━━━━━━━━\u001b[0m\u001b[91m╸\u001b[0m \u001b[32m287.0/287.2 MB\u001b[0m \u001b[31m57.0 MB/s\u001b[0m eta \u001b[36m0:00:01\u001b[0m"
        },
        {
          "name": "stdout",
          "output_type": "stream",
          "text": "\r,\u001b[2K   \u001b[91m━━━━━━━━━━━━━━━━━━━━━━━━━━━━━━━━━━━━━━━\u001b[0m\u001b[91m╸\u001b[0m \u001b[32m287.0/287.2 MB\u001b[0m \u001b[31m57.0 MB/s\u001b[0m eta \u001b[36m0:00:01\u001b[0m"
        },
        {
          "name": "stdout",
          "output_type": "stream",
          "text": "\r,\u001b[2K   \u001b[91m━━━━━━━━━━━━━━━━━━━━━━━━━━━━━━━━━━━━━━━\u001b[0m\u001b[91m╸\u001b[0m \u001b[32m287.0/287.2 MB\u001b[0m \u001b[31m57.0 MB/s\u001b[0m eta \u001b[36m0:00:01\u001b[0m"
        },
        {
          "name": "stdout",
          "output_type": "stream",
          "text": "\r,\u001b[2K   \u001b[91m━━━━━━━━━━━━━━━━━━━━━━━━━━━━━━━━━━━━━━━\u001b[0m\u001b[91m╸\u001b[0m \u001b[32m287.0/287.2 MB\u001b[0m \u001b[31m57.0 MB/s\u001b[0m eta \u001b[36m0:00:01\u001b[0m"
        },
        {
          "name": "stdout",
          "output_type": "stream",
          "text": "\r,\u001b[2K   \u001b[91m━━━━━━━━━━━━━━━━━━━━━━━━━━━━━━━━━━━━━━━\u001b[0m\u001b[91m╸\u001b[0m \u001b[32m287.0/287.2 MB\u001b[0m \u001b[31m57.0 MB/s\u001b[0m eta \u001b[36m0:00:01\u001b[0m\r,\u001b[2K   \u001b[90m━━━━━━━━━━━━━━━━━━━━━━━━━━━━━━━━━━━━━━━━\u001b[0m \u001b[32m287.2/287.2 MB\u001b[0m \u001b[31m32.0 MB/s\u001b[0m eta \u001b[36m0:00:00\u001b[0m\n,\u001b[?25hDownloading nvidia_nccl_cu12-2.27.3-py3-none-manylinux2014_x86_64.manylinux_2_17_x86_64.whl (322.4 MB)\n,\u001b[?25l   \u001b[90m━━━━━━━━━━━━━━━━━━━━━━━━━━━━━━━━━━━━━━━━\u001b[0m \u001b[32m0.0/322.4 MB\u001b[0m \u001b[31m?\u001b[0m eta \u001b[36m-:--:--\u001b[0m"
        },
        {
          "name": "stdout",
          "output_type": "stream",
          "text": "\r,\u001b[2K   \u001b[91m━\u001b[0m\u001b[91m╸\u001b[0m\u001b[90m━━━━━━━━━━━━━━━━━━━━━━━━━━━━━━━━━━━━━━\u001b[0m \u001b[32m14.4/322.4 MB\u001b[0m \u001b[31m71.5 MB/s\u001b[0m eta \u001b[36m0:00:05\u001b[0m"
        },
        {
          "name": "stdout",
          "output_type": "stream",
          "text": "\r,\u001b[2K   \u001b[91m━━━\u001b[0m\u001b[91m╸\u001b[0m\u001b[90m━━━━━━━━━━━━━━━━━━━━━━━━━━━━━━━━━━━━\u001b[0m \u001b[32m28.8/322.4 MB\u001b[0m \u001b[31m71.5 MB/s\u001b[0m eta \u001b[36m0:00:05\u001b[0m"
        },
        {
          "name": "stdout",
          "output_type": "stream",
          "text": "\r,\u001b[2K   \u001b[91m━━━━━\u001b[0m\u001b[91m╸\u001b[0m\u001b[90m━━━━━━━━━━━━━━━━━━━━━━━━━━━━━━━━━━\u001b[0m \u001b[32m44.8/322.4 MB\u001b[0m \u001b[31m73.3 MB/s\u001b[0m eta \u001b[36m0:00:04\u001b[0m"
        },
        {
          "name": "stdout",
          "output_type": "stream",
          "text": "\r,\u001b[2K   \u001b[91m━━━━━━━\u001b[0m\u001b[91m╸\u001b[0m\u001b[90m━━━━━━━━━━━━━━━━━━━━━━━━━━━━━━━━\u001b[0m \u001b[32m60.6/322.4 MB\u001b[0m \u001b[31m74.5 MB/s\u001b[0m eta \u001b[36m0:00:04\u001b[0m\r,\u001b[2K   \u001b[91m━━━━━━━━━\u001b[0m\u001b[91m╸\u001b[0m\u001b[90m━━━━━━━━━━━━━━━━━━━━━━━━━━━━━━\u001b[0m \u001b[32m77.1/322.4 MB\u001b[0m \u001b[31m75.8 MB/s\u001b[0m eta \u001b[36m0:00:04\u001b[0m"
        },
        {
          "name": "stdout",
          "output_type": "stream",
          "text": "\r,\u001b[2K   \u001b[91m━━━━━━━━━━━\u001b[0m\u001b[90m╺\u001b[0m\u001b[90m━━━━━━━━━━━━━━━━━━━━━━━━━━━━\u001b[0m \u001b[32m92.3/322.4 MB\u001b[0m \u001b[31m75.4 MB/s\u001b[0m eta \u001b[36m0:00:04\u001b[0m"
        },
        {
          "name": "stdout",
          "output_type": "stream",
          "text": "\r,\u001b[2K   \u001b[91m━━━━━━━━━━━━\u001b[0m\u001b[91m╸\u001b[0m\u001b[90m━━━━━━━━━━━━━━━━━━━━━━━━━━━\u001b[0m \u001b[32m103.8/322.4 MB\u001b[0m \u001b[31m73.0 MB/s\u001b[0m eta \u001b[36m0:00:03\u001b[0m"
        },
        {
          "name": "stdout",
          "output_type": "stream",
          "text": "\r,\u001b[2K   \u001b[91m━━━━━━━━━━━━━━\u001b[0m\u001b[90m╺\u001b[0m\u001b[90m━━━━━━━━━━━━━━━━━━━━━━━━━\u001b[0m \u001b[32m115.3/322.4 MB\u001b[0m \u001b[31m70.6 MB/s\u001b[0m eta \u001b[36m0:00:03\u001b[0m"
        },
        {
          "name": "stdout",
          "output_type": "stream",
          "text": "\r,\u001b[2K   \u001b[91m━━━━━━━━━━━━━━━\u001b[0m\u001b[90m╺\u001b[0m\u001b[90m━━━━━━━━━━━━━━━━━━━━━━━━\u001b[0m \u001b[32m123.5/322.4 MB\u001b[0m \u001b[31m67.3 MB/s\u001b[0m eta \u001b[36m0:00:03\u001b[0m"
        },
        {
          "name": "stdout",
          "output_type": "stream",
          "text": "\r,\u001b[2K   \u001b[91m━━━━━━━━━━━━━━━━\u001b[0m\u001b[91m╸\u001b[0m\u001b[90m━━━━━━━━━━━━━━━━━━━━━━━\u001b[0m \u001b[32m133.7/322.4 MB\u001b[0m \u001b[31m65.4 MB/s\u001b[0m eta \u001b[36m0:00:03\u001b[0m"
        },
        {
          "name": "stdout",
          "output_type": "stream",
          "text": "\r,\u001b[2K   \u001b[91m━━━━━━━━━━━━━━━━━\u001b[0m\u001b[91m╸\u001b[0m\u001b[90m━━━━━━━━━━━━━━━━━━━━━━\u001b[0m \u001b[32m143.7/322.4 MB\u001b[0m \u001b[31m63.9 MB/s\u001b[0m eta \u001b[36m0:00:03\u001b[0m"
        },
        {
          "name": "stdout",
          "output_type": "stream",
          "text": "\r,\u001b[2K   \u001b[91m━━━━━━━━━━━━━━━━━━\u001b[0m\u001b[91m╸\u001b[0m\u001b[90m━━━━━━━━━━━━━━━━━━━━━\u001b[0m \u001b[32m152.6/322.4 MB\u001b[0m \u001b[31m62.2 MB/s\u001b[0m eta \u001b[36m0:00:03\u001b[0m"
        },
        {
          "name": "stdout",
          "output_type": "stream",
          "text": "\r,\u001b[2K   \u001b[91m━━━━━━━━━━━━━━━━━━━━\u001b[0m\u001b[91m╸\u001b[0m\u001b[90m━━━━━━━━━━━━━━━━━━━\u001b[0m \u001b[32m165.4/322.4 MB\u001b[0m \u001b[31m62.3 MB/s\u001b[0m eta \u001b[36m0:00:03\u001b[0m"
        },
        {
          "name": "stdout",
          "output_type": "stream",
          "text": "\r,\u001b[2K   \u001b[91m━━━━━━━━━━━━━━━━━━━━━━\u001b[0m\u001b[90m╺\u001b[0m\u001b[90m━━━━━━━━━━━━━━━━━\u001b[0m \u001b[32m178.8/322.4 MB\u001b[0m \u001b[31m62.6 MB/s\u001b[0m eta \u001b[36m0:00:03\u001b[0m"
        },
        {
          "name": "stdout",
          "output_type": "stream",
          "text": "\r,\u001b[2K   \u001b[91m━━━━━━━━━━━━━━━━━━━━━━━\u001b[0m\u001b[91m╸\u001b[0m\u001b[90m━━━━━━━━━━━━━━━━\u001b[0m \u001b[32m190.3/322.4 MB\u001b[0m \u001b[31m62.1 MB/s\u001b[0m eta \u001b[36m0:00:03\u001b[0m"
        },
        {
          "name": "stdout",
          "output_type": "stream",
          "text": "\r,\u001b[2K   \u001b[91m━━━━━━━━━━━━━━━━━━━━━━━━━\u001b[0m\u001b[90m╺\u001b[0m\u001b[90m━━━━━━━━━━━━━━\u001b[0m \u001b[32m201.6/322.4 MB\u001b[0m \u001b[31m61.7 MB/s\u001b[0m eta \u001b[36m0:00:02\u001b[0m"
        },
        {
          "name": "stdout",
          "output_type": "stream",
          "text": "\r,\u001b[2K   \u001b[91m━━━━━━━━━━━━━━━━━━━━━━━━━\u001b[0m\u001b[91m╸\u001b[0m\u001b[90m━━━━━━━━━━━━━━\u001b[0m \u001b[32m207.1/322.4 MB\u001b[0m \u001b[31m60.1 MB/s\u001b[0m eta \u001b[36m0:00:02\u001b[0m"
        },
        {
          "name": "stdout",
          "output_type": "stream",
          "text": "\r,\u001b[2K   \u001b[91m━━━━━━━━━━━━━━━━━━━━━━━━━━\u001b[0m\u001b[91m╸\u001b[0m\u001b[90m━━━━━━━━━━━━━\u001b[0m \u001b[32m213.9/322.4 MB\u001b[0m \u001b[31m58.3 MB/s\u001b[0m eta \u001b[36m0:00:02\u001b[0m"
        },
        {
          "name": "stdout",
          "output_type": "stream",
          "text": "\r,\u001b[2K   \u001b[91m━━━━━━━━━━━━━━━━━━━━━━━━━━━━\u001b[0m\u001b[90m╺\u001b[0m\u001b[90m━━━━━━━━━━━\u001b[0m \u001b[32m228.9/322.4 MB\u001b[0m \u001b[31m59.1 MB/s\u001b[0m eta \u001b[36m0:00:02\u001b[0m"
        },
        {
          "name": "stdout",
          "output_type": "stream",
          "text": "\r,\u001b[2K   \u001b[91m━━━━━━━━━━━━━━━━━━━━━━━━━━━━━\u001b[0m\u001b[91m╸\u001b[0m\u001b[90m━━━━━━━━━━\u001b[0m \u001b[32m241.7/322.4 MB\u001b[0m \u001b[31m59.3 MB/s\u001b[0m eta \u001b[36m0:00:02\u001b[0m"
        },
        {
          "name": "stdout",
          "output_type": "stream",
          "text": "\r,\u001b[2K   \u001b[91m━━━━━━━━━━━━━━━━━━━━━━━━━━━━━━━\u001b[0m\u001b[91m╸\u001b[0m\u001b[90m━━━━━━━━\u001b[0m \u001b[32m254.0/322.4 MB\u001b[0m \u001b[31m59.3 MB/s\u001b[0m eta \u001b[36m0:00:02\u001b[0m"
        },
        {
          "name": "stdout",
          "output_type": "stream",
          "text": "\r,\u001b[2K   \u001b[91m━━━━━━━━━━━━━━━━━━━━━━━━━━━━━━━━\u001b[0m\u001b[91m╸\u001b[0m\u001b[90m━━━━━━━\u001b[0m \u001b[32m265.6/322.4 MB\u001b[0m \u001b[31m59.0 MB/s\u001b[0m eta \u001b[36m0:00:01\u001b[0m"
        },
        {
          "name": "stdout",
          "output_type": "stream",
          "text": "\r,\u001b[2K   \u001b[91m━━━━━━━━━━━━━━━━━━━━━━━━━━━━━━━━━━\u001b[0m\u001b[90m╺\u001b[0m\u001b[90m━━━━━\u001b[0m \u001b[32m276.6/322.4 MB\u001b[0m \u001b[31m58.4 MB/s\u001b[0m eta \u001b[36m0:00:01\u001b[0m"
        },
        {
          "name": "stdout",
          "output_type": "stream",
          "text": "\r,\u001b[2K   \u001b[91m━━━━━━━━━━━━━━━━━━━━━━━━━━━━━━━━━━━\u001b[0m\u001b[91m╸\u001b[0m\u001b[90m━━━━\u001b[0m \u001b[32m288.1/322.4 MB\u001b[0m \u001b[31m57.8 MB/s\u001b[0m eta \u001b[36m0:00:01\u001b[0m"
        },
        {
          "name": "stdout",
          "output_type": "stream",
          "text": "\r,\u001b[2K   \u001b[91m━━━━━━━━━━━━━━━━━━━━━━━━━━━━━━━━━━━━━\u001b[0m\u001b[90m╺\u001b[0m\u001b[90m━━\u001b[0m \u001b[32m298.8/322.4 MB\u001b[0m \u001b[31m57.1 MB/s\u001b[0m eta \u001b[36m0:00:01\u001b[0m"
        },
        {
          "name": "stdout",
          "output_type": "stream",
          "text": "\r,\u001b[2K   \u001b[91m━━━━━━━━━━━━━━━━━━━━━━━━━━━━━━━━━━━━━━\u001b[0m\u001b[90m╺\u001b[0m\u001b[90m━\u001b[0m \u001b[32m309.6/322.4 MB\u001b[0m \u001b[31m56.2 MB/s\u001b[0m eta \u001b[36m0:00:01\u001b[0m"
        },
        {
          "name": "stdout",
          "output_type": "stream",
          "text": "\r,\u001b[2K   \u001b[91m━━━━━━━━━━━━━━━━━━━━━━━━━━━━━━━━━━━━━━━\u001b[0m\u001b[91m╸\u001b[0m \u001b[32m318.5/322.4 MB\u001b[0m \u001b[31m55.2 MB/s\u001b[0m eta \u001b[36m0:00:01\u001b[0m"
        },
        {
          "name": "stdout",
          "output_type": "stream",
          "text": "\r,\u001b[2K   \u001b[91m━━━━━━━━━━━━━━━━━━━━━━━━━━━━━━━━━━━━━━━\u001b[0m\u001b[91m╸\u001b[0m \u001b[32m322.2/322.4 MB\u001b[0m \u001b[31m54.6 MB/s\u001b[0m eta \u001b[36m0:00:01\u001b[0m"
        },
        {
          "name": "stdout",
          "output_type": "stream",
          "text": "\r,\u001b[2K   \u001b[91m━━━━━━━━━━━━━━━━━━━━━━━━━━━━━━━━━━━━━━━\u001b[0m\u001b[91m╸\u001b[0m \u001b[32m322.2/322.4 MB\u001b[0m \u001b[31m54.6 MB/s\u001b[0m eta \u001b[36m0:00:01\u001b[0m"
        },
        {
          "name": "stdout",
          "output_type": "stream",
          "text": "\r,\u001b[2K   \u001b[91m━━━━━━━━━━━━━━━━━━━━━━━━━━━━━━━━━━━━━━━\u001b[0m\u001b[91m╸\u001b[0m \u001b[32m322.2/322.4 MB\u001b[0m \u001b[31m54.6 MB/s\u001b[0m eta \u001b[36m0:00:01\u001b[0m"
        },
        {
          "name": "stdout",
          "output_type": "stream",
          "text": "\r,\u001b[2K   \u001b[91m━━━━━━━━━━━━━━━━━━━━━━━━━━━━━━━━━━━━━━━\u001b[0m\u001b[91m╸\u001b[0m \u001b[32m322.2/322.4 MB\u001b[0m \u001b[31m54.6 MB/s\u001b[0m eta \u001b[36m0:00:01\u001b[0m"
        },
        {
          "name": "stdout",
          "output_type": "stream",
          "text": "\r,\u001b[2K   \u001b[91m━━━━━━━━━━━━━━━━━━━━━━━━━━━━━━━━━━━━━━━\u001b[0m\u001b[91m╸\u001b[0m \u001b[32m322.2/322.4 MB\u001b[0m \u001b[31m54.6 MB/s\u001b[0m eta \u001b[36m0:00:01\u001b[0m"
        },
        {
          "name": "stdout",
          "output_type": "stream",
          "text": "\r,\u001b[2K   \u001b[91m━━━━━━━━━━━━━━━━━━━━━━━━━━━━━━━━━━━━━━━\u001b[0m\u001b[91m╸\u001b[0m \u001b[32m322.2/322.4 MB\u001b[0m \u001b[31m54.6 MB/s\u001b[0m eta \u001b[36m0:00:01\u001b[0m"
        },
        {
          "name": "stdout",
          "output_type": "stream",
          "text": "\r,\u001b[2K   \u001b[91m━━━━━━━━━━━━━━━━━━━━━━━━━━━━━━━━━━━━━━━\u001b[0m\u001b[91m╸\u001b[0m \u001b[32m322.2/322.4 MB\u001b[0m \u001b[31m54.6 MB/s\u001b[0m eta \u001b[36m0:00:01\u001b[0m"
        },
        {
          "name": "stdout",
          "output_type": "stream",
          "text": "\r,\u001b[2K   \u001b[91m━━━━━━━━━━━━━━━━━━━━━━━━━━━━━━━━━━━━━━━\u001b[0m\u001b[91m╸\u001b[0m \u001b[32m322.2/322.4 MB\u001b[0m \u001b[31m54.6 MB/s\u001b[0m eta \u001b[36m0:00:01\u001b[0m"
        },
        {
          "name": "stdout",
          "output_type": "stream",
          "text": "\r,\u001b[2K   \u001b[91m━━━━━━━━━━━━━━━━━━━━━━━━━━━━━━━━━━━━━━━\u001b[0m\u001b[91m╸\u001b[0m \u001b[32m322.2/322.4 MB\u001b[0m \u001b[31m54.6 MB/s\u001b[0m eta \u001b[36m0:00:01\u001b[0m"
        },
        {
          "name": "stdout",
          "output_type": "stream",
          "text": "\r,\u001b[2K   \u001b[91m━━━━━━━━━━━━━━━━━━━━━━━━━━━━━━━━━━━━━━━\u001b[0m\u001b[91m╸\u001b[0m \u001b[32m322.2/322.4 MB\u001b[0m \u001b[31m54.6 MB/s\u001b[0m eta \u001b[36m0:00:01\u001b[0m"
        },
        {
          "name": "stdout",
          "output_type": "stream",
          "text": "\r,\u001b[2K   \u001b[91m━━━━━━━━━━━━━━━━━━━━━━━━━━━━━━━━━━━━━━━\u001b[0m\u001b[91m╸\u001b[0m \u001b[32m322.2/322.4 MB\u001b[0m \u001b[31m54.6 MB/s\u001b[0m eta \u001b[36m0:00:01\u001b[0m"
        },
        {
          "name": "stdout",
          "output_type": "stream",
          "text": "\r,\u001b[2K   \u001b[91m━━━━━━━━━━━━━━━━━━━━━━━━━━━━━━━━━━━━━━━\u001b[0m\u001b[91m╸\u001b[0m \u001b[32m322.2/322.4 MB\u001b[0m \u001b[31m54.6 MB/s\u001b[0m eta \u001b[36m0:00:01\u001b[0m"
        },
        {
          "name": "stdout",
          "output_type": "stream",
          "text": "\r,\u001b[2K   \u001b[91m━━━━━━━━━━━━━━━━━━━━━━━━━━━━━━━━━━━━━━━\u001b[0m\u001b[91m╸\u001b[0m \u001b[32m322.2/322.4 MB\u001b[0m \u001b[31m54.6 MB/s\u001b[0m eta \u001b[36m0:00:01\u001b[0m"
        },
        {
          "name": "stdout",
          "output_type": "stream",
          "text": "\r,\u001b[2K   \u001b[91m━━━━━━━━━━━━━━━━━━━━━━━━━━━━━━━━━━━━━━━\u001b[0m\u001b[91m╸\u001b[0m \u001b[32m322.2/322.4 MB\u001b[0m \u001b[31m54.6 MB/s\u001b[0m eta \u001b[36m0:00:01\u001b[0m"
        },
        {
          "name": "stdout",
          "output_type": "stream",
          "text": "\r,\u001b[2K   \u001b[91m━━━━━━━━━━━━━━━━━━━━━━━━━━━━━━━━━━━━━━━\u001b[0m\u001b[91m╸\u001b[0m \u001b[32m322.2/322.4 MB\u001b[0m \u001b[31m54.6 MB/s\u001b[0m eta \u001b[36m0:00:01\u001b[0m"
        },
        {
          "name": "stdout",
          "output_type": "stream",
          "text": "\r,\u001b[2K   \u001b[91m━━━━━━━━━━━━━━━━━━━━━━━━━━━━━━━━━━━━━━━\u001b[0m\u001b[91m╸\u001b[0m \u001b[32m322.2/322.4 MB\u001b[0m \u001b[31m54.6 MB/s\u001b[0m eta \u001b[36m0:00:01\u001b[0m"
        },
        {
          "name": "stdout",
          "output_type": "stream",
          "text": "\r,\u001b[2K   \u001b[91m━━━━━━━━━━━━━━━━━━━━━━━━━━━━━━━━━━━━━━━\u001b[0m\u001b[91m╸\u001b[0m \u001b[32m322.2/322.4 MB\u001b[0m \u001b[31m54.6 MB/s\u001b[0m eta \u001b[36m0:00:01\u001b[0m"
        },
        {
          "name": "stdout",
          "output_type": "stream",
          "text": "\r,\u001b[2K   \u001b[91m━━━━━━━━━━━━━━━━━━━━━━━━━━━━━━━━━━━━━━━\u001b[0m\u001b[91m╸\u001b[0m \u001b[32m322.2/322.4 MB\u001b[0m \u001b[31m54.6 MB/s\u001b[0m eta \u001b[36m0:00:01\u001b[0m"
        },
        {
          "name": "stdout",
          "output_type": "stream",
          "text": "\r,\u001b[2K   \u001b[91m━━━━━━━━━━━━━━━━━━━━━━━━━━━━━━━━━━━━━━━\u001b[0m\u001b[91m╸\u001b[0m \u001b[32m322.2/322.4 MB\u001b[0m \u001b[31m54.6 MB/s\u001b[0m eta \u001b[36m0:00:01\u001b[0m"
        },
        {
          "name": "stdout",
          "output_type": "stream",
          "text": "\r,\u001b[2K   \u001b[91m━━━━━━━━━━━━━━━━━━━━━━━━━━━━━━━━━━━━━━━\u001b[0m\u001b[91m╸\u001b[0m \u001b[32m322.2/322.4 MB\u001b[0m \u001b[31m54.6 MB/s\u001b[0m eta \u001b[36m0:00:01\u001b[0m\r,\u001b[2K   \u001b[90m━━━━━━━━━━━━━━━━━━━━━━━━━━━━━━━━━━━━━━━━\u001b[0m \u001b[32m322.4/322.4 MB\u001b[0m \u001b[31m29.4 MB/s\u001b[0m eta \u001b[36m0:00:00\u001b[0m\n,\u001b[?25hDownloading nvidia_nvjitlink_cu12-12.8.93-py3-none-manylinux2010_x86_64.manylinux_2_12_x86_64.whl (39.3 MB)\n,\u001b[?25l   \u001b[90m━━━━━━━━━━━━━━━━━━━━━━━━━━━━━━━━━━━━━━━━\u001b[0m \u001b[32m0.0/39.3 MB\u001b[0m \u001b[31m?\u001b[0m eta \u001b[36m-:--:--\u001b[0m"
        },
        {
          "name": "stdout",
          "output_type": "stream",
          "text": "\r,\u001b[2K   \u001b[91m━━━━━━━━\u001b[0m\u001b[91m╸\u001b[0m\u001b[90m━━━━━━━━━━━━━━━━━━━━━━━━━━━━━━━\u001b[0m \u001b[32m8.7/39.3 MB\u001b[0m \u001b[31m47.3 MB/s\u001b[0m eta \u001b[36m0:00:01\u001b[0m"
        },
        {
          "name": "stdout",
          "output_type": "stream",
          "text": "\r,\u001b[2K   \u001b[91m━━━━━━━━━━━━━━━━━━\u001b[0m\u001b[91m╸\u001b[0m\u001b[90m━━━━━━━━━━━━━━━━━━━━━\u001b[0m \u001b[32m18.4/39.3 MB\u001b[0m \u001b[31m47.5 MB/s\u001b[0m eta \u001b[36m0:00:01\u001b[0m"
        },
        {
          "name": "stdout",
          "output_type": "stream",
          "text": "\r,\u001b[2K   \u001b[91m━━━━━━━━━━━━━━━━━━━━━━━━━━━\u001b[0m\u001b[90m╺\u001b[0m\u001b[90m━━━━━━━━━━━━\u001b[0m \u001b[32m26.7/39.3 MB\u001b[0m \u001b[31m45.1 MB/s\u001b[0m eta \u001b[36m0:00:01\u001b[0m"
        },
        {
          "name": "stdout",
          "output_type": "stream",
          "text": "\r,\u001b[2K   \u001b[91m━━━━━━━━━━━━━━━━━━━━━━━━━━━━━━━━━━━━━━\u001b[0m\u001b[90m╺\u001b[0m\u001b[90m━\u001b[0m \u001b[32m37.5/39.3 MB\u001b[0m \u001b[31m47.4 MB/s\u001b[0m eta \u001b[36m0:00:01\u001b[0m"
        },
        {
          "name": "stdout",
          "output_type": "stream",
          "text": "\r,\u001b[2K   \u001b[91m━━━━━━━━━━━━━━━━━━━━━━━━━━━━━━━━━━━━━━━\u001b[0m\u001b[91m╸\u001b[0m \u001b[32m39.1/39.3 MB\u001b[0m \u001b[31m45.5 MB/s\u001b[0m eta \u001b[36m0:00:01\u001b[0m"
        },
        {
          "name": "stdout",
          "output_type": "stream",
          "text": "\r,\u001b[2K   \u001b[91m━━━━━━━━━━━━━━━━━━━━━━━━━━━━━━━━━━━━━━━\u001b[0m\u001b[91m╸\u001b[0m \u001b[32m39.1/39.3 MB\u001b[0m \u001b[31m45.5 MB/s\u001b[0m eta \u001b[36m0:00:01\u001b[0m"
        },
        {
          "name": "stdout",
          "output_type": "stream",
          "text": "\r,\u001b[2K   \u001b[91m━━━━━━━━━━━━━━━━━━━━━━━━━━━━━━━━━━━━━━━\u001b[0m\u001b[91m╸\u001b[0m \u001b[32m39.1/39.3 MB\u001b[0m \u001b[31m45.5 MB/s\u001b[0m eta \u001b[36m0:00:01\u001b[0m\r,\u001b[2K   \u001b[90m━━━━━━━━━━━━━━━━━━━━━━━━━━━━━━━━━━━━━━━━\u001b[0m \u001b[32m39.3/39.3 MB\u001b[0m \u001b[31m25.4 MB/s\u001b[0m eta \u001b[36m0:00:00\u001b[0m\n,\u001b[?25hDownloading nvidia_nvtx_cu12-12.8.90-py3-none-manylinux2014_x86_64.manylinux_2_17_x86_64.whl (89 kB)\n,Downloading triton-3.4.0-cp312-cp312-manylinux_2_27_x86_64.manylinux_2_28_x86_64.whl (155.6 MB)\n,\u001b[?25l   \u001b[90m━━━━━━━━━━━━━━━━━━━━━━━━━━━━━━━━━━━━━━━━\u001b[0m \u001b[32m0.0/155.6 MB\u001b[0m \u001b[31m?\u001b[0m eta \u001b[36m-:--:--\u001b[0m"
        },
        {
          "name": "stdout",
          "output_type": "stream",
          "text": "\r,\u001b[2K   \u001b[91m━━\u001b[0m\u001b[91m╸\u001b[0m\u001b[90m━━━━━━━━━━━━━━━━━━━━━━━━━━━━━━━━━━━━━\u001b[0m \u001b[32m11.5/155.6 MB\u001b[0m \u001b[31m56.9 MB/s\u001b[0m eta \u001b[36m0:00:03\u001b[0m"
        },
        {
          "name": "stdout",
          "output_type": "stream",
          "text": "\r,\u001b[2K   \u001b[91m━━━━━\u001b[0m\u001b[91m╸\u001b[0m\u001b[90m━━━━━━━━━━━━━━━━━━━━━━━━━━━━━━━━━━\u001b[0m \u001b[32m23.3/155.6 MB\u001b[0m \u001b[31m58.1 MB/s\u001b[0m eta \u001b[36m0:00:03\u001b[0m"
        },
        {
          "name": "stdout",
          "output_type": "stream",
          "text": "\r,\u001b[2K   \u001b[91m━━━━━━━━━\u001b[0m\u001b[90m╺\u001b[0m\u001b[90m━━━━━━━━━━━━━━━━━━━━━━━━━━━━━━\u001b[0m \u001b[32m35.7/155.6 MB\u001b[0m \u001b[31m58.8 MB/s\u001b[0m eta \u001b[36m0:00:03\u001b[0m"
        },
        {
          "name": "stdout",
          "output_type": "stream",
          "text": "\r,\u001b[2K   \u001b[91m━━━━━━━━━━━━\u001b[0m\u001b[91m╸\u001b[0m\u001b[90m━━━━━━━━━━━━━━━━━━━━━━━━━━━\u001b[0m \u001b[32m49.0/155.6 MB\u001b[0m \u001b[31m60.4 MB/s\u001b[0m eta \u001b[36m0:00:02\u001b[0m"
        },
        {
          "name": "stdout",
          "output_type": "stream",
          "text": "\r,\u001b[2K   \u001b[91m━━━━━━━━━━━━━━━━\u001b[0m\u001b[90m╺\u001b[0m\u001b[90m━━━━━━━━━━━━━━━━━━━━━━━\u001b[0m \u001b[32m62.4/155.6 MB\u001b[0m \u001b[31m61.4 MB/s\u001b[0m eta \u001b[36m0:00:02\u001b[0m"
        },
        {
          "name": "stdout",
          "output_type": "stream",
          "text": "\r,\u001b[2K   \u001b[91m━━━━━━━━━━━━━━━━━━━\u001b[0m\u001b[91m╸\u001b[0m\u001b[90m━━━━━━━━━━━━━━━━━━━━\u001b[0m \u001b[32m76.8/155.6 MB\u001b[0m \u001b[31m63.0 MB/s\u001b[0m eta \u001b[36m0:00:02\u001b[0m"
        },
        {
          "name": "stdout",
          "output_type": "stream",
          "text": "\r,\u001b[2K   \u001b[91m━━━━━━━━━━━━━━━━━━━━━━━\u001b[0m\u001b[90m╺\u001b[0m\u001b[90m━━━━━━━━━━━━━━━━\u001b[0m \u001b[32m90.7/155.6 MB\u001b[0m \u001b[31m63.8 MB/s\u001b[0m eta \u001b[36m0:00:02\u001b[0m"
        },
        {
          "name": "stdout",
          "output_type": "stream",
          "text": "\r,\u001b[2K   \u001b[91m━━━━━━━━━━━━━━━━━━━━━━━━━━━\u001b[0m\u001b[90m╺\u001b[0m\u001b[90m━━━━━━━━━━━━\u001b[0m \u001b[32m106.2/155.6 MB\u001b[0m \u001b[31m65.2 MB/s\u001b[0m eta \u001b[36m0:00:01\u001b[0m"
        },
        {
          "name": "stdout",
          "output_type": "stream",
          "text": "\r,\u001b[2K   \u001b[91m━━━━━━━━━━━━━━━━━━━━━━━━━━━━━━━\u001b[0m\u001b[90m╺\u001b[0m\u001b[90m━━━━━━━━\u001b[0m \u001b[32m121.6/155.6 MB\u001b[0m \u001b[31m66.4 MB/s\u001b[0m eta \u001b[36m0:00:01\u001b[0m"
        },
        {
          "name": "stdout",
          "output_type": "stream",
          "text": "\r,\u001b[2K   \u001b[91m━━━━━━━━━━━━━━━━━━━━━━━━━━━━━━━━━━\u001b[0m\u001b[91m╸\u001b[0m\u001b[90m━━━━━\u001b[0m \u001b[32m135.0/155.6 MB\u001b[0m \u001b[31m66.3 MB/s\u001b[0m eta \u001b[36m0:00:01\u001b[0m"
        },
        {
          "name": "stdout",
          "output_type": "stream",
          "text": "\r,\u001b[2K   \u001b[91m━━━━━━━━━━━━━━━━━━━━━━━━━━━━━━━━━━━━━━\u001b[0m\u001b[90m╺\u001b[0m\u001b[90m━\u001b[0m \u001b[32m148.1/155.6 MB\u001b[0m \u001b[31m66.1 MB/s\u001b[0m eta \u001b[36m0:00:01\u001b[0m"
        },
        {
          "name": "stdout",
          "output_type": "stream",
          "text": "\r,\u001b[2K   \u001b[91m━━━━━━━━━━━━━━━━━━━━━━━━━━━━━━━━━━━━━━━\u001b[0m\u001b[91m╸\u001b[0m \u001b[32m155.5/155.6 MB\u001b[0m \u001b[31m65.6 MB/s\u001b[0m eta \u001b[36m0:00:01\u001b[0m"
        },
        {
          "name": "stdout",
          "output_type": "stream",
          "text": "\r,\u001b[2K   \u001b[91m━━━━━━━━━━━━━━━━━━━━━━━━━━━━━━━━━━━━━━━\u001b[0m\u001b[91m╸\u001b[0m \u001b[32m155.5/155.6 MB\u001b[0m \u001b[31m65.6 MB/s\u001b[0m eta \u001b[36m0:00:01\u001b[0m"
        },
        {
          "name": "stdout",
          "output_type": "stream",
          "text": "\r,\u001b[2K   \u001b[91m━━━━━━━━━━━━━━━━━━━━━━━━━━━━━━━━━━━━━━━\u001b[0m\u001b[91m╸\u001b[0m \u001b[32m155.5/155.6 MB\u001b[0m \u001b[31m65.6 MB/s\u001b[0m eta \u001b[36m0:00:01\u001b[0m"
        },
        {
          "name": "stdout",
          "output_type": "stream",
          "text": "\r,\u001b[2K   \u001b[91m━━━━━━━━━━━━━━━━━━━━━━━━━━━━━━━━━━━━━━━\u001b[0m\u001b[91m╸\u001b[0m \u001b[32m155.5/155.6 MB\u001b[0m \u001b[31m65.6 MB/s\u001b[0m eta \u001b[36m0:00:01\u001b[0m"
        },
        {
          "name": "stdout",
          "output_type": "stream",
          "text": "\r,\u001b[2K   \u001b[91m━━━━━━━━━━━━━━━━━━━━━━━━━━━━━━━━━━━━━━━\u001b[0m\u001b[91m╸\u001b[0m \u001b[32m155.5/155.6 MB\u001b[0m \u001b[31m65.6 MB/s\u001b[0m eta \u001b[36m0:00:01\u001b[0m"
        },
        {
          "name": "stdout",
          "output_type": "stream",
          "text": "\r,\u001b[2K   \u001b[91m━━━━━━━━━━━━━━━━━━━━━━━━━━━━━━━━━━━━━━━\u001b[0m\u001b[91m╸\u001b[0m \u001b[32m155.5/155.6 MB\u001b[0m \u001b[31m65.6 MB/s\u001b[0m eta \u001b[36m0:00:01\u001b[0m"
        },
        {
          "name": "stdout",
          "output_type": "stream",
          "text": "\r,\u001b[2K   \u001b[91m━━━━━━━━━━━━━━━━━━━━━━━━━━━━━━━━━━━━━━━\u001b[0m\u001b[91m╸\u001b[0m \u001b[32m155.5/155.6 MB\u001b[0m \u001b[31m65.6 MB/s\u001b[0m eta \u001b[36m0:00:01\u001b[0m"
        },
        {
          "name": "stdout",
          "output_type": "stream",
          "text": "\r,\u001b[2K   \u001b[91m━━━━━━━━━━━━━━━━━━━━━━━━━━━━━━━━━━━━━━━\u001b[0m\u001b[91m╸\u001b[0m \u001b[32m155.5/155.6 MB\u001b[0m \u001b[31m65.6 MB/s\u001b[0m eta \u001b[36m0:00:01\u001b[0m"
        },
        {
          "name": "stdout",
          "output_type": "stream",
          "text": "\r,\u001b[2K   \u001b[91m━━━━━━━━━━━━━━━━━━━━━━━━━━━━━━━━━━━━━━━\u001b[0m\u001b[91m╸\u001b[0m \u001b[32m155.5/155.6 MB\u001b[0m \u001b[31m65.6 MB/s\u001b[0m eta \u001b[36m0:00:01\u001b[0m"
        },
        {
          "name": "stdout",
          "output_type": "stream",
          "text": "\r,\u001b[2K   \u001b[91m━━━━━━━━━━━━━━━━━━━━━━━━━━━━━━━━━━━━━━━\u001b[0m\u001b[91m╸\u001b[0m \u001b[32m155.5/155.6 MB\u001b[0m \u001b[31m65.6 MB/s\u001b[0m eta \u001b[36m0:00:01\u001b[0m"
        },
        {
          "name": "stdout",
          "output_type": "stream",
          "text": "\r,\u001b[2K   \u001b[91m━━━━━━━━━━━━━━━━━━━━━━━━━━━━━━━━━━━━━━━\u001b[0m\u001b[91m╸\u001b[0m \u001b[32m155.5/155.6 MB\u001b[0m \u001b[31m65.6 MB/s\u001b[0m eta \u001b[36m0:00:01\u001b[0m"
        },
        {
          "name": "stdout",
          "output_type": "stream",
          "text": "\r,\u001b[2K   \u001b[91m━━━━━━━━━━━━━━━━━━━━━━━━━━━━━━━━━━━━━━━\u001b[0m\u001b[91m╸\u001b[0m \u001b[32m155.5/155.6 MB\u001b[0m \u001b[31m65.6 MB/s\u001b[0m eta \u001b[36m0:00:01\u001b[0m\r,\u001b[2K   \u001b[90m━━━━━━━━━━━━━━━━━━━━━━━━━━━━━━━━━━━━━━━━\u001b[0m \u001b[32m155.6/155.6 MB\u001b[0m \u001b[31m32.7 MB/s\u001b[0m eta \u001b[36m0:00:00\u001b[0m\n,\u001b[?25hDownloading torchaudio-2.8.0-cp312-cp312-manylinux_2_28_x86_64.whl (4.0 MB)\n,\u001b[?25l   \u001b[90m━━━━━━━━━━━━━━━━━━━━━━━━━━━━━━━━━━━━━━━━\u001b[0m \u001b[32m0.0/4.0 MB\u001b[0m \u001b[31m?\u001b[0m eta \u001b[36m-:--:--\u001b[0m\r,\u001b[2K   \u001b[90m━━━━━━━━━━━━━━━━━━━━━━━━━━━━━━━━━━━━━━━━\u001b[0m \u001b[32m4.0/4.0 MB\u001b[0m \u001b[31m44.5 MB/s\u001b[0m eta \u001b[36m0:00:00\u001b[0m\n,\u001b[?25hDownloading torchvision-0.23.0-cp312-cp312-manylinux_2_28_x86_64.whl (8.6 MB)\n,\u001b[?25l   \u001b[90m━━━━━━━━━━━━━━━━━━━━━━━━━━━━━━━━━━━━━━━━\u001b[0m \u001b[32m0.0/8.6 MB\u001b[0m \u001b[31m?\u001b[0m eta \u001b[36m-:--:--\u001b[0m"
        },
        {
          "name": "stdout",
          "output_type": "stream",
          "text": "\r,\u001b[2K   \u001b[90m━━━━━━━━━━━━━━━━━━━━━━━━━━━━━━━━━━━━━━━━\u001b[0m \u001b[32m8.6/8.6 MB\u001b[0m \u001b[31m46.6 MB/s\u001b[0m eta \u001b[36m0:00:00\u001b[0m\n,\u001b[?25hDownloading ultralytics-8.3.208-py3-none-any.whl (1.1 MB)\n,\u001b[?25l   \u001b[90m━━━━━━━━━━━━━━━━━━━━━━━━━━━━━━━━━━━━━━━━\u001b[0m \u001b[32m0.0/1.1 MB\u001b[0m \u001b[31m?\u001b[0m eta \u001b[36m-:--:--\u001b[0m\r,\u001b[2K   \u001b[90m━━━━━━━━━━━━━━━━━━━━━━━━━━━━━━━━━━━━━━━━\u001b[0m \u001b[32m1.1/1.1 MB\u001b[0m \u001b[31m32.8 MB/s\u001b[0m eta \u001b[36m0:00:00\u001b[0m\n,\u001b[?25hDownloading yolov5-7.0.13-py37.py38.py39.py310-none-any.whl (953 kB)\n,\u001b[?25l   \u001b[90m━━━━━━━━━━━━━━━━━━━━━━━━━━━━━━━━━━━━━━━━\u001b[0m \u001b[32m0.0/953.4 kB\u001b[0m \u001b[31m?\u001b[0m eta \u001b[36m-:--:--\u001b[0m\r,\u001b[2K   \u001b[90m━━━━━━━━━━━━━━━━━━━━━━━━━━━━━━━━━━━━━━━━\u001b[0m \u001b[32m953.4/953.4 kB\u001b[0m \u001b[31m28.9 MB/s\u001b[0m eta \u001b[36m0:00:00\u001b[0m\n,\u001b[?25hDownloading aiofiles-24.1.0-py3-none-any.whl (15 kB)\n"
        },
        {
          "name": "stdout",
          "output_type": "stream",
          "text": "Downloading boto3-1.40.49-py3-none-any.whl (139 kB)\n,Downloading fastapi-0.118.2-py3-none-any.whl (97 kB)\n,Downloading fsspec-2025.9.0-py3-none-any.whl (199 kB)\n,Downloading gitpython-3.1.45-py3-none-any.whl (208 kB)\n,Downloading groovy-0.1.2-py3-none-any.whl (14 kB)\n,Downloading hf_xet-1.1.10-cp37-abi3-manylinux_2_17_x86_64.manylinux2014_x86_64.whl (3.2 MB)\n,\u001b[?25l   \u001b[90m━━━━━━━━━━━━━━━━━━━━━━━━━━━━━━━━━━━━━━━━\u001b[0m \u001b[32m0.0/3.2 MB\u001b[0m \u001b[31m?\u001b[0m eta \u001b[36m-:--:--\u001b[0m\r,\u001b[2K   \u001b[90m━━━━━━━━━━━━━━━━━━━━━━━━━━━━━━━━━━━━━━━━\u001b[0m \u001b[32m3.2/3.2 MB\u001b[0m \u001b[31m43.0 MB/s\u001b[0m eta \u001b[36m0:00:00\u001b[0m\n,\u001b[?25h"
        },
        {
          "name": "stdout",
          "output_type": "stream",
          "text": "Downloading joblib-1.5.2-py3-none-any.whl (308 kB)\n,Downloading matplotlib-3.10.7-cp312-cp312-manylinux2014_x86_64.manylinux_2_17_x86_64.whl (8.7 MB)\n,\u001b[?25l   \u001b[90m━━━━━━━━━━━━━━━━━━━━━━━━━━━━━━━━━━━━━━━━\u001b[0m \u001b[32m0.0/8.7 MB\u001b[0m \u001b[31m?\u001b[0m eta \u001b[36m-:--:--\u001b[0m"
        },
        {
          "name": "stdout",
          "output_type": "stream",
          "text": "\r,\u001b[2K   \u001b[90m━━━━━━━━━━━━━━━━━━━━━━━━━━━━━━━━━━━━━━━━\u001b[0m \u001b[32m8.7/8.7 MB\u001b[0m \u001b[31m45.0 MB/s\u001b[0m eta \u001b[36m0:00:00\u001b[0m\n,\u001b[?25hDownloading orjson-3.11.3-cp312-cp312-manylinux_2_17_x86_64.manylinux2014_x86_64.whl (132 kB)\n,Downloading python_multipart-0.0.20-py3-none-any.whl (24 kB)\n,Downloading roboflow-1.2.10-py3-none-any.whl (89 kB)\n,Downloading idna-3.7-py3-none-any.whl (66 kB)\n,Downloading opencv_python_headless-4.10.0.84-cp37-abi3-manylinux_2_17_x86_64.manylinux2014_x86_64.whl (49.9 MB)\n,\u001b[?25l   \u001b[90m━━━━━━━━━━━━━━━━━━━━━━━━━━━━━━━━━━━━━━━━\u001b[0m \u001b[32m0.0/49.9 MB\u001b[0m \u001b[31m?\u001b[0m eta \u001b[36m-:--:--\u001b[0m"
        },
        {
          "name": "stdout",
          "output_type": "stream",
          "text": "\r,\u001b[2K   \u001b[91m━━━━━━━\u001b[0m\u001b[91m╸\u001b[0m\u001b[90m━━━━━━━━━━━━━━━━━━━━━━━━━━━━━━━━\u001b[0m \u001b[32m9.7/49.9 MB\u001b[0m \u001b[31m58.4 MB/s\u001b[0m eta \u001b[36m0:00:01\u001b[0m"
        },
        {
          "name": "stdout",
          "output_type": "stream",
          "text": "\r,\u001b[2K   \u001b[91m━━━━━━━━━━━━━━\u001b[0m\u001b[91m╸\u001b[0m\u001b[90m━━━━━━━━━━━━━━━━━━━━━━━━━\u001b[0m \u001b[32m18.6/49.9 MB\u001b[0m \u001b[31m44.4 MB/s\u001b[0m eta \u001b[36m0:00:01\u001b[0m"
        },
        {
          "name": "stdout",
          "output_type": "stream",
          "text": "\r,\u001b[2K   \u001b[91m━━━━━━━━━━━━━━━━━━━━━\u001b[0m\u001b[91m╸\u001b[0m\u001b[90m━━━━━━━━━━━━━━━━━━\u001b[0m \u001b[32m27.0/49.9 MB\u001b[0m \u001b[31m47.6 MB/s\u001b[0m eta \u001b[36m0:00:01\u001b[0m"
        },
        {
          "name": "stdout",
          "output_type": "stream",
          "text": "\r,\u001b[2K   \u001b[91m━━━━━━━━━━━━━━━━━━━━━━━━━━\u001b[0m\u001b[91m╸\u001b[0m\u001b[90m━━━━━━━━━━━━━\u001b[0m \u001b[32m33.3/49.9 MB\u001b[0m \u001b[31m40.3 MB/s\u001b[0m eta \u001b[36m0:00:01\u001b[0m"
        },
        {
          "name": "stdout",
          "output_type": "stream",
          "text": "\r,\u001b[2K   \u001b[91m━━━━━━━━━━━━━━━━━━━━━━━━━━━━━━━━━━\u001b[0m\u001b[90m╺\u001b[0m\u001b[90m━━━━━\u001b[0m \u001b[32m43.0/49.9 MB\u001b[0m \u001b[31m41.8 MB/s\u001b[0m eta \u001b[36m0:00:01\u001b[0m"
        },
        {
          "name": "stdout",
          "output_type": "stream",
          "text": "\r,\u001b[2K   \u001b[91m━━━━━━━━━━━━━━━━━━━━━━━━━━━━━━━━━━━━━━━\u001b[0m\u001b[91m╸\u001b[0m \u001b[32m49.8/49.9 MB\u001b[0m \u001b[31m44.4 MB/s\u001b[0m eta \u001b[36m0:00:01\u001b[0m"
        },
        {
          "name": "stdout",
          "output_type": "stream",
          "text": "\r,\u001b[2K   \u001b[91m━━━━━━━━━━━━━━━━━━━━━━━━━━━━━━━━━━━━━━━\u001b[0m\u001b[91m╸\u001b[0m \u001b[32m49.8/49.9 MB\u001b[0m \u001b[31m44.4 MB/s\u001b[0m eta \u001b[36m0:00:01\u001b[0m"
        },
        {
          "name": "stdout",
          "output_type": "stream",
          "text": "\r,\u001b[2K   \u001b[91m━━━━━━━━━━━━━━━━━━━━━━━━━━━━━━━━━━━━━━━\u001b[0m\u001b[91m╸\u001b[0m \u001b[32m49.8/49.9 MB\u001b[0m \u001b[31m44.4 MB/s\u001b[0m eta \u001b[36m0:00:01\u001b[0m"
        },
        {
          "name": "stdout",
          "output_type": "stream",
          "text": "\r,\u001b[2K   \u001b[91m━━━━━━━━━━━━━━━━━━━━━━━━━━━━━━━━━━━━━━━\u001b[0m\u001b[91m╸\u001b[0m \u001b[32m49.8/49.9 MB\u001b[0m \u001b[31m44.4 MB/s\u001b[0m eta \u001b[36m0:00:01\u001b[0m\r,\u001b[2K   \u001b[90m━━━━━━━━━━━━━━━━━━━━━━━━━━━━━━━━━━━━━━━━\u001b[0m \u001b[32m49.9/49.9 MB\u001b[0m \u001b[31m26.1 MB/s\u001b[0m eta \u001b[36m0:00:00\u001b[0m\n,\u001b[?25hDownloading ruff-0.14.0-py3-none-manylinux_2_17_x86_64.manylinux2014_x86_64.whl (13.4 MB)\n,\u001b[?25l   \u001b[90m━━━━━━━━━━━━━━━━━━━━━━━━━━━━━━━━━━━━━━━━\u001b[0m \u001b[32m0.0/13.4 MB\u001b[0m \u001b[31m?\u001b[0m eta \u001b[36m-:--:--\u001b[0m"
        },
        {
          "name": "stdout",
          "output_type": "stream",
          "text": "\r,\u001b[2K   \u001b[91m━━━━━━━━━━━━━━━━━━━━━━━━━━━━━━━━━━\u001b[0m\u001b[90m╺\u001b[0m\u001b[90m━━━━━\u001b[0m \u001b[32m11.5/13.4 MB\u001b[0m \u001b[31m58.9 MB/s\u001b[0m eta \u001b[36m0:00:01\u001b[0m"
        },
        {
          "name": "stdout",
          "output_type": "stream",
          "text": "\r,\u001b[2K   \u001b[91m━━━━━━━━━━━━━━━━━━━━━━━━━━━━━━━━━━━━━━━\u001b[0m\u001b[91m╸\u001b[0m \u001b[32m13.4/13.4 MB\u001b[0m \u001b[31m57.9 MB/s\u001b[0m eta \u001b[36m0:00:01\u001b[0m\r,\u001b[2K   \u001b[90m━━━━━━━━━━━━━━━━━━━━━━━━━━━━━━━━━━━━━━━━\u001b[0m \u001b[32m13.4/13.4 MB\u001b[0m \u001b[31m26.5 MB/s\u001b[0m eta \u001b[36m0:00:00\u001b[0m\n,\u001b[?25hDownloading safehttpx-0.1.6-py3-none-any.whl (8.7 kB)\n,Downloading sahi-0.11.36-py3-none-any.whl (111 kB)\n,Downloading pybboxes-0.1.6-py3-none-any.whl (24 kB)\n"
        },
        {
          "name": "stdout",
          "output_type": "stream",
          "text": "Downloading opencv_python-4.11.0.86-cp37-abi3-manylinux_2_17_x86_64.manylinux2014_x86_64.whl (63.0 MB)\n,\u001b[?25l   \u001b[90m━━━━━━━━━━━━━━━━━━━━━━━━━━━━━━━━━━━━━━━━\u001b[0m \u001b[32m0.0/63.0 MB\u001b[0m \u001b[31m?\u001b[0m eta \u001b[36m-:--:--\u001b[0m"
        },
        {
          "name": "stdout",
          "output_type": "stream",
          "text": "\r,\u001b[2K   \u001b[91m━━━━━━\u001b[0m\u001b[91m╸\u001b[0m\u001b[90m━━━━━━━━━━━━━━━━━━━━━━━━━━━━━━━━━\u001b[0m \u001b[32m10.7/63.0 MB\u001b[0m \u001b[31m53.2 MB/s\u001b[0m eta \u001b[36m0:00:01\u001b[0m"
        },
        {
          "name": "stdout",
          "output_type": "stream",
          "text": "\r,\u001b[2K   \u001b[91m━━━━━━━━━━━━━\u001b[0m\u001b[90m╺\u001b[0m\u001b[90m━━━━━━━━━━━━━━━━━━━━━━━━━━\u001b[0m \u001b[32m21.2/63.0 MB\u001b[0m \u001b[31m52.8 MB/s\u001b[0m eta \u001b[36m0:00:01\u001b[0m"
        },
        {
          "name": "stdout",
          "output_type": "stream",
          "text": "\r,\u001b[2K   \u001b[91m━━━━━━━━━━━━━━━━━━━━\u001b[0m\u001b[91m╸\u001b[0m\u001b[90m━━━━━━━━━━━━━━━━━━━\u001b[0m \u001b[32m32.8/63.0 MB\u001b[0m \u001b[31m53.9 MB/s\u001b[0m eta \u001b[36m0:00:01\u001b[0m"
        },
        {
          "name": "stdout",
          "output_type": "stream",
          "text": "\r,\u001b[2K   \u001b[91m━━━━━━━━━━━━━━━━━━━━━━━━━━━━\u001b[0m\u001b[91m╸\u001b[0m\u001b[90m━━━━━━━━━━━\u001b[0m \u001b[32m45.4/63.0 MB\u001b[0m \u001b[31m55.9 MB/s\u001b[0m eta \u001b[36m0:00:01\u001b[0m"
        },
        {
          "name": "stdout",
          "output_type": "stream",
          "text": "\r,\u001b[2K   \u001b[91m━━━━━━━━━━━━━━━━━━━━━━━━━━━━━━━━━━━━\u001b[0m\u001b[91m╸\u001b[0m\u001b[90m━━━\u001b[0m \u001b[32m57.9/63.0 MB\u001b[0m \u001b[31m57.2 MB/s\u001b[0m eta \u001b[36m0:00:01\u001b[0m"
        },
        {
          "name": "stdout",
          "output_type": "stream",
          "text": "\r,\u001b[2K   \u001b[91m━━━━━━━━━━━━━━━━━━━━━━━━━━━━━━━━━━━━━━━\u001b[0m\u001b[91m╸\u001b[0m \u001b[32m62.9/63.0 MB\u001b[0m \u001b[31m57.7 MB/s\u001b[0m eta \u001b[36m0:00:01\u001b[0m"
        },
        {
          "name": "stdout",
          "output_type": "stream",
          "text": "\r,\u001b[2K   \u001b[91m━━━━━━━━━━━━━━━━━━━━━━━━━━━━━━━━━━━━━━━\u001b[0m\u001b[91m╸\u001b[0m \u001b[32m62.9/63.0 MB\u001b[0m \u001b[31m57.7 MB/s\u001b[0m eta \u001b[36m0:00:01\u001b[0m"
        },
        {
          "name": "stdout",
          "output_type": "stream",
          "text": "\r,\u001b[2K   \u001b[91m━━━━━━━━━━━━━━━━━━━━━━━━━━━━━━━━━━━━━━━\u001b[0m\u001b[91m╸\u001b[0m \u001b[32m62.9/63.0 MB\u001b[0m \u001b[31m57.7 MB/s\u001b[0m eta \u001b[36m0:00:01\u001b[0m"
        },
        {
          "name": "stdout",
          "output_type": "stream",
          "text": "\r,\u001b[2K   \u001b[91m━━━━━━━━━━━━━━━━━━━━━━━━━━━━━━━━━━━━━━━\u001b[0m\u001b[91m╸\u001b[0m \u001b[32m62.9/63.0 MB\u001b[0m \u001b[31m57.7 MB/s\u001b[0m eta \u001b[36m0:00:01\u001b[0m"
        },
        {
          "name": "stdout",
          "output_type": "stream",
          "text": "\r,\u001b[2K   \u001b[91m━━━━━━━━━━━━━━━━━━━━━━━━━━━━━━━━━━━━━━━\u001b[0m\u001b[91m╸\u001b[0m \u001b[32m62.9/63.0 MB\u001b[0m \u001b[31m57.7 MB/s\u001b[0m eta \u001b[36m0:00:01\u001b[0m\r,\u001b[2K   \u001b[90m━━━━━━━━━━━━━━━━━━━━━━━━━━━━━━━━━━━━━━━━\u001b[0m \u001b[32m63.0/63.0 MB\u001b[0m \u001b[31m29.0 MB/s\u001b[0m eta \u001b[36m0:00:00\u001b[0m\n,\u001b[?25hDownloading seaborn-0.13.2-py3-none-any.whl (294 kB)\n,Downloading semantic_version-2.10.0-py2.py3-none-any.whl (15 kB)\n"
        },
        {
          "name": "stdout",
          "output_type": "stream",
          "text": "Downloading starlette-0.48.0-py3-none-any.whl (73 kB)\n,Downloading sympy-1.14.0-py3-none-any.whl (6.3 MB)\n,\u001b[?25l   \u001b[90m━━━━━━━━━━━━━━━━━━━━━━━━━━━━━━━━━━━━━━━━\u001b[0m \u001b[32m0.0/6.3 MB\u001b[0m \u001b[31m?\u001b[0m eta \u001b[36m-:--:--\u001b[0m\r,\u001b[2K   \u001b[90m━━━━━━━━━━━━━━━━━━━━━━━━━━━━━━━━━━━━━━━━\u001b[0m \u001b[32m6.3/6.3 MB\u001b[0m \u001b[31m47.0 MB/s\u001b[0m eta \u001b[36m0:00:00\u001b[0m\n,\u001b[?25hDownloading tensorboard-2.20.0-py3-none-any.whl (5.5 MB)\n,\u001b[?25l   \u001b[90m━━━━━━━━━━━━━━━━━━━━━━━━━━━━━━━━━━━━━━━━\u001b[0m \u001b[32m0.0/5.5 MB\u001b[0m \u001b[31m?\u001b[0m eta \u001b[36m-:--:--\u001b[0m"
        },
        {
          "name": "stdout",
          "output_type": "stream",
          "text": "\r,\u001b[2K   \u001b[90m━━━━━━━━━━━━━━━━━━━━━━━━━━━━━━━━━━━━━━━━\u001b[0m \u001b[32m5.5/5.5 MB\u001b[0m \u001b[31m49.5 MB/s\u001b[0m eta \u001b[36m0:00:00\u001b[0m\n,\u001b[?25hDownloading thop-0.1.1.post2209072238-py3-none-any.whl (15 kB)\n,Downloading threadpoolctl-3.6.0-py3-none-any.whl (18 kB)\n,Downloading tomlkit-0.13.3-py3-none-any.whl (38 kB)\n,Downloading typer-0.19.2-py3-none-any.whl (46 kB)\n,Downloading ultralytics_thop-2.0.17-py3-none-any.whl (28 kB)\n,Downloading uvicorn-0.37.0-py3-none-any.whl (67 kB)\n,Downloading ffmpy-0.6.2-py3-none-any.whl (5.5 kB)\n"
        },
        {
          "name": "stdout",
          "output_type": "stream",
          "text": "Downloading fire-0.7.1-py3-none-any.whl (115 kB)\n,Downloading networkx-3.5-py3-none-any.whl (2.0 MB)\n,\u001b[?25l   \u001b[90m━━━━━━━━━━━━━━━━━━━━━━━━━━━━━━━━━━━━━━━━\u001b[0m \u001b[32m0.0/2.0 MB\u001b[0m \u001b[31m?\u001b[0m eta \u001b[36m-:--:--\u001b[0m\r,\u001b[2K   \u001b[90m━━━━━━━━━━━━━━━━━━━━━━━━━━━━━━━━━━━━━━━━\u001b[0m \u001b[32m2.0/2.0 MB\u001b[0m \u001b[31m39.2 MB/s\u001b[0m eta \u001b[36m0:00:00\u001b[0m\n,\u001b[?25hDownloading polars-1.34.0-py3-none-any.whl (772 kB)\n,\u001b[?25l   \u001b[90m━━━━━━━━━━━━━━━━━━━━━━━━━━━━━━━━━━━━━━━━\u001b[0m \u001b[32m0.0/772.7 kB\u001b[0m \u001b[31m?\u001b[0m eta \u001b[36m-:--:--\u001b[0m\r,\u001b[2K   \u001b[90m━━━━━━━━━━━━━━━━━━━━━━━━━━━━━━━━━━━━━━━━\u001b[0m \u001b[32m772.7/772.7 kB\u001b[0m \u001b[31m29.8 MB/s\u001b[0m eta \u001b[36m0:00:00\u001b[0m\n,\u001b[?25hDownloading polars_runtime_32-1.34.0-cp39-abi3-manylinux_2_17_x86_64.manylinux2014_x86_64.whl (40.3 MB)\n,\u001b[?25l   \u001b[90m━━━━━━━━━━━━━━━━━━━━━━━━━━━━━━━━━━━━━━━━\u001b[0m \u001b[32m0.0/40.3 MB\u001b[0m \u001b[31m?\u001b[0m eta \u001b[36m-:--:--\u001b[0m"
        },
        {
          "name": "stdout",
          "output_type": "stream",
          "text": "\r,\u001b[2K   \u001b[91m━━━━━━━━━━\u001b[0m\u001b[90m╺\u001b[0m\u001b[90m━━━━━━━━━━━━━━━━━━━━━━━━━━━━━\u001b[0m \u001b[32m10.5/40.3 MB\u001b[0m \u001b[31m56.2 MB/s\u001b[0m eta \u001b[36m0:00:01\u001b[0m"
        },
        {
          "name": "stdout",
          "output_type": "stream",
          "text": "\r,\u001b[2K   \u001b[91m━━━━━━━━━━━━━━━━━━━━━━━\u001b[0m\u001b[91m╸\u001b[0m\u001b[90m━━━━━━━━━━━━━━━━\u001b[0m \u001b[32m23.9/40.3 MB\u001b[0m \u001b[31m59.6 MB/s\u001b[0m eta \u001b[36m0:00:01\u001b[0m"
        },
        {
          "name": "stdout",
          "output_type": "stream",
          "text": "\r,\u001b[2K   \u001b[91m━━━━━━━━━━━━━━━━━━━━━━━━━━━━━━━━━━\u001b[0m\u001b[91m╸\u001b[0m\u001b[90m━━━━━\u001b[0m \u001b[32m35.1/40.3 MB\u001b[0m \u001b[31m57.5 MB/s\u001b[0m eta \u001b[36m0:00:01\u001b[0m"
        },
        {
          "name": "stdout",
          "output_type": "stream",
          "text": "\r,\u001b[2K   \u001b[91m━━━━━━━━━━━━━━━━━━━━━━━━━━━━━━━━━━━━━━━\u001b[0m\u001b[91m╸\u001b[0m \u001b[32m40.1/40.3 MB\u001b[0m \u001b[31m57.1 MB/s\u001b[0m eta \u001b[36m0:00:01\u001b[0m"
        },
        {
          "name": "stdout",
          "output_type": "stream",
          "text": "\r,\u001b[2K   \u001b[91m━━━━━━━━━━━━━━━━━━━━━━━━━━━━━━━━━━━━━━━\u001b[0m\u001b[91m╸\u001b[0m \u001b[32m40.1/40.3 MB\u001b[0m \u001b[31m57.1 MB/s\u001b[0m eta \u001b[36m0:00:01\u001b[0m"
        },
        {
          "name": "stdout",
          "output_type": "stream",
          "text": "\r,\u001b[2K   \u001b[91m━━━━━━━━━━━━━━━━━━━━━━━━━━━━━━━━━━━━━━━\u001b[0m\u001b[91m╸\u001b[0m \u001b[32m40.1/40.3 MB\u001b[0m \u001b[31m57.1 MB/s\u001b[0m eta \u001b[36m0:00:01\u001b[0m\r,\u001b[2K   \u001b[90m━━━━━━━━━━━━━━━━━━━━━━━━━━━━━━━━━━━━━━━━\u001b[0m \u001b[32m40.3/40.3 MB\u001b[0m \u001b[31m28.7 MB/s\u001b[0m eta \u001b[36m0:00:00\u001b[0m\n,\u001b[?25hDownloading pydub-0.25.1-py2.py3-none-any.whl (32 kB)\n"
        },
        {
          "name": "stdout",
          "output_type": "stream",
          "text": "Downloading absl_py-2.3.1-py3-none-any.whl (135 kB)\n,Downloading botocore-1.40.49-py3-none-any.whl (14.1 MB)\n,\u001b[?25l   \u001b[90m━━━━━━━━━━━━━━━━━━━━━━━━━━━━━━━━━━━━━━━━\u001b[0m \u001b[32m0.0/14.1 MB\u001b[0m \u001b[31m?\u001b[0m eta \u001b[36m-:--:--\u001b[0m"
        },
        {
          "name": "stdout",
          "output_type": "stream",
          "text": "\r,\u001b[2K   \u001b[91m━━━━━━━━━━━━━━━━━━━━━━━━━━━━━━━\u001b[0m\u001b[90m╺\u001b[0m\u001b[90m━━━━━━━━\u001b[0m \u001b[32m11.0/14.1 MB\u001b[0m \u001b[31m55.9 MB/s\u001b[0m eta \u001b[36m0:00:01\u001b[0m\r,\u001b[2K   \u001b[90m━━━━━━━━━━━━━━━━━━━━━━━━━━━━━━━━━━━━━━━━\u001b[0m \u001b[32m14.1/14.1 MB\u001b[0m \u001b[31m41.3 MB/s\u001b[0m eta \u001b[36m0:00:00\u001b[0m\n,\u001b[?25hDownloading click-8.3.0-py3-none-any.whl (107 kB)\n,Downloading contourpy-1.3.3-cp312-cp312-manylinux_2_27_x86_64.manylinux_2_28_x86_64.whl (362 kB)\n,Downloading cycler-0.12.1-py3-none-any.whl (8.3 kB)\n"
        },
        {
          "name": "stdout",
          "output_type": "stream",
          "text": "Downloading fonttools-4.60.1-cp312-cp312-manylinux1_x86_64.manylinux2014_x86_64.manylinux_2_17_x86_64.manylinux_2_5_x86_64.whl (4.9 MB)\n,\u001b[?25l   \u001b[90m━━━━━━━━━━━━━━━━━━━━━━━━━━━━━━━━━━━━━━━━\u001b[0m \u001b[32m0.0/4.9 MB\u001b[0m \u001b[31m?\u001b[0m eta \u001b[36m-:--:--\u001b[0m\r,\u001b[2K   \u001b[90m━━━━━━━━━━━━━━━━━━━━━━━━━━━━━━━━━━━━━━━━\u001b[0m \u001b[32m4.9/4.9 MB\u001b[0m \u001b[31m39.6 MB/s\u001b[0m eta \u001b[36m0:00:00\u001b[0m\n,\u001b[?25hDownloading gitdb-4.0.12-py3-none-any.whl (62 kB)\n,Downloading grpcio-1.75.1-cp312-cp312-manylinux2014_x86_64.manylinux_2_17_x86_64.whl (6.4 MB)\n,\u001b[?25l   \u001b[90m━━━━━━━━━━━━━━━━━━━━━━━━━━━━━━━━━━━━━━━━\u001b[0m \u001b[32m0.0/6.4 MB\u001b[0m \u001b[31m?\u001b[0m eta \u001b[36m-:--:--\u001b[0m"
        },
        {
          "name": "stdout",
          "output_type": "stream",
          "text": "\r,\u001b[2K   \u001b[90m━━━━━━━━━━━━━━━━━━━━━━━━━━━━━━━━━━━━━━━━\u001b[0m \u001b[32m6.4/6.4 MB\u001b[0m \u001b[31m43.6 MB/s\u001b[0m eta \u001b[36m0:00:00\u001b[0m\n,\u001b[?25hDownloading jmespath-1.0.1-py3-none-any.whl (20 kB)\n,Downloading kiwisolver-1.4.9-cp312-cp312-manylinux2014_x86_64.manylinux_2_17_x86_64.whl (1.5 MB)\n,\u001b[?25l   \u001b[90m━━━━━━━━━━━━━━━━━━━━━━━━━━━━━━━━━━━━━━━━\u001b[0m \u001b[32m0.0/1.5 MB\u001b[0m \u001b[31m?\u001b[0m eta \u001b[36m-:--:--\u001b[0m\r,\u001b[2K   \u001b[90m━━━━━━━━━━━━━━━━━━━━━━━━━━━━━━━━━━━━━━━━\u001b[0m \u001b[32m1.5/1.5 MB\u001b[0m \u001b[31m36.3 MB/s\u001b[0m eta \u001b[36m0:00:00\u001b[0m\n,\u001b[?25hDownloading markdown-3.9-py3-none-any.whl (107 kB)\n,Downloading mpmath-1.3.0-py3-none-any.whl (536 kB)\n,\u001b[?25l   \u001b[90m━━━━━━━━━━━━━━━━━━━━━━━━━━━━━━━━━━━━━━━━\u001b[0m \u001b[32m0.0/536.2 kB\u001b[0m \u001b[31m?\u001b[0m eta \u001b[36m-:--:--\u001b[0m\r,\u001b[2K   \u001b[90m━━━━━━━━━━━━━━━━━━━━━━━━━━━━━━━━━━━━━━━━\u001b[0m \u001b[32m536.2/536.2 kB\u001b[0m \u001b[31m20.7 MB/s\u001b[0m eta \u001b[36m0:00:00\u001b[0m\n,\u001b[?25hDownloading pi_heif-1.1.1-cp312-cp312-manylinux_2_27_x86_64.manylinux_2_28_x86_64.whl (1.4 MB)\n,\u001b[?25l   \u001b[90m━━━━━━━━━━━━━━━━━━━━━━━━━━━━━━━━━━━━━━━━\u001b[0m \u001b[32m0.0/1.4 MB\u001b[0m \u001b[31m?\u001b[0m eta \u001b[36m-:--:--\u001b[0m\r,\u001b[2K   \u001b[90m━━━━━━━━━━━━━━━━━━━━━━━━━━━━━━━━━━━━━━━━\u001b[0m \u001b[32m1.4/1.4 MB\u001b[0m \u001b[31m33.8 MB/s\u001b[0m eta \u001b[36m0:00:00\u001b[0m\n,\u001b[?25h"
        },
        {
          "name": "stdout",
          "output_type": "stream",
          "text": "Downloading pillow_avif_plugin-1.5.2-cp312-cp312-manylinux_2_28_x86_64.whl (4.2 MB)\n,\u001b[?25l   \u001b[90m━━━━━━━━━━━━━━━━━━━━━━━━━━━━━━━━━━━━━━━━\u001b[0m \u001b[32m0.0/4.2 MB\u001b[0m \u001b[31m?\u001b[0m eta \u001b[36m-:--:--\u001b[0m"
        },
        {
          "name": "stdout",
          "output_type": "stream",
          "text": "\r,\u001b[2K   \u001b[91m━━━━━━━━━━━━━━━━━━━━━━━━━━━━━━━━━━━━━\u001b[0m\u001b[91m╸\u001b[0m\u001b[90m━━\u001b[0m \u001b[32m3.9/4.2 MB\u001b[0m \u001b[31m61.3 MB/s\u001b[0m eta \u001b[36m0:00:01\u001b[0m\r,\u001b[2K   \u001b[90m━━━━━━━━━━━━━━━━━━━━━━━━━━━━━━━━━━━━━━━━\u001b[0m \u001b[32m4.2/4.2 MB\u001b[0m \u001b[31m15.3 MB/s\u001b[0m eta \u001b[36m0:00:00\u001b[0m\n,\u001b[?25hDownloading protobuf-6.32.1-cp39-abi3-manylinux2014_x86_64.whl (322 kB)\n,Downloading pyparsing-3.2.5-py3-none-any.whl (113 kB)\n,Downloading rich-14.2.0-py3-none-any.whl (243 kB)\n,Downloading s3transfer-0.14.0-py3-none-any.whl (85 kB)\n"
        },
        {
          "name": "stdout",
          "output_type": "stream",
          "text": "Downloading shapely-2.1.2-cp312-cp312-manylinux2014_x86_64.manylinux_2_17_x86_64.whl (3.1 MB)\n,\u001b[?25l   \u001b[90m━━━━━━━━━━━━━━━━━━━━━━━━━━━━━━━━━━━━━━━━\u001b[0m \u001b[32m0.0/3.1 MB\u001b[0m \u001b[31m?\u001b[0m eta \u001b[36m-:--:--\u001b[0m\r,\u001b[2K   \u001b[90m━━━━━━━━━━━━━━━━━━━━━━━━━━━━━━━━━━━━━━━━\u001b[0m \u001b[32m3.1/3.1 MB\u001b[0m \u001b[31m22.5 MB/s\u001b[0m eta \u001b[36m0:00:00\u001b[0m\n,\u001b[?25hDownloading shellingham-1.5.4-py2.py3-none-any.whl (9.8 kB)\n"
        },
        {
          "name": "stdout",
          "output_type": "stream",
          "text": "Downloading tensorboard_data_server-0.7.2-py3-none-manylinux_2_31_x86_64.whl (6.6 MB)\n,\u001b[?25l   \u001b[90m━━━━━━━━━━━━━━━━━━━━━━━━━━━━━━━━━━━━━━━━\u001b[0m \u001b[32m0.0/6.6 MB\u001b[0m \u001b[31m?\u001b[0m eta \u001b[36m-:--:--\u001b[0m"
        },
        {
          "name": "stdout",
          "output_type": "stream",
          "text": "\r,\u001b[2K   \u001b[91m━━━━━━━━━━━━━━━━━━━━━━━━━━━━━━━━━━━━━━━\u001b[0m\u001b[91m╸\u001b[0m \u001b[32m6.6/6.6 MB\u001b[0m \u001b[31m56.5 MB/s\u001b[0m eta \u001b[36m0:00:01\u001b[0m\r,\u001b[2K   \u001b[90m━━━━━━━━━━━━━━━━━━━━━━━━━━━━━━━━━━━━━━━━\u001b[0m \u001b[32m6.6/6.6 MB\u001b[0m \u001b[31m30.7 MB/s\u001b[0m eta \u001b[36m0:00:00\u001b[0m\n,\u001b[?25hDownloading websockets-15.0.1-cp312-cp312-manylinux_2_5_x86_64.manylinux1_x86_64.manylinux_2_17_x86_64.manylinux2014_x86_64.whl (182 kB)\n,Downloading werkzeug-3.1.3-py3-none-any.whl (224 kB)\n,Downloading filetype-1.2.0-py2.py3-none-any.whl (19 kB)\n,Downloading python_dotenv-1.1.1-py3-none-any.whl (20 kB)\n,Downloading termcolor-3.1.0-py3-none-any.whl (7.7 kB)\n,Downloading terminaltables-3.1.10-py2.py3-none-any.whl (15 kB)\n,Downloading smmap-5.0.2-py3-none-any.whl (24 kB)\n"
        },
        {
          "name": "stdout",
          "output_type": "stream",
          "text": "Building wheels for collected packages: wget\n,  Building wheel for wget (setup.py): started\n"
        },
        {
          "name": "stdout",
          "output_type": "stream",
          "text": "  Building wheel for wget (setup.py): finished with status 'done'\n,  Created wheel for wget: filename=wget-3.2-py3-none-any.whl size=9685 sha256=78d6dd6e53d0218750a5262654fd2606d60566a384c67b9733458827d3518932\n,  Stored in directory: /home/jovyan/.cache/pip/wheels/01/46/3b/e29ffbe4ebe614ff224bad40fc6a5773a67a163251585a13a9\n,Successfully built wget\n"
        },
        {
          "name": "stdout",
          "output_type": "stream",
          "text": "Installing collected packages: wget, pydub, pillow-avif-plugin, nvidia-cusparselt-cu12, mpmath, filetype, werkzeug, websockets, triton, tomlkit, threadpoolctl, terminaltables, termcolor, tensorboard-data-server, sympy, smmap, shellingham, shapely, semantic-version, safetensors, ruff, regex, python-multipart, python-dotenv, pyparsing, pybboxes, protobuf, polars-runtime-32, Pillow, orjson, opencv-python-headless, opencv-python, nvidia-nvtx-cu12, nvidia-nvjitlink-cu12, nvidia-nccl-cu12, nvidia-curand-cu12, nvidia-cufile-cu12, nvidia-cuda-runtime-cu12, nvidia-cuda-nvrtc-cu12, nvidia-cuda-cupti-cu12, nvidia-cublas-cu12, networkx, markdown, kiwisolver, joblib, jmespath, idna, hf-xet, grpcio, groovy, fsspec, fonttools, filelock, ffmpy, cycler, contourpy, click, chardet, aiofiles, absl-py, uvicorn, tensorboard, scikit-learn, rich, polars, pi-heif, nvidia-cusparse-cu12, nvidia-cufft-cu12, nvidia-cudnn-cu12, matplotlib, gitdb, fire, botocore, typer, supervision, starlette, seaborn, s3transfer, nvidia-cusolver-cu12, huggingface-hub, gitpython, torch, tokenizers, safehttpx, roboflow, gradio-client, fastapi, boto3, ultralytics-thop, transformers, torchvision, torchaudio, thop, sahi, gradio, ultralytics, timm, yolov5, PytorchWildlife\n"
        },
        {
          "name": "stdout",
          "output_type": "stream",
          "text": "  Attempting uninstall: idna\n,    Found existing installation: idna 3.10\n,    Uninstalling idna-3.10:\n,      Successfully uninstalled idna-3.10\n"
        },
        {
          "name": "stdout",
          "output_type": "stream",
          "text": "Successfully installed Pillow-11.3.0 PytorchWildlife-1.2.4.2 absl-py-2.3.1 aiofiles-24.1.0 boto3-1.40.49 botocore-1.40.49 chardet-5.2.0 click-8.3.0 contourpy-1.3.3 cycler-0.12.1 fastapi-0.118.2 ffmpy-0.6.2 filelock-3.20.0 filetype-1.2.0 fire-0.7.1 fonttools-4.60.1 fsspec-2025.9.0 gitdb-4.0.12 gitpython-3.1.45 gradio-5.49.1 gradio-client-1.13.3 groovy-0.1.2 grpcio-1.75.1 hf-xet-1.1.10 huggingface-hub-0.35.3 idna-3.7 jmespath-1.0.1 joblib-1.5.2 kiwisolver-1.4.9 markdown-3.9 matplotlib-3.10.7 mpmath-1.3.0 networkx-3.5 nvidia-cublas-cu12-12.8.4.1 nvidia-cuda-cupti-cu12-12.8.90 nvidia-cuda-nvrtc-cu12-12.8.93 nvidia-cuda-runtime-cu12-12.8.90 nvidia-cudnn-cu12-9.10.2.21 nvidia-cufft-cu12-11.3.3.83 nvidia-cufile-cu12-1.13.1.3 nvidia-curand-cu12-10.3.9.90 nvidia-cusolver-cu12-11.7.3.90 nvidia-cusparse-cu12-12.5.8.93 nvidia-cusparselt-cu12-0.7.1 nvidia-nccl-cu12-2.27.3 nvidia-nvjitlink-cu12-12.8.93 nvidia-nvtx-cu12-12.8.90 opencv-python-4.11.0.86 opencv-python-headless-4.10.0.84 orjson-3.11.3 pi-heif-1.1.1 pillow-avif-plugin-1.5.2 polars-1.34.0 polars-runtime-32-1.34.0 protobuf-6.32.1 pybboxes-0.1.6 pydub-0.25.1 pyparsing-3.2.5 python-dotenv-1.1.1 python-multipart-0.0.20 regex-2025.9.18 rich-14.2.0 roboflow-1.2.10 ruff-0.14.0 s3transfer-0.14.0 safehttpx-0.1.6 safetensors-0.6.2 sahi-0.11.36 scikit-learn-1.7.2 seaborn-0.13.2 semantic-version-2.10.0 shapely-2.1.2 shellingham-1.5.4 smmap-5.0.2 starlette-0.48.0 supervision-0.23.0 sympy-1.14.0 tensorboard-2.20.0 tensorboard-data-server-0.7.2 termcolor-3.1.0 terminaltables-3.1.10 thop-0.1.1.post2209072238 threadpoolctl-3.6.0 timm-1.0.20 tokenizers-0.22.1 tomlkit-0.13.3 torch-2.8.0 torchaudio-2.8.0 torchvision-0.23.0 transformers-4.57.0 triton-3.4.0 typer-0.19.2 ultralytics-8.3.208 ultralytics-thop-2.0.17 uvicorn-0.37.0 websockets-15.0.1 werkzeug-3.1.3 wget-3.2 yolov5-7.0.13\n"
        },
        {
          "name": "stdout",
          "output_type": "stream",
          "text": "Collecting lightning\n,  Downloading lightning-2.5.5-py3-none-any.whl.metadata (39 kB)\n,Requirement already satisfied: PyYAML<8.0,>5.4 in /opt/conda/lib/python3.12/site-packages (from lightning) (6.0.2)\n,Requirement already satisfied: fsspec<2027.0,>=2022.5.0 in /opt/conda/lib/python3.12/site-packages (from fsspec[http]<2027.0,>=2022.5.0->lightning) (2025.9.0)\n"
        },
        {
          "name": "stdout",
          "output_type": "stream",
          "text": "Collecting lightning-utilities<2.0,>=0.10.0 (from lightning)\n,  Downloading lightning_utilities-0.15.2-py3-none-any.whl.metadata (5.7 kB)\n,Requirement already satisfied: packaging<27.0,>=20.0 in /opt/conda/lib/python3.12/site-packages (from lightning) (24.2)\n,Requirement already satisfied: torch<4.0,>=2.1.0 in /opt/conda/lib/python3.12/site-packages (from lightning) (2.8.0)\n,Collecting torchmetrics<3.0,>0.7.0 (from lightning)\n,  Downloading torchmetrics-1.8.2-py3-none-any.whl.metadata (22 kB)\n,Requirement already satisfied: tqdm<6.0,>=4.57.0 in /opt/conda/lib/python3.12/site-packages (from lightning) (4.67.1)\n,Requirement already satisfied: typing-extensions<6.0,>4.5.0 in /opt/conda/lib/python3.12/site-packages (from lightning) (4.13.2)\n"
        },
        {
          "name": "stdout",
          "output_type": "stream",
          "text": "Collecting pytorch-lightning (from lightning)\n,  Downloading pytorch_lightning-2.5.5-py3-none-any.whl.metadata (20 kB)\n,Requirement already satisfied: aiohttp!=4.0.0a0,!=4.0.0a1 in /opt/conda/lib/python3.12/site-packages (from fsspec[http]<2027.0,>=2022.5.0->lightning) (3.11.16)\n,Requirement already satisfied: setuptools in /opt/conda/lib/python3.12/site-packages (from lightning-utilities<2.0,>=0.10.0->lightning) (78.1.0)\n,Requirement already satisfied: filelock in /opt/conda/lib/python3.12/site-packages (from torch<4.0,>=2.1.0->lightning) (3.20.0)\n,Requirement already satisfied: sympy>=1.13.3 in /opt/conda/lib/python3.12/site-packages (from torch<4.0,>=2.1.0->lightning) (1.14.0)\n,Requirement already satisfied: networkx in /opt/conda/lib/python3.12/site-packages (from torch<4.0,>=2.1.0->lightning) (3.5)\n,Requirement already satisfied: jinja2 in /opt/conda/lib/python3.12/site-packages (from torch<4.0,>=2.1.0->lightning) (3.1.6)\n,Requirement already satisfied: nvidia-cuda-nvrtc-cu12==12.8.93 in /opt/conda/lib/python3.12/site-packages (from torch<4.0,>=2.1.0->lightning) (12.8.93)\n,Requirement already satisfied: nvidia-cuda-runtime-cu12==12.8.90 in /opt/conda/lib/python3.12/site-packages (from torch<4.0,>=2.1.0->lightning) (12.8.90)\n,Requirement already satisfied: nvidia-cuda-cupti-cu12==12.8.90 in /opt/conda/lib/python3.12/site-packages (from torch<4.0,>=2.1.0->lightning) (12.8.90)\n,Requirement already satisfied: nvidia-cudnn-cu12==9.10.2.21 in /opt/conda/lib/python3.12/site-packages (from torch<4.0,>=2.1.0->lightning) (9.10.2.21)\n,Requirement already satisfied: nvidia-cublas-cu12==12.8.4.1 in /opt/conda/lib/python3.12/site-packages (from torch<4.0,>=2.1.0->lightning) (12.8.4.1)\n,Requirement already satisfied: nvidia-cufft-cu12==11.3.3.83 in /opt/conda/lib/python3.12/site-packages (from torch<4.0,>=2.1.0->lightning) (11.3.3.83)\n,Requirement already satisfied: nvidia-curand-cu12==10.3.9.90 in /opt/conda/lib/python3.12/site-packages (from torch<4.0,>=2.1.0->lightning) (10.3.9.90)\n,Requirement already satisfied: nvidia-cusolver-cu12==11.7.3.90 in /opt/conda/lib/python3.12/site-packages (from torch<4.0,>=2.1.0->lightning) (11.7.3.90)\n,Requirement already satisfied: nvidia-cusparse-cu12==12.5.8.93 in /opt/conda/lib/python3.12/site-packages (from torch<4.0,>=2.1.0->lightning) (12.5.8.93)\n,Requirement already satisfied: nvidia-cusparselt-cu12==0.7.1 in /opt/conda/lib/python3.12/site-packages (from torch<4.0,>=2.1.0->lightning) (0.7.1)\n,Requirement already satisfied: nvidia-nccl-cu12==2.27.3 in /opt/conda/lib/python3.12/site-packages (from torch<4.0,>=2.1.0->lightning) (2.27.3)\n,Requirement already satisfied: nvidia-nvtx-cu12==12.8.90 in /opt/conda/lib/python3.12/site-packages (from torch<4.0,>=2.1.0->lightning) (12.8.90)\n,Requirement already satisfied: nvidia-nvjitlink-cu12==12.8.93 in /opt/conda/lib/python3.12/site-packages (from torch<4.0,>=2.1.0->lightning) (12.8.93)\n,Requirement already satisfied: nvidia-cufile-cu12==1.13.1.3 in /opt/conda/lib/python3.12/site-packages (from torch<4.0,>=2.1.0->lightning) (1.13.1.3)\n,Requirement already satisfied: triton==3.4.0 in /opt/conda/lib/python3.12/site-packages (from torch<4.0,>=2.1.0->lightning) (3.4.0)\n,Requirement already satisfied: numpy>1.20.0 in /opt/conda/lib/python3.12/site-packages (from torchmetrics<3.0,>0.7.0->lightning) (2.2.4)\n,Requirement already satisfied: aiohappyeyeballs>=2.3.0 in /opt/conda/lib/python3.12/site-packages (from aiohttp!=4.0.0a0,!=4.0.0a1->fsspec[http]<2027.0,>=2022.5.0->lightning) (2.6.1)\n,Requirement already satisfied: aiosignal>=1.1.2 in /opt/conda/lib/python3.12/site-packages (from aiohttp!=4.0.0a0,!=4.0.0a1->fsspec[http]<2027.0,>=2022.5.0->lightning) (1.3.2)\n,Requirement already satisfied: attrs>=17.3.0 in /opt/conda/lib/python3.12/site-packages (from aiohttp!=4.0.0a0,!=4.0.0a1->fsspec[http]<2027.0,>=2022.5.0->lightning) (25.3.0)\n,Requirement already satisfied: frozenlist>=1.1.1 in /opt/conda/lib/python3.12/site-packages (from aiohttp!=4.0.0a0,!=4.0.0a1->fsspec[http]<2027.0,>=2022.5.0->lightning) (1.5.0)\n,Requirement already satisfied: multidict<7.0,>=4.5 in /opt/conda/lib/python3.12/site-packages (from aiohttp!=4.0.0a0,!=4.0.0a1->fsspec[http]<2027.0,>=2022.5.0->lightning) (6.3.2)\n,Requirement already satisfied: propcache>=0.2.0 in /opt/conda/lib/python3.12/site-packages (from aiohttp!=4.0.0a0,!=4.0.0a1->fsspec[http]<2027.0,>=2022.5.0->lightning) (0.3.1)\n,Requirement already satisfied: yarl<2.0,>=1.17.0 in /opt/conda/lib/python3.12/site-packages (from aiohttp!=4.0.0a0,!=4.0.0a1->fsspec[http]<2027.0,>=2022.5.0->lightning) (1.18.3)\n"
        },
        {
          "name": "stdout",
          "output_type": "stream",
          "text": "Requirement already satisfied: mpmath<1.4,>=1.1.0 in /opt/conda/lib/python3.12/site-packages (from sympy>=1.13.3->torch<4.0,>=2.1.0->lightning) (1.3.0)\n,Requirement already satisfied: MarkupSafe>=2.0 in /opt/conda/lib/python3.12/site-packages (from jinja2->torch<4.0,>=2.1.0->lightning) (3.0.2)\n,Requirement already satisfied: idna>=2.0 in /opt/conda/lib/python3.12/site-packages (from yarl<2.0,>=1.17.0->aiohttp!=4.0.0a0,!=4.0.0a1->fsspec[http]<2027.0,>=2022.5.0->lightning) (3.7)\n,Downloading lightning-2.5.5-py3-none-any.whl (828 kB)\n,\u001b[?25l   \u001b[90m━━━━━━━━━━━━━━━━━━━━━━━━━━━━━━━━━━━━━━━━\u001b[0m \u001b[32m0.0/828.5 kB\u001b[0m \u001b[31m?\u001b[0m eta \u001b[36m-:--:--\u001b[0m\r,\u001b[2K   \u001b[90m━━━━━━━━━━━━━━━━━━━━━━━━━━━━━━━━━━━━━━━━\u001b[0m \u001b[32m828.5/828.5 kB\u001b[0m \u001b[31m12.0 MB/s\u001b[0m eta \u001b[36m0:00:00\u001b[0m\n,\u001b[?25hDownloading lightning_utilities-0.15.2-py3-none-any.whl (29 kB)\n,Downloading torchmetrics-1.8.2-py3-none-any.whl (983 kB)\n,\u001b[?25l   \u001b[90m━━━━━━━━━━━━━━━━━━━━━━━━━━━━━━━━━━━━━━━━\u001b[0m \u001b[32m0.0/983.2 kB\u001b[0m \u001b[31m?\u001b[0m eta \u001b[36m-:--:--\u001b[0m"
        },
        {
          "name": "stdout",
          "output_type": "stream",
          "text": "\r,\u001b[2K   \u001b[90m━━━━━━━━━━━━━━━━━━━━━━━━━━━━━━━━━━━━━━━━\u001b[0m \u001b[32m983.2/983.2 kB\u001b[0m \u001b[31m16.4 MB/s\u001b[0m eta \u001b[36m0:00:00\u001b[0m\n,\u001b[?25hDownloading pytorch_lightning-2.5.5-py3-none-any.whl (832 kB)\n,\u001b[?25l   \u001b[90m━━━━━━━━━━━━━━━━━━━━━━━━━━━━━━━━━━━━━━━━\u001b[0m \u001b[32m0.0/832.4 kB\u001b[0m \u001b[31m?\u001b[0m eta \u001b[36m-:--:--\u001b[0m\r,\u001b[2K   \u001b[90m━━━━━━━━━━━━━━━━━━━━━━━━━━━━━━━━━━━━━━━━\u001b[0m \u001b[32m832.4/832.4 kB\u001b[0m \u001b[31m17.9 MB/s\u001b[0m eta \u001b[36m0:00:00\u001b[0m\n,\u001b[?25h"
        },
        {
          "name": "stdout",
          "output_type": "stream",
          "text": "Installing collected packages: lightning-utilities, torchmetrics, pytorch-lightning, lightning\n"
        },
        {
          "name": "stdout",
          "output_type": "stream",
          "text": "Successfully installed lightning-2.5.5 lightning-utilities-0.15.2 pytorch-lightning-2.5.5 torchmetrics-1.8.2\n"
        },
        {
          "name": "stdout",
          "output_type": "stream",
          "text": "Channels:\n, - conda-forge\n, - bioconda\n,Platform: linux-64\n,Collecting package metadata (repodata.json): ...working... "
        },
        {
          "name": "stdout",
          "output_type": "stream",
          "text": "done\n,Solving environment: ...working... "
        },
        {
          "name": "stdout",
          "output_type": "stream",
          "text": "done\n"
        },
        {
          "name": "stderr",
          "output_type": "stream",
          "text": "\n,\n,==> WARNING: A newer version of conda exists. <==\n,    current version: 25.3.1\n,    latest version: 25.9.0\n,\n,Please update conda by running\n,\n,    $ conda update -n base -c conda-forge conda\n,\n,\n"
        },
        {
          "name": "stdout",
          "output_type": "stream",
          "text": "\n,## Package Plan ##\n,\n,  environment location: /opt/conda\n,\n,  added / updated specs:\n,    - omegaconf\n,\n,\n,The following packages will be downloaded:\n,\n,    package                    |            build\n,    ---------------------------|-----------------\n,    antlr-python-runtime-4.9.3 |     pyhd8ed1ab_1          99 KB  conda-forge\n,    omegaconf-2.3.0            |     pyhd8ed1ab_0         163 KB  conda-forge\n,    ------------------------------------------------------------\n,                                           Total:         261 KB\n,\n,The following NEW packages will be INSTALLED:\n,\n,  antlr-python-runt~ conda-forge/noarch::antlr-python-runtime-4.9.3-pyhd8ed1ab_1 \n,  omegaconf          conda-forge/noarch::omegaconf-2.3.0-pyhd8ed1ab_0 \n,\n,\n,Proceed ([y]/n)? \n,\n,Downloading and Extracting Packages: ...working...\r,omegaconf-2.3.0      | 163 KB    |            |   0% \n,\r,antlr-python-runtime | 99 KB     |            |   0% \u001b[A\n,\r,antlr-python-runtime | 99 KB     | ########## | 100% \u001b[A\r,omegaconf-2.3.0      | 163 KB    | 9          |  10% \r,omegaconf-2.3.0      | 163 KB    | ########## | 100% "
        },
        {
          "name": "stdout",
          "output_type": "stream",
          "text": "\r,omegaconf-2.3.0      | 163 KB    | ########## | 100% \r,omegaconf-2.3.0      | 163 KB    | ########## | 100% \n,\r,antlr-python-runtime | 99 KB     | ########## | 100% \u001b[A\n,\r,antlr-python-runtime | 99 KB     | ########## | 100% \u001b[A\r,                                                     \r\n,\r,                                                     \u001b[A done\n,Preparing transaction: - \b\bdone\n,Verifying transaction: | "
        },
        {
          "name": "stdout",
          "output_type": "stream",
          "text": "\b\bdone\n,Executing transaction: - \b\b\\ "
        },
        {
          "name": "stdout",
          "output_type": "stream",
          "text": "\b\b| \b\b/ \b\b- "
        },
        {
          "name": "stdout",
          "output_type": "stream",
          "text": "\b\b\\ \b\b| "
        },
        {
          "name": "stdout",
          "output_type": "stream",
          "text": "\b\b/ \b\b- "
        },
        {
          "name": "stdout",
          "output_type": "stream",
          "text": "\b\b\\ \b\b| \b\b/ "
        },
        {
          "name": "stdout",
          "output_type": "stream",
          "text": "\b\b- \b\b\\ \b\b| "
        },
        {
          "name": "stdout",
          "output_type": "stream",
          "text": "\b\b/ \b\b- "
        },
        {
          "name": "stdout",
          "output_type": "stream",
          "text": "\b\b\\ \b\b| \b\b/ "
        },
        {
          "name": "stdout",
          "output_type": "stream",
          "text": "\b\b- \b\b\\ \b\b| "
        },
        {
          "name": "stdout",
          "output_type": "stream",
          "text": "\b\b/ \b\b- \b\b\\ "
        },
        {
          "name": "stdout",
          "output_type": "stream",
          "text": "\b\b| \b\b/ \b\b- "
        },
        {
          "name": "stdout",
          "output_type": "stream",
          "text": "\b\b\\ \b\b| \b\b/ "
        },
        {
          "name": "stdout",
          "output_type": "stream",
          "text": "\b\b- \b\b\\ \b\bdone\n"
        },
        {
          "data": {
            "text/plain": [
              "0"
            ]
          },
          "execution_count": 1,
          "metadata": {},
          "output_type": "execute_result"
        }
      ],
      "execution_count": 1
    },
    {
      "id": "9ae17709-d634-4de4-afbe-4443a9833931",
      "cell_type": "code",
      "source": "os.system(\"for v in galaxy_inputs/testvideo/*.binary ; do mv \\\"$v\\\"  galaxy_inputs/testvideo/\\\"$(basename \\\"$v\\\" .binary)\\\"; done\")",
      "metadata": {
        "execution": {
          "iopub.execute_input": "2025-10-10T10:17:58.384611Z",
          "iopub.status.busy": "2025-10-10T10:17:58.384160Z",
          "iopub.status.idle": "2025-10-10T10:17:58.417548Z",
          "shell.execute_reply": "2025-10-10T10:17:58.415973Z"
        }
      },
      "outputs": [
        {
          "data": {
            "text/plain": [
              "0"
            ]
          },
          "execution_count": 2,
          "metadata": {},
          "output_type": "execute_result"
        }
      ],
      "execution_count": 2
    },
    {
      "id": "671f9dc8-a054-4737-a6f0-db66ec514382",
      "cell_type": "code",
      "source": "os.system(\"cp galaxy_inputs/functions/functions.py.txt functions.py\")",
      "metadata": {
        "execution": {
          "iopub.execute_input": "2025-10-10T10:17:58.422237Z",
          "iopub.status.busy": "2025-10-10T10:17:58.421703Z",
          "iopub.status.idle": "2025-10-10T10:17:58.445618Z",
          "shell.execute_reply": "2025-10-10T10:17:58.444249Z"
        }
      },
      "outputs": [
        {
          "data": {
            "text/plain": [
              "0"
            ]
          },
          "execution_count": 3,
          "metadata": {},
          "output_type": "execute_result"
        }
      ],
      "execution_count": 3
    },
    {
      "id": "2d1603dd-9cb1-4f8c-95ba-c5084dcb17ff",
      "cell_type": "code",
      "source": "os.system(\"mkdir classifier_weights\")\nos.system(\"cp galaxy_inputs/model/model.safetensors.data classifier_weights/model.safetensors\")",
      "metadata": {
        "execution": {
          "iopub.execute_input": "2025-10-10T10:17:58.449996Z",
          "iopub.status.busy": "2025-10-10T10:17:58.449163Z",
          "iopub.status.idle": "2025-10-10T10:18:00.608348Z",
          "shell.execute_reply": "2025-10-10T10:18:00.606648Z"
        }
      },
      "outputs": [
        {
          "data": {
            "text/plain": [
              "0"
            ]
          },
          "execution_count": 4,
          "metadata": {},
          "output_type": "execute_result"
        }
      ],
      "execution_count": 4
    },
    {
      "id": "01cd0887-4297-4bab-a2db-b872b3dade73",
      "cell_type": "code",
      "source": "os.system(\"cp galaxy_inputs/config/config.json classifier_weights/config.json\")",
      "metadata": {
        "execution": {
          "iopub.execute_input": "2025-10-10T10:18:00.612906Z",
          "iopub.status.busy": "2025-10-10T10:18:00.612335Z",
          "iopub.status.idle": "2025-10-10T10:18:00.635898Z",
          "shell.execute_reply": "2025-10-10T10:18:00.634629Z"
        }
      },
      "outputs": [
        {
          "data": {
            "text/plain": [
              "0"
            ]
          },
          "execution_count": 5,
          "metadata": {},
          "output_type": "execute_result"
        }
      ],
      "execution_count": 5
    },
    {
      "id": "909deb75-06d7-4db6-9867-92a31d2fe8be",
      "cell_type": "code",
      "source": "# Dependencies import\nimport argparse\nimport os\nimport shutil\nimport cv2\nfrom datetime import datetime\nimport numpy as np\nimport pandas as pd\nimport torch\nfrom tqdm import tqdm\nfrom pathlib import Path\nfrom PIL import Image\nfrom PytorchWildlife.models import detection as pw_detection\nfrom supervision import ImageSink\nfrom supervision.utils import video as video_utils\nfrom transformers import AutoImageProcessor, AutoModelForImageClassification, pipeline\n\nfrom functions import clean_dir, list_photos_videos, save_cropped_images",
      "metadata": {
        "execution": {
          "iopub.execute_input": "2025-10-10T10:18:00.639960Z",
          "iopub.status.busy": "2025-10-10T10:18:00.639575Z",
          "iopub.status.idle": "2025-10-10T10:18:24.879263Z",
          "shell.execute_reply": "2025-10-10T10:18:24.878119Z"
        }
      },
      "outputs": [
        {
          "name": "stderr",
          "output_type": "stream",
          "text": "TqdmWarning: IProgress not found. Please update jupyter and ipywidgets. See https://ipywidgets.readthedocs.io/en/stable/user_install.html\n"
        },
        {
          "name": "stdout",
          "output_type": "stream",
          "text": "Creating new Ultralytics Settings v0.0.6 file ✅ \n,View Ultralytics Settings with 'yolo settings' or at '/home/jovyan/.config/Ultralytics/settings.json'\n,Update Settings with 'yolo settings key=value', i.e. 'yolo settings runs_dir=path/to/dir'. For help see https://docs.ultralytics.com/quickstart/#ultralytics-settings.\n"
        }
      ],
      "execution_count": 6
    },
    {
      "id": "99bccf26-30d8-4e24-9bec-517c8d125deb",
      "cell_type": "code",
      "source": "# PARAMETERS\ndata_dir = Path('./galaxy_inputs/testvideo')\npredictions_dir = Path('./outputs/collection')\ndetection_threshold = .2\nstride = 1\nimages_max = 3000\nextensions_photos = ('.jpg', '.JPG', '.jpeg', '.JPEG'', .png', '.PNG')\nextensions_videos = ('.avi', '.AVI', '.mov', '.MOV', '.mp4', '.MP4')\n\n# INITIALISATION OF DETECTOR (MegaDetector v5) AND CLASSIFIER (DINOv2 large)\ndevice = \"cuda\" if torch.cuda.is_available() else \"cpu\"\ndetection_model = pw_detection.MegaDetectorV5(device=device, pretrained=True)\nimage_processor = AutoImageProcessor.from_pretrained('facebook/dinov2-large')\nclassifier = AutoModelForImageClassification.from_pretrained('./classifier_weights')\npipe = pipeline('image-classification', model=classifier, image_processor= image_processor, device=device)\nlabels = classifier.config.id2label\ntaxons = list(labels.values())\ntaxons_count = len(taxons)\ntaxons_all = taxons + ['human', 'vehicle']",
      "metadata": {
        "execution": {
          "iopub.execute_input": "2025-10-10T10:18:24.884089Z",
          "iopub.status.busy": "2025-10-10T10:18:24.883184Z",
          "iopub.status.idle": "2025-10-10T10:28:23.391078Z",
          "shell.execute_reply": "2025-10-10T10:28:23.388885Z"
        }
      },
      "outputs": [
        {
          "name": "stdout",
          "output_type": "stream",
          "text": "Downloading: \"https://zenodo.org/records/13357337/files/md_v5a.0.0.pt?download=1\" to /home/jovyan/.cache/torch/hub/checkpoints/md_v5a.0.0.pt\n"
        },
        {
          "name": "stderr",
          "output_type": "stream",
          "text": "\r,  0%|          | 0.00/268M [00:00<?, ?B/s]"
        },
        {
          "name": "stderr",
          "output_type": "stream",
          "text": "\r,  0%|          | 256k/268M [00:00<02:20, 2.00MB/s]"
        },
        {
          "name": "stderr",
          "output_type": "stream",
          "text": "\r,  0%|          | 640k/268M [00:00<01:42, 2.73MB/s]"
        },
        {
          "name": "stderr",
          "output_type": "stream",
          "text": "\r,  0%|          | 1.25M/268M [00:00<01:10, 3.98MB/s]"
        },
        {
          "name": "stderr",
          "output_type": "stream",
          "text": "\r,  1%|          | 1.88M/268M [00:00<00:57, 4.82MB/s]"
        },
        {
          "name": "stderr",
          "output_type": "stream",
          "text": "\r,  1%|          | 2.38M/268M [00:00<00:56, 4.95MB/s]"
        },
        {
          "name": "stderr",
          "output_type": "stream",
          "text": "\r,  1%|          | 3.00M/268M [00:00<00:53, 5.15MB/s]"
        },
        {
          "name": "stderr",
          "output_type": "stream",
          "text": "\r,  1%|▏         | 3.50M/268M [00:00<00:53, 5.18MB/s]"
        },
        {
          "name": "stderr",
          "output_type": "stream",
          "text": "\r,  2%|▏         | 4.12M/268M [00:00<00:52, 5.24MB/s]"
        },
        {
          "name": "stderr",
          "output_type": "stream",
          "text": "\r,  2%|▏         | 4.75M/268M [00:01<01:12, 3.80MB/s]"
        },
        {
          "name": "stderr",
          "output_type": "stream",
          "text": "\r,  2%|▏         | 5.25M/268M [00:01<01:36, 2.84MB/s]"
        },
        {
          "name": "stderr",
          "output_type": "stream",
          "text": "\r,  2%|▏         | 5.62M/268M [00:01<01:40, 2.74MB/s]"
        },
        {
          "name": "stderr",
          "output_type": "stream",
          "text": "\r,  2%|▏         | 6.12M/268M [00:01<01:25, 3.20MB/s]"
        },
        {
          "name": "stderr",
          "output_type": "stream",
          "text": "\r,  2%|▏         | 6.50M/268M [00:01<01:23, 3.27MB/s]"
        },
        {
          "name": "stderr",
          "output_type": "stream",
          "text": "\r,  3%|▎         | 6.88M/268M [00:02<01:44, 2.62MB/s]"
        },
        {
          "name": "stderr",
          "output_type": "stream",
          "text": "\r,  3%|▎         | 7.25M/268M [00:02<02:05, 2.17MB/s]"
        },
        {
          "name": "stderr",
          "output_type": "stream",
          "text": "\r,  3%|▎         | 7.62M/268M [00:02<01:58, 2.31MB/s]"
        },
        {
          "name": "stderr",
          "output_type": "stream",
          "text": "\r,  3%|▎         | 8.00M/268M [00:02<02:03, 2.20MB/s]"
        },
        {
          "name": "stderr",
          "output_type": "stream",
          "text": "\r,  3%|▎         | 8.25M/268M [00:02<02:02, 2.23MB/s]"
        },
        {
          "name": "stderr",
          "output_type": "stream",
          "text": "\r,  3%|▎         | 8.50M/268M [00:02<02:01, 2.23MB/s]"
        },
        {
          "name": "stderr",
          "output_type": "stream",
          "text": "\r,  3%|▎         | 8.75M/268M [00:03<02:05, 2.16MB/s]"
        },
        {
          "name": "stderr",
          "output_type": "stream",
          "text": "\r,  3%|▎         | 9.00M/268M [00:03<02:04, 2.19MB/s]"
        },
        {
          "name": "stderr",
          "output_type": "stream",
          "text": "\r,  3%|▎         | 9.25M/268M [00:03<02:06, 2.13MB/s]"
        },
        {
          "name": "stderr",
          "output_type": "stream",
          "text": "\r,  4%|▎         | 9.50M/268M [00:03<02:14, 2.01MB/s]"
        },
        {
          "name": "stderr",
          "output_type": "stream",
          "text": "\r,  4%|▎         | 9.75M/268M [00:03<02:07, 2.13MB/s]"
        },
        {
          "name": "stderr",
          "output_type": "stream",
          "text": "\r,  4%|▎         | 10.0M/268M [00:03<02:01, 2.23MB/s]"
        },
        {
          "name": "stderr",
          "output_type": "stream",
          "text": "\r,  4%|▍         | 10.2M/268M [00:03<02:25, 1.86MB/s]"
        },
        {
          "name": "stderr",
          "output_type": "stream",
          "text": "\r,  4%|▍         | 10.5M/268M [00:03<02:15, 1.99MB/s]"
        },
        {
          "name": "stderr",
          "output_type": "stream",
          "text": "\r,  4%|▍         | 10.9M/268M [00:04<01:58, 2.28MB/s]"
        },
        {
          "name": "stderr",
          "output_type": "stream",
          "text": "\r,  4%|▍         | 11.2M/268M [00:04<01:43, 2.60MB/s]"
        },
        {
          "name": "stderr",
          "output_type": "stream",
          "text": "\r,  4%|▍         | 11.6M/268M [00:04<01:40, 2.68MB/s]"
        },
        {
          "name": "stderr",
          "output_type": "stream",
          "text": "\r,  4%|▍         | 12.0M/268M [00:04<02:00, 2.23MB/s]"
        },
        {
          "name": "stderr",
          "output_type": "stream",
          "text": "\r,  5%|▍         | 12.2M/268M [00:04<02:33, 1.75MB/s]"
        },
        {
          "name": "stderr",
          "output_type": "stream",
          "text": "\r,  5%|▍         | 12.5M/268M [00:05<02:49, 1.58MB/s]"
        },
        {
          "name": "stderr",
          "output_type": "stream",
          "text": "\r,  5%|▍         | 12.8M/268M [00:05<02:54, 1.53MB/s]"
        },
        {
          "name": "stderr",
          "output_type": "stream",
          "text": "\r,  5%|▍         | 13.0M/268M [00:05<03:09, 1.41MB/s]"
        },
        {
          "name": "stderr",
          "output_type": "stream",
          "text": "\r,  5%|▍         | 13.2M/268M [00:05<03:01, 1.47MB/s]"
        },
        {
          "name": "stderr",
          "output_type": "stream",
          "text": "\r,  5%|▌         | 13.5M/268M [00:05<02:55, 1.52MB/s]"
        },
        {
          "name": "stderr",
          "output_type": "stream",
          "text": "\r,  5%|▌         | 13.8M/268M [00:05<03:00, 1.47MB/s]"
        },
        {
          "name": "stderr",
          "output_type": "stream",
          "text": "\r,  5%|▌         | 14.0M/268M [00:06<03:05, 1.44MB/s]"
        },
        {
          "name": "stderr",
          "output_type": "stream",
          "text": "\r,  5%|▌         | 14.2M/268M [00:06<02:52, 1.54MB/s]"
        },
        {
          "name": "stderr",
          "output_type": "stream",
          "text": "\r,  5%|▌         | 14.5M/268M [00:06<02:31, 1.75MB/s]"
        },
        {
          "name": "stderr",
          "output_type": "stream",
          "text": "\r,  6%|▌         | 14.9M/268M [00:06<02:08, 2.06MB/s]"
        },
        {
          "name": "stderr",
          "output_type": "stream",
          "text": "\r,  6%|▌         | 15.1M/268M [00:06<02:02, 2.17MB/s]"
        },
        {
          "name": "stderr",
          "output_type": "stream",
          "text": "\r,  6%|▌         | 15.4M/268M [00:06<02:08, 2.06MB/s]"
        },
        {
          "name": "stderr",
          "output_type": "stream",
          "text": "\r,  6%|▌         | 15.8M/268M [00:06<01:51, 2.37MB/s]"
        },
        {
          "name": "stderr",
          "output_type": "stream",
          "text": "\r,  6%|▌         | 16.1M/268M [00:07<01:41, 2.61MB/s]"
        },
        {
          "name": "stderr",
          "output_type": "stream",
          "text": "\r,  6%|▌         | 16.5M/268M [00:07<02:07, 2.06MB/s]"
        },
        {
          "name": "stderr",
          "output_type": "stream",
          "text": "\r,  6%|▋         | 16.8M/268M [00:07<02:02, 2.16MB/s]"
        },
        {
          "name": "stderr",
          "output_type": "stream",
          "text": "\r,  6%|▋         | 17.1M/268M [00:07<01:52, 2.34MB/s]"
        },
        {
          "name": "stderr",
          "output_type": "stream",
          "text": "\r,  6%|▋         | 17.4M/268M [00:07<01:58, 2.21MB/s]"
        },
        {
          "name": "stderr",
          "output_type": "stream",
          "text": "\r,  7%|▋         | 17.6M/268M [00:07<02:08, 2.04MB/s]"
        },
        {
          "name": "stderr",
          "output_type": "stream",
          "text": "\r,  7%|▋         | 17.9M/268M [00:08<02:16, 1.92MB/s]"
        },
        {
          "name": "stderr",
          "output_type": "stream",
          "text": "\r,  7%|▋         | 18.1M/268M [00:08<02:07, 2.06MB/s]"
        },
        {
          "name": "stderr",
          "output_type": "stream",
          "text": "\r,  7%|▋         | 18.4M/268M [00:08<02:13, 1.96MB/s]"
        },
        {
          "name": "stderr",
          "output_type": "stream",
          "text": "\r,  7%|▋         | 18.8M/268M [00:08<01:57, 2.22MB/s]"
        },
        {
          "name": "stderr",
          "output_type": "stream",
          "text": "\r,  7%|▋         | 19.1M/268M [00:08<01:47, 2.43MB/s]"
        },
        {
          "name": "stderr",
          "output_type": "stream",
          "text": "\r,  7%|▋         | 19.5M/268M [00:08<01:39, 2.61MB/s]"
        },
        {
          "name": "stderr",
          "output_type": "stream",
          "text": "\r,  7%|▋         | 19.9M/268M [00:08<01:34, 2.74MB/s]"
        },
        {
          "name": "stderr",
          "output_type": "stream",
          "text": "\r,  8%|▊         | 20.2M/268M [00:08<01:36, 2.68MB/s]"
        },
        {
          "name": "stderr",
          "output_type": "stream",
          "text": "\r,  8%|▊         | 20.6M/268M [00:09<01:37, 2.67MB/s]"
        },
        {
          "name": "stderr",
          "output_type": "stream",
          "text": "\r,  8%|▊         | 21.0M/268M [00:09<01:40, 2.58MB/s]"
        },
        {
          "name": "stderr",
          "output_type": "stream",
          "text": "\r,  8%|▊         | 21.2M/268M [00:09<01:55, 2.24MB/s]"
        },
        {
          "name": "stderr",
          "output_type": "stream",
          "text": "\r,  8%|▊         | 21.5M/268M [00:09<02:01, 2.13MB/s]"
        },
        {
          "name": "stderr",
          "output_type": "stream",
          "text": "\r,  8%|▊         | 21.9M/268M [00:09<01:56, 2.21MB/s]"
        },
        {
          "name": "stderr",
          "output_type": "stream",
          "text": "\r,  8%|▊         | 22.1M/268M [00:09<02:05, 2.06MB/s]"
        },
        {
          "name": "stderr",
          "output_type": "stream",
          "text": "\r,  8%|▊         | 22.5M/268M [00:10<01:52, 2.29MB/s]"
        },
        {
          "name": "stderr",
          "output_type": "stream",
          "text": "\r,  9%|▊         | 22.9M/268M [00:10<01:40, 2.55MB/s]"
        },
        {
          "name": "stderr",
          "output_type": "stream",
          "text": "\r,  9%|▊         | 23.2M/268M [00:10<01:37, 2.63MB/s]"
        },
        {
          "name": "stderr",
          "output_type": "stream",
          "text": "\r,  9%|▉         | 23.6M/268M [00:10<01:57, 2.18MB/s]"
        },
        {
          "name": "stderr",
          "output_type": "stream",
          "text": "\r,  9%|▉         | 23.9M/268M [00:10<02:35, 1.65MB/s]"
        },
        {
          "name": "stderr",
          "output_type": "stream",
          "text": "\r,  9%|▉         | 24.1M/268M [00:10<02:36, 1.63MB/s]"
        },
        {
          "name": "stderr",
          "output_type": "stream",
          "text": "\r,  9%|▉         | 24.5M/268M [00:11<02:09, 1.98MB/s]"
        },
        {
          "name": "stderr",
          "output_type": "stream",
          "text": "\r,  9%|▉         | 24.9M/268M [00:11<01:56, 2.19MB/s]"
        },
        {
          "name": "stderr",
          "output_type": "stream",
          "text": "\r,  9%|▉         | 25.2M/268M [00:11<01:46, 2.38MB/s]"
        },
        {
          "name": "stderr",
          "output_type": "stream",
          "text": "\r, 10%|▉         | 25.6M/268M [00:11<01:35, 2.66MB/s]"
        },
        {
          "name": "stderr",
          "output_type": "stream",
          "text": "\r, 10%|▉         | 26.1M/268M [00:11<01:24, 3.01MB/s]"
        },
        {
          "name": "stderr",
          "output_type": "stream",
          "text": "\r, 10%|▉         | 26.5M/268M [00:11<01:43, 2.43MB/s]"
        },
        {
          "name": "stderr",
          "output_type": "stream",
          "text": "\r, 10%|█         | 26.9M/268M [00:12<01:41, 2.50MB/s]"
        },
        {
          "name": "stderr",
          "output_type": "stream",
          "text": "\r, 10%|█         | 27.2M/268M [00:12<01:42, 2.45MB/s]"
        },
        {
          "name": "stderr",
          "output_type": "stream",
          "text": "\r, 10%|█         | 27.5M/268M [00:12<01:43, 2.43MB/s]"
        },
        {
          "name": "stderr",
          "output_type": "stream",
          "text": "\r, 10%|█         | 27.8M/268M [00:12<01:42, 2.46MB/s]"
        },
        {
          "name": "stderr",
          "output_type": "stream",
          "text": "\r, 11%|█         | 28.1M/268M [00:12<01:31, 2.76MB/s]"
        },
        {
          "name": "stderr",
          "output_type": "stream",
          "text": "\r, 11%|█         | 28.5M/268M [00:12<01:26, 2.88MB/s]"
        },
        {
          "name": "stderr",
          "output_type": "stream",
          "text": "\r, 11%|█         | 28.9M/268M [00:12<01:21, 3.08MB/s]"
        },
        {
          "name": "stderr",
          "output_type": "stream",
          "text": "\r, 11%|█         | 29.2M/268M [00:12<01:24, 2.97MB/s]"
        },
        {
          "name": "stderr",
          "output_type": "stream",
          "text": "\r, 11%|█         | 29.6M/268M [00:13<01:39, 2.52MB/s]"
        },
        {
          "name": "stderr",
          "output_type": "stream",
          "text": "\r, 11%|█         | 30.0M/268M [00:13<01:44, 2.38MB/s]"
        },
        {
          "name": "stderr",
          "output_type": "stream",
          "text": "\r, 11%|█▏        | 30.2M/268M [00:13<01:57, 2.12MB/s]"
        },
        {
          "name": "stderr",
          "output_type": "stream",
          "text": "\r, 11%|█▏        | 30.5M/268M [00:13<02:26, 1.70MB/s]"
        },
        {
          "name": "stderr",
          "output_type": "stream",
          "text": "\r, 11%|█▏        | 30.8M/268M [00:13<02:29, 1.67MB/s]"
        },
        {
          "name": "stderr",
          "output_type": "stream",
          "text": "\r, 12%|█▏        | 31.0M/268M [00:13<02:20, 1.77MB/s]"
        },
        {
          "name": "stderr",
          "output_type": "stream",
          "text": "\r, 12%|█▏        | 31.4M/268M [00:14<02:04, 2.00MB/s]"
        },
        {
          "name": "stderr",
          "output_type": "stream",
          "text": "\r, 12%|█▏        | 31.6M/268M [00:14<02:35, 1.60MB/s]"
        },
        {
          "name": "stderr",
          "output_type": "stream",
          "text": "\r, 12%|█▏        | 31.9M/268M [00:15<04:41, 879kB/s] "
        },
        {
          "name": "stderr",
          "output_type": "stream",
          "text": "\r, 12%|█▏        | 32.1M/268M [00:15<04:26, 928kB/s]"
        },
        {
          "name": "stderr",
          "output_type": "stream",
          "text": "\r, 12%|█▏        | 32.4M/268M [00:15<03:54, 1.05MB/s]"
        },
        {
          "name": "stderr",
          "output_type": "stream",
          "text": "\r, 12%|█▏        | 32.6M/268M [00:15<03:26, 1.19MB/s]"
        },
        {
          "name": "stderr",
          "output_type": "stream",
          "text": "\r, 12%|█▏        | 32.9M/268M [00:15<03:43, 1.10MB/s]"
        },
        {
          "name": "stderr",
          "output_type": "stream",
          "text": "\r, 12%|█▏        | 33.1M/268M [00:16<03:29, 1.17MB/s]"
        },
        {
          "name": "stderr",
          "output_type": "stream",
          "text": "\r, 12%|█▏        | 33.4M/268M [00:16<03:19, 1.23MB/s]"
        },
        {
          "name": "stderr",
          "output_type": "stream",
          "text": "\r, 13%|█▎        | 33.6M/268M [00:16<03:58, 1.03MB/s]"
        },
        {
          "name": "stderr",
          "output_type": "stream",
          "text": "\r, 13%|█▎        | 33.8M/268M [00:16<03:52, 1.05MB/s]"
        },
        {
          "name": "stderr",
          "output_type": "stream",
          "text": "\r, 13%|█▎        | 34.0M/268M [00:16<03:40, 1.11MB/s]"
        },
        {
          "name": "stderr",
          "output_type": "stream",
          "text": "\r, 13%|█▎        | 34.2M/268M [00:17<03:17, 1.24MB/s]"
        },
        {
          "name": "stderr",
          "output_type": "stream",
          "text": "\r, 13%|█▎        | 34.5M/268M [00:17<03:29, 1.17MB/s]"
        },
        {
          "name": "stderr",
          "output_type": "stream",
          "text": "\r, 13%|█▎        | 34.8M/268M [00:17<03:12, 1.27MB/s]"
        },
        {
          "name": "stderr",
          "output_type": "stream",
          "text": "\r, 13%|█▎        | 35.0M/268M [00:17<02:59, 1.36MB/s]"
        },
        {
          "name": "stderr",
          "output_type": "stream",
          "text": "\r, 13%|█▎        | 35.2M/268M [00:17<02:38, 1.54MB/s]"
        },
        {
          "name": "stderr",
          "output_type": "stream",
          "text": "\r, 13%|█▎        | 35.6M/268M [00:17<02:09, 1.88MB/s]"
        },
        {
          "name": "stderr",
          "output_type": "stream",
          "text": "\r, 13%|█▎        | 36.0M/268M [00:18<01:45, 2.31MB/s]"
        },
        {
          "name": "stderr",
          "output_type": "stream",
          "text": "\r, 14%|█▎        | 36.5M/268M [00:18<01:22, 2.95MB/s]"
        },
        {
          "name": "stderr",
          "output_type": "stream",
          "text": "\r, 14%|█▍        | 36.9M/268M [00:18<01:21, 2.96MB/s]"
        },
        {
          "name": "stderr",
          "output_type": "stream",
          "text": "\r, 14%|█▍        | 37.2M/268M [00:18<01:39, 2.44MB/s]"
        },
        {
          "name": "stderr",
          "output_type": "stream",
          "text": "\r, 14%|█▍        | 37.6M/268M [00:18<01:40, 2.41MB/s]"
        },
        {
          "name": "stderr",
          "output_type": "stream",
          "text": "\r, 14%|█▍        | 38.0M/268M [00:18<01:40, 2.39MB/s]"
        },
        {
          "name": "stderr",
          "output_type": "stream",
          "text": "\r, 14%|█▍        | 38.2M/268M [00:18<01:39, 2.43MB/s]"
        },
        {
          "name": "stderr",
          "output_type": "stream",
          "text": "\r, 14%|█▍        | 38.6M/268M [00:19<01:30, 2.66MB/s]"
        },
        {
          "name": "stderr",
          "output_type": "stream",
          "text": "\r, 15%|█▍        | 39.0M/268M [00:19<01:31, 2.63MB/s]"
        },
        {
          "name": "stderr",
          "output_type": "stream",
          "text": "\r, 15%|█▍        | 39.4M/268M [00:19<01:28, 2.70MB/s]"
        },
        {
          "name": "stderr",
          "output_type": "stream",
          "text": "\r, 15%|█▍        | 39.8M/268M [00:19<01:38, 2.44MB/s]"
        },
        {
          "name": "stderr",
          "output_type": "stream",
          "text": "\r, 15%|█▍        | 40.0M/268M [00:19<02:00, 1.98MB/s]"
        },
        {
          "name": "stderr",
          "output_type": "stream",
          "text": "\r, 15%|█▌        | 40.2M/268M [00:19<02:02, 1.94MB/s]"
        },
        {
          "name": "stderr",
          "output_type": "stream",
          "text": "\r, 15%|█▌        | 40.5M/268M [00:20<02:04, 1.91MB/s]"
        },
        {
          "name": "stderr",
          "output_type": "stream",
          "text": "\r, 15%|█▌        | 40.8M/268M [00:20<02:07, 1.86MB/s]"
        },
        {
          "name": "stderr",
          "output_type": "stream",
          "text": "\r, 15%|█▌        | 41.0M/268M [00:20<02:03, 1.92MB/s]"
        },
        {
          "name": "stderr",
          "output_type": "stream",
          "text": "\r, 15%|█▌        | 41.4M/268M [00:20<01:49, 2.16MB/s]"
        },
        {
          "name": "stderr",
          "output_type": "stream",
          "text": "\r, 16%|█▌        | 41.8M/268M [00:20<01:35, 2.47MB/s]"
        },
        {
          "name": "stderr",
          "output_type": "stream",
          "text": "\r, 16%|█▌        | 42.2M/268M [00:20<01:22, 2.85MB/s]"
        },
        {
          "name": "stderr",
          "output_type": "stream",
          "text": "\r, 16%|█▌        | 42.8M/268M [00:20<01:15, 3.12MB/s]"
        },
        {
          "name": "stderr",
          "output_type": "stream",
          "text": "\r, 16%|█▌        | 43.2M/268M [00:21<01:14, 3.17MB/s]"
        },
        {
          "name": "stderr",
          "output_type": "stream",
          "text": "\r, 16%|█▋        | 43.6M/268M [00:21<01:39, 2.37MB/s]"
        },
        {
          "name": "stderr",
          "output_type": "stream",
          "text": "\r, 16%|█▋        | 44.0M/268M [00:21<02:05, 1.87MB/s]"
        },
        {
          "name": "stderr",
          "output_type": "stream",
          "text": "\r, 17%|█▋        | 44.2M/268M [00:21<02:42, 1.44MB/s]"
        },
        {
          "name": "stderr",
          "output_type": "stream",
          "text": "\r, 17%|█▋        | 44.5M/268M [00:22<02:58, 1.31MB/s]"
        },
        {
          "name": "stderr",
          "output_type": "stream",
          "text": "\r, 17%|█▋        | 44.8M/268M [00:22<03:00, 1.29MB/s]"
        },
        {
          "name": "stderr",
          "output_type": "stream",
          "text": "\r, 17%|█▋        | 45.0M/268M [00:22<03:21, 1.16MB/s]"
        },
        {
          "name": "stderr",
          "output_type": "stream",
          "text": "\r, 17%|█▋        | 45.2M/268M [00:22<03:05, 1.26MB/s]"
        },
        {
          "name": "stderr",
          "output_type": "stream",
          "text": "\r, 17%|█▋        | 45.5M/268M [00:23<03:06, 1.25MB/s]"
        },
        {
          "name": "stderr",
          "output_type": "stream",
          "text": "\r, 17%|█▋        | 45.8M/268M [00:23<03:18, 1.17MB/s]"
        },
        {
          "name": "stderr",
          "output_type": "stream",
          "text": "\r, 17%|█▋        | 46.0M/268M [00:23<03:09, 1.23MB/s]"
        },
        {
          "name": "stderr",
          "output_type": "stream",
          "text": "\r, 17%|█▋        | 46.2M/268M [00:23<02:57, 1.31MB/s]"
        },
        {
          "name": "stderr",
          "output_type": "stream",
          "text": "\r, 17%|█▋        | 46.5M/268M [00:23<02:35, 1.49MB/s]"
        },
        {
          "name": "stderr",
          "output_type": "stream",
          "text": "\r, 17%|█▋        | 46.8M/268M [00:23<02:20, 1.65MB/s]"
        },
        {
          "name": "stderr",
          "output_type": "stream",
          "text": "\r, 18%|█▊        | 47.0M/268M [00:24<02:15, 1.71MB/s]"
        },
        {
          "name": "stderr",
          "output_type": "stream",
          "text": "\r, 18%|█▊        | 47.2M/268M [00:24<02:16, 1.70MB/s]"
        },
        {
          "name": "stderr",
          "output_type": "stream",
          "text": "\r, 18%|█▊        | 47.5M/268M [00:24<02:29, 1.54MB/s]"
        },
        {
          "name": "stderr",
          "output_type": "stream",
          "text": "\r, 18%|█▊        | 47.8M/268M [00:24<02:41, 1.43MB/s]"
        },
        {
          "name": "stderr",
          "output_type": "stream",
          "text": "\r, 18%|█▊        | 48.0M/268M [00:24<02:28, 1.55MB/s]"
        },
        {
          "name": "stderr",
          "output_type": "stream",
          "text": "\r, 18%|█▊        | 48.2M/268M [00:24<02:27, 1.56MB/s]"
        },
        {
          "name": "stderr",
          "output_type": "stream",
          "text": "\r, 18%|█▊        | 48.5M/268M [00:25<02:44, 1.40MB/s]"
        },
        {
          "name": "stderr",
          "output_type": "stream",
          "text": "\r, 18%|█▊        | 48.8M/268M [00:25<03:04, 1.24MB/s]"
        },
        {
          "name": "stderr",
          "output_type": "stream",
          "text": "\r, 18%|█▊        | 49.0M/268M [00:25<02:58, 1.29MB/s]"
        },
        {
          "name": "stderr",
          "output_type": "stream",
          "text": "\r, 18%|█▊        | 49.2M/268M [00:25<02:54, 1.31MB/s]"
        },
        {
          "name": "stderr",
          "output_type": "stream",
          "text": "\r, 18%|█▊        | 49.5M/268M [00:26<02:47, 1.37MB/s]"
        },
        {
          "name": "stderr",
          "output_type": "stream",
          "text": "\r, 19%|█▊        | 49.8M/268M [00:26<02:26, 1.56MB/s]"
        },
        {
          "name": "stderr",
          "output_type": "stream",
          "text": "\r, 19%|█▊        | 50.1M/268M [00:26<02:04, 1.84MB/s]"
        },
        {
          "name": "stderr",
          "output_type": "stream",
          "text": "\r, 19%|█▉        | 50.4M/268M [00:26<02:15, 1.69MB/s]"
        },
        {
          "name": "stderr",
          "output_type": "stream",
          "text": "\r, 19%|█▉        | 50.6M/268M [00:26<02:40, 1.42MB/s]"
        },
        {
          "name": "stderr",
          "output_type": "stream",
          "text": "\r, 19%|█▉        | 50.9M/268M [00:26<02:33, 1.48MB/s]"
        },
        {
          "name": "stderr",
          "output_type": "stream",
          "text": "\r, 19%|█▉        | 51.2M/268M [00:27<02:04, 1.83MB/s]"
        },
        {
          "name": "stderr",
          "output_type": "stream",
          "text": "\r, 19%|█▉        | 51.6M/268M [00:27<01:46, 2.12MB/s]"
        },
        {
          "name": "stderr",
          "output_type": "stream",
          "text": "\r, 19%|█▉        | 51.9M/268M [00:27<01:50, 2.06MB/s]"
        },
        {
          "name": "stderr",
          "output_type": "stream",
          "text": "\r, 19%|█▉        | 52.1M/268M [00:27<02:00, 1.88MB/s]"
        },
        {
          "name": "stderr",
          "output_type": "stream",
          "text": "\r, 20%|█▉        | 52.4M/268M [00:27<02:01, 1.85MB/s]"
        },
        {
          "name": "stderr",
          "output_type": "stream",
          "text": "\r, 20%|█▉        | 52.6M/268M [00:27<02:00, 1.87MB/s]"
        },
        {
          "name": "stderr",
          "output_type": "stream",
          "text": "\r, 20%|█▉        | 52.9M/268M [00:27<02:02, 1.84MB/s]"
        },
        {
          "name": "stderr",
          "output_type": "stream",
          "text": "\r, 20%|█▉        | 53.1M/268M [00:28<01:52, 2.01MB/s]"
        },
        {
          "name": "stderr",
          "output_type": "stream",
          "text": "\r, 20%|█▉        | 53.5M/268M [00:28<01:36, 2.33MB/s]"
        },
        {
          "name": "stderr",
          "output_type": "stream",
          "text": "\r, 20%|██        | 53.8M/268M [00:28<01:47, 2.08MB/s]"
        },
        {
          "name": "stderr",
          "output_type": "stream",
          "text": "\r, 20%|██        | 54.0M/268M [00:28<01:50, 2.04MB/s]"
        },
        {
          "name": "stderr",
          "output_type": "stream",
          "text": "\r, 20%|██        | 54.2M/268M [00:28<02:17, 1.63MB/s]"
        },
        {
          "name": "stderr",
          "output_type": "stream",
          "text": "\r, 20%|██        | 54.5M/268M [00:28<02:29, 1.50MB/s]"
        },
        {
          "name": "stderr",
          "output_type": "stream",
          "text": "\r, 20%|██        | 54.8M/268M [00:29<02:23, 1.55MB/s]"
        },
        {
          "name": "stderr",
          "output_type": "stream",
          "text": "\r, 21%|██        | 55.0M/268M [00:29<02:52, 1.29MB/s]"
        },
        {
          "name": "stderr",
          "output_type": "stream",
          "text": "\r, 21%|██        | 55.2M/268M [00:29<02:49, 1.32MB/s]"
        },
        {
          "name": "stderr",
          "output_type": "stream",
          "text": "\r, 21%|██        | 55.5M/268M [00:29<02:47, 1.33MB/s]"
        },
        {
          "name": "stderr",
          "output_type": "stream",
          "text": "\r, 21%|██        | 55.8M/268M [00:29<02:31, 1.47MB/s]"
        },
        {
          "name": "stderr",
          "output_type": "stream",
          "text": "\r, 21%|██        | 56.1M/268M [00:29<01:56, 1.90MB/s]"
        },
        {
          "name": "stderr",
          "output_type": "stream",
          "text": "\r, 21%|██        | 56.5M/268M [00:30<01:37, 2.27MB/s]"
        },
        {
          "name": "stderr",
          "output_type": "stream",
          "text": "\r, 21%|██▏       | 57.0M/268M [00:30<01:19, 2.79MB/s]"
        },
        {
          "name": "stderr",
          "output_type": "stream",
          "text": "\r, 21%|██▏       | 57.4M/268M [00:30<01:19, 2.77MB/s]"
        },
        {
          "name": "stderr",
          "output_type": "stream",
          "text": "\r, 22%|██▏       | 57.8M/268M [00:30<01:43, 2.12MB/s]"
        },
        {
          "name": "stderr",
          "output_type": "stream",
          "text": "\r, 22%|██▏       | 58.0M/268M [00:30<01:45, 2.08MB/s]"
        },
        {
          "name": "stderr",
          "output_type": "stream",
          "text": "\r, 22%|██▏       | 58.2M/268M [00:30<01:43, 2.13MB/s]"
        },
        {
          "name": "stderr",
          "output_type": "stream",
          "text": "\r, 22%|██▏       | 58.5M/268M [00:30<01:39, 2.22MB/s]"
        },
        {
          "name": "stderr",
          "output_type": "stream",
          "text": "\r, 22%|██▏       | 58.9M/268M [00:31<01:33, 2.34MB/s]"
        },
        {
          "name": "stderr",
          "output_type": "stream",
          "text": "\r, 22%|██▏       | 59.1M/268M [00:31<01:35, 2.30MB/s]"
        },
        {
          "name": "stderr",
          "output_type": "stream",
          "text": "\r, 22%|██▏       | 59.4M/268M [00:31<01:33, 2.34MB/s]"
        },
        {
          "name": "stderr",
          "output_type": "stream",
          "text": "\r, 22%|██▏       | 59.6M/268M [00:31<01:30, 2.41MB/s]"
        },
        {
          "name": "stderr",
          "output_type": "stream",
          "text": "\r, 22%|██▏       | 59.9M/268M [00:31<01:32, 2.34MB/s]"
        },
        {
          "name": "stderr",
          "output_type": "stream",
          "text": "\r, 22%|██▏       | 60.1M/268M [00:31<01:59, 1.83MB/s]"
        },
        {
          "name": "stderr",
          "output_type": "stream",
          "text": "\r, 23%|██▎       | 60.4M/268M [00:32<02:20, 1.55MB/s]"
        },
        {
          "name": "stderr",
          "output_type": "stream",
          "text": "\r, 23%|██▎       | 60.6M/268M [00:32<02:32, 1.43MB/s]"
        },
        {
          "name": "stderr",
          "output_type": "stream",
          "text": "\r, 23%|██▎       | 60.9M/268M [00:32<02:15, 1.60MB/s]"
        },
        {
          "name": "stderr",
          "output_type": "stream",
          "text": "\r, 23%|██▎       | 61.1M/268M [00:32<02:17, 1.58MB/s]"
        },
        {
          "name": "stderr",
          "output_type": "stream",
          "text": "\r, 23%|██▎       | 61.4M/268M [00:32<02:44, 1.31MB/s]"
        },
        {
          "name": "stderr",
          "output_type": "stream",
          "text": "\r, 23%|██▎       | 61.6M/268M [00:32<02:33, 1.41MB/s]"
        },
        {
          "name": "stderr",
          "output_type": "stream",
          "text": "\r, 23%|██▎       | 61.9M/268M [00:33<02:13, 1.62MB/s]"
        },
        {
          "name": "stderr",
          "output_type": "stream",
          "text": "\r, 23%|██▎       | 62.1M/268M [00:33<02:38, 1.36MB/s]"
        },
        {
          "name": "stderr",
          "output_type": "stream",
          "text": "\r, 23%|██▎       | 62.4M/268M [00:33<03:01, 1.18MB/s]"
        },
        {
          "name": "stderr",
          "output_type": "stream",
          "text": "\r, 23%|██▎       | 62.6M/268M [00:33<02:50, 1.26MB/s]"
        },
        {
          "name": "stderr",
          "output_type": "stream",
          "text": "\r, 23%|██▎       | 62.9M/268M [00:33<02:25, 1.48MB/s]"
        },
        {
          "name": "stderr",
          "output_type": "stream",
          "text": "\r, 24%|██▎       | 63.1M/268M [00:34<02:10, 1.65MB/s]"
        },
        {
          "name": "stderr",
          "output_type": "stream",
          "text": "\r, 24%|██▎       | 63.4M/268M [00:34<02:10, 1.64MB/s]"
        },
        {
          "name": "stderr",
          "output_type": "stream",
          "text": "\r, 24%|██▍       | 63.6M/268M [00:34<03:09, 1.13MB/s]"
        },
        {
          "name": "stderr",
          "output_type": "stream",
          "text": "\r, 24%|██▍       | 63.9M/268M [00:34<03:05, 1.15MB/s]"
        },
        {
          "name": "stderr",
          "output_type": "stream",
          "text": "\r, 24%|██▍       | 64.1M/268M [00:34<02:41, 1.32MB/s]"
        },
        {
          "name": "stderr",
          "output_type": "stream",
          "text": "\r, 24%|██▍       | 64.4M/268M [00:35<02:22, 1.50MB/s]"
        },
        {
          "name": "stderr",
          "output_type": "stream",
          "text": "\r, 24%|██▍       | 64.6M/268M [00:35<02:12, 1.60MB/s]"
        },
        {
          "name": "stderr",
          "output_type": "stream",
          "text": "\r, 24%|██▍       | 64.9M/268M [00:35<02:06, 1.68MB/s]"
        },
        {
          "name": "stderr",
          "output_type": "stream",
          "text": "\r, 24%|██▍       | 65.1M/268M [00:35<02:00, 1.76MB/s]"
        },
        {
          "name": "stderr",
          "output_type": "stream",
          "text": "\r, 24%|██▍       | 65.4M/268M [00:35<01:55, 1.84MB/s]"
        },
        {
          "name": "stderr",
          "output_type": "stream",
          "text": "\r, 25%|██▍       | 65.6M/268M [00:35<01:47, 1.96MB/s]"
        },
        {
          "name": "stderr",
          "output_type": "stream",
          "text": "\r, 25%|██▍       | 65.9M/268M [00:35<01:48, 1.94MB/s]"
        },
        {
          "name": "stderr",
          "output_type": "stream",
          "text": "\r, 25%|██▍       | 66.1M/268M [00:35<01:47, 1.96MB/s]"
        },
        {
          "name": "stderr",
          "output_type": "stream",
          "text": "\r, 25%|██▍       | 66.4M/268M [00:36<01:45, 2.00MB/s]"
        },
        {
          "name": "stderr",
          "output_type": "stream",
          "text": "\r, 25%|██▍       | 66.6M/268M [00:36<01:48, 1.94MB/s]"
        },
        {
          "name": "stderr",
          "output_type": "stream",
          "text": "\r, 25%|██▍       | 66.9M/268M [00:36<02:02, 1.72MB/s]"
        },
        {
          "name": "stderr",
          "output_type": "stream",
          "text": "\r, 25%|██▌       | 67.1M/268M [00:36<01:52, 1.87MB/s]"
        },
        {
          "name": "stderr",
          "output_type": "stream",
          "text": "\r, 25%|██▌       | 67.4M/268M [00:36<01:51, 1.88MB/s]"
        },
        {
          "name": "stderr",
          "output_type": "stream",
          "text": "\r, 25%|██▌       | 67.6M/268M [00:36<01:50, 1.89MB/s]"
        },
        {
          "name": "stderr",
          "output_type": "stream",
          "text": "\r, 25%|██▌       | 68.0M/268M [00:36<01:35, 2.20MB/s]"
        },
        {
          "name": "stderr",
          "output_type": "stream",
          "text": "\r, 26%|██▌       | 68.4M/268M [00:37<01:21, 2.56MB/s]"
        },
        {
          "name": "stderr",
          "output_type": "stream",
          "text": "\r, 26%|██▌       | 68.8M/268M [00:37<01:18, 2.64MB/s]"
        },
        {
          "name": "stderr",
          "output_type": "stream",
          "text": "\r, 26%|██▌       | 69.1M/268M [00:37<01:33, 2.23MB/s]"
        },
        {
          "name": "stderr",
          "output_type": "stream",
          "text": "\r, 26%|██▌       | 69.4M/268M [00:37<01:44, 1.99MB/s]"
        },
        {
          "name": "stderr",
          "output_type": "stream",
          "text": "\r, 26%|██▌       | 69.6M/268M [00:37<01:48, 1.91MB/s]"
        },
        {
          "name": "stderr",
          "output_type": "stream",
          "text": "\r, 26%|██▌       | 69.9M/268M [00:37<01:43, 2.00MB/s]"
        },
        {
          "name": "stderr",
          "output_type": "stream",
          "text": "\r, 26%|██▌       | 70.1M/268M [00:38<01:44, 1.98MB/s]"
        },
        {
          "name": "stderr",
          "output_type": "stream",
          "text": "\r, 26%|██▋       | 70.4M/268M [00:38<01:57, 1.77MB/s]"
        },
        {
          "name": "stderr",
          "output_type": "stream",
          "text": "\r, 26%|██▋       | 70.6M/268M [00:38<02:06, 1.63MB/s]"
        },
        {
          "name": "stderr",
          "output_type": "stream",
          "text": "\r, 26%|██▋       | 70.9M/268M [00:38<01:59, 1.73MB/s]"
        },
        {
          "name": "stderr",
          "output_type": "stream",
          "text": "\r, 27%|██▋       | 71.1M/268M [00:38<01:47, 1.91MB/s]"
        },
        {
          "name": "stderr",
          "output_type": "stream",
          "text": "\r, 27%|██▋       | 71.4M/268M [00:38<01:47, 1.91MB/s]"
        },
        {
          "name": "stderr",
          "output_type": "stream",
          "text": "\r, 27%|██▋       | 71.8M/268M [00:38<01:36, 2.13MB/s]"
        },
        {
          "name": "stderr",
          "output_type": "stream",
          "text": "\r, 27%|██▋       | 72.0M/268M [00:39<01:38, 2.08MB/s]"
        },
        {
          "name": "stderr",
          "output_type": "stream",
          "text": "\r, 27%|██▋       | 72.2M/268M [00:39<02:07, 1.61MB/s]"
        },
        {
          "name": "stderr",
          "output_type": "stream",
          "text": "\r, 27%|██▋       | 72.5M/268M [00:39<02:24, 1.42MB/s]"
        },
        {
          "name": "stderr",
          "output_type": "stream",
          "text": "\r, 27%|██▋       | 72.8M/268M [00:39<02:26, 1.40MB/s]"
        },
        {
          "name": "stderr",
          "output_type": "stream",
          "text": "\r, 27%|██▋       | 73.0M/268M [00:39<02:06, 1.62MB/s]"
        },
        {
          "name": "stderr",
          "output_type": "stream",
          "text": "\r, 27%|██▋       | 73.4M/268M [00:40<01:47, 1.90MB/s]"
        },
        {
          "name": "stderr",
          "output_type": "stream",
          "text": "\r, 27%|██▋       | 73.6M/268M [00:40<01:46, 1.91MB/s]"
        },
        {
          "name": "stderr",
          "output_type": "stream",
          "text": "\r, 28%|██▊       | 73.9M/268M [00:40<01:54, 1.78MB/s]"
        },
        {
          "name": "stderr",
          "output_type": "stream",
          "text": "\r, 28%|██▊       | 74.1M/268M [00:40<02:00, 1.68MB/s]"
        },
        {
          "name": "stderr",
          "output_type": "stream",
          "text": "\r, 28%|██▊       | 74.5M/268M [00:40<01:45, 1.91MB/s]"
        },
        {
          "name": "stderr",
          "output_type": "stream",
          "text": "\r, 28%|██▊       | 74.8M/268M [00:40<01:43, 1.96MB/s]"
        },
        {
          "name": "stderr",
          "output_type": "stream",
          "text": "\r, 28%|██▊       | 75.0M/268M [00:40<01:50, 1.83MB/s]"
        },
        {
          "name": "stderr",
          "output_type": "stream",
          "text": "\r, 28%|██▊       | 75.2M/268M [00:41<01:47, 1.88MB/s]"
        },
        {
          "name": "stderr",
          "output_type": "stream",
          "text": "\r, 28%|██▊       | 75.5M/268M [00:41<01:39, 2.03MB/s]"
        },
        {
          "name": "stderr",
          "output_type": "stream",
          "text": "\r, 28%|██▊       | 75.8M/268M [00:41<01:49, 1.84MB/s]"
        },
        {
          "name": "stderr",
          "output_type": "stream",
          "text": "\r, 28%|██▊       | 76.0M/268M [00:41<01:48, 1.86MB/s]"
        },
        {
          "name": "stderr",
          "output_type": "stream",
          "text": "\r, 28%|██▊       | 76.2M/268M [00:41<01:49, 1.83MB/s]"
        },
        {
          "name": "stderr",
          "output_type": "stream",
          "text": "\r, 29%|██▊       | 76.6M/268M [00:41<01:35, 2.11MB/s]"
        },
        {
          "name": "stderr",
          "output_type": "stream",
          "text": "\r, 29%|██▉       | 77.0M/268M [00:41<01:23, 2.41MB/s]"
        },
        {
          "name": "stderr",
          "output_type": "stream",
          "text": "\r, 29%|██▉       | 77.2M/268M [00:42<01:26, 2.31MB/s]"
        },
        {
          "name": "stderr",
          "output_type": "stream",
          "text": "\r, 29%|██▉       | 77.5M/268M [00:42<01:30, 2.19MB/s]"
        },
        {
          "name": "stderr",
          "output_type": "stream",
          "text": "\r, 29%|██▉       | 77.9M/268M [00:42<01:23, 2.37MB/s]"
        },
        {
          "name": "stderr",
          "output_type": "stream",
          "text": "\r, 29%|██▉       | 78.1M/268M [00:42<01:32, 2.14MB/s]"
        },
        {
          "name": "stderr",
          "output_type": "stream",
          "text": "\r, 29%|██▉       | 78.4M/268M [00:42<01:40, 1.97MB/s]"
        },
        {
          "name": "stderr",
          "output_type": "stream",
          "text": "\r, 29%|██▉       | 78.6M/268M [00:42<01:43, 1.91MB/s]"
        },
        {
          "name": "stderr",
          "output_type": "stream",
          "text": "\r, 29%|██▉       | 78.9M/268M [00:42<01:48, 1.83MB/s]"
        },
        {
          "name": "stderr",
          "output_type": "stream",
          "text": "\r, 30%|██▉       | 79.1M/268M [00:43<01:47, 1.84MB/s]"
        },
        {
          "name": "stderr",
          "output_type": "stream",
          "text": "\r, 30%|██▉       | 79.4M/268M [00:43<01:38, 2.00MB/s]"
        },
        {
          "name": "stderr",
          "output_type": "stream",
          "text": "\r, 30%|██▉       | 79.8M/268M [00:43<01:23, 2.37MB/s]"
        },
        {
          "name": "stderr",
          "output_type": "stream",
          "text": "\r, 30%|██▉       | 80.1M/268M [00:43<01:14, 2.65MB/s]"
        },
        {
          "name": "stderr",
          "output_type": "stream",
          "text": "\r, 30%|███       | 80.5M/268M [00:43<01:14, 2.63MB/s]"
        },
        {
          "name": "stderr",
          "output_type": "stream",
          "text": "\r, 30%|███       | 80.9M/268M [00:43<01:20, 2.42MB/s]"
        },
        {
          "name": "stderr",
          "output_type": "stream",
          "text": "\r, 30%|███       | 81.2M/268M [00:43<01:19, 2.45MB/s]"
        },
        {
          "name": "stderr",
          "output_type": "stream",
          "text": "\r, 30%|███       | 81.5M/268M [00:44<01:47, 1.81MB/s]"
        },
        {
          "name": "stderr",
          "output_type": "stream",
          "text": "\r, 31%|███       | 81.8M/268M [00:44<01:41, 1.92MB/s]"
        },
        {
          "name": "stderr",
          "output_type": "stream",
          "text": "\r, 31%|███       | 82.0M/268M [00:44<01:34, 2.05MB/s]"
        },
        {
          "name": "stderr",
          "output_type": "stream",
          "text": "\r, 31%|███       | 82.2M/268M [00:44<01:46, 1.83MB/s]"
        },
        {
          "name": "stderr",
          "output_type": "stream",
          "text": "\r, 31%|███       | 82.5M/268M [00:44<01:39, 1.95MB/s]"
        },
        {
          "name": "stderr",
          "output_type": "stream",
          "text": "\r, 31%|███       | 82.8M/268M [00:44<01:38, 1.98MB/s]"
        },
        {
          "name": "stderr",
          "output_type": "stream",
          "text": "\r, 31%|███       | 83.1M/268M [00:44<01:29, 2.16MB/s]"
        },
        {
          "name": "stderr",
          "output_type": "stream",
          "text": "\r, 31%|███       | 83.4M/268M [00:45<01:38, 1.96MB/s]"
        },
        {
          "name": "stderr",
          "output_type": "stream",
          "text": "\r, 31%|███       | 83.6M/268M [00:45<01:39, 1.95MB/s]"
        },
        {
          "name": "stderr",
          "output_type": "stream",
          "text": "\r, 31%|███▏      | 83.9M/268M [00:45<01:56, 1.65MB/s]"
        },
        {
          "name": "stderr",
          "output_type": "stream",
          "text": "\r, 31%|███▏      | 84.1M/268M [00:45<02:07, 1.51MB/s]"
        },
        {
          "name": "stderr",
          "output_type": "stream",
          "text": "\r, 32%|███▏      | 84.4M/268M [00:46<02:41, 1.19MB/s]"
        },
        {
          "name": "stderr",
          "output_type": "stream",
          "text": "\r, 32%|███▏      | 84.6M/268M [00:46<02:23, 1.34MB/s]"
        },
        {
          "name": "stderr",
          "output_type": "stream",
          "text": "\r, 32%|███▏      | 85.0M/268M [00:46<01:57, 1.63MB/s]"
        },
        {
          "name": "stderr",
          "output_type": "stream",
          "text": "\r, 32%|███▏      | 85.2M/268M [00:46<01:50, 1.74MB/s]"
        },
        {
          "name": "stderr",
          "output_type": "stream",
          "text": "\r, 32%|███▏      | 85.5M/268M [00:46<01:44, 1.82MB/s]"
        },
        {
          "name": "stderr",
          "output_type": "stream",
          "text": "\r, 32%|███▏      | 85.8M/268M [00:46<01:44, 1.82MB/s]"
        },
        {
          "name": "stderr",
          "output_type": "stream",
          "text": "\r, 32%|███▏      | 86.0M/268M [00:46<01:45, 1.81MB/s]"
        },
        {
          "name": "stderr",
          "output_type": "stream",
          "text": "\r, 32%|███▏      | 86.4M/268M [00:47<01:29, 2.12MB/s]"
        },
        {
          "name": "stderr",
          "output_type": "stream",
          "text": "\r, 32%|███▏      | 86.8M/268M [00:47<01:16, 2.48MB/s]"
        },
        {
          "name": "stderr",
          "output_type": "stream",
          "text": "\r, 32%|███▏      | 87.0M/268M [00:47<01:29, 2.13MB/s]"
        },
        {
          "name": "stderr",
          "output_type": "stream",
          "text": "\r, 33%|███▎      | 87.2M/268M [00:47<01:25, 2.22MB/s]"
        },
        {
          "name": "stderr",
          "output_type": "stream",
          "text": "\r, 33%|███▎      | 87.5M/268M [00:47<01:23, 2.27MB/s]"
        },
        {
          "name": "stderr",
          "output_type": "stream",
          "text": "\r, 33%|███▎      | 87.8M/268M [00:47<01:24, 2.23MB/s]"
        },
        {
          "name": "stderr",
          "output_type": "stream",
          "text": "\r, 33%|███▎      | 88.0M/268M [00:47<01:35, 1.98MB/s]"
        },
        {
          "name": "stderr",
          "output_type": "stream",
          "text": "\r, 33%|███▎      | 88.2M/268M [00:47<01:32, 2.04MB/s]"
        },
        {
          "name": "stderr",
          "output_type": "stream",
          "text": "\r, 33%|███▎      | 88.5M/268M [00:48<01:26, 2.18MB/s]"
        },
        {
          "name": "stderr",
          "output_type": "stream",
          "text": "\r, 33%|███▎      | 88.9M/268M [00:48<01:21, 2.29MB/s]"
        },
        {
          "name": "stderr",
          "output_type": "stream",
          "text": "\r, 33%|███▎      | 89.2M/268M [00:48<01:15, 2.48MB/s]"
        },
        {
          "name": "stderr",
          "output_type": "stream",
          "text": "\r, 33%|███▎      | 89.6M/268M [00:48<01:12, 2.59MB/s]"
        },
        {
          "name": "stderr",
          "output_type": "stream",
          "text": "\r, 34%|███▎      | 89.9M/268M [00:48<01:27, 2.13MB/s]"
        },
        {
          "name": "stderr",
          "output_type": "stream",
          "text": "\r, 34%|███▎      | 90.1M/268M [00:48<01:40, 1.86MB/s]"
        },
        {
          "name": "stderr",
          "output_type": "stream",
          "text": "\r, 34%|███▍      | 90.4M/268M [00:48<01:36, 1.93MB/s]"
        },
        {
          "name": "stderr",
          "output_type": "stream",
          "text": "\r, 34%|███▍      | 90.6M/268M [00:49<01:29, 2.06MB/s]"
        },
        {
          "name": "stderr",
          "output_type": "stream",
          "text": "\r, 34%|███▍      | 90.9M/268M [00:49<01:29, 2.08MB/s]"
        },
        {
          "name": "stderr",
          "output_type": "stream",
          "text": "\r, 34%|███▍      | 91.1M/268M [00:49<01:25, 2.18MB/s]"
        },
        {
          "name": "stderr",
          "output_type": "stream",
          "text": "\r, 34%|███▍      | 91.4M/268M [00:49<01:29, 2.07MB/s]"
        },
        {
          "name": "stderr",
          "output_type": "stream",
          "text": "\r, 34%|███▍      | 91.6M/268M [00:49<01:37, 1.90MB/s]"
        },
        {
          "name": "stderr",
          "output_type": "stream",
          "text": "\r, 34%|███▍      | 91.9M/268M [00:49<02:07, 1.45MB/s]"
        },
        {
          "name": "stderr",
          "output_type": "stream",
          "text": "\r, 34%|███▍      | 92.1M/268M [00:50<02:15, 1.36MB/s]"
        },
        {
          "name": "stderr",
          "output_type": "stream",
          "text": "\r, 34%|███▍      | 92.4M/268M [00:50<02:20, 1.31MB/s]"
        },
        {
          "name": "stderr",
          "output_type": "stream",
          "text": "\r, 35%|███▍      | 92.6M/268M [00:50<02:09, 1.42MB/s]"
        },
        {
          "name": "stderr",
          "output_type": "stream",
          "text": "\r, 35%|███▍      | 92.9M/268M [00:50<02:08, 1.43MB/s]"
        },
        {
          "name": "stderr",
          "output_type": "stream",
          "text": "\r, 35%|███▍      | 93.1M/268M [00:50<02:17, 1.34MB/s]"
        },
        {
          "name": "stderr",
          "output_type": "stream",
          "text": "\r, 35%|███▍      | 93.4M/268M [00:51<02:11, 1.39MB/s]"
        },
        {
          "name": "stderr",
          "output_type": "stream",
          "text": "\r, 35%|███▍      | 93.6M/268M [00:51<01:53, 1.60MB/s]"
        },
        {
          "name": "stderr",
          "output_type": "stream",
          "text": "\r, 35%|███▌      | 94.0M/268M [00:51<01:31, 1.99MB/s]"
        },
        {
          "name": "stderr",
          "output_type": "stream",
          "text": "\r, 35%|███▌      | 94.2M/268M [00:51<01:26, 2.11MB/s]"
        },
        {
          "name": "stderr",
          "output_type": "stream",
          "text": "\r, 35%|███▌      | 94.5M/268M [00:51<01:26, 2.09MB/s]"
        },
        {
          "name": "stderr",
          "output_type": "stream",
          "text": "\r, 35%|███▌      | 94.8M/268M [00:51<01:28, 2.05MB/s]"
        },
        {
          "name": "stderr",
          "output_type": "stream",
          "text": "\r, 35%|███▌      | 95.0M/268M [00:51<01:28, 2.06MB/s]"
        },
        {
          "name": "stderr",
          "output_type": "stream",
          "text": "\r, 36%|███▌      | 95.2M/268M [00:51<01:24, 2.15MB/s]"
        },
        {
          "name": "stderr",
          "output_type": "stream",
          "text": "\r, 36%|███▌      | 95.5M/268M [00:51<01:23, 2.17MB/s]"
        },
        {
          "name": "stderr",
          "output_type": "stream",
          "text": "\r, 36%|███▌      | 95.9M/268M [00:52<01:12, 2.49MB/s]"
        },
        {
          "name": "stderr",
          "output_type": "stream",
          "text": "\r, 36%|███▌      | 96.1M/268M [00:52<01:11, 2.51MB/s]"
        },
        {
          "name": "stderr",
          "output_type": "stream",
          "text": "\r, 36%|███▌      | 96.4M/268M [00:52<01:16, 2.36MB/s]"
        },
        {
          "name": "stderr",
          "output_type": "stream",
          "text": "\r, 36%|███▌      | 96.8M/268M [00:52<01:10, 2.55MB/s]"
        },
        {
          "name": "stderr",
          "output_type": "stream",
          "text": "\r, 36%|███▌      | 97.0M/268M [00:52<01:11, 2.49MB/s]"
        },
        {
          "name": "stderr",
          "output_type": "stream",
          "text": "\r, 36%|███▋      | 97.2M/268M [00:52<01:10, 2.52MB/s]"
        },
        {
          "name": "stderr",
          "output_type": "stream",
          "text": "\r, 36%|███▋      | 97.5M/268M [00:52<01:10, 2.52MB/s]"
        },
        {
          "name": "stderr",
          "output_type": "stream",
          "text": "\r, 37%|███▋      | 97.9M/268M [00:52<01:09, 2.57MB/s]"
        },
        {
          "name": "stderr",
          "output_type": "stream",
          "text": "\r, 37%|███▋      | 98.2M/268M [00:53<01:01, 2.91MB/s]"
        },
        {
          "name": "stderr",
          "output_type": "stream",
          "text": "\r, 37%|███▋      | 98.8M/268M [00:53<00:50, 3.53MB/s]"
        },
        {
          "name": "stderr",
          "output_type": "stream",
          "text": "\r, 37%|███▋      | 99.1M/268M [00:53<00:55, 3.21MB/s]"
        },
        {
          "name": "stderr",
          "output_type": "stream",
          "text": "\r, 37%|███▋      | 99.5M/268M [00:53<00:58, 3.00MB/s]"
        },
        {
          "name": "stderr",
          "output_type": "stream",
          "text": "\r, 37%|███▋      | 99.9M/268M [00:53<01:06, 2.63MB/s]"
        },
        {
          "name": "stderr",
          "output_type": "stream",
          "text": "\r, 37%|███▋      | 100M/268M [00:53<01:13, 2.39MB/s] "
        },
        {
          "name": "stderr",
          "output_type": "stream",
          "text": "\r, 38%|███▊      | 100M/268M [00:53<01:20, 2.18MB/s]"
        },
        {
          "name": "stderr",
          "output_type": "stream",
          "text": "\r, 38%|███▊      | 101M/268M [00:54<01:20, 2.17MB/s]"
        },
        {
          "name": "stderr",
          "output_type": "stream",
          "text": "\r, 38%|███▊      | 101M/268M [00:54<01:13, 2.38MB/s]"
        },
        {
          "name": "stderr",
          "output_type": "stream",
          "text": "\r, 38%|███▊      | 102M/268M [00:54<01:07, 2.59MB/s]"
        },
        {
          "name": "stderr",
          "output_type": "stream",
          "text": "\r, 38%|███▊      | 102M/268M [00:54<01:00, 2.88MB/s]"
        },
        {
          "name": "stderr",
          "output_type": "stream",
          "text": "\r, 38%|███▊      | 102M/268M [00:54<00:53, 3.22MB/s]"
        },
        {
          "name": "stderr",
          "output_type": "stream",
          "text": "\r, 38%|███▊      | 103M/268M [00:54<00:47, 3.60MB/s]"
        },
        {
          "name": "stderr",
          "output_type": "stream",
          "text": "\r, 39%|███▊      | 103M/268M [00:54<00:42, 4.02MB/s]"
        },
        {
          "name": "stderr",
          "output_type": "stream",
          "text": "\r, 39%|███▉      | 104M/268M [00:54<00:40, 4.29MB/s]"
        },
        {
          "name": "stderr",
          "output_type": "stream",
          "text": "\r, 39%|███▉      | 104M/268M [00:55<00:37, 4.52MB/s]"
        },
        {
          "name": "stderr",
          "output_type": "stream",
          "text": "\r, 39%|███▉      | 105M/268M [00:55<00:41, 4.07MB/s]"
        },
        {
          "name": "stderr",
          "output_type": "stream",
          "text": "\r, 39%|███▉      | 105M/268M [00:55<01:04, 2.65MB/s]"
        },
        {
          "name": "stderr",
          "output_type": "stream",
          "text": "\r, 39%|███▉      | 106M/268M [00:55<01:05, 2.61MB/s]"
        },
        {
          "name": "stderr",
          "output_type": "stream",
          "text": "\r, 40%|███▉      | 106M/268M [00:55<01:06, 2.56MB/s]"
        },
        {
          "name": "stderr",
          "output_type": "stream",
          "text": "\r, 40%|███▉      | 106M/268M [00:56<01:12, 2.34MB/s]"
        },
        {
          "name": "stderr",
          "output_type": "stream",
          "text": "\r, 40%|███▉      | 107M/268M [00:56<01:12, 2.32MB/s]"
        },
        {
          "name": "stderr",
          "output_type": "stream",
          "text": "\r, 40%|███▉      | 107M/268M [00:56<01:12, 2.32MB/s]"
        },
        {
          "name": "stderr",
          "output_type": "stream",
          "text": "\r, 40%|████      | 107M/268M [00:56<01:04, 2.59MB/s]"
        },
        {
          "name": "stderr",
          "output_type": "stream",
          "text": "\r, 40%|████      | 108M/268M [00:56<01:02, 2.67MB/s]"
        },
        {
          "name": "stderr",
          "output_type": "stream",
          "text": "\r, 40%|████      | 108M/268M [00:56<01:01, 2.74MB/s]"
        },
        {
          "name": "stderr",
          "output_type": "stream",
          "text": "\r, 41%|████      | 108M/268M [00:56<00:57, 2.91MB/s]"
        },
        {
          "name": "stderr",
          "output_type": "stream",
          "text": "\r, 41%|████      | 109M/268M [00:56<00:55, 3.01MB/s]"
        },
        {
          "name": "stderr",
          "output_type": "stream",
          "text": "\r, 41%|████      | 109M/268M [00:57<00:54, 3.03MB/s]"
        },
        {
          "name": "stderr",
          "output_type": "stream",
          "text": "\r, 41%|████      | 110M/268M [00:57<00:53, 3.11MB/s]"
        },
        {
          "name": "stderr",
          "output_type": "stream",
          "text": "\r, 41%|████      | 110M/268M [00:57<00:49, 3.37MB/s]"
        },
        {
          "name": "stderr",
          "output_type": "stream",
          "text": "\r, 41%|████▏     | 110M/268M [00:57<00:47, 3.50MB/s]"
        },
        {
          "name": "stderr",
          "output_type": "stream",
          "text": "\r, 41%|████▏     | 111M/268M [00:57<00:51, 3.17MB/s]"
        },
        {
          "name": "stderr",
          "output_type": "stream",
          "text": "\r, 42%|████▏     | 111M/268M [00:57<00:53, 3.06MB/s]"
        },
        {
          "name": "stderr",
          "output_type": "stream",
          "text": "\r, 42%|████▏     | 112M/268M [00:57<00:52, 3.09MB/s]"
        },
        {
          "name": "stderr",
          "output_type": "stream",
          "text": "\r, 42%|████▏     | 112M/268M [00:57<00:52, 3.12MB/s]"
        },
        {
          "name": "stderr",
          "output_type": "stream",
          "text": "\r, 42%|████▏     | 112M/268M [00:58<00:52, 3.10MB/s]"
        },
        {
          "name": "stderr",
          "output_type": "stream",
          "text": "\r, 42%|████▏     | 113M/268M [00:58<00:57, 2.81MB/s]"
        },
        {
          "name": "stderr",
          "output_type": "stream",
          "text": "\r, 42%|████▏     | 113M/268M [00:58<01:12, 2.24MB/s]"
        },
        {
          "name": "stderr",
          "output_type": "stream",
          "text": "\r, 42%|████▏     | 113M/268M [00:58<01:19, 2.03MB/s]"
        },
        {
          "name": "stderr",
          "output_type": "stream",
          "text": "\r, 42%|████▏     | 114M/268M [00:58<01:22, 1.97MB/s]"
        },
        {
          "name": "stderr",
          "output_type": "stream",
          "text": "\r, 43%|████▎     | 114M/268M [00:58<01:20, 2.00MB/s]"
        },
        {
          "name": "stderr",
          "output_type": "stream",
          "text": "\r, 43%|████▎     | 114M/268M [00:59<01:27, 1.84MB/s]"
        },
        {
          "name": "stderr",
          "output_type": "stream",
          "text": "\r, 43%|████▎     | 114M/268M [00:59<01:34, 1.71MB/s]"
        },
        {
          "name": "stderr",
          "output_type": "stream",
          "text": "\r, 43%|████▎     | 115M/268M [00:59<01:37, 1.64MB/s]"
        },
        {
          "name": "stderr",
          "output_type": "stream",
          "text": "\r, 43%|████▎     | 115M/268M [00:59<01:33, 1.72MB/s]"
        },
        {
          "name": "stderr",
          "output_type": "stream",
          "text": "\r, 43%|████▎     | 115M/268M [00:59<01:37, 1.64MB/s]"
        },
        {
          "name": "stderr",
          "output_type": "stream",
          "text": "\r, 43%|████▎     | 115M/268M [00:59<01:34, 1.69MB/s]"
        },
        {
          "name": "stderr",
          "output_type": "stream",
          "text": "\r, 43%|████▎     | 116M/268M [01:00<01:17, 2.07MB/s]"
        },
        {
          "name": "stderr",
          "output_type": "stream",
          "text": "\r, 43%|████▎     | 116M/268M [01:00<01:04, 2.47MB/s]"
        },
        {
          "name": "stderr",
          "output_type": "stream",
          "text": "\r, 44%|████▎     | 116M/268M [01:00<00:58, 2.73MB/s]"
        },
        {
          "name": "stderr",
          "output_type": "stream",
          "text": "\r, 44%|████▎     | 117M/268M [01:00<00:56, 2.82MB/s]"
        },
        {
          "name": "stderr",
          "output_type": "stream",
          "text": "\r, 44%|████▍     | 117M/268M [01:00<00:56, 2.77MB/s]"
        },
        {
          "name": "stderr",
          "output_type": "stream",
          "text": "\r, 44%|████▍     | 118M/268M [01:00<01:03, 2.49MB/s]"
        },
        {
          "name": "stderr",
          "output_type": "stream",
          "text": "\r, 44%|████▍     | 118M/268M [01:00<01:03, 2.47MB/s]"
        },
        {
          "name": "stderr",
          "output_type": "stream",
          "text": "\r, 44%|████▍     | 118M/268M [01:00<00:56, 2.78MB/s]"
        },
        {
          "name": "stderr",
          "output_type": "stream",
          "text": "\r, 44%|████▍     | 119M/268M [01:01<00:47, 3.26MB/s]"
        },
        {
          "name": "stderr",
          "output_type": "stream",
          "text": "\r, 45%|████▍     | 119M/268M [01:01<00:42, 3.65MB/s]"
        },
        {
          "name": "stderr",
          "output_type": "stream",
          "text": "\r, 45%|████▍     | 120M/268M [01:01<00:47, 3.29MB/s]"
        },
        {
          "name": "stderr",
          "output_type": "stream",
          "text": "\r, 45%|████▍     | 120M/268M [01:01<00:56, 2.75MB/s]"
        },
        {
          "name": "stderr",
          "output_type": "stream",
          "text": "\r, 45%|████▍     | 120M/268M [01:01<01:01, 2.50MB/s]"
        },
        {
          "name": "stderr",
          "output_type": "stream",
          "text": "\r, 45%|████▌     | 121M/268M [01:01<01:06, 2.33MB/s]"
        },
        {
          "name": "stderr",
          "output_type": "stream",
          "text": "\r, 45%|████▌     | 121M/268M [01:02<01:07, 2.28MB/s]"
        },
        {
          "name": "stderr",
          "output_type": "stream",
          "text": "\r, 45%|████▌     | 121M/268M [01:02<01:08, 2.24MB/s]"
        },
        {
          "name": "stderr",
          "output_type": "stream",
          "text": "\r, 45%|████▌     | 122M/268M [01:02<01:01, 2.48MB/s]"
        },
        {
          "name": "stderr",
          "output_type": "stream",
          "text": "\r, 46%|████▌     | 122M/268M [01:02<00:57, 2.66MB/s]"
        },
        {
          "name": "stderr",
          "output_type": "stream",
          "text": "\r, 46%|████▌     | 122M/268M [01:02<01:11, 2.14MB/s]"
        },
        {
          "name": "stderr",
          "output_type": "stream",
          "text": "\r, 46%|████▌     | 123M/268M [01:02<01:17, 1.97MB/s]"
        },
        {
          "name": "stderr",
          "output_type": "stream",
          "text": "\r, 46%|████▌     | 123M/268M [01:03<01:23, 1.82MB/s]"
        },
        {
          "name": "stderr",
          "output_type": "stream",
          "text": "\r, 46%|████▌     | 123M/268M [01:03<01:21, 1.85MB/s]"
        },
        {
          "name": "stderr",
          "output_type": "stream",
          "text": "\r, 46%|████▌     | 124M/268M [01:03<01:11, 2.11MB/s]"
        },
        {
          "name": "stderr",
          "output_type": "stream",
          "text": "\r, 46%|████▋     | 124M/268M [01:03<01:02, 2.43MB/s]"
        },
        {
          "name": "stderr",
          "output_type": "stream",
          "text": "\r, 46%|████▋     | 124M/268M [01:03<00:50, 2.96MB/s]"
        },
        {
          "name": "stderr",
          "output_type": "stream",
          "text": "\r, 47%|████▋     | 125M/268M [01:03<00:48, 3.08MB/s]"
        },
        {
          "name": "stderr",
          "output_type": "stream",
          "text": "\r, 47%|████▋     | 125M/268M [01:03<00:44, 3.32MB/s]"
        },
        {
          "name": "stderr",
          "output_type": "stream",
          "text": "\r, 47%|████▋     | 126M/268M [01:03<00:48, 3.07MB/s]"
        },
        {
          "name": "stderr",
          "output_type": "stream",
          "text": "\r, 47%|████▋     | 126M/268M [01:04<00:52, 2.81MB/s]"
        },
        {
          "name": "stderr",
          "output_type": "stream",
          "text": "\r, 47%|████▋     | 126M/268M [01:04<00:55, 2.67MB/s]"
        },
        {
          "name": "stderr",
          "output_type": "stream",
          "text": "\r, 47%|████▋     | 127M/268M [01:04<01:00, 2.44MB/s]"
        },
        {
          "name": "stderr",
          "output_type": "stream",
          "text": "\r, 47%|████▋     | 127M/268M [01:04<01:02, 2.35MB/s]"
        },
        {
          "name": "stderr",
          "output_type": "stream",
          "text": "\r, 48%|████▊     | 127M/268M [01:04<01:05, 2.24MB/s]"
        },
        {
          "name": "stderr",
          "output_type": "stream",
          "text": "\r, 48%|████▊     | 128M/268M [01:04<01:00, 2.42MB/s]"
        },
        {
          "name": "stderr",
          "output_type": "stream",
          "text": "\r, 48%|████▊     | 128M/268M [01:05<00:59, 2.45MB/s]"
        },
        {
          "name": "stderr",
          "output_type": "stream",
          "text": "\r, 48%|████▊     | 128M/268M [01:05<01:02, 2.35MB/s]"
        },
        {
          "name": "stderr",
          "output_type": "stream",
          "text": "\r, 48%|████▊     | 128M/268M [01:05<01:03, 2.32MB/s]"
        },
        {
          "name": "stderr",
          "output_type": "stream",
          "text": "\r, 48%|████▊     | 129M/268M [01:05<00:59, 2.46MB/s]"
        },
        {
          "name": "stderr",
          "output_type": "stream",
          "text": "\r, 48%|████▊     | 129M/268M [01:05<00:57, 2.53MB/s]"
        },
        {
          "name": "stderr",
          "output_type": "stream",
          "text": "\r, 48%|████▊     | 130M/268M [01:05<00:57, 2.54MB/s]"
        },
        {
          "name": "stderr",
          "output_type": "stream",
          "text": "\r, 48%|████▊     | 130M/268M [01:05<00:58, 2.47MB/s]"
        },
        {
          "name": "stderr",
          "output_type": "stream",
          "text": "\r, 49%|████▊     | 130M/268M [01:05<00:59, 2.43MB/s]"
        },
        {
          "name": "stderr",
          "output_type": "stream",
          "text": "\r, 49%|████▊     | 130M/268M [01:06<01:17, 1.87MB/s]"
        },
        {
          "name": "stderr",
          "output_type": "stream",
          "text": "\r, 49%|████▊     | 130M/268M [01:06<01:29, 1.61MB/s]"
        },
        {
          "name": "stderr",
          "output_type": "stream",
          "text": "\r, 49%|████▉     | 131M/268M [01:06<01:39, 1.44MB/s]"
        },
        {
          "name": "stderr",
          "output_type": "stream",
          "text": "\r, 49%|████▉     | 131M/268M [01:06<01:49, 1.31MB/s]"
        },
        {
          "name": "stderr",
          "output_type": "stream",
          "text": "\r, 49%|████▉     | 131M/268M [01:06<01:42, 1.40MB/s]"
        },
        {
          "name": "stderr",
          "output_type": "stream",
          "text": "\r, 49%|████▉     | 132M/268M [01:07<01:31, 1.56MB/s]"
        },
        {
          "name": "stderr",
          "output_type": "stream",
          "text": "\r, 49%|████▉     | 132M/268M [01:07<01:23, 1.71MB/s]"
        },
        {
          "name": "stderr",
          "output_type": "stream",
          "text": "\r, 49%|████▉     | 132M/268M [01:07<01:13, 1.94MB/s]"
        },
        {
          "name": "stderr",
          "output_type": "stream",
          "text": "\r, 49%|████▉     | 132M/268M [01:07<01:10, 2.00MB/s]"
        },
        {
          "name": "stderr",
          "output_type": "stream",
          "text": "\r, 50%|████▉     | 133M/268M [01:07<01:02, 2.28MB/s]"
        },
        {
          "name": "stderr",
          "output_type": "stream",
          "text": "\r, 50%|████▉     | 133M/268M [01:07<01:01, 2.29MB/s]"
        },
        {
          "name": "stderr",
          "output_type": "stream",
          "text": "\r, 50%|████▉     | 133M/268M [01:07<01:02, 2.25MB/s]"
        },
        {
          "name": "stderr",
          "output_type": "stream",
          "text": "\r, 50%|████▉     | 134M/268M [01:08<01:00, 2.32MB/s]"
        },
        {
          "name": "stderr",
          "output_type": "stream",
          "text": "\r, 50%|█████     | 134M/268M [01:08<00:58, 2.39MB/s]"
        },
        {
          "name": "stderr",
          "output_type": "stream",
          "text": "\r, 50%|█████     | 134M/268M [01:08<00:58, 2.39MB/s]"
        },
        {
          "name": "stderr",
          "output_type": "stream",
          "text": "\r, 50%|█████     | 135M/268M [01:08<00:51, 2.71MB/s]"
        },
        {
          "name": "stderr",
          "output_type": "stream",
          "text": "\r, 50%|█████     | 135M/268M [01:08<00:51, 2.69MB/s]"
        },
        {
          "name": "stderr",
          "output_type": "stream",
          "text": "\r, 51%|█████     | 135M/268M [01:08<00:53, 2.62MB/s]"
        },
        {
          "name": "stderr",
          "output_type": "stream",
          "text": "\r, 51%|█████     | 136M/268M [01:08<00:48, 2.86MB/s]"
        },
        {
          "name": "stderr",
          "output_type": "stream",
          "text": "\r, 51%|█████     | 136M/268M [01:08<00:47, 2.92MB/s]"
        },
        {
          "name": "stderr",
          "output_type": "stream",
          "text": "\r, 51%|█████     | 136M/268M [01:09<00:50, 2.73MB/s]"
        },
        {
          "name": "stderr",
          "output_type": "stream",
          "text": "\r, 51%|█████     | 137M/268M [01:09<00:55, 2.46MB/s]"
        },
        {
          "name": "stderr",
          "output_type": "stream",
          "text": "\r, 51%|█████▏    | 137M/268M [01:09<00:51, 2.66MB/s]"
        },
        {
          "name": "stderr",
          "output_type": "stream",
          "text": "\r, 51%|█████▏    | 138M/268M [01:09<00:55, 2.46MB/s]"
        },
        {
          "name": "stderr",
          "output_type": "stream",
          "text": "\r, 51%|█████▏    | 138M/268M [01:09<01:01, 2.21MB/s]"
        },
        {
          "name": "stderr",
          "output_type": "stream",
          "text": "\r, 52%|█████▏    | 138M/268M [01:09<00:59, 2.30MB/s]"
        },
        {
          "name": "stderr",
          "output_type": "stream",
          "text": "\r, 52%|█████▏    | 138M/268M [01:09<00:51, 2.62MB/s]"
        },
        {
          "name": "stderr",
          "output_type": "stream",
          "text": "\r, 52%|█████▏    | 139M/268M [01:10<00:41, 3.25MB/s]"
        },
        {
          "name": "stderr",
          "output_type": "stream",
          "text": "\r, 52%|█████▏    | 140M/268M [01:10<00:33, 4.07MB/s]"
        },
        {
          "name": "stderr",
          "output_type": "stream",
          "text": "\r, 52%|█████▏    | 140M/268M [01:10<00:31, 4.27MB/s]"
        },
        {
          "name": "stderr",
          "output_type": "stream",
          "text": "\r, 53%|█████▎    | 141M/268M [01:10<00:28, 4.69MB/s]"
        },
        {
          "name": "stderr",
          "output_type": "stream",
          "text": "\r, 53%|█████▎    | 141M/268M [01:10<00:28, 4.59MB/s]"
        },
        {
          "name": "stderr",
          "output_type": "stream",
          "text": "\r, 53%|█████▎    | 142M/268M [01:10<00:29, 4.41MB/s]"
        },
        {
          "name": "stderr",
          "output_type": "stream",
          "text": "\r, 53%|█████▎    | 142M/268M [01:10<00:30, 4.33MB/s]"
        },
        {
          "name": "stderr",
          "output_type": "stream",
          "text": "\r, 53%|█████▎    | 143M/268M [01:10<00:37, 3.51MB/s]"
        },
        {
          "name": "stderr",
          "output_type": "stream",
          "text": "\r, 53%|█████▎    | 143M/268M [01:11<00:41, 3.13MB/s]"
        },
        {
          "name": "stderr",
          "output_type": "stream",
          "text": "\r, 54%|█████▎    | 144M/268M [01:11<00:48, 2.67MB/s]"
        },
        {
          "name": "stderr",
          "output_type": "stream",
          "text": "\r, 54%|█████▎    | 144M/268M [01:11<00:48, 2.66MB/s]"
        },
        {
          "name": "stderr",
          "output_type": "stream",
          "text": "\r, 54%|█████▍    | 144M/268M [01:11<00:46, 2.76MB/s]"
        },
        {
          "name": "stderr",
          "output_type": "stream",
          "text": "\r, 54%|█████▍    | 145M/268M [01:11<00:43, 2.99MB/s]"
        },
        {
          "name": "stderr",
          "output_type": "stream",
          "text": "\r, 54%|█████▍    | 145M/268M [01:11<00:40, 3.15MB/s]"
        },
        {
          "name": "stderr",
          "output_type": "stream",
          "text": "\r, 54%|█████▍    | 146M/268M [01:11<00:36, 3.48MB/s]"
        },
        {
          "name": "stderr",
          "output_type": "stream",
          "text": "\r, 55%|█████▍    | 146M/268M [01:12<00:31, 4.09MB/s]"
        },
        {
          "name": "stderr",
          "output_type": "stream",
          "text": "\r, 55%|█████▍    | 147M/268M [01:12<00:30, 4.14MB/s]"
        },
        {
          "name": "stderr",
          "output_type": "stream",
          "text": "\r, 55%|█████▍    | 147M/268M [01:12<00:34, 3.63MB/s]"
        },
        {
          "name": "stderr",
          "output_type": "stream",
          "text": "\r, 55%|█████▌    | 148M/268M [01:12<00:35, 3.56MB/s]"
        },
        {
          "name": "stderr",
          "output_type": "stream",
          "text": "\r, 55%|█████▌    | 148M/268M [01:12<00:35, 3.54MB/s]"
        },
        {
          "name": "stderr",
          "output_type": "stream",
          "text": "\r, 55%|█████▌    | 148M/268M [01:12<00:38, 3.27MB/s]"
        },
        {
          "name": "stderr",
          "output_type": "stream",
          "text": "\r, 56%|█████▌    | 149M/268M [01:12<00:45, 2.77MB/s]"
        },
        {
          "name": "stderr",
          "output_type": "stream",
          "text": "\r, 56%|█████▌    | 149M/268M [01:13<00:46, 2.66MB/s]"
        },
        {
          "name": "stderr",
          "output_type": "stream",
          "text": "\r, 56%|█████▌    | 149M/268M [01:13<00:52, 2.34MB/s]"
        },
        {
          "name": "stderr",
          "output_type": "stream",
          "text": "\r, 56%|█████▌    | 150M/268M [01:13<01:07, 1.83MB/s]"
        },
        {
          "name": "stderr",
          "output_type": "stream",
          "text": "\r, 56%|█████▌    | 150M/268M [01:13<01:10, 1.75MB/s]"
        },
        {
          "name": "stderr",
          "output_type": "stream",
          "text": "\r, 56%|█████▌    | 150M/268M [01:13<01:14, 1.66MB/s]"
        },
        {
          "name": "stderr",
          "output_type": "stream",
          "text": "\r, 56%|█████▌    | 150M/268M [01:14<01:10, 1.76MB/s]"
        },
        {
          "name": "stderr",
          "output_type": "stream",
          "text": "\r, 56%|█████▋    | 151M/268M [01:14<01:13, 1.67MB/s]"
        },
        {
          "name": "stderr",
          "output_type": "stream",
          "text": "\r, 56%|█████▋    | 151M/268M [01:14<01:17, 1.59MB/s]"
        },
        {
          "name": "stderr",
          "output_type": "stream",
          "text": "\r, 56%|█████▋    | 151M/268M [01:14<01:15, 1.63MB/s]"
        },
        {
          "name": "stderr",
          "output_type": "stream",
          "text": "\r, 57%|█████▋    | 151M/268M [01:14<01:16, 1.59MB/s]"
        },
        {
          "name": "stderr",
          "output_type": "stream",
          "text": "\r, 57%|█████▋    | 152M/268M [01:14<01:24, 1.44MB/s]"
        },
        {
          "name": "stderr",
          "output_type": "stream",
          "text": "\r, 57%|█████▋    | 152M/268M [01:15<01:35, 1.28MB/s]"
        },
        {
          "name": "stderr",
          "output_type": "stream",
          "text": "\r, 57%|█████▋    | 152M/268M [01:15<01:32, 1.32MB/s]"
        },
        {
          "name": "stderr",
          "output_type": "stream",
          "text": "\r, 57%|█████▋    | 152M/268M [01:15<01:28, 1.37MB/s]"
        },
        {
          "name": "stderr",
          "output_type": "stream",
          "text": "\r, 57%|█████▋    | 153M/268M [01:15<01:25, 1.41MB/s]"
        },
        {
          "name": "stderr",
          "output_type": "stream",
          "text": "\r, 57%|█████▋    | 153M/268M [01:15<01:24, 1.42MB/s]"
        },
        {
          "name": "stderr",
          "output_type": "stream",
          "text": "\r, 57%|█████▋    | 153M/268M [01:16<01:19, 1.50MB/s]"
        },
        {
          "name": "stderr",
          "output_type": "stream",
          "text": "\r, 57%|█████▋    | 153M/268M [01:16<01:20, 1.49MB/s]"
        },
        {
          "name": "stderr",
          "output_type": "stream",
          "text": "\r, 57%|█████▋    | 154M/268M [01:16<01:04, 1.84MB/s]"
        },
        {
          "name": "stderr",
          "output_type": "stream",
          "text": "\r, 58%|█████▊    | 154M/268M [01:16<01:01, 1.93MB/s]"
        },
        {
          "name": "stderr",
          "output_type": "stream",
          "text": "\r, 58%|█████▊    | 154M/268M [01:16<01:03, 1.87MB/s]"
        },
        {
          "name": "stderr",
          "output_type": "stream",
          "text": "\r, 58%|█████▊    | 155M/268M [01:16<01:03, 1.87MB/s]"
        },
        {
          "name": "stderr",
          "output_type": "stream",
          "text": "\r, 58%|█████▊    | 155M/268M [01:17<01:00, 1.95MB/s]"
        },
        {
          "name": "stderr",
          "output_type": "stream",
          "text": "\r, 58%|█████▊    | 155M/268M [01:17<01:05, 1.79MB/s]"
        },
        {
          "name": "stderr",
          "output_type": "stream",
          "text": "\r, 58%|█████▊    | 155M/268M [01:17<01:13, 1.60MB/s]"
        },
        {
          "name": "stderr",
          "output_type": "stream",
          "text": "\r, 58%|█████▊    | 156M/268M [01:17<01:12, 1.63MB/s]"
        },
        {
          "name": "stderr",
          "output_type": "stream",
          "text": "\r, 58%|█████▊    | 156M/268M [01:17<01:14, 1.58MB/s]"
        },
        {
          "name": "stderr",
          "output_type": "stream",
          "text": "\r, 58%|█████▊    | 156M/268M [01:17<01:15, 1.55MB/s]"
        },
        {
          "name": "stderr",
          "output_type": "stream",
          "text": "\r, 58%|█████▊    | 156M/268M [01:18<01:09, 1.67MB/s]"
        },
        {
          "name": "stderr",
          "output_type": "stream",
          "text": "\r, 58%|█████▊    | 157M/268M [01:18<01:22, 1.41MB/s]"
        },
        {
          "name": "stderr",
          "output_type": "stream",
          "text": "\r, 59%|█████▊    | 157M/268M [01:18<01:30, 1.28MB/s]"
        },
        {
          "name": "stderr",
          "output_type": "stream",
          "text": "\r, 59%|█████▊    | 157M/268M [01:18<01:26, 1.34MB/s]"
        },
        {
          "name": "stderr",
          "output_type": "stream",
          "text": "\r, 59%|█████▉    | 157M/268M [01:18<01:24, 1.37MB/s]"
        },
        {
          "name": "stderr",
          "output_type": "stream",
          "text": "\r, 59%|█████▉    | 158M/268M [01:19<01:12, 1.59MB/s]"
        },
        {
          "name": "stderr",
          "output_type": "stream",
          "text": "\r, 59%|█████▉    | 158M/268M [01:19<01:08, 1.68MB/s]"
        },
        {
          "name": "stderr",
          "output_type": "stream",
          "text": "\r, 59%|█████▉    | 158M/268M [01:19<01:03, 1.80MB/s]"
        },
        {
          "name": "stderr",
          "output_type": "stream",
          "text": "\r, 59%|█████▉    | 158M/268M [01:19<01:03, 1.82MB/s]"
        },
        {
          "name": "stderr",
          "output_type": "stream",
          "text": "\r, 59%|█████▉    | 159M/268M [01:19<01:06, 1.71MB/s]"
        },
        {
          "name": "stderr",
          "output_type": "stream",
          "text": "\r, 59%|█████▉    | 159M/268M [01:19<01:12, 1.59MB/s]"
        },
        {
          "name": "stderr",
          "output_type": "stream",
          "text": "\r, 59%|█████▉    | 159M/268M [01:19<01:08, 1.66MB/s]"
        },
        {
          "name": "stderr",
          "output_type": "stream",
          "text": "\r, 60%|█████▉    | 159M/268M [01:20<01:09, 1.63MB/s]"
        },
        {
          "name": "stderr",
          "output_type": "stream",
          "text": "\r, 60%|█████▉    | 160M/268M [01:20<01:06, 1.71MB/s]"
        },
        {
          "name": "stderr",
          "output_type": "stream",
          "text": "\r, 60%|█████▉    | 160M/268M [01:20<00:59, 1.90MB/s]"
        },
        {
          "name": "stderr",
          "output_type": "stream",
          "text": "\r, 60%|█████▉    | 160M/268M [01:20<00:47, 2.35MB/s]"
        },
        {
          "name": "stderr",
          "output_type": "stream",
          "text": "\r, 60%|█████▉    | 161M/268M [01:20<00:42, 2.62MB/s]"
        },
        {
          "name": "stderr",
          "output_type": "stream",
          "text": "\r, 60%|██████    | 161M/268M [01:20<00:47, 2.35MB/s]"
        },
        {
          "name": "stderr",
          "output_type": "stream",
          "text": "\r, 60%|██████    | 161M/268M [01:20<00:48, 2.31MB/s]"
        },
        {
          "name": "stderr",
          "output_type": "stream",
          "text": "\r, 60%|██████    | 162M/268M [01:20<00:49, 2.27MB/s]"
        },
        {
          "name": "stderr",
          "output_type": "stream",
          "text": "\r, 60%|██████    | 162M/268M [01:21<00:53, 2.07MB/s]"
        },
        {
          "name": "stderr",
          "output_type": "stream",
          "text": "\r, 61%|██████    | 162M/268M [01:21<00:50, 2.19MB/s]"
        },
        {
          "name": "stderr",
          "output_type": "stream",
          "text": "\r, 61%|██████    | 162M/268M [01:21<00:50, 2.19MB/s]"
        },
        {
          "name": "stderr",
          "output_type": "stream",
          "text": "\r, 61%|██████    | 162M/268M [01:21<00:52, 2.12MB/s]"
        },
        {
          "name": "stderr",
          "output_type": "stream",
          "text": "\r, 61%|██████    | 163M/268M [01:21<00:53, 2.07MB/s]"
        },
        {
          "name": "stderr",
          "output_type": "stream",
          "text": "\r, 61%|██████    | 163M/268M [01:21<00:52, 2.10MB/s]"
        },
        {
          "name": "stderr",
          "output_type": "stream",
          "text": "\r, 61%|██████    | 163M/268M [01:21<00:55, 1.97MB/s]"
        },
        {
          "name": "stderr",
          "output_type": "stream",
          "text": "\r, 61%|██████    | 164M/268M [01:22<00:54, 1.99MB/s]"
        },
        {
          "name": "stderr",
          "output_type": "stream",
          "text": "\r, 61%|██████    | 164M/268M [01:22<01:00, 1.81MB/s]"
        },
        {
          "name": "stderr",
          "output_type": "stream",
          "text": "\r, 61%|██████    | 164M/268M [01:22<01:03, 1.71MB/s]"
        },
        {
          "name": "stderr",
          "output_type": "stream",
          "text": "\r, 61%|██████▏   | 164M/268M [01:22<01:08, 1.58MB/s]"
        },
        {
          "name": "stderr",
          "output_type": "stream",
          "text": "\r, 61%|██████▏   | 164M/268M [01:22<01:11, 1.51MB/s]"
        },
        {
          "name": "stderr",
          "output_type": "stream",
          "text": "\r, 62%|██████▏   | 165M/268M [01:23<01:23, 1.30MB/s]"
        },
        {
          "name": "stderr",
          "output_type": "stream",
          "text": "\r, 62%|██████▏   | 165M/268M [01:23<01:34, 1.14MB/s]"
        },
        {
          "name": "stderr",
          "output_type": "stream",
          "text": "\r, 62%|██████▏   | 165M/268M [01:23<01:55, 934kB/s] "
        },
        {
          "name": "stderr",
          "output_type": "stream",
          "text": "\r, 62%|██████▏   | 165M/268M [01:23<01:55, 932kB/s]"
        },
        {
          "name": "stderr",
          "output_type": "stream",
          "text": "\r, 62%|██████▏   | 166M/268M [01:23<01:40, 1.07MB/s]"
        },
        {
          "name": "stderr",
          "output_type": "stream",
          "text": "\r, 62%|██████▏   | 166M/268M [01:24<01:31, 1.17MB/s]"
        },
        {
          "name": "stderr",
          "output_type": "stream",
          "text": "\r, 62%|██████▏   | 166M/268M [01:24<01:17, 1.37MB/s]"
        },
        {
          "name": "stderr",
          "output_type": "stream",
          "text": "\r, 62%|██████▏   | 166M/268M [01:24<00:59, 1.78MB/s]"
        },
        {
          "name": "stderr",
          "output_type": "stream",
          "text": "\r, 62%|██████▏   | 167M/268M [01:24<00:51, 2.04MB/s]"
        },
        {
          "name": "stderr",
          "output_type": "stream",
          "text": "\r, 62%|██████▏   | 167M/268M [01:24<00:46, 2.26MB/s]"
        },
        {
          "name": "stderr",
          "output_type": "stream",
          "text": "\r, 63%|██████▎   | 167M/268M [01:24<00:47, 2.20MB/s]"
        },
        {
          "name": "stderr",
          "output_type": "stream",
          "text": "\r, 63%|██████▎   | 168M/268M [01:24<00:48, 2.16MB/s]"
        },
        {
          "name": "stderr",
          "output_type": "stream",
          "text": "\r, 63%|██████▎   | 168M/268M [01:25<00:54, 1.90MB/s]"
        },
        {
          "name": "stderr",
          "output_type": "stream",
          "text": "\r, 63%|██████▎   | 168M/268M [01:25<01:02, 1.67MB/s]"
        },
        {
          "name": "stderr",
          "output_type": "stream",
          "text": "\r, 63%|██████▎   | 168M/268M [01:25<00:58, 1.77MB/s]"
        },
        {
          "name": "stderr",
          "output_type": "stream",
          "text": "\r, 63%|██████▎   | 169M/268M [01:25<00:59, 1.73MB/s]"
        },
        {
          "name": "stderr",
          "output_type": "stream",
          "text": "\r, 63%|██████▎   | 169M/268M [01:25<01:06, 1.56MB/s]"
        },
        {
          "name": "stderr",
          "output_type": "stream",
          "text": "\r, 63%|██████▎   | 169M/268M [01:25<00:59, 1.75MB/s]"
        },
        {
          "name": "stderr",
          "output_type": "stream",
          "text": "\r, 63%|██████▎   | 169M/268M [01:25<00:53, 1.92MB/s]"
        },
        {
          "name": "stderr",
          "output_type": "stream",
          "text": "\r, 63%|██████▎   | 170M/268M [01:26<00:49, 2.08MB/s]"
        },
        {
          "name": "stderr",
          "output_type": "stream",
          "text": "\r, 63%|██████▎   | 170M/268M [01:26<00:51, 1.98MB/s]"
        },
        {
          "name": "stderr",
          "output_type": "stream",
          "text": "\r, 64%|██████▎   | 170M/268M [01:26<01:02, 1.63MB/s]"
        },
        {
          "name": "stderr",
          "output_type": "stream",
          "text": "\r, 64%|██████▎   | 170M/268M [01:26<01:01, 1.66MB/s]"
        },
        {
          "name": "stderr",
          "output_type": "stream",
          "text": "\r, 64%|██████▍   | 171M/268M [01:26<01:08, 1.47MB/s]"
        },
        {
          "name": "stderr",
          "output_type": "stream",
          "text": "\r, 64%|██████▍   | 171M/268M [01:27<01:04, 1.57MB/s]"
        },
        {
          "name": "stderr",
          "output_type": "stream",
          "text": "\r, 64%|██████▍   | 171M/268M [01:27<00:51, 1.97MB/s]"
        },
        {
          "name": "stderr",
          "output_type": "stream",
          "text": "\r, 64%|██████▍   | 172M/268M [01:27<00:46, 2.18MB/s]"
        },
        {
          "name": "stderr",
          "output_type": "stream",
          "text": "\r, 64%|██████▍   | 172M/268M [01:27<00:43, 2.33MB/s]"
        },
        {
          "name": "stderr",
          "output_type": "stream",
          "text": "\r, 64%|██████▍   | 172M/268M [01:27<00:44, 2.27MB/s]"
        },
        {
          "name": "stderr",
          "output_type": "stream",
          "text": "\r, 64%|██████▍   | 173M/268M [01:27<00:43, 2.30MB/s]"
        },
        {
          "name": "stderr",
          "output_type": "stream",
          "text": "\r, 65%|██████▍   | 173M/268M [01:27<00:42, 2.32MB/s]"
        },
        {
          "name": "stderr",
          "output_type": "stream",
          "text": "\r, 65%|██████▍   | 173M/268M [01:27<00:39, 2.50MB/s]"
        },
        {
          "name": "stderr",
          "output_type": "stream",
          "text": "\r, 65%|██████▍   | 174M/268M [01:28<00:36, 2.74MB/s]"
        },
        {
          "name": "stderr",
          "output_type": "stream",
          "text": "\r, 65%|██████▍   | 174M/268M [01:28<00:40, 2.43MB/s]"
        },
        {
          "name": "stderr",
          "output_type": "stream",
          "text": "\r, 65%|██████▌   | 174M/268M [01:28<00:45, 2.17MB/s]"
        },
        {
          "name": "stderr",
          "output_type": "stream",
          "text": "\r, 65%|██████▌   | 174M/268M [01:28<00:45, 2.13MB/s]"
        },
        {
          "name": "stderr",
          "output_type": "stream",
          "text": "\r, 65%|██████▌   | 175M/268M [01:28<00:50, 1.93MB/s]"
        },
        {
          "name": "stderr",
          "output_type": "stream",
          "text": "\r, 65%|██████▌   | 175M/268M [01:28<00:50, 1.93MB/s]"
        },
        {
          "name": "stderr",
          "output_type": "stream",
          "text": "\r, 65%|██████▌   | 175M/268M [01:29<01:00, 1.61MB/s]"
        },
        {
          "name": "stderr",
          "output_type": "stream",
          "text": "\r, 66%|██████▌   | 176M/268M [01:29<01:12, 1.33MB/s]"
        },
        {
          "name": "stderr",
          "output_type": "stream",
          "text": "\r, 66%|██████▌   | 176M/268M [01:29<01:03, 1.53MB/s]"
        },
        {
          "name": "stderr",
          "output_type": "stream",
          "text": "\r, 66%|██████▌   | 176M/268M [01:29<00:57, 1.67MB/s]"
        },
        {
          "name": "stderr",
          "output_type": "stream",
          "text": "\r, 66%|██████▌   | 176M/268M [01:29<00:59, 1.63MB/s]"
        },
        {
          "name": "stderr",
          "output_type": "stream",
          "text": "\r, 66%|██████▌   | 176M/268M [01:29<00:55, 1.73MB/s]"
        },
        {
          "name": "stderr",
          "output_type": "stream",
          "text": "\r, 66%|██████▌   | 177M/268M [01:30<00:53, 1.77MB/s]"
        },
        {
          "name": "stderr",
          "output_type": "stream",
          "text": "\r, 66%|██████▌   | 177M/268M [01:30<00:52, 1.82MB/s]"
        },
        {
          "name": "stderr",
          "output_type": "stream",
          "text": "\r, 66%|██████▌   | 177M/268M [01:30<00:48, 1.96MB/s]"
        },
        {
          "name": "stderr",
          "output_type": "stream",
          "text": "\r, 66%|██████▋   | 178M/268M [01:30<00:49, 1.91MB/s]"
        },
        {
          "name": "stderr",
          "output_type": "stream",
          "text": "\r, 66%|██████▋   | 178M/268M [01:30<00:51, 1.82MB/s]"
        },
        {
          "name": "stderr",
          "output_type": "stream",
          "text": "\r, 66%|██████▋   | 178M/268M [01:30<00:58, 1.60MB/s]"
        },
        {
          "name": "stderr",
          "output_type": "stream",
          "text": "\r, 67%|██████▋   | 178M/268M [01:30<00:53, 1.76MB/s]"
        },
        {
          "name": "stderr",
          "output_type": "stream",
          "text": "\r, 67%|██████▋   | 178M/268M [01:31<00:53, 1.76MB/s]"
        },
        {
          "name": "stderr",
          "output_type": "stream",
          "text": "\r, 67%|██████▋   | 179M/268M [01:31<00:55, 1.67MB/s]"
        },
        {
          "name": "stderr",
          "output_type": "stream",
          "text": "\r, 67%|██████▋   | 179M/268M [01:31<00:53, 1.75MB/s]"
        },
        {
          "name": "stderr",
          "output_type": "stream",
          "text": "\r, 67%|██████▋   | 179M/268M [01:31<00:51, 1.80MB/s]"
        },
        {
          "name": "stderr",
          "output_type": "stream",
          "text": "\r, 67%|██████▋   | 180M/268M [01:31<00:54, 1.71MB/s]"
        },
        {
          "name": "stderr",
          "output_type": "stream",
          "text": "\r, 67%|██████▋   | 180M/268M [01:31<01:00, 1.54MB/s]"
        },
        {
          "name": "stderr",
          "output_type": "stream",
          "text": "\r, 67%|██████▋   | 180M/268M [01:32<00:57, 1.59MB/s]"
        },
        {
          "name": "stderr",
          "output_type": "stream",
          "text": "\r, 67%|██████▋   | 180M/268M [01:32<00:54, 1.69MB/s]"
        },
        {
          "name": "stderr",
          "output_type": "stream",
          "text": "\r, 67%|██████▋   | 181M/268M [01:32<00:45, 2.01MB/s]"
        },
        {
          "name": "stderr",
          "output_type": "stream",
          "text": "\r, 68%|██████▊   | 181M/268M [01:32<00:43, 2.11MB/s]"
        },
        {
          "name": "stderr",
          "output_type": "stream",
          "text": "\r, 68%|██████▊   | 181M/268M [01:32<00:49, 1.84MB/s]"
        },
        {
          "name": "stderr",
          "output_type": "stream",
          "text": "\r, 68%|██████▊   | 182M/268M [01:32<00:42, 2.10MB/s]"
        },
        {
          "name": "stderr",
          "output_type": "stream",
          "text": "\r, 68%|██████▊   | 182M/268M [01:32<00:35, 2.55MB/s]"
        },
        {
          "name": "stderr",
          "output_type": "stream",
          "text": "\r, 68%|██████▊   | 182M/268M [01:33<00:35, 2.54MB/s]"
        },
        {
          "name": "stderr",
          "output_type": "stream",
          "text": "\r, 68%|██████▊   | 183M/268M [01:33<00:34, 2.55MB/s]"
        },
        {
          "name": "stderr",
          "output_type": "stream",
          "text": "\r, 68%|██████▊   | 183M/268M [01:33<00:34, 2.59MB/s]"
        },
        {
          "name": "stderr",
          "output_type": "stream",
          "text": "\r, 69%|██████▊   | 184M/268M [01:33<00:41, 2.13MB/s]"
        },
        {
          "name": "stderr",
          "output_type": "stream",
          "text": "\r, 69%|██████▊   | 184M/268M [01:33<00:46, 1.90MB/s]"
        },
        {
          "name": "stderr",
          "output_type": "stream",
          "text": "\r, 69%|██████▊   | 184M/268M [01:33<00:44, 1.99MB/s]"
        },
        {
          "name": "stderr",
          "output_type": "stream",
          "text": "\r, 69%|██████▉   | 184M/268M [01:34<00:37, 2.30MB/s]"
        },
        {
          "name": "stderr",
          "output_type": "stream",
          "text": "\r, 69%|██████▉   | 185M/268M [01:34<00:37, 2.34MB/s]"
        },
        {
          "name": "stderr",
          "output_type": "stream",
          "text": "\r, 69%|██████▉   | 185M/268M [01:34<00:34, 2.51MB/s]"
        },
        {
          "name": "stderr",
          "output_type": "stream",
          "text": "\r, 69%|██████▉   | 185M/268M [01:34<00:34, 2.48MB/s]"
        },
        {
          "name": "stderr",
          "output_type": "stream",
          "text": "\r, 69%|██████▉   | 186M/268M [01:34<00:40, 2.13MB/s]"
        },
        {
          "name": "stderr",
          "output_type": "stream",
          "text": "\r, 69%|██████▉   | 186M/268M [01:34<00:42, 2.03MB/s]"
        },
        {
          "name": "stderr",
          "output_type": "stream",
          "text": "\r, 70%|██████▉   | 186M/268M [01:34<00:38, 2.23MB/s]"
        },
        {
          "name": "stderr",
          "output_type": "stream",
          "text": "\r, 70%|██████▉   | 186M/268M [01:35<00:35, 2.37MB/s]"
        },
        {
          "name": "stderr",
          "output_type": "stream",
          "text": "\r, 70%|██████▉   | 187M/268M [01:35<00:35, 2.40MB/s]"
        },
        {
          "name": "stderr",
          "output_type": "stream",
          "text": "\r, 70%|██████▉   | 187M/268M [01:35<00:34, 2.45MB/s]"
        },
        {
          "name": "stderr",
          "output_type": "stream",
          "text": "\r, 70%|██████▉   | 187M/268M [01:35<00:34, 2.46MB/s]"
        },
        {
          "name": "stderr",
          "output_type": "stream",
          "text": "\r, 70%|███████   | 188M/268M [01:35<00:35, 2.37MB/s]"
        },
        {
          "name": "stderr",
          "output_type": "stream",
          "text": "\r, 70%|███████   | 188M/268M [01:35<00:41, 2.02MB/s]"
        },
        {
          "name": "stderr",
          "output_type": "stream",
          "text": "\r, 70%|███████   | 188M/268M [01:35<00:44, 1.88MB/s]"
        },
        {
          "name": "stderr",
          "output_type": "stream",
          "text": "\r, 70%|███████   | 188M/268M [01:36<00:46, 1.77MB/s]"
        },
        {
          "name": "stderr",
          "output_type": "stream",
          "text": "\r, 70%|███████   | 189M/268M [01:36<00:47, 1.74MB/s]"
        },
        {
          "name": "stderr",
          "output_type": "stream",
          "text": "\r, 71%|███████   | 189M/268M [01:36<00:45, 1.84MB/s]"
        },
        {
          "name": "stderr",
          "output_type": "stream",
          "text": "\r, 71%|███████   | 189M/268M [01:36<00:47, 1.74MB/s]"
        },
        {
          "name": "stderr",
          "output_type": "stream",
          "text": "\r, 71%|███████   | 189M/268M [01:36<00:45, 1.83MB/s]"
        },
        {
          "name": "stderr",
          "output_type": "stream",
          "text": "\r, 71%|███████   | 190M/268M [01:36<00:38, 2.13MB/s]"
        },
        {
          "name": "stderr",
          "output_type": "stream",
          "text": "\r, 71%|███████   | 190M/268M [01:36<00:34, 2.36MB/s]"
        },
        {
          "name": "stderr",
          "output_type": "stream",
          "text": "\r, 71%|███████   | 190M/268M [01:36<00:34, 2.35MB/s]"
        },
        {
          "name": "stderr",
          "output_type": "stream",
          "text": "\r, 71%|███████   | 191M/268M [01:37<00:36, 2.24MB/s]"
        },
        {
          "name": "stderr",
          "output_type": "stream",
          "text": "\r, 71%|███████▏  | 191M/268M [01:37<00:32, 2.50MB/s]"
        },
        {
          "name": "stderr",
          "output_type": "stream",
          "text": "\r, 71%|███████▏  | 191M/268M [01:37<00:29, 2.69MB/s]"
        },
        {
          "name": "stderr",
          "output_type": "stream",
          "text": "\r, 72%|███████▏  | 192M/268M [01:37<00:27, 2.86MB/s]"
        },
        {
          "name": "stderr",
          "output_type": "stream",
          "text": "\r, 72%|███████▏  | 192M/268M [01:37<00:33, 2.39MB/s]"
        },
        {
          "name": "stderr",
          "output_type": "stream",
          "text": "\r, 72%|███████▏  | 192M/268M [01:37<00:33, 2.35MB/s]"
        },
        {
          "name": "stderr",
          "output_type": "stream",
          "text": "\r, 72%|███████▏  | 193M/268M [01:37<00:34, 2.31MB/s]"
        },
        {
          "name": "stderr",
          "output_type": "stream",
          "text": "\r, 72%|███████▏  | 193M/268M [01:38<00:37, 2.09MB/s]"
        },
        {
          "name": "stderr",
          "output_type": "stream",
          "text": "\r, 72%|███████▏  | 193M/268M [01:38<00:40, 1.92MB/s]"
        },
        {
          "name": "stderr",
          "output_type": "stream",
          "text": "\r, 72%|███████▏  | 193M/268M [01:38<00:39, 2.00MB/s]"
        },
        {
          "name": "stderr",
          "output_type": "stream",
          "text": "\r, 72%|███████▏  | 194M/268M [01:38<00:37, 2.06MB/s]"
        },
        {
          "name": "stderr",
          "output_type": "stream",
          "text": "\r, 72%|███████▏  | 194M/268M [01:38<00:39, 1.95MB/s]"
        },
        {
          "name": "stderr",
          "output_type": "stream",
          "text": "\r, 72%|███████▏  | 194M/268M [01:38<00:37, 2.05MB/s]"
        },
        {
          "name": "stderr",
          "output_type": "stream",
          "text": "\r, 73%|███████▎  | 194M/268M [01:38<00:37, 2.03MB/s]"
        },
        {
          "name": "stderr",
          "output_type": "stream",
          "text": "\r, 73%|███████▎  | 195M/268M [01:39<00:37, 2.05MB/s]"
        },
        {
          "name": "stderr",
          "output_type": "stream",
          "text": "\r, 73%|███████▎  | 195M/268M [01:39<00:34, 2.21MB/s]"
        },
        {
          "name": "stderr",
          "output_type": "stream",
          "text": "\r, 73%|███████▎  | 195M/268M [01:39<00:34, 2.23MB/s]"
        },
        {
          "name": "stderr",
          "output_type": "stream",
          "text": "\r, 73%|███████▎  | 196M/268M [01:39<00:35, 2.16MB/s]"
        },
        {
          "name": "stderr",
          "output_type": "stream",
          "text": "\r, 73%|███████▎  | 196M/268M [01:39<00:37, 2.02MB/s]"
        },
        {
          "name": "stderr",
          "output_type": "stream",
          "text": "\r, 73%|███████▎  | 196M/268M [01:39<00:35, 2.13MB/s]"
        },
        {
          "name": "stderr",
          "output_type": "stream",
          "text": "\r, 73%|███████▎  | 196M/268M [01:39<00:36, 2.03MB/s]"
        },
        {
          "name": "stderr",
          "output_type": "stream",
          "text": "\r, 73%|███████▎  | 197M/268M [01:40<00:37, 1.97MB/s]"
        },
        {
          "name": "stderr",
          "output_type": "stream",
          "text": "\r, 74%|███████▎  | 197M/268M [01:40<00:37, 1.98MB/s]"
        },
        {
          "name": "stderr",
          "output_type": "stream",
          "text": "\r, 74%|███████▎  | 197M/268M [01:40<00:32, 2.31MB/s]"
        },
        {
          "name": "stderr",
          "output_type": "stream",
          "text": "\r, 74%|███████▍  | 198M/268M [01:40<00:32, 2.26MB/s]"
        },
        {
          "name": "stderr",
          "output_type": "stream",
          "text": "\r, 74%|███████▍  | 198M/268M [01:40<00:35, 2.09MB/s]"
        },
        {
          "name": "stderr",
          "output_type": "stream",
          "text": "\r, 74%|███████▍  | 198M/268M [01:40<00:36, 1.98MB/s]"
        },
        {
          "name": "stderr",
          "output_type": "stream",
          "text": "\r, 74%|███████▍  | 198M/268M [01:40<00:31, 2.29MB/s]"
        },
        {
          "name": "stderr",
          "output_type": "stream",
          "text": "\r, 74%|███████▍  | 199M/268M [01:40<00:25, 2.86MB/s]"
        },
        {
          "name": "stderr",
          "output_type": "stream",
          "text": "\r, 74%|███████▍  | 199M/268M [01:41<00:22, 3.24MB/s]"
        },
        {
          "name": "stderr",
          "output_type": "stream",
          "text": "\r, 75%|███████▍  | 200M/268M [01:41<00:19, 3.69MB/s]"
        },
        {
          "name": "stderr",
          "output_type": "stream",
          "text": "\r, 75%|███████▍  | 200M/268M [01:41<00:18, 3.80MB/s]"
        },
        {
          "name": "stderr",
          "output_type": "stream",
          "text": "\r, 75%|███████▍  | 201M/268M [01:41<00:19, 3.61MB/s]"
        },
        {
          "name": "stderr",
          "output_type": "stream",
          "text": "\r, 75%|███████▌  | 201M/268M [01:41<00:22, 3.17MB/s]"
        },
        {
          "name": "stderr",
          "output_type": "stream",
          "text": "\r, 75%|███████▌  | 202M/268M [01:41<00:24, 2.79MB/s]"
        },
        {
          "name": "stderr",
          "output_type": "stream",
          "text": "\r, 75%|███████▌  | 202M/268M [01:41<00:23, 2.91MB/s]"
        },
        {
          "name": "stderr",
          "output_type": "stream",
          "text": "\r, 76%|███████▌  | 202M/268M [01:42<00:23, 2.98MB/s]"
        },
        {
          "name": "stderr",
          "output_type": "stream",
          "text": "\r, 76%|███████▌  | 203M/268M [01:42<00:21, 3.18MB/s]"
        },
        {
          "name": "stderr",
          "output_type": "stream",
          "text": "\r, 76%|███████▌  | 203M/268M [01:42<00:22, 3.06MB/s]"
        },
        {
          "name": "stderr",
          "output_type": "stream",
          "text": "\r, 76%|███████▌  | 204M/268M [01:42<00:24, 2.73MB/s]"
        },
        {
          "name": "stderr",
          "output_type": "stream",
          "text": "\r, 76%|███████▌  | 204M/268M [01:42<00:28, 2.33MB/s]"
        },
        {
          "name": "stderr",
          "output_type": "stream",
          "text": "\r, 76%|███████▌  | 204M/268M [01:42<00:31, 2.13MB/s]"
        },
        {
          "name": "stderr",
          "output_type": "stream",
          "text": "\r, 76%|███████▋  | 204M/268M [01:43<00:27, 2.39MB/s]"
        },
        {
          "name": "stderr",
          "output_type": "stream",
          "text": "\r, 77%|███████▋  | 205M/268M [01:43<00:25, 2.60MB/s]"
        },
        {
          "name": "stderr",
          "output_type": "stream",
          "text": "\r, 77%|███████▋  | 205M/268M [01:43<00:24, 2.66MB/s]"
        },
        {
          "name": "stderr",
          "output_type": "stream",
          "text": "\r, 77%|███████▋  | 206M/268M [01:43<00:28, 2.32MB/s]"
        },
        {
          "name": "stderr",
          "output_type": "stream",
          "text": "\r, 77%|███████▋  | 206M/268M [01:43<00:29, 2.23MB/s]"
        },
        {
          "name": "stderr",
          "output_type": "stream",
          "text": "\r, 77%|███████▋  | 206M/268M [01:43<00:29, 2.23MB/s]"
        },
        {
          "name": "stderr",
          "output_type": "stream",
          "text": "\r, 77%|███████▋  | 206M/268M [01:43<00:29, 2.21MB/s]"
        },
        {
          "name": "stderr",
          "output_type": "stream",
          "text": "\r, 77%|███████▋  | 207M/268M [01:44<00:30, 2.13MB/s]"
        },
        {
          "name": "stderr",
          "output_type": "stream",
          "text": "\r, 77%|███████▋  | 207M/268M [01:44<00:29, 2.17MB/s]"
        },
        {
          "name": "stderr",
          "output_type": "stream",
          "text": "\r, 77%|███████▋  | 207M/268M [01:44<00:25, 2.49MB/s]"
        },
        {
          "name": "stderr",
          "output_type": "stream",
          "text": "\r, 77%|███████▋  | 208M/268M [01:44<00:25, 2.45MB/s]"
        },
        {
          "name": "stderr",
          "output_type": "stream",
          "text": "\r, 78%|███████▊  | 208M/268M [01:44<00:30, 2.06MB/s]"
        },
        {
          "name": "stderr",
          "output_type": "stream",
          "text": "\r, 78%|███████▊  | 208M/268M [01:44<00:33, 1.89MB/s]"
        },
        {
          "name": "stderr",
          "output_type": "stream",
          "text": "\r, 78%|███████▊  | 208M/268M [01:44<00:33, 1.84MB/s]"
        },
        {
          "name": "stderr",
          "output_type": "stream",
          "text": "\r, 78%|███████▊  | 208M/268M [01:44<00:31, 1.99MB/s]"
        },
        {
          "name": "stderr",
          "output_type": "stream",
          "text": "\r, 78%|███████▊  | 209M/268M [01:45<00:30, 2.01MB/s]"
        },
        {
          "name": "stderr",
          "output_type": "stream",
          "text": "\r, 78%|███████▊  | 209M/268M [01:45<00:29, 2.10MB/s]"
        },
        {
          "name": "stderr",
          "output_type": "stream",
          "text": "\r, 78%|███████▊  | 209M/268M [01:45<00:28, 2.18MB/s]"
        },
        {
          "name": "stderr",
          "output_type": "stream",
          "text": "\r, 78%|███████▊  | 210M/268M [01:45<00:27, 2.22MB/s]"
        },
        {
          "name": "stderr",
          "output_type": "stream",
          "text": "\r, 78%|███████▊  | 210M/268M [01:45<00:25, 2.37MB/s]"
        },
        {
          "name": "stderr",
          "output_type": "stream",
          "text": "\r, 78%|███████▊  | 210M/268M [01:45<00:26, 2.32MB/s]"
        },
        {
          "name": "stderr",
          "output_type": "stream",
          "text": "\r, 79%|███████▊  | 210M/268M [01:45<00:26, 2.31MB/s]"
        },
        {
          "name": "stderr",
          "output_type": "stream",
          "text": "\r, 79%|███████▊  | 211M/268M [01:45<00:25, 2.38MB/s]"
        },
        {
          "name": "stderr",
          "output_type": "stream",
          "text": "\r, 79%|███████▉  | 211M/268M [01:46<00:24, 2.44MB/s]"
        },
        {
          "name": "stderr",
          "output_type": "stream",
          "text": "\r, 79%|███████▉  | 211M/268M [01:46<00:24, 2.45MB/s]"
        },
        {
          "name": "stderr",
          "output_type": "stream",
          "text": "\r, 79%|███████▉  | 212M/268M [01:46<00:29, 2.00MB/s]"
        },
        {
          "name": "stderr",
          "output_type": "stream",
          "text": "\r, 79%|███████▉  | 212M/268M [01:46<00:32, 1.78MB/s]"
        },
        {
          "name": "stderr",
          "output_type": "stream",
          "text": "\r, 79%|███████▉  | 212M/268M [01:46<00:42, 1.37MB/s]"
        },
        {
          "name": "stderr",
          "output_type": "stream",
          "text": "\r, 79%|███████▉  | 212M/268M [01:47<00:41, 1.39MB/s]"
        },
        {
          "name": "stderr",
          "output_type": "stream",
          "text": "\r, 79%|███████▉  | 213M/268M [01:47<00:40, 1.43MB/s]"
        },
        {
          "name": "stderr",
          "output_type": "stream",
          "text": "\r, 80%|███████▉  | 213M/268M [01:47<00:35, 1.62MB/s]"
        },
        {
          "name": "stderr",
          "output_type": "stream",
          "text": "\r, 80%|███████▉  | 213M/268M [01:47<00:30, 1.85MB/s]"
        },
        {
          "name": "stderr",
          "output_type": "stream",
          "text": "\r, 80%|███████▉  | 214M/268M [01:47<00:26, 2.13MB/s]"
        },
        {
          "name": "stderr",
          "output_type": "stream",
          "text": "\r, 80%|███████▉  | 214M/268M [01:47<00:27, 2.03MB/s]"
        },
        {
          "name": "stderr",
          "output_type": "stream",
          "text": "\r, 80%|███████▉  | 214M/268M [01:47<00:28, 1.97MB/s]"
        },
        {
          "name": "stderr",
          "output_type": "stream",
          "text": "\r, 80%|████████  | 214M/268M [01:48<00:29, 1.92MB/s]"
        },
        {
          "name": "stderr",
          "output_type": "stream",
          "text": "\r, 80%|████████  | 215M/268M [01:48<00:27, 2.00MB/s]"
        },
        {
          "name": "stderr",
          "output_type": "stream",
          "text": "\r, 80%|████████  | 215M/268M [01:48<00:26, 2.12MB/s]"
        },
        {
          "name": "stderr",
          "output_type": "stream",
          "text": "\r, 80%|████████  | 215M/268M [01:48<00:27, 1.97MB/s]"
        },
        {
          "name": "stderr",
          "output_type": "stream",
          "text": "\r, 80%|████████  | 215M/268M [01:48<00:27, 2.00MB/s]"
        },
        {
          "name": "stderr",
          "output_type": "stream",
          "text": "\r, 81%|████████  | 216M/268M [01:48<00:24, 2.21MB/s]"
        },
        {
          "name": "stderr",
          "output_type": "stream",
          "text": "\r, 81%|████████  | 216M/268M [01:48<00:22, 2.39MB/s]"
        },
        {
          "name": "stderr",
          "output_type": "stream",
          "text": "\r, 81%|████████  | 216M/268M [01:49<00:22, 2.39MB/s]"
        },
        {
          "name": "stderr",
          "output_type": "stream",
          "text": "\r, 81%|████████  | 217M/268M [01:49<00:24, 2.18MB/s]"
        },
        {
          "name": "stderr",
          "output_type": "stream",
          "text": "\r, 81%|████████  | 217M/268M [01:49<00:23, 2.26MB/s]"
        },
        {
          "name": "stderr",
          "output_type": "stream",
          "text": "\r, 81%|████████  | 217M/268M [01:49<00:21, 2.48MB/s]"
        },
        {
          "name": "stderr",
          "output_type": "stream",
          "text": "\r, 81%|████████▏ | 218M/268M [01:49<00:19, 2.67MB/s]"
        },
        {
          "name": "stderr",
          "output_type": "stream",
          "text": "\r, 81%|████████▏ | 218M/268M [01:49<00:20, 2.53MB/s]"
        },
        {
          "name": "stderr",
          "output_type": "stream",
          "text": "\r, 82%|████████▏ | 218M/268M [01:49<00:20, 2.53MB/s]"
        },
        {
          "name": "stderr",
          "output_type": "stream",
          "text": "\r, 82%|████████▏ | 219M/268M [01:49<00:18, 2.77MB/s]"
        },
        {
          "name": "stderr",
          "output_type": "stream",
          "text": "\r, 82%|████████▏ | 219M/268M [01:50<00:18, 2.73MB/s]"
        },
        {
          "name": "stderr",
          "output_type": "stream",
          "text": "\r, 82%|████████▏ | 220M/268M [01:50<00:19, 2.66MB/s]"
        },
        {
          "name": "stderr",
          "output_type": "stream",
          "text": "\r, 82%|████████▏ | 220M/268M [01:50<00:20, 2.40MB/s]"
        },
        {
          "name": "stderr",
          "output_type": "stream",
          "text": "\r, 82%|████████▏ | 220M/268M [01:50<00:22, 2.24MB/s]"
        },
        {
          "name": "stderr",
          "output_type": "stream",
          "text": "\r, 82%|████████▏ | 220M/268M [01:50<00:22, 2.19MB/s]"
        },
        {
          "name": "stderr",
          "output_type": "stream",
          "text": "\r, 82%|████████▏ | 221M/268M [01:50<00:22, 2.21MB/s]"
        },
        {
          "name": "stderr",
          "output_type": "stream",
          "text": "\r, 82%|████████▏ | 221M/268M [01:50<00:22, 2.16MB/s]"
        },
        {
          "name": "stderr",
          "output_type": "stream",
          "text": "\r, 83%|████████▎ | 221M/268M [01:51<00:22, 2.17MB/s]"
        },
        {
          "name": "stderr",
          "output_type": "stream",
          "text": "\r, 83%|████████▎ | 221M/268M [01:51<00:22, 2.15MB/s]"
        },
        {
          "name": "stderr",
          "output_type": "stream",
          "text": "\r, 83%|████████▎ | 222M/268M [01:51<00:22, 2.19MB/s]"
        },
        {
          "name": "stderr",
          "output_type": "stream",
          "text": "\r, 83%|████████▎ | 222M/268M [01:51<00:21, 2.23MB/s]"
        },
        {
          "name": "stderr",
          "output_type": "stream",
          "text": "\r, 83%|████████▎ | 222M/268M [01:51<00:19, 2.50MB/s]"
        },
        {
          "name": "stderr",
          "output_type": "stream",
          "text": "\r, 83%|████████▎ | 222M/268M [01:51<00:20, 2.35MB/s]"
        },
        {
          "name": "stderr",
          "output_type": "stream",
          "text": "\r, 83%|████████▎ | 223M/268M [01:51<00:17, 2.67MB/s]"
        },
        {
          "name": "stderr",
          "output_type": "stream",
          "text": "\r, 83%|████████▎ | 223M/268M [01:51<00:18, 2.57MB/s]"
        },
        {
          "name": "stderr",
          "output_type": "stream",
          "text": "\r, 83%|████████▎ | 224M/268M [01:52<00:19, 2.38MB/s]"
        },
        {
          "name": "stderr",
          "output_type": "stream",
          "text": "\r, 84%|████████▎ | 224M/268M [01:52<00:21, 2.10MB/s]"
        },
        {
          "name": "stderr",
          "output_type": "stream",
          "text": "\r, 84%|████████▎ | 224M/268M [01:52<00:23, 1.96MB/s]"
        },
        {
          "name": "stderr",
          "output_type": "stream",
          "text": "\r, 84%|████████▍ | 224M/268M [01:52<00:22, 2.04MB/s]"
        },
        {
          "name": "stderr",
          "output_type": "stream",
          "text": "\r, 84%|████████▍ | 225M/268M [01:52<00:18, 2.43MB/s]"
        },
        {
          "name": "stderr",
          "output_type": "stream",
          "text": "\r, 84%|████████▍ | 225M/268M [01:52<00:14, 3.10MB/s]"
        },
        {
          "name": "stderr",
          "output_type": "stream",
          "text": "\r, 84%|████████▍ | 226M/268M [01:52<00:11, 3.88MB/s]"
        },
        {
          "name": "stderr",
          "output_type": "stream",
          "text": "\r, 84%|████████▍ | 226M/268M [01:53<00:12, 3.49MB/s]"
        },
        {
          "name": "stderr",
          "output_type": "stream",
          "text": "\r, 85%|████████▍ | 227M/268M [01:53<00:11, 3.70MB/s]"
        },
        {
          "name": "stderr",
          "output_type": "stream",
          "text": "\r, 85%|████████▍ | 227M/268M [01:53<00:13, 3.23MB/s]"
        },
        {
          "name": "stderr",
          "output_type": "stream",
          "text": "\r, 85%|████████▍ | 228M/268M [01:53<00:15, 2.75MB/s]"
        },
        {
          "name": "stderr",
          "output_type": "stream",
          "text": "\r, 85%|████████▌ | 228M/268M [01:53<00:15, 2.67MB/s]"
        },
        {
          "name": "stderr",
          "output_type": "stream",
          "text": "\r, 85%|████████▌ | 228M/268M [01:53<00:14, 2.78MB/s]"
        },
        {
          "name": "stderr",
          "output_type": "stream",
          "text": "\r, 85%|████████▌ | 229M/268M [01:53<00:14, 2.83MB/s]"
        },
        {
          "name": "stderr",
          "output_type": "stream",
          "text": "\r, 86%|████████▌ | 229M/268M [01:54<00:14, 2.90MB/s]"
        },
        {
          "name": "stderr",
          "output_type": "stream",
          "text": "\r, 86%|████████▌ | 229M/268M [01:54<00:14, 2.69MB/s]"
        },
        {
          "name": "stderr",
          "output_type": "stream",
          "text": "\r, 86%|████████▌ | 230M/268M [01:54<00:13, 2.93MB/s]"
        },
        {
          "name": "stderr",
          "output_type": "stream",
          "text": "\r, 86%|████████▌ | 230M/268M [01:54<00:14, 2.70MB/s]"
        },
        {
          "name": "stderr",
          "output_type": "stream",
          "text": "\r, 86%|████████▌ | 230M/268M [01:54<00:17, 2.29MB/s]"
        },
        {
          "name": "stderr",
          "output_type": "stream",
          "text": "\r, 86%|████████▌ | 231M/268M [01:54<00:18, 2.12MB/s]"
        },
        {
          "name": "stderr",
          "output_type": "stream",
          "text": "\r, 86%|████████▋ | 231M/268M [01:55<00:19, 2.01MB/s]"
        },
        {
          "name": "stderr",
          "output_type": "stream",
          "text": "\r, 86%|████████▋ | 231M/268M [01:55<00:19, 1.93MB/s]"
        },
        {
          "name": "stderr",
          "output_type": "stream",
          "text": "\r, 86%|████████▋ | 232M/268M [01:55<00:20, 1.87MB/s]"
        },
        {
          "name": "stderr",
          "output_type": "stream",
          "text": "\r, 87%|████████▋ | 232M/268M [01:55<00:19, 1.98MB/s]"
        },
        {
          "name": "stderr",
          "output_type": "stream",
          "text": "\r, 87%|████████▋ | 232M/268M [01:55<00:18, 2.08MB/s]"
        },
        {
          "name": "stderr",
          "output_type": "stream",
          "text": "\r, 87%|████████▋ | 232M/268M [01:55<00:15, 2.42MB/s]"
        },
        {
          "name": "stderr",
          "output_type": "stream",
          "text": "\r, 87%|████████▋ | 233M/268M [01:55<00:13, 2.76MB/s]"
        },
        {
          "name": "stderr",
          "output_type": "stream",
          "text": "\r, 87%|████████▋ | 233M/268M [01:55<00:12, 2.97MB/s]"
        },
        {
          "name": "stderr",
          "output_type": "stream",
          "text": "\r, 87%|████████▋ | 234M/268M [01:56<00:12, 2.77MB/s]"
        },
        {
          "name": "stderr",
          "output_type": "stream",
          "text": "\r, 87%|████████▋ | 234M/268M [01:56<00:16, 2.12MB/s]"
        },
        {
          "name": "stderr",
          "output_type": "stream",
          "text": "\r, 87%|████████▋ | 234M/268M [01:56<00:18, 1.89MB/s]"
        },
        {
          "name": "stderr",
          "output_type": "stream",
          "text": "\r, 88%|████████▊ | 234M/268M [01:56<00:19, 1.76MB/s]"
        },
        {
          "name": "stderr",
          "output_type": "stream",
          "text": "\r, 88%|████████▊ | 235M/268M [01:56<00:21, 1.58MB/s]"
        },
        {
          "name": "stderr",
          "output_type": "stream",
          "text": "\r, 88%|████████▊ | 235M/268M [01:57<00:23, 1.48MB/s]"
        },
        {
          "name": "stderr",
          "output_type": "stream",
          "text": "\r, 88%|████████▊ | 235M/268M [01:57<00:20, 1.68MB/s]"
        },
        {
          "name": "stderr",
          "output_type": "stream",
          "text": "\r, 88%|████████▊ | 236M/268M [01:57<00:20, 1.62MB/s]"
        },
        {
          "name": "stderr",
          "output_type": "stream",
          "text": "\r, 88%|████████▊ | 236M/268M [01:57<00:19, 1.73MB/s]"
        },
        {
          "name": "stderr",
          "output_type": "stream",
          "text": "\r, 88%|████████▊ | 236M/268M [01:57<00:21, 1.56MB/s]"
        },
        {
          "name": "stderr",
          "output_type": "stream",
          "text": "\r, 88%|████████▊ | 236M/268M [01:58<00:21, 1.51MB/s]"
        },
        {
          "name": "stderr",
          "output_type": "stream",
          "text": "\r, 88%|████████▊ | 236M/268M [01:58<00:20, 1.56MB/s]"
        },
        {
          "name": "stderr",
          "output_type": "stream",
          "text": "\r, 88%|████████▊ | 237M/268M [01:58<00:18, 1.76MB/s]"
        },
        {
          "name": "stderr",
          "output_type": "stream",
          "text": "\r, 89%|████████▊ | 237M/268M [01:58<00:15, 2.07MB/s]"
        },
        {
          "name": "stderr",
          "output_type": "stream",
          "text": "\r, 89%|████████▊ | 237M/268M [01:58<00:15, 2.05MB/s]"
        },
        {
          "name": "stderr",
          "output_type": "stream",
          "text": "\r, 89%|████████▊ | 238M/268M [01:58<00:16, 1.91MB/s]"
        },
        {
          "name": "stderr",
          "output_type": "stream",
          "text": "\r, 89%|████████▉ | 238M/268M [01:58<00:17, 1.82MB/s]"
        },
        {
          "name": "stderr",
          "output_type": "stream",
          "text": "\r, 89%|████████▉ | 238M/268M [01:59<00:18, 1.65MB/s]"
        },
        {
          "name": "stderr",
          "output_type": "stream",
          "text": "\r, 89%|████████▉ | 238M/268M [01:59<00:19, 1.60MB/s]"
        },
        {
          "name": "stderr",
          "output_type": "stream",
          "text": "\r, 89%|████████▉ | 239M/268M [01:59<00:18, 1.62MB/s]"
        },
        {
          "name": "stderr",
          "output_type": "stream",
          "text": "\r, 89%|████████▉ | 239M/268M [01:59<00:18, 1.64MB/s]"
        },
        {
          "name": "stderr",
          "output_type": "stream",
          "text": "\r, 89%|████████▉ | 239M/268M [01:59<00:17, 1.73MB/s]"
        },
        {
          "name": "stderr",
          "output_type": "stream",
          "text": "\r, 89%|████████▉ | 239M/268M [01:59<00:16, 1.86MB/s]"
        },
        {
          "name": "stderr",
          "output_type": "stream",
          "text": "\r, 90%|████████▉ | 240M/268M [01:59<00:12, 2.28MB/s]"
        },
        {
          "name": "stderr",
          "output_type": "stream",
          "text": "\r, 90%|████████▉ | 240M/268M [02:00<00:10, 2.79MB/s]"
        },
        {
          "name": "stderr",
          "output_type": "stream",
          "text": "\r, 90%|████████▉ | 241M/268M [02:00<00:09, 3.01MB/s]"
        },
        {
          "name": "stderr",
          "output_type": "stream",
          "text": "\r, 90%|█████████ | 241M/268M [02:00<00:08, 3.46MB/s]"
        },
        {
          "name": "stderr",
          "output_type": "stream",
          "text": "\r, 90%|█████████ | 242M/268M [02:00<00:08, 3.32MB/s]"
        },
        {
          "name": "stderr",
          "output_type": "stream",
          "text": "\r, 90%|█████████ | 242M/268M [02:00<00:09, 2.84MB/s]"
        },
        {
          "name": "stderr",
          "output_type": "stream",
          "text": "\r, 90%|█████████ | 242M/268M [02:00<00:09, 2.97MB/s]"
        },
        {
          "name": "stderr",
          "output_type": "stream",
          "text": "\r, 91%|█████████ | 243M/268M [02:00<00:08, 2.95MB/s]"
        },
        {
          "name": "stderr",
          "output_type": "stream",
          "text": "\r, 91%|█████████ | 243M/268M [02:01<00:09, 2.61MB/s]"
        },
        {
          "name": "stderr",
          "output_type": "stream",
          "text": "\r, 91%|█████████ | 243M/268M [02:01<00:10, 2.46MB/s]"
        },
        {
          "name": "stderr",
          "output_type": "stream",
          "text": "\r, 91%|█████████ | 244M/268M [02:01<00:11, 2.26MB/s]"
        },
        {
          "name": "stderr",
          "output_type": "stream",
          "text": "\r, 91%|█████████ | 244M/268M [02:01<00:10, 2.40MB/s]"
        },
        {
          "name": "stderr",
          "output_type": "stream",
          "text": "\r, 91%|█████████▏| 244M/268M [02:01<00:09, 2.58MB/s]"
        },
        {
          "name": "stderr",
          "output_type": "stream",
          "text": "\r, 91%|█████████▏| 245M/268M [02:01<00:09, 2.64MB/s]"
        },
        {
          "name": "stderr",
          "output_type": "stream",
          "text": "\r, 92%|█████████▏| 245M/268M [02:01<00:08, 2.84MB/s]"
        },
        {
          "name": "stderr",
          "output_type": "stream",
          "text": "\r, 92%|█████████▏| 246M/268M [02:02<00:07, 3.01MB/s]"
        },
        {
          "name": "stderr",
          "output_type": "stream",
          "text": "\r, 92%|█████████▏| 246M/268M [02:02<00:06, 3.36MB/s]"
        },
        {
          "name": "stderr",
          "output_type": "stream",
          "text": "\r, 92%|█████████▏| 246M/268M [02:02<00:06, 3.39MB/s]"
        },
        {
          "name": "stderr",
          "output_type": "stream",
          "text": "\r, 92%|█████████▏| 247M/268M [02:02<00:06, 3.19MB/s]"
        },
        {
          "name": "stderr",
          "output_type": "stream",
          "text": "\r, 92%|█████████▏| 247M/268M [02:02<00:07, 2.97MB/s]"
        },
        {
          "name": "stderr",
          "output_type": "stream",
          "text": "\r, 92%|█████████▏| 248M/268M [02:02<00:06, 3.28MB/s]"
        },
        {
          "name": "stderr",
          "output_type": "stream",
          "text": "\r, 93%|█████████▎| 248M/268M [02:02<00:05, 3.96MB/s]"
        },
        {
          "name": "stderr",
          "output_type": "stream",
          "text": "\r, 93%|█████████▎| 249M/268M [02:02<00:04, 4.17MB/s]"
        },
        {
          "name": "stderr",
          "output_type": "stream",
          "text": "\r, 93%|█████████▎| 249M/268M [02:03<00:04, 4.44MB/s]"
        },
        {
          "name": "stderr",
          "output_type": "stream",
          "text": "\r, 93%|█████████▎| 250M/268M [02:03<00:04, 4.65MB/s]"
        },
        {
          "name": "stderr",
          "output_type": "stream",
          "text": "\r, 94%|█████████▎| 250M/268M [02:03<00:04, 4.19MB/s]"
        },
        {
          "name": "stderr",
          "output_type": "stream",
          "text": "\r, 94%|█████████▎| 251M/268M [02:03<00:04, 3.70MB/s]"
        },
        {
          "name": "stderr",
          "output_type": "stream",
          "text": "\r, 94%|█████████▍| 251M/268M [02:03<00:05, 3.15MB/s]"
        },
        {
          "name": "stderr",
          "output_type": "stream",
          "text": "\r, 94%|█████████▍| 252M/268M [02:03<00:05, 3.16MB/s]"
        },
        {
          "name": "stderr",
          "output_type": "stream",
          "text": "\r, 94%|█████████▍| 252M/268M [02:03<00:05, 2.88MB/s]"
        },
        {
          "name": "stderr",
          "output_type": "stream",
          "text": "\r, 94%|█████████▍| 252M/268M [02:04<00:07, 2.28MB/s]"
        },
        {
          "name": "stderr",
          "output_type": "stream",
          "text": "\r, 94%|█████████▍| 253M/268M [02:04<00:06, 2.43MB/s]"
        },
        {
          "name": "stderr",
          "output_type": "stream",
          "text": "\r, 95%|█████████▍| 253M/268M [02:04<00:06, 2.34MB/s]"
        },
        {
          "name": "stderr",
          "output_type": "stream",
          "text": "\r, 95%|█████████▍| 253M/268M [02:04<00:06, 2.32MB/s]"
        },
        {
          "name": "stderr",
          "output_type": "stream",
          "text": "\r, 95%|█████████▍| 254M/268M [02:04<00:05, 2.57MB/s]"
        },
        {
          "name": "stderr",
          "output_type": "stream",
          "text": "\r, 95%|█████████▍| 254M/268M [02:04<00:05, 2.74MB/s]"
        },
        {
          "name": "stderr",
          "output_type": "stream",
          "text": "\r, 95%|█████████▌| 254M/268M [02:05<00:05, 2.57MB/s]"
        },
        {
          "name": "stderr",
          "output_type": "stream",
          "text": "\r, 95%|█████████▌| 255M/268M [02:05<00:05, 2.58MB/s]"
        },
        {
          "name": "stderr",
          "output_type": "stream",
          "text": "\r, 95%|█████████▌| 255M/268M [02:05<00:05, 2.50MB/s]"
        },
        {
          "name": "stderr",
          "output_type": "stream",
          "text": "\r, 95%|█████████▌| 256M/268M [02:05<00:05, 2.50MB/s]"
        },
        {
          "name": "stderr",
          "output_type": "stream",
          "text": "\r, 96%|█████████▌| 256M/268M [02:05<00:06, 1.86MB/s]"
        },
        {
          "name": "stderr",
          "output_type": "stream",
          "text": "\r, 96%|█████████▌| 256M/268M [02:05<00:06, 1.89MB/s]"
        },
        {
          "name": "stderr",
          "output_type": "stream",
          "text": "\r, 96%|█████████▌| 256M/268M [02:06<00:05, 2.19MB/s]"
        },
        {
          "name": "stderr",
          "output_type": "stream",
          "text": "\r, 96%|█████████▌| 257M/268M [02:06<00:04, 2.37MB/s]"
        },
        {
          "name": "stderr",
          "output_type": "stream",
          "text": "\r, 96%|█████████▌| 257M/268M [02:06<00:04, 2.60MB/s]"
        },
        {
          "name": "stderr",
          "output_type": "stream",
          "text": "\r, 96%|█████████▌| 258M/268M [02:06<00:03, 2.78MB/s]"
        },
        {
          "name": "stderr",
          "output_type": "stream",
          "text": "\r, 96%|█████████▋| 258M/268M [02:06<00:03, 2.58MB/s]"
        },
        {
          "name": "stderr",
          "output_type": "stream",
          "text": "\r, 96%|█████████▋| 258M/268M [02:06<00:04, 2.23MB/s]"
        },
        {
          "name": "stderr",
          "output_type": "stream",
          "text": "\r, 97%|█████████▋| 259M/268M [02:07<00:04, 1.96MB/s]"
        },
        {
          "name": "stderr",
          "output_type": "stream",
          "text": "\r, 97%|█████████▋| 259M/268M [02:07<00:05, 1.63MB/s]"
        },
        {
          "name": "stderr",
          "output_type": "stream",
          "text": "\r, 97%|█████████▋| 259M/268M [02:07<00:05, 1.70MB/s]"
        },
        {
          "name": "stderr",
          "output_type": "stream",
          "text": "\r, 97%|█████████▋| 259M/268M [02:07<00:04, 1.79MB/s]"
        },
        {
          "name": "stderr",
          "output_type": "stream",
          "text": "\r, 97%|█████████▋| 260M/268M [02:07<00:04, 1.97MB/s]"
        },
        {
          "name": "stderr",
          "output_type": "stream",
          "text": "\r, 97%|█████████▋| 260M/268M [02:07<00:03, 2.27MB/s]"
        },
        {
          "name": "stderr",
          "output_type": "stream",
          "text": "\r, 97%|█████████▋| 260M/268M [02:08<00:03, 2.37MB/s]"
        },
        {
          "name": "stderr",
          "output_type": "stream",
          "text": "\r, 97%|█████████▋| 261M/268M [02:08<00:02, 2.70MB/s]"
        },
        {
          "name": "stderr",
          "output_type": "stream",
          "text": "\r, 98%|█████████▊| 261M/268M [02:08<00:02, 2.89MB/s]"
        },
        {
          "name": "stderr",
          "output_type": "stream",
          "text": "\r, 98%|█████████▊| 262M/268M [02:08<00:02, 3.01MB/s]"
        },
        {
          "name": "stderr",
          "output_type": "stream",
          "text": "\r, 98%|█████████▊| 262M/268M [02:08<00:01, 3.42MB/s]"
        },
        {
          "name": "stderr",
          "output_type": "stream",
          "text": "\r, 98%|█████████▊| 262M/268M [02:08<00:01, 3.44MB/s]"
        },
        {
          "name": "stderr",
          "output_type": "stream",
          "text": "\r, 98%|█████████▊| 263M/268M [02:08<00:01, 2.61MB/s]"
        },
        {
          "name": "stderr",
          "output_type": "stream",
          "text": "\r, 98%|█████████▊| 263M/268M [02:09<00:02, 2.25MB/s]"
        },
        {
          "name": "stderr",
          "output_type": "stream",
          "text": "\r, 98%|█████████▊| 264M/268M [02:09<00:02, 2.14MB/s]"
        },
        {
          "name": "stderr",
          "output_type": "stream",
          "text": "\r, 99%|█████████▊| 264M/268M [02:09<00:02, 2.08MB/s]"
        },
        {
          "name": "stderr",
          "output_type": "stream",
          "text": "\r, 99%|█████████▊| 264M/268M [02:09<00:02, 1.84MB/s]"
        },
        {
          "name": "stderr",
          "output_type": "stream",
          "text": "\r, 99%|█████████▊| 264M/268M [02:09<00:02, 1.81MB/s]"
        },
        {
          "name": "stderr",
          "output_type": "stream",
          "text": "\r, 99%|█████████▉| 264M/268M [02:09<00:02, 1.59MB/s]"
        },
        {
          "name": "stderr",
          "output_type": "stream",
          "text": "\r, 99%|█████████▉| 265M/268M [02:10<00:01, 1.68MB/s]"
        },
        {
          "name": "stderr",
          "output_type": "stream",
          "text": "\r, 99%|█████████▉| 265M/268M [02:10<00:01, 1.99MB/s]"
        },
        {
          "name": "stderr",
          "output_type": "stream",
          "text": "\r, 99%|█████████▉| 265M/268M [02:10<00:01, 2.05MB/s]"
        },
        {
          "name": "stderr",
          "output_type": "stream",
          "text": "\r, 99%|█████████▉| 266M/268M [02:10<00:01, 2.01MB/s]"
        },
        {
          "name": "stderr",
          "output_type": "stream",
          "text": "\r, 99%|█████████▉| 266M/268M [02:10<00:00, 2.11MB/s]"
        },
        {
          "name": "stderr",
          "output_type": "stream",
          "text": "\r, 99%|█████████▉| 266M/268M [02:10<00:00, 2.15MB/s]"
        },
        {
          "name": "stderr",
          "output_type": "stream",
          "text": "\r,100%|█████████▉| 266M/268M [02:10<00:00, 2.01MB/s]"
        },
        {
          "name": "stderr",
          "output_type": "stream",
          "text": "\r,100%|█████████▉| 267M/268M [02:11<00:00, 1.97MB/s]"
        },
        {
          "name": "stderr",
          "output_type": "stream",
          "text": "\r,100%|█████████▉| 267M/268M [02:11<00:00, 1.98MB/s]"
        },
        {
          "name": "stderr",
          "output_type": "stream",
          "text": "\r,100%|█████████▉| 267M/268M [02:11<00:00, 1.99MB/s]"
        },
        {
          "name": "stderr",
          "output_type": "stream",
          "text": "\r,100%|█████████▉| 268M/268M [02:11<00:00, 2.03MB/s]"
        },
        {
          "name": "stderr",
          "output_type": "stream",
          "text": "\r,100%|██████████| 268M/268M [02:11<00:00, 2.13MB/s]"
        },
        {
          "name": "stderr",
          "output_type": "stream",
          "text": "\n"
        },
        {
          "name": "stderr",
          "output_type": "stream",
          "text": "Fusing layers... \n"
        },
        {
          "name": "stderr",
          "output_type": "stream",
          "text": "Model summary: 733 layers, 140054656 parameters, 0 gradients, 208.8 GFLOPs\n"
        },
        {
          "name": "stderr",
          "output_type": "stream",
          "text": "Using a slow image processor as `use_fast` is unset and a slow processor was saved with this model. `use_fast=True` will be the default behavior in v4.52, even if the model was saved with a slow processor. This will result in minor differences in outputs. You'll still be able to use a slow processor with `use_fast=False`.\n"
        },
        {
          "name": "stderr",
          "output_type": "stream",
          "text": "Device set to use cpu\n"
        }
      ],
      "execution_count": 7
    },
    {
      "id": "13c21f80-a851-40b4-98c2-e9f21ce87109",
      "cell_type": "code",
      "source": "# DETECTION AND CLASSIFICATION\ndef predict_images(images_dir, detections_dir, data_dir, predictions):\n    \"\"\"\n    Performs detection and classification on images and adds the results to the predictions dataframe.\n    Args:\n        images_dir (str):Path of the directory containing the images (either photos or frames extracted from videos).\n        detections_dir (str): Path of the directory where to save the cropped detections.\n        data_dir (str): Path of the data directory.\n        predictions (dataframe): Dataframe containing previous predictions.\n    Output:\n        predictions (dataframe): Predictions dataframe updated with the new predictions.\n    \"\"\"\n    print('Detecting...')\n    detections_list = detection_model.batch_image_detection(data_path=images_dir, batch_size=32, det_conf_thres = detection_threshold)\n    detections_dict = save_cropped_images(detections=detections_list, detections_dir =  detections_dir)\n    detections_images = list_photos_videos(detections_dir, extensions_photos+extensions_videos)\n    for i in tqdm(range(len(detections_images)), desc='Classifying...', unit='step', colour='yellow'):\n        detection = detections_images[i]\n        filename = detection.split('_', 3)[3][:-4]\n        filepath = os.path.join(data_dir, filename)\n        frame = detection.split('_')[2][1:]\n        detection_info = detections_dict[detection]\n        detection_class = detection_info[0]\n        detection_score = detection_info[1]\n        if detection_class == 1:\n            detection_class_str = 'human'\n            classification_scores = [0]*taxons_count + [1,0]\n        elif detection_class == 2:\n            detection_class_str = 'vehicle'\n            classification_scores = [0]*taxons_count + [0,1]\n        elif detection_class == 0:\n            detection_class_str = 'animal'\n            detection_image = Image.open(os.path.join(detections_dir, detection))\n            # pred_all = pipe(image)\n            inputs = image_processor(images = detection_image, return_tensors = 'pt').to(device)\n            logits = pipe.model(**inputs).logits\n            classification_scores = torch.nn.functional.softmax(logits, dim=-1)\n            classification_scores = classification_scores.cpu().tolist()[0]+[0,0]\n        prediction = pd.DataFrame([[filepath, filename, frame, detection_class_str, detection_score]+ list(detection_score*np.array(classification_scores))], columns=list(predictions.columns))\n        predictions = pd.concat([predictions, prediction])\n    clean_dir(images_dir)\n    clean_dir(detections_dir)\n    return predictions\n\nimages_dir = Path('./temp/images')\ndetections_dir = Path('./temp/detections')\nclean_dir(images_dir)\nclean_dir(detections_dir)\nos.makedirs(predictions_dir, exist_ok=True)\ntimestamp = datetime.now().strftime(\"%Y-%m-%d %H-%M-%S\")\npredictions = pd.DataFrame(columns=['Filepath', 'Filename', 'Frame', 'Detection class', 'Detection score'] + taxons_all)\nfilepaths_all = []",
      "metadata": {
        "execution": {
          "iopub.execute_input": "2025-10-10T10:28:23.448588Z",
          "iopub.status.busy": "2025-10-10T10:28:23.446879Z",
          "iopub.status.idle": "2025-10-10T10:28:23.655928Z",
          "shell.execute_reply": "2025-10-10T10:28:23.654631Z"
        }
      },
      "outputs": [],
      "execution_count": 8
    },
    {
      "id": "602bb305-ad9c-4490-aded-135401978333",
      "cell_type": "code",
      "source": "# Loop though data subdirectories, detect and classify\nprint('USING DETECTION THRESHOLD '+ str(detection_threshold) + ' AND STRIDE '+ str(stride))\ndata_subdirs = [x[0] for x in os.walk(data_dir)]\nfor data_subir in data_subdirs:\n    print('PROCESSING FOLDER ' + str(data_subir))\n    images_count = 0\n    files = list_photos_videos(data_subir, extensions_photos+extensions_videos)\n    for i in tqdm(range(len(files)), desc='Extracting frames...', unit='step', colour='green'):\n        file = files[i]\n        filepath = os.path.join(data_subir, file)\n        filepaths_all.append(filepath)\n        if images_count > images_max:\n            predictions = predict_images(images_dir = images_dir, detections_dir = detections_dir, data_dir = data_subir, predictions= predictions)\n            images_count = 0\n        if file.endswith(extensions_photos):\n            shutil.copy(filepath, os.path.join(images_dir, 'F0_' + file+'.JPG'))\n            images_count += 1\n        else:\n            video = cv2.VideoCapture(filepath)\n            fps = video.get(cv2.CAP_PROP_FPS)\n            total_frames = int(video.get(cv2.CAP_PROP_FRAME_COUNT))\n            idx = 0\n            for index, frame in enumerate(video_utils.get_video_frames_generator(source_path=filepath, stride=int(stride*fps))):\n                ImageSink(target_dir_path=images_dir, overwrite=False).save_image(image=frame,image_name='F'+str(idx)+'_'+file+'.JPG')\n                idx += 1\n                images_count += 1\n    predictions = predict_images(images_dir = images_dir, detections_dir = detections_dir, data_dir = data_subir, predictions= predictions)\n    images_count = 0\n    # predictions.to_csv(os.path.join(predictions_dir, 'predictions_raw' + timestamp + '.csv'), index = False)\n\n\nprint('CONSOLIDATING PREDICTIONS')",
      "metadata": {
        "execution": {
          "iopub.execute_input": "2025-10-10T10:28:23.660355Z",
          "iopub.status.busy": "2025-10-10T10:28:23.659836Z",
          "iopub.status.idle": "2025-10-10T11:30:46.253511Z",
          "shell.execute_reply": "2025-10-10T11:30:46.250403Z"
        }
      },
      "outputs": [
        {
          "name": "stdout",
          "output_type": "stream",
          "text": "USING DETECTION THRESHOLD 0.2 AND STRIDE 1\n,PROCESSING FOLDER galaxy_inputs/testvideo\n"
        },
        {
          "name": "stderr",
          "output_type": "stream",
          "text": "\r,Extracting frames...:   0%|\u001b[32m          \u001b[0m| 0/1 [00:00<?, ?step/s]"
        },
        {
          "name": "stderr",
          "output_type": "stream",
          "text": "\r,Extracting frames...: 100%|\u001b[32m██████████\u001b[0m| 1/1 [00:15<00:00, 15.11s/step]"
        },
        {
          "name": "stderr",
          "output_type": "stream",
          "text": "\r,Extracting frames...: 100%|\u001b[32m██████████\u001b[0m| 1/1 [00:15<00:00, 15.11s/step]"
        },
        {
          "name": "stderr",
          "output_type": "stream",
          "text": "\n"
        },
        {
          "name": "stdout",
          "output_type": "stream",
          "text": "Detecting...\n"
        },
        {
          "name": "stderr",
          "output_type": "stream",
          "text": "\r,  0%|          | 0/1 [00:00<?, ?it/s]"
        },
        {
          "name": "stderr",
          "output_type": "stream",
          "text": "WARNING ⚠️ NMS time limit 2.100s exceeded\n"
        },
        {
          "name": "stderr",
          "output_type": "stream",
          "text": "\r,100%|██████████| 1/1 [53:02<00:00, 3182.44s/it]"
        },
        {
          "name": "stderr",
          "output_type": "stream",
          "text": "\r,100%|██████████| 1/1 [53:02<00:00, 3182.45s/it]"
        },
        {
          "name": "stderr",
          "output_type": "stream",
          "text": "\n"
        },
        {
          "name": "stderr",
          "output_type": "stream",
          "text": "\r,Classifying...:   0%|\u001b[33m          \u001b[0m| 0/2 [00:00<?, ?step/s]"
        },
        {
          "name": "stderr",
          "output_type": "stream",
          "text": "FutureWarning: The behavior of DataFrame concatenation with empty or all-NA entries is deprecated. In a future version, this will no longer exclude empty or all-NA columns when determining the result dtypes. To retain the old behavior, exclude the relevant entries before the concat operation.\n,\r,Classifying...:  50%|\u001b[33m█████     \u001b[0m| 1/2 [04:21<04:21, 261.81s/step]"
        },
        {
          "name": "stderr",
          "output_type": "stream",
          "text": "\r,Classifying...: 100%|\u001b[33m██████████\u001b[0m| 2/2 [09:01<00:00, 272.62s/step]"
        },
        {
          "name": "stderr",
          "output_type": "stream",
          "text": "\r,Classifying...: 100%|\u001b[33m██████████\u001b[0m| 2/2 [09:01<00:00, 271.00s/step]"
        },
        {
          "name": "stderr",
          "output_type": "stream",
          "text": "\n"
        },
        {
          "name": "stdout",
          "output_type": "stream",
          "text": "CONSOLIDATING PREDICTIONS\n"
        }
      ],
      "execution_count": 9
    },
    {
      "id": "0c21e6ae-0f1e-4ad7-923a-f1a4e7e54106",
      "cell_type": "code",
      "source": "# Get a single prediction for each file (photo or video) by a majority vote over the detections\ngpby_dict = {}\ngpby_dict['Filepath'] = 'first'\ngpby_dict['Filename'] = 'first'\nfor taxon in taxons+['human', 'vehicle']:\n    gpby_dict[taxon] = ['mean']\npredictions_grouped = predictions.groupby('Filepath').agg(gpby_dict)\npredictions_grouped['Prediction'] = predictions_grouped[taxons_all].apply(lambda x: 'blank' if sum(x)==0 else taxons_all[np.argmax(x)], axis=1)\npredictions_grouped['Confidence score'] = predictions_grouped[taxons_all].apply(lambda x: 'blank' if sum(x)==0 else np.max(x), axis=1)\npredictions_grouped.columns = [predictions_grouped.columns[i][0] for i in range(len(predictions_grouped.columns))]\n# Predict as 'blank' photos/videos for which there were no detections\nfor filepath in filepaths_all:\n    if filepath not in predictions_grouped['Filepath']:\n        prediction_blank = pd.DataFrame([[filepath, filepath.rsplit(os.sep,1)[1]]+ [0]*(taxons_count+2) + ['blank', 1-detection_threshold]], columns=list(predictions_grouped.columns))\n        predictions_grouped = pd.concat([predictions_grouped, prediction_blank])\npredictions_grouped = predictions_grouped.reset_index(drop=True)\npredictions_grouped = predictions_grouped.sort_values(by='Filepath', axis=0)\npredictions_grouped.to_csv(os.path.join(predictions_dir, 'predictions_' + 'stride_' + str(stride) + '_thresh_' + str(detection_threshold)+ '_' + timestamp + '.csv'), index = False)\nprint('PREDICTIONS SUCCESSFULLY SAVED TO FOLDER: '+str(predictions_dir))",
      "metadata": {
        "execution": {
          "iopub.execute_input": "2025-10-10T11:30:46.353797Z",
          "iopub.status.busy": "2025-10-10T11:30:46.352832Z",
          "iopub.status.idle": "2025-10-10T11:30:47.657490Z",
          "shell.execute_reply": "2025-10-10T11:30:47.653481Z"
        }
      },
      "outputs": [
        {
          "name": "stdout",
          "output_type": "stream",
          "text": "PREDICTIONS SUCCESSFULLY SAVED TO FOLDER: outputs/collection\n"
        }
      ],
      "execution_count": 10
    },
    {
      "id": "28a0fafa-b99a-4d6b-b790-c4b40e2fc734",
      "cell_type": "code",
      "source": "os.system('cp outputs/collection)\".csv outputs/.')",
      "metadata": {
        "trusted": true
      },
      "outputs": [],
      "execution_count": null
    }
  ]
}