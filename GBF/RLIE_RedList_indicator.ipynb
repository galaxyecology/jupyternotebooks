{
 "cells": [
  {
   "cell_type": "code",
   "execution_count": null,
   "metadata": {},
   "outputs": [],
   "source": [
    "#load file from imported Galaxy hisrory dataset\n",
    "\n",
    "input_path = \"galaxy_inputs\"\n",
    "\n",
    "for (dir in list.dirs(input_path)){\n",
    "    for (file in list.files(dir)) {\n",
    "        file_path = file.path(dir, file)}\n",
    "}"
   ]
  },
  {
   "cell_type": "markdown",
   "metadata": {},
   "source": [
    "## Index overview\n",
    "\n",
    "The Red List Index of ecosystems (RLIE) measures trends in ecosystem collapse risk. It uses the risk categories defined based on IUCN Red List of Ecosystems risk assessments. The index complements the Red List Index of species survival, providing comparable information about ecosystems risk. It is calculated for the overall risk category assigned to each ecosystem and separately for each criterion.\n",
    "\n",
    "This information sheet provides the code used to calculate the index and an example of each step. \n",
    "\n",
    "**Reference:**  \n",
    "Rowland, J. A., Bland, L. M., Keith, D. A., Bignoli, D. J., Burgman, M., Etter, A., Ferrer-Paris, J. R., Miller, R. M. and Nicholson, E. (2020) Ecosystem indices to support global biodiversity conservation. Conservation Letters. e12680  \n",
    "\n",
    "## Set up functions\n",
    "\n",
    "### 1) Order risk categories\n",
    "\n",
    "The function *danger* orders the Red List of Ecosystems risk categories from lowest to highest risk. The categories are:\n",
    "\n",
    "- NE = Not Evaluated\n",
    "- DD = Data Deficient\n",
    "- LC = Least Concern\n",
    "- NT = Near Threatened\n",
    "- VU = Vulnerable\n",
    "- EN = Endangered\n",
    "- CR = Critically Endangered\n",
    "- CO = Collapsed"
   ]
  },
  {
   "cell_type": "raw",
   "metadata": {},
   "source": [
    "---\n",
    "title: \"Red List Index of Ecosystems\"\n",
    "author: \"Jessica A. Rowland\"\n",
    "output:\n",
    "  html_document: default\n",
    "  pdf_document: default\n",
    "---"
   ]
  },
  {
   "cell_type": "code",
   "execution_count": 1,
   "metadata": {
    "collapsed": false,
    "jupyter": {
     "outputs_hidden": false
    }
   },
   "outputs": [],
   "source": [
    "danger <- function(x){\n",
    " \n",
    "  # Set up\n",
    "  position = 1\n",
    "  \n",
    "  # Define order of risk categories\n",
    "  dangerzone <- c(\"NE\", \"DD\", \"LC\", \"NT\", \"VU\", \"EN\", \"CR\", \"CO\")\n",
    "  \n",
    "  # Order risk categories\n",
    "  for(i in 1:length(dangerzone)){\n",
    "    if(x == dangerzone[i]) {\n",
    "      position = i\n",
    "    }\n",
    "  }\n",
    "    return(position)\n",
    "}"
   ]
  },
  {
   "cell_type": "markdown",
   "metadata": {},
   "source": [
    "### 2) Define highest risk category\n",
    "\n",
    "The function *maxcategory* uses the category ranks defined by the function *danger*. If the risk categories for each sub-criteria are listed in separate columns, the function *maxcategory* selects the highest risk category across the columns (i.e. subcritera) for each criteria."
   ]
  },
  {
   "cell_type": "code",
   "execution_count": 2,
   "metadata": {},
   "outputs": [],
   "source": [
    "maxcategory <- function (x) {\n",
    "  \n",
    "  # Set up\n",
    "  value = 0\n",
    "  position = 0\n",
    "  highestvalue = NULL\n",
    "  \n",
    "  # Define highest risk category across columns\n",
    "  for(i in 1:length(x)){\n",
    "    if (danger(x[i]) > value){\n",
    "    value = danger(x[i])\n",
    "    position = i\n",
    "    highestvalue = x[i]\n",
    "    }\n",
    "  }\n",
    "  \n",
    "  # Return highest risk category across columns\n",
    "  category_list <- c(highestvalue, position)\n",
    "  return(category_list)\n",
    "}"
   ]
  },
  {
   "cell_type": "markdown",
   "metadata": {},
   "source": [
    "#### Forests of the Americas example \n",
    "\n",
    "An example dataset of the Red list of Ecosystem assessments of the forests across the Americas is available from github.The assessments are from the continental-scale RLE assessments of 136 temperate and tropical forests across 51 countries/territories in the Caribbean and Americas (Ferrer-Paris et al., 2018). \n",
    "\n",
    "**Reference:**  \n",
    "Ferrer-Paris, J. R., Zager, I., Keith, D. A., Oliveira-Miranda, M. A., Rodríguez, J. P., Josse, C., … Barrow, E. (2018). An ecosystem risk assessment of temperate and tropical forests of the Americas with an outlook on future conservation strategies. Conservation Letters, 12. https://doi.org/10.1111/conl.12623\n",
    "\n",
    "The columns in the dataframe are:  \n",
    "- ecosystem = type of ecosystem.  \n",
    "- country = country containing part of the ecosystem distribution.   \n",
    "- criterion_A = risk category assigned based on Criterion A - the change in ecosystem area.  \n",
    "- criterion_B = risk category assigned based on Criterion B - the whether the ecosystem is spatially restricted.  \n",
    "- criterion_C = risk category assigned based on Criterion C - the change in abiotic conditions.  \n",
    "- criterion_D = risk category assigned based on Criterion D - the change in biotic processes and interactions.  "
   ]
  },
  {
   "cell_type": "code",
   "execution_count": 4,
   "metadata": {},
   "outputs": [
    {
     "data": {
      "text/html": [
       "<table class=\"dataframe\">\n",
       "<caption>A data.frame: 6 × 13</caption>\n",
       "<thead>\n",
       "\t<tr><th></th><th scope=col>ecosystem</th><th scope=col>country</th><th scope=col>criterion_A1</th><th scope=col>criterion_A2b</th><th scope=col>criterion_A3</th><th scope=col>criterion_B1</th><th scope=col>criterion_B2</th><th scope=col>criterion_B3</th><th scope=col>criterion_C2a</th><th scope=col>criterion_C2b</th><th scope=col>criterion_D1</th><th scope=col>criterion_D2b</th><th scope=col>criterion_D3</th></tr>\n",
       "\t<tr><th></th><th scope=col>&lt;chr&gt;</th><th scope=col>&lt;chr&gt;</th><th scope=col>&lt;chr&gt;</th><th scope=col>&lt;chr&gt;</th><th scope=col>&lt;chr&gt;</th><th scope=col>&lt;chr&gt;</th><th scope=col>&lt;chr&gt;</th><th scope=col>&lt;chr&gt;</th><th scope=col>&lt;chr&gt;</th><th scope=col>&lt;chr&gt;</th><th scope=col>&lt;chr&gt;</th><th scope=col>&lt;chr&gt;</th><th scope=col>&lt;chr&gt;</th></tr>\n",
       "</thead>\n",
       "<tbody>\n",
       "\t<tr><th scope=row>1</th><td>Mangrove</td><td>Peru     </td><td>DD</td><td>NT</td><td>DD</td><td>LC</td><td>NT</td><td>LC</td><td>DD</td><td>NT</td><td>DD</td><td>VU</td><td>DD</td></tr>\n",
       "\t<tr><th scope=row>2</th><td>Mangrove</td><td>Ecuador  </td><td>VU</td><td>EN</td><td>NT</td><td>LC</td><td>LC</td><td>LC</td><td>DD</td><td>LC</td><td>VU</td><td>NT</td><td>LC</td></tr>\n",
       "\t<tr><th scope=row>3</th><td>Mangrove</td><td>Colombia </td><td>VU</td><td>LC</td><td>VU</td><td>LC</td><td>LC</td><td>LC</td><td>DD</td><td>VU</td><td>LC</td><td>LC</td><td>LC</td></tr>\n",
       "\t<tr><th scope=row>4</th><td>Mangrove</td><td>Panama   </td><td>VU</td><td>VU</td><td>EN</td><td>LC</td><td>LC</td><td>LC</td><td>DD</td><td>DD</td><td>VU</td><td>NT</td><td>LC</td></tr>\n",
       "\t<tr><th scope=row>5</th><td>Mangrove</td><td>Nicaragua</td><td>DD</td><td>NT</td><td>DD</td><td>LC</td><td>LC</td><td>LC</td><td>DD</td><td>LC</td><td>LC</td><td>NT</td><td>LC</td></tr>\n",
       "\t<tr><th scope=row>6</th><td>Mangrove</td><td>Mexico   </td><td>EN</td><td>NT</td><td>EN</td><td>LC</td><td>LC</td><td>LC</td><td>DD</td><td>LC</td><td>VU</td><td>VU</td><td>LC</td></tr>\n",
       "</tbody>\n",
       "</table>\n"
      ],
      "text/latex": [
       "A data.frame: 6 × 13\n",
       "\\begin{tabular}{r|lllllllllllll}\n",
       "  & ecosystem & country & criterion\\_A1 & criterion\\_A2b & criterion\\_A3 & criterion\\_B1 & criterion\\_B2 & criterion\\_B3 & criterion\\_C2a & criterion\\_C2b & criterion\\_D1 & criterion\\_D2b & criterion\\_D3\\\\\n",
       "  & <chr> & <chr> & <chr> & <chr> & <chr> & <chr> & <chr> & <chr> & <chr> & <chr> & <chr> & <chr> & <chr>\\\\\n",
       "\\hline\n",
       "\t1 & Mangrove & Peru      & DD & NT & DD & LC & NT & LC & DD & NT & DD & VU & DD\\\\\n",
       "\t2 & Mangrove & Ecuador   & VU & EN & NT & LC & LC & LC & DD & LC & VU & NT & LC\\\\\n",
       "\t3 & Mangrove & Colombia  & VU & LC & VU & LC & LC & LC & DD & VU & LC & LC & LC\\\\\n",
       "\t4 & Mangrove & Panama    & VU & VU & EN & LC & LC & LC & DD & DD & VU & NT & LC\\\\\n",
       "\t5 & Mangrove & Nicaragua & DD & NT & DD & LC & LC & LC & DD & LC & LC & NT & LC\\\\\n",
       "\t6 & Mangrove & Mexico    & EN & NT & EN & LC & LC & LC & DD & LC & VU & VU & LC\\\\\n",
       "\\end{tabular}\n"
      ],
      "text/markdown": [
       "\n",
       "A data.frame: 6 × 13\n",
       "\n",
       "| <!--/--> | ecosystem &lt;chr&gt; | country &lt;chr&gt; | criterion_A1 &lt;chr&gt; | criterion_A2b &lt;chr&gt; | criterion_A3 &lt;chr&gt; | criterion_B1 &lt;chr&gt; | criterion_B2 &lt;chr&gt; | criterion_B3 &lt;chr&gt; | criterion_C2a &lt;chr&gt; | criterion_C2b &lt;chr&gt; | criterion_D1 &lt;chr&gt; | criterion_D2b &lt;chr&gt; | criterion_D3 &lt;chr&gt; |\n",
       "|---|---|---|---|---|---|---|---|---|---|---|---|---|---|\n",
       "| 1 | Mangrove | Peru      | DD | NT | DD | LC | NT | LC | DD | NT | DD | VU | DD |\n",
       "| 2 | Mangrove | Ecuador   | VU | EN | NT | LC | LC | LC | DD | LC | VU | NT | LC |\n",
       "| 3 | Mangrove | Colombia  | VU | LC | VU | LC | LC | LC | DD | VU | LC | LC | LC |\n",
       "| 4 | Mangrove | Panama    | VU | VU | EN | LC | LC | LC | DD | DD | VU | NT | LC |\n",
       "| 5 | Mangrove | Nicaragua | DD | NT | DD | LC | LC | LC | DD | LC | LC | NT | LC |\n",
       "| 6 | Mangrove | Mexico    | EN | NT | EN | LC | LC | LC | DD | LC | VU | VU | LC |\n",
       "\n"
      ],
      "text/plain": [
       "  ecosystem country   criterion_A1 criterion_A2b criterion_A3 criterion_B1\n",
       "1 Mangrove  Peru      DD           NT            DD           LC          \n",
       "2 Mangrove  Ecuador   VU           EN            NT           LC          \n",
       "3 Mangrove  Colombia  VU           LC            VU           LC          \n",
       "4 Mangrove  Panama    VU           VU            EN           LC          \n",
       "5 Mangrove  Nicaragua DD           NT            DD           LC          \n",
       "6 Mangrove  Mexico    EN           NT            EN           LC          \n",
       "  criterion_B2 criterion_B3 criterion_C2a criterion_C2b criterion_D1\n",
       "1 NT           LC           DD            NT            DD          \n",
       "2 LC           LC           DD            LC            VU          \n",
       "3 LC           LC           DD            VU            LC          \n",
       "4 LC           LC           DD            DD            VU          \n",
       "5 LC           LC           DD            LC            LC          \n",
       "6 LC           LC           DD            LC            VU          \n",
       "  criterion_D2b criterion_D3\n",
       "1 VU            DD          \n",
       "2 NT            LC          \n",
       "3 LC            LC          \n",
       "4 NT            LC          \n",
       "5 NT            LC          \n",
       "6 VU            LC          "
      ]
     },
     "metadata": {},
     "output_type": "display_data"
    },
    {
     "data": {
      "text/html": [
       "<table class=\"dataframe\">\n",
       "<caption>A data.frame: 6 × 18</caption>\n",
       "<thead>\n",
       "\t<tr><th></th><th scope=col>ecosystem</th><th scope=col>country</th><th scope=col>criterion_A1</th><th scope=col>criterion_A2b</th><th scope=col>criterion_A3</th><th scope=col>criterion_B1</th><th scope=col>criterion_B2</th><th scope=col>criterion_B3</th><th scope=col>criterion_C2a</th><th scope=col>criterion_C2b</th><th scope=col>criterion_D1</th><th scope=col>criterion_D2b</th><th scope=col>criterion_D3</th><th scope=col>criterion_A</th><th scope=col>criterion_B</th><th scope=col>criterion_C</th><th scope=col>criterion_D</th><th scope=col>overall</th></tr>\n",
       "\t<tr><th></th><th scope=col>&lt;chr&gt;</th><th scope=col>&lt;chr&gt;</th><th scope=col>&lt;chr&gt;</th><th scope=col>&lt;chr&gt;</th><th scope=col>&lt;chr&gt;</th><th scope=col>&lt;chr&gt;</th><th scope=col>&lt;chr&gt;</th><th scope=col>&lt;chr&gt;</th><th scope=col>&lt;chr&gt;</th><th scope=col>&lt;chr&gt;</th><th scope=col>&lt;chr&gt;</th><th scope=col>&lt;chr&gt;</th><th scope=col>&lt;chr&gt;</th><th scope=col>&lt;chr&gt;</th><th scope=col>&lt;chr&gt;</th><th scope=col>&lt;chr&gt;</th><th scope=col>&lt;chr&gt;</th><th scope=col>&lt;chr&gt;</th></tr>\n",
       "</thead>\n",
       "<tbody>\n",
       "\t<tr><th scope=row>1</th><td>Mangrove</td><td>Peru     </td><td>DD</td><td>NT</td><td>DD</td><td>LC</td><td>NT</td><td>LC</td><td>DD</td><td>NT</td><td>DD</td><td>VU</td><td>DD</td><td>NT</td><td>NT</td><td>NT</td><td>VU</td><td>VU</td></tr>\n",
       "\t<tr><th scope=row>2</th><td>Mangrove</td><td>Ecuador  </td><td>VU</td><td>EN</td><td>NT</td><td>LC</td><td>LC</td><td>LC</td><td>DD</td><td>LC</td><td>VU</td><td>NT</td><td>LC</td><td>EN</td><td>LC</td><td>LC</td><td>VU</td><td>EN</td></tr>\n",
       "\t<tr><th scope=row>3</th><td>Mangrove</td><td>Colombia </td><td>VU</td><td>LC</td><td>VU</td><td>LC</td><td>LC</td><td>LC</td><td>DD</td><td>VU</td><td>LC</td><td>LC</td><td>LC</td><td>VU</td><td>LC</td><td>VU</td><td>LC</td><td>VU</td></tr>\n",
       "\t<tr><th scope=row>4</th><td>Mangrove</td><td>Panama   </td><td>VU</td><td>VU</td><td>EN</td><td>LC</td><td>LC</td><td>LC</td><td>DD</td><td>DD</td><td>VU</td><td>NT</td><td>LC</td><td>EN</td><td>LC</td><td>DD</td><td>VU</td><td>EN</td></tr>\n",
       "\t<tr><th scope=row>5</th><td>Mangrove</td><td>Nicaragua</td><td>DD</td><td>NT</td><td>DD</td><td>LC</td><td>LC</td><td>LC</td><td>DD</td><td>LC</td><td>LC</td><td>NT</td><td>LC</td><td>NT</td><td>LC</td><td>LC</td><td>NT</td><td>NT</td></tr>\n",
       "\t<tr><th scope=row>6</th><td>Mangrove</td><td>Mexico   </td><td>EN</td><td>NT</td><td>EN</td><td>LC</td><td>LC</td><td>LC</td><td>DD</td><td>LC</td><td>VU</td><td>VU</td><td>LC</td><td>EN</td><td>LC</td><td>LC</td><td>VU</td><td>EN</td></tr>\n",
       "</tbody>\n",
       "</table>\n"
      ],
      "text/latex": [
       "A data.frame: 6 × 18\n",
       "\\begin{tabular}{r|llllllllllllllllll}\n",
       "  & ecosystem & country & criterion\\_A1 & criterion\\_A2b & criterion\\_A3 & criterion\\_B1 & criterion\\_B2 & criterion\\_B3 & criterion\\_C2a & criterion\\_C2b & criterion\\_D1 & criterion\\_D2b & criterion\\_D3 & criterion\\_A & criterion\\_B & criterion\\_C & criterion\\_D & overall\\\\\n",
       "  & <chr> & <chr> & <chr> & <chr> & <chr> & <chr> & <chr> & <chr> & <chr> & <chr> & <chr> & <chr> & <chr> & <chr> & <chr> & <chr> & <chr> & <chr>\\\\\n",
       "\\hline\n",
       "\t1 & Mangrove & Peru      & DD & NT & DD & LC & NT & LC & DD & NT & DD & VU & DD & NT & NT & NT & VU & VU\\\\\n",
       "\t2 & Mangrove & Ecuador   & VU & EN & NT & LC & LC & LC & DD & LC & VU & NT & LC & EN & LC & LC & VU & EN\\\\\n",
       "\t3 & Mangrove & Colombia  & VU & LC & VU & LC & LC & LC & DD & VU & LC & LC & LC & VU & LC & VU & LC & VU\\\\\n",
       "\t4 & Mangrove & Panama    & VU & VU & EN & LC & LC & LC & DD & DD & VU & NT & LC & EN & LC & DD & VU & EN\\\\\n",
       "\t5 & Mangrove & Nicaragua & DD & NT & DD & LC & LC & LC & DD & LC & LC & NT & LC & NT & LC & LC & NT & NT\\\\\n",
       "\t6 & Mangrove & Mexico    & EN & NT & EN & LC & LC & LC & DD & LC & VU & VU & LC & EN & LC & LC & VU & EN\\\\\n",
       "\\end{tabular}\n"
      ],
      "text/markdown": [
       "\n",
       "A data.frame: 6 × 18\n",
       "\n",
       "| <!--/--> | ecosystem &lt;chr&gt; | country &lt;chr&gt; | criterion_A1 &lt;chr&gt; | criterion_A2b &lt;chr&gt; | criterion_A3 &lt;chr&gt; | criterion_B1 &lt;chr&gt; | criterion_B2 &lt;chr&gt; | criterion_B3 &lt;chr&gt; | criterion_C2a &lt;chr&gt; | criterion_C2b &lt;chr&gt; | criterion_D1 &lt;chr&gt; | criterion_D2b &lt;chr&gt; | criterion_D3 &lt;chr&gt; | criterion_A &lt;chr&gt; | criterion_B &lt;chr&gt; | criterion_C &lt;chr&gt; | criterion_D &lt;chr&gt; | overall &lt;chr&gt; |\n",
       "|---|---|---|---|---|---|---|---|---|---|---|---|---|---|---|---|---|---|---|\n",
       "| 1 | Mangrove | Peru      | DD | NT | DD | LC | NT | LC | DD | NT | DD | VU | DD | NT | NT | NT | VU | VU |\n",
       "| 2 | Mangrove | Ecuador   | VU | EN | NT | LC | LC | LC | DD | LC | VU | NT | LC | EN | LC | LC | VU | EN |\n",
       "| 3 | Mangrove | Colombia  | VU | LC | VU | LC | LC | LC | DD | VU | LC | LC | LC | VU | LC | VU | LC | VU |\n",
       "| 4 | Mangrove | Panama    | VU | VU | EN | LC | LC | LC | DD | DD | VU | NT | LC | EN | LC | DD | VU | EN |\n",
       "| 5 | Mangrove | Nicaragua | DD | NT | DD | LC | LC | LC | DD | LC | LC | NT | LC | NT | LC | LC | NT | NT |\n",
       "| 6 | Mangrove | Mexico    | EN | NT | EN | LC | LC | LC | DD | LC | VU | VU | LC | EN | LC | LC | VU | EN |\n",
       "\n"
      ],
      "text/plain": [
       "  ecosystem country   criterion_A1 criterion_A2b criterion_A3 criterion_B1\n",
       "1 Mangrove  Peru      DD           NT            DD           LC          \n",
       "2 Mangrove  Ecuador   VU           EN            NT           LC          \n",
       "3 Mangrove  Colombia  VU           LC            VU           LC          \n",
       "4 Mangrove  Panama    VU           VU            EN           LC          \n",
       "5 Mangrove  Nicaragua DD           NT            DD           LC          \n",
       "6 Mangrove  Mexico    EN           NT            EN           LC          \n",
       "  criterion_B2 criterion_B3 criterion_C2a criterion_C2b criterion_D1\n",
       "1 NT           LC           DD            NT            DD          \n",
       "2 LC           LC           DD            LC            VU          \n",
       "3 LC           LC           DD            VU            LC          \n",
       "4 LC           LC           DD            DD            VU          \n",
       "5 LC           LC           DD            LC            LC          \n",
       "6 LC           LC           DD            LC            VU          \n",
       "  criterion_D2b criterion_D3 criterion_A criterion_B criterion_C criterion_D\n",
       "1 VU            DD           NT          NT          NT          VU         \n",
       "2 NT            LC           EN          LC          LC          VU         \n",
       "3 LC            LC           VU          LC          VU          LC         \n",
       "4 NT            LC           EN          LC          DD          VU         \n",
       "5 NT            LC           NT          LC          LC          NT         \n",
       "6 VU            LC           EN          LC          LC          VU         \n",
       "  overall\n",
       "1 VU     \n",
       "2 EN     \n",
       "3 VU     \n",
       "4 EN     \n",
       "5 NT     \n",
       "6 EN     "
      ]
     },
     "metadata": {},
     "output_type": "display_data"
    }
   ],
   "source": [
    "# Load data\n",
    "data <- read.csv(file_path) #fill in path to file\n",
    "\n",
    "# View data\n",
    "head(data)\n",
    "\n",
    "# Set up - these will form the new columns with the highest risk category for each criteria and overall\n",
    "n <- nrow(data)\n",
    "overall <- as.character(n)\n",
    "criterion_A <- as.character(n)\n",
    "criterion_B <- as.character(n)\n",
    "criterion_C <- as.character(n)\n",
    "criterion_D <- as.character(n)\n",
    "\n",
    "# Calculate overall risk category for criterion A\n",
    "for(i in 1:n){\n",
    "  A <- data[i, 3:5] # alter the numbers for the relevant columns in a dataset\n",
    "  results <- maxcategory(A)\n",
    "  criterion_A[i] <- results[1]\n",
    "}\n",
    "\n",
    "# Calculate overall risk category for criterion B\n",
    "for(i in 1:n){\n",
    "  B <- data[i, 6:8]  # alter the numbers for the relevant columns in a dataset\n",
    "  results <- maxcategory(B)\n",
    "  criterion_B[i] <- results[1]\n",
    "}\n",
    "\n",
    "# Calculate overall risk category for criterion C\n",
    "for(i in 1:n){\n",
    "  C <- data[i, 9:10]  # alter the numbers for the relevant columns in a dataset\n",
    "  results <- maxcategory(C)\n",
    "  criterion_C[i] <- results[1]\n",
    "}\n",
    "\n",
    "# Calculate overall risk category for criterion D\n",
    "for(i in 1:n){\n",
    "  D <- data[i, 11:13]  # alter the numbers for the relevant columns in a dataset\n",
    "  results <- maxcategory(D)\n",
    "  criterion_D[i] <- results[1]\n",
    "}\n",
    "\n",
    "# Add overall risk categories for each criterion to the dataframe\n",
    "data$criterion_A <- unlist(criterion_A)\n",
    "data$criterion_B <- unlist(criterion_B)\n",
    "data$criterion_C <- unlist(criterion_C)\n",
    "data$criterion_D <- unlist(criterion_D)\n",
    "\n",
    "# Calculate overall risk category across columns\n",
    "for(i in 1:n){\n",
    "overall_risk <- data[i, 14:17]  # alter the numbers for the relevant columns in a dataset\n",
    "results <- maxcategory(overall_risk)\n",
    "overall[i] <- results[1]\n",
    "}\n",
    "\n",
    "# Add overall risk category to the dataframe\n",
    "data$overall <- unlist(overall)\n",
    "\n",
    "# View output\n",
    "head(data)"
   ]
  },
  {
   "cell_type": "markdown",
   "metadata": {},
   "source": [
    "## 3) Assign ordinal values to risk categories \n",
    "\n",
    "The function *calcWeights* allocates each risk category an ordinal rank from 0 (Least Concern) to 5 (Collapsed). This step is included for informational purposes only and can be skipped because the the *calcRLIE* function described below includes this step.\n",
    "\n",
    "The ordinal ranks are:\n",
    "- Not Evaluated = Excluded\n",
    "- Data Deficient = Excluded\n",
    "- Least Concern = 0  \n",
    "- Near Threatened = 1  \n",
    "- Vulnerable = 2  \n",
    "- Endangered = 3  \n",
    "- Critically Endangered = 4  \n",
    "- Collapsed = 5  \n",
    "\n",
    "Parameters are:  \n",
    "- eco_data = dataframe  \n",
    "- RLE_criteria = name of the column with the Red List of Ecosystems criterion of interest  "
   ]
  },
  {
   "cell_type": "code",
   "execution_count": 5,
   "metadata": {},
   "outputs": [],
   "source": [
    "calcWeights <- function(eco_data, RLE_criteria) {\n",
    "  \n",
    "  # Remove NA values (where values aren't true NAs)\n",
    "  eco_data <- dplyr::filter(eco_data, .data[[RLE_criteria]] != \"NA\")\n",
    "  \n",
    "  # Calculate numerical weights for each ecosystem based on risk category\n",
    "  weight_data <- dplyr::mutate(eco_data, \n",
    "                               category_weights = case_when(.data[[RLE_criteria]] == \"CO\" ~ 5,\n",
    "                                                            .data[[RLE_criteria]] == \"CR\" ~ 4, \n",
    "                                                            .data[[RLE_criteria]] == \"EN\" ~ 3, \n",
    "                                                            .data[[RLE_criteria]] == \"VU\" ~ 2, \n",
    "                                                            .data[[RLE_criteria]] == \"NT\" ~ 1,\n",
    "                                                            .data[[RLE_criteria]] == \"LC\" ~ 0))\n",
    "}"
   ]
  },
  {
   "cell_type": "markdown",
   "metadata": {},
   "source": [
    "#### Example\n",
    "\n",
    "Calculate the weights for the risk categories for one criteria, such as Criterion A:"
   ]
  },
  {
   "cell_type": "code",
   "execution_count": 6,
   "metadata": {},
   "outputs": [
    {
     "name": "stderr",
     "output_type": "stream",
     "text": [
      "\n",
      "Attaching package: ‘dplyr’\n",
      "\n",
      "\n",
      "The following objects are masked from ‘package:stats’:\n",
      "\n",
      "    filter, lag\n",
      "\n",
      "\n",
      "The following objects are masked from ‘package:base’:\n",
      "\n",
      "    intersect, setdiff, setequal, union\n",
      "\n",
      "\n"
     ]
    },
    {
     "data": {
      "text/html": [
       "<table class=\"dataframe\">\n",
       "<caption>A data.frame: 6 × 19</caption>\n",
       "<thead>\n",
       "\t<tr><th></th><th scope=col>ecosystem</th><th scope=col>country</th><th scope=col>criterion_A1</th><th scope=col>criterion_A2b</th><th scope=col>criterion_A3</th><th scope=col>criterion_B1</th><th scope=col>criterion_B2</th><th scope=col>criterion_B3</th><th scope=col>criterion_C2a</th><th scope=col>criterion_C2b</th><th scope=col>criterion_D1</th><th scope=col>criterion_D2b</th><th scope=col>criterion_D3</th><th scope=col>criterion_A</th><th scope=col>criterion_B</th><th scope=col>criterion_C</th><th scope=col>criterion_D</th><th scope=col>overall</th><th scope=col>category_weights</th></tr>\n",
       "\t<tr><th></th><th scope=col>&lt;chr&gt;</th><th scope=col>&lt;chr&gt;</th><th scope=col>&lt;chr&gt;</th><th scope=col>&lt;chr&gt;</th><th scope=col>&lt;chr&gt;</th><th scope=col>&lt;chr&gt;</th><th scope=col>&lt;chr&gt;</th><th scope=col>&lt;chr&gt;</th><th scope=col>&lt;chr&gt;</th><th scope=col>&lt;chr&gt;</th><th scope=col>&lt;chr&gt;</th><th scope=col>&lt;chr&gt;</th><th scope=col>&lt;chr&gt;</th><th scope=col>&lt;chr&gt;</th><th scope=col>&lt;chr&gt;</th><th scope=col>&lt;chr&gt;</th><th scope=col>&lt;chr&gt;</th><th scope=col>&lt;chr&gt;</th><th scope=col>&lt;dbl&gt;</th></tr>\n",
       "</thead>\n",
       "<tbody>\n",
       "\t<tr><th scope=row>1</th><td>Mangrove</td><td>Peru     </td><td>DD</td><td>NT</td><td>DD</td><td>LC</td><td>NT</td><td>LC</td><td>DD</td><td>NT</td><td>DD</td><td>VU</td><td>DD</td><td>NT</td><td>NT</td><td>NT</td><td>VU</td><td>VU</td><td>1</td></tr>\n",
       "\t<tr><th scope=row>2</th><td>Mangrove</td><td>Ecuador  </td><td>VU</td><td>EN</td><td>NT</td><td>LC</td><td>LC</td><td>LC</td><td>DD</td><td>LC</td><td>VU</td><td>NT</td><td>LC</td><td>EN</td><td>LC</td><td>LC</td><td>VU</td><td>EN</td><td>3</td></tr>\n",
       "\t<tr><th scope=row>3</th><td>Mangrove</td><td>Colombia </td><td>VU</td><td>LC</td><td>VU</td><td>LC</td><td>LC</td><td>LC</td><td>DD</td><td>VU</td><td>LC</td><td>LC</td><td>LC</td><td>VU</td><td>LC</td><td>VU</td><td>LC</td><td>VU</td><td>2</td></tr>\n",
       "\t<tr><th scope=row>4</th><td>Mangrove</td><td>Panama   </td><td>VU</td><td>VU</td><td>EN</td><td>LC</td><td>LC</td><td>LC</td><td>DD</td><td>DD</td><td>VU</td><td>NT</td><td>LC</td><td>EN</td><td>LC</td><td>DD</td><td>VU</td><td>EN</td><td>3</td></tr>\n",
       "\t<tr><th scope=row>5</th><td>Mangrove</td><td>Nicaragua</td><td>DD</td><td>NT</td><td>DD</td><td>LC</td><td>LC</td><td>LC</td><td>DD</td><td>LC</td><td>LC</td><td>NT</td><td>LC</td><td>NT</td><td>LC</td><td>LC</td><td>NT</td><td>NT</td><td>1</td></tr>\n",
       "\t<tr><th scope=row>6</th><td>Mangrove</td><td>Mexico   </td><td>EN</td><td>NT</td><td>EN</td><td>LC</td><td>LC</td><td>LC</td><td>DD</td><td>LC</td><td>VU</td><td>VU</td><td>LC</td><td>EN</td><td>LC</td><td>LC</td><td>VU</td><td>EN</td><td>3</td></tr>\n",
       "</tbody>\n",
       "</table>\n"
      ],
      "text/latex": [
       "A data.frame: 6 × 19\n",
       "\\begin{tabular}{r|lllllllllllllllllll}\n",
       "  & ecosystem & country & criterion\\_A1 & criterion\\_A2b & criterion\\_A3 & criterion\\_B1 & criterion\\_B2 & criterion\\_B3 & criterion\\_C2a & criterion\\_C2b & criterion\\_D1 & criterion\\_D2b & criterion\\_D3 & criterion\\_A & criterion\\_B & criterion\\_C & criterion\\_D & overall & category\\_weights\\\\\n",
       "  & <chr> & <chr> & <chr> & <chr> & <chr> & <chr> & <chr> & <chr> & <chr> & <chr> & <chr> & <chr> & <chr> & <chr> & <chr> & <chr> & <chr> & <chr> & <dbl>\\\\\n",
       "\\hline\n",
       "\t1 & Mangrove & Peru      & DD & NT & DD & LC & NT & LC & DD & NT & DD & VU & DD & NT & NT & NT & VU & VU & 1\\\\\n",
       "\t2 & Mangrove & Ecuador   & VU & EN & NT & LC & LC & LC & DD & LC & VU & NT & LC & EN & LC & LC & VU & EN & 3\\\\\n",
       "\t3 & Mangrove & Colombia  & VU & LC & VU & LC & LC & LC & DD & VU & LC & LC & LC & VU & LC & VU & LC & VU & 2\\\\\n",
       "\t4 & Mangrove & Panama    & VU & VU & EN & LC & LC & LC & DD & DD & VU & NT & LC & EN & LC & DD & VU & EN & 3\\\\\n",
       "\t5 & Mangrove & Nicaragua & DD & NT & DD & LC & LC & LC & DD & LC & LC & NT & LC & NT & LC & LC & NT & NT & 1\\\\\n",
       "\t6 & Mangrove & Mexico    & EN & NT & EN & LC & LC & LC & DD & LC & VU & VU & LC & EN & LC & LC & VU & EN & 3\\\\\n",
       "\\end{tabular}\n"
      ],
      "text/markdown": [
       "\n",
       "A data.frame: 6 × 19\n",
       "\n",
       "| <!--/--> | ecosystem &lt;chr&gt; | country &lt;chr&gt; | criterion_A1 &lt;chr&gt; | criterion_A2b &lt;chr&gt; | criterion_A3 &lt;chr&gt; | criterion_B1 &lt;chr&gt; | criterion_B2 &lt;chr&gt; | criterion_B3 &lt;chr&gt; | criterion_C2a &lt;chr&gt; | criterion_C2b &lt;chr&gt; | criterion_D1 &lt;chr&gt; | criterion_D2b &lt;chr&gt; | criterion_D3 &lt;chr&gt; | criterion_A &lt;chr&gt; | criterion_B &lt;chr&gt; | criterion_C &lt;chr&gt; | criterion_D &lt;chr&gt; | overall &lt;chr&gt; | category_weights &lt;dbl&gt; |\n",
       "|---|---|---|---|---|---|---|---|---|---|---|---|---|---|---|---|---|---|---|---|\n",
       "| 1 | Mangrove | Peru      | DD | NT | DD | LC | NT | LC | DD | NT | DD | VU | DD | NT | NT | NT | VU | VU | 1 |\n",
       "| 2 | Mangrove | Ecuador   | VU | EN | NT | LC | LC | LC | DD | LC | VU | NT | LC | EN | LC | LC | VU | EN | 3 |\n",
       "| 3 | Mangrove | Colombia  | VU | LC | VU | LC | LC | LC | DD | VU | LC | LC | LC | VU | LC | VU | LC | VU | 2 |\n",
       "| 4 | Mangrove | Panama    | VU | VU | EN | LC | LC | LC | DD | DD | VU | NT | LC | EN | LC | DD | VU | EN | 3 |\n",
       "| 5 | Mangrove | Nicaragua | DD | NT | DD | LC | LC | LC | DD | LC | LC | NT | LC | NT | LC | LC | NT | NT | 1 |\n",
       "| 6 | Mangrove | Mexico    | EN | NT | EN | LC | LC | LC | DD | LC | VU | VU | LC | EN | LC | LC | VU | EN | 3 |\n",
       "\n"
      ],
      "text/plain": [
       "  ecosystem country   criterion_A1 criterion_A2b criterion_A3 criterion_B1\n",
       "1 Mangrove  Peru      DD           NT            DD           LC          \n",
       "2 Mangrove  Ecuador   VU           EN            NT           LC          \n",
       "3 Mangrove  Colombia  VU           LC            VU           LC          \n",
       "4 Mangrove  Panama    VU           VU            EN           LC          \n",
       "5 Mangrove  Nicaragua DD           NT            DD           LC          \n",
       "6 Mangrove  Mexico    EN           NT            EN           LC          \n",
       "  criterion_B2 criterion_B3 criterion_C2a criterion_C2b criterion_D1\n",
       "1 NT           LC           DD            NT            DD          \n",
       "2 LC           LC           DD            LC            VU          \n",
       "3 LC           LC           DD            VU            LC          \n",
       "4 LC           LC           DD            DD            VU          \n",
       "5 LC           LC           DD            LC            LC          \n",
       "6 LC           LC           DD            LC            VU          \n",
       "  criterion_D2b criterion_D3 criterion_A criterion_B criterion_C criterion_D\n",
       "1 VU            DD           NT          NT          NT          VU         \n",
       "2 NT            LC           EN          LC          LC          VU         \n",
       "3 LC            LC           VU          LC          VU          LC         \n",
       "4 NT            LC           EN          LC          DD          VU         \n",
       "5 NT            LC           NT          LC          LC          NT         \n",
       "6 VU            LC           EN          LC          LC          VU         \n",
       "  overall category_weights\n",
       "1 VU      1               \n",
       "2 EN      3               \n",
       "3 VU      2               \n",
       "4 EN      3               \n",
       "5 NT      1               \n",
       "6 EN      3               "
      ]
     },
     "metadata": {},
     "output_type": "display_data"
    }
   ],
   "source": [
    "# Install packages\n",
    "library(dplyr)\n",
    "library(tidyr)\n",
    "\n",
    "# Use function to calculate weights for criterion of interest\n",
    "output_weights <- calcWeights(data, RLE_criteria = \"criterion_A\")\n",
    "\n",
    "# View output\n",
    "head(output_weights)"
   ]
  },
  {
   "cell_type": "markdown",
   "metadata": {},
   "source": [
    "## 4) Calculate the index\n",
    "\n",
    "The function *calcRLIe* selects the column in a dataframe listing the risk categories, and allocates the ordinal ranks specified by the function *calcWeights* (see above). These ordinal ranks are used to calculate the Red List Index for Ecosystems (RLIE) and percentiles capturing the middle 95% of the data. The RLIE ranges from zero (all ecosystems Collapsed) to one (all Least Concern).  \n",
    "\n",
    "Parameters are:\n",
    "- eco_data = dataframe  \n",
    "- RLE_criteria = column name of criterion of interest  \n",
    "- group1 = the factor (optional) you want to group the index by. Where not specified, an RLIE will be calculated based on all ecosystems (output = single score)  \n",
    "- group2 = the second factor (optional) you want to group the index by  \n",
    "\n",
    "Parameters 'group1' and 'group2' are optional."
   ]
  },
  {
   "cell_type": "code",
   "execution_count": 7,
   "metadata": {},
   "outputs": [],
   "source": [
    "calcRLIE <- function(eco_data, RLE_criteria, group1, group2){\n",
    "  \n",
    "  # Filter out rows with NE and DD from selected column\n",
    "  filter_data <- dplyr::filter(eco_data, .data[[RLE_criteria]] != \"NE\" & .data[[RLE_criteria]] != \"DD\")\n",
    "  \n",
    "  # Calculate ordinal ranks for each ecosystem based on risk category\n",
    "  weight_data <- calcWeights(filter_data, RLE_criteria)\n",
    "  weight_data <- drop_na(weight_data, .data[[RLE_criteria]])\n",
    "  \n",
    "  # Calculate index score for the (i) whole dataset, (ii) for one defined grouping, and (iii) for two nested groupings:\n",
    "  \n",
    "  ## (i) Calculate overall index score using all rows\n",
    "  if (missing(group1)) {\n",
    "    values <- dplyr::group_by(weight_data)\n",
    "    \n",
    "  ## (ii) Calculate index scores for individual groups\n",
    "  } else {\n",
    "    if (missing(group2)) {\n",
    "      values <- dplyr::group_by(weight_data, \n",
    "                                group1 = .data[[group1]])\n",
    "      \n",
    "  ## (iii) Calculate scores for each level within two nested groupings\n",
    "    }  else {\n",
    "      values <- dplyr::group_by(weight_data, \n",
    "                                group1 = .data[[group1]],\n",
    "                                group2 = .data[[group2]])\n",
    "    }\n",
    "  }\n",
    "  \n",
    "  summed_weights <- summarise(values, \n",
    "                              \n",
    "                              # Sum ordinal ranks\n",
    "                              total_weight = sum(category_weights), total_count = n(), \n",
    "                             \n",
    "                              # Define the upper and lower quantiles \n",
    "                              upper = 1 - quantile(category_weights, probs = 0.025) / 5, \n",
    "                              lower = 1 - quantile(category_weights, probs = 0.975) / 5)\n",
    "  \n",
    "  # Calculate index scores\n",
    "  index_scores <- mutate(summed_weights, \n",
    "                         RLIE = 1 - (total_weight/(total_count * 5)),\n",
    "                         criteria = RLE_criteria)\n",
    "  \n",
    "  # Return dataframe with index scores\n",
    "  return(index_scores)\n",
    "}"
   ]
  },
  {
   "cell_type": "markdown",
   "metadata": {},
   "source": [
    "#### Example\n",
    "\n",
    "Calculate the index using no groupings. The output includes:  \n",
    "\n",
    "- total_weight = sum of all weights included in the index.  \n",
    "- total_count = the total number of ecosystems included in the index.   \n",
    "- lower and upper = the intervals are based on the quantiles aiming to capture the middle 95% of the data calcualted using the 2.5th and 97.5th percentiles.  \n",
    "- RLIE = the Ecosystem Area Index.  \n",
    "- criteria = the criteria used to calculate the index.  "
   ]
  },
  {
   "cell_type": "code",
   "execution_count": 8,
   "metadata": {},
   "outputs": [
    {
     "name": "stderr",
     "output_type": "stream",
     "text": [
      "Warning message:\n",
      "“\u001b[1m\u001b[22mUse of .data in tidyselect expressions was deprecated in tidyselect 1.2.0.\n",
      "\u001b[36mℹ\u001b[39m Please use `all_of(var)` (or `any_of(var)`) instead of `.data[[var]]`”\n"
     ]
    },
    {
     "data": {
      "text/html": [
       "<table class=\"dataframe\">\n",
       "<caption>A tibble: 1 × 6</caption>\n",
       "<thead>\n",
       "\t<tr><th scope=col>total_weight</th><th scope=col>total_count</th><th scope=col>upper</th><th scope=col>lower</th><th scope=col>RLIE</th><th scope=col>criteria</th></tr>\n",
       "\t<tr><th scope=col>&lt;dbl&gt;</th><th scope=col>&lt;int&gt;</th><th scope=col>&lt;dbl&gt;</th><th scope=col>&lt;dbl&gt;</th><th scope=col>&lt;dbl&gt;</th><th scope=col>&lt;chr&gt;</th></tr>\n",
       "</thead>\n",
       "<tbody>\n",
       "\t<tr><td>955</td><td>507</td><td>1</td><td>0.2</td><td>0.6232742</td><td>criterion_A</td></tr>\n",
       "</tbody>\n",
       "</table>\n"
      ],
      "text/latex": [
       "A tibble: 1 × 6\n",
       "\\begin{tabular}{llllll}\n",
       " total\\_weight & total\\_count & upper & lower & RLIE & criteria\\\\\n",
       " <dbl> & <int> & <dbl> & <dbl> & <dbl> & <chr>\\\\\n",
       "\\hline\n",
       "\t 955 & 507 & 1 & 0.2 & 0.6232742 & criterion\\_A\\\\\n",
       "\\end{tabular}\n"
      ],
      "text/markdown": [
       "\n",
       "A tibble: 1 × 6\n",
       "\n",
       "| total_weight &lt;dbl&gt; | total_count &lt;int&gt; | upper &lt;dbl&gt; | lower &lt;dbl&gt; | RLIE &lt;dbl&gt; | criteria &lt;chr&gt; |\n",
       "|---|---|---|---|---|---|\n",
       "| 955 | 507 | 1 | 0.2 | 0.6232742 | criterion_A |\n",
       "\n"
      ],
      "text/plain": [
       "     total_weight total_count upper lower RLIE      criteria   \n",
       "2.5% 955          507         1     0.2   0.6232742 criterion_A"
      ]
     },
     "metadata": {},
     "output_type": "display_data"
    }
   ],
   "source": [
    "# Calculate the index values\n",
    "output <- calcRLIE(data,\n",
    "                   RLE_criteria = \"criterion_A\")\n",
    "\n",
    "# View output\n",
    "head(output)"
   ]
  },
  {
   "cell_type": "markdown",
   "metadata": {},
   "source": [
    "Calculate the index using one grouping, such as the ecosystem type:"
   ]
  },
  {
   "cell_type": "code",
   "execution_count": 9,
   "metadata": {},
   "outputs": [
    {
     "data": {
      "text/html": [
       "<table class=\"dataframe\">\n",
       "<caption>A tibble: 6 × 7</caption>\n",
       "<thead>\n",
       "\t<tr><th scope=col>group1</th><th scope=col>total_weight</th><th scope=col>total_count</th><th scope=col>upper</th><th scope=col>lower</th><th scope=col>RLIE</th><th scope=col>criteria</th></tr>\n",
       "\t<tr><th scope=col>&lt;chr&gt;</th><th scope=col>&lt;dbl&gt;</th><th scope=col>&lt;int&gt;</th><th scope=col>&lt;dbl&gt;</th><th scope=col>&lt;dbl&gt;</th><th scope=col>&lt;dbl&gt;</th><th scope=col>&lt;chr&gt;</th></tr>\n",
       "</thead>\n",
       "<tbody>\n",
       "\t<tr><td>Cool Temperate Forest           </td><td> 62</td><td> 30</td><td>1</td><td>0.2</td><td>0.5866667</td><td>criterion_A</td></tr>\n",
       "\t<tr><td>Mangrove                        </td><td> 94</td><td> 47</td><td>1</td><td>0.2</td><td>0.6000000</td><td>criterion_A</td></tr>\n",
       "\t<tr><td>Temperate Flooded &amp; Swamp Forest</td><td> 55</td><td> 25</td><td>1</td><td>0.2</td><td>0.5600000</td><td>criterion_A</td></tr>\n",
       "\t<tr><td><span style=white-space:pre-wrap>Tropical Dry Forest &amp; Woodland  </span></td><td>198</td><td> 90</td><td>1</td><td>0.2</td><td>0.5600000</td><td>criterion_A</td></tr>\n",
       "\t<tr><td>Tropical Flooded &amp; Swamp Forest </td><td>221</td><td>133</td><td>1</td><td>0.2</td><td>0.6676692</td><td>criterion_A</td></tr>\n",
       "\t<tr><td>Tropical Lowland Humid Forest   </td><td>174</td><td>106</td><td>1</td><td>0.2</td><td>0.6716981</td><td>criterion_A</td></tr>\n",
       "</tbody>\n",
       "</table>\n"
      ],
      "text/latex": [
       "A tibble: 6 × 7\n",
       "\\begin{tabular}{lllllll}\n",
       " group1 & total\\_weight & total\\_count & upper & lower & RLIE & criteria\\\\\n",
       " <chr> & <dbl> & <int> & <dbl> & <dbl> & <dbl> & <chr>\\\\\n",
       "\\hline\n",
       "\t Cool Temperate Forest            &  62 &  30 & 1 & 0.2 & 0.5866667 & criterion\\_A\\\\\n",
       "\t Mangrove                         &  94 &  47 & 1 & 0.2 & 0.6000000 & criterion\\_A\\\\\n",
       "\t Temperate Flooded \\& Swamp Forest &  55 &  25 & 1 & 0.2 & 0.5600000 & criterion\\_A\\\\\n",
       "\t Tropical Dry Forest \\& Woodland   & 198 &  90 & 1 & 0.2 & 0.5600000 & criterion\\_A\\\\\n",
       "\t Tropical Flooded \\& Swamp Forest  & 221 & 133 & 1 & 0.2 & 0.6676692 & criterion\\_A\\\\\n",
       "\t Tropical Lowland Humid Forest    & 174 & 106 & 1 & 0.2 & 0.6716981 & criterion\\_A\\\\\n",
       "\\end{tabular}\n"
      ],
      "text/markdown": [
       "\n",
       "A tibble: 6 × 7\n",
       "\n",
       "| group1 &lt;chr&gt; | total_weight &lt;dbl&gt; | total_count &lt;int&gt; | upper &lt;dbl&gt; | lower &lt;dbl&gt; | RLIE &lt;dbl&gt; | criteria &lt;chr&gt; |\n",
       "|---|---|---|---|---|---|---|\n",
       "| Cool Temperate Forest            |  62 |  30 | 1 | 0.2 | 0.5866667 | criterion_A |\n",
       "| Mangrove                         |  94 |  47 | 1 | 0.2 | 0.6000000 | criterion_A |\n",
       "| Temperate Flooded &amp; Swamp Forest |  55 |  25 | 1 | 0.2 | 0.5600000 | criterion_A |\n",
       "| Tropical Dry Forest &amp; Woodland   | 198 |  90 | 1 | 0.2 | 0.5600000 | criterion_A |\n",
       "| Tropical Flooded &amp; Swamp Forest  | 221 | 133 | 1 | 0.2 | 0.6676692 | criterion_A |\n",
       "| Tropical Lowland Humid Forest    | 174 | 106 | 1 | 0.2 | 0.6716981 | criterion_A |\n",
       "\n"
      ],
      "text/plain": [
       "  group1                           total_weight total_count upper lower\n",
       "1 Cool Temperate Forest             62           30         1     0.2  \n",
       "2 Mangrove                          94           47         1     0.2  \n",
       "3 Temperate Flooded & Swamp Forest  55           25         1     0.2  \n",
       "4 Tropical Dry Forest & Woodland   198           90         1     0.2  \n",
       "5 Tropical Flooded & Swamp Forest  221          133         1     0.2  \n",
       "6 Tropical Lowland Humid Forest    174          106         1     0.2  \n",
       "  RLIE      criteria   \n",
       "1 0.5866667 criterion_A\n",
       "2 0.6000000 criterion_A\n",
       "3 0.5600000 criterion_A\n",
       "4 0.5600000 criterion_A\n",
       "5 0.6676692 criterion_A\n",
       "6 0.6716981 criterion_A"
      ]
     },
     "metadata": {},
     "output_type": "display_data"
    }
   ],
   "source": [
    "# Calculate the index values\n",
    "output_one_grouping <- calcRLIE(data,\n",
    "                                RLE_criteria = \"criterion_A\",\n",
    "                                group1 = \"ecosystem\")\n",
    "\n",
    "# View output\n",
    "head(output_one_grouping)"
   ]
  },
  {
   "cell_type": "markdown",
   "metadata": {},
   "source": [
    "Calculate the index using two groupings where ecosystems are grouped by ecosystem type and country:"
   ]
  },
  {
   "cell_type": "code",
   "execution_count": 10,
   "metadata": {},
   "outputs": [
    {
     "name": "stderr",
     "output_type": "stream",
     "text": [
      "\u001b[1m\u001b[22m`summarise()` has grouped output by 'group1'. You can override using the\n",
      "`.groups` argument.\n"
     ]
    },
    {
     "data": {
      "text/html": [
       "<table class=\"dataframe\">\n",
       "<caption>A grouped_df: 6 × 8</caption>\n",
       "<thead>\n",
       "\t<tr><th scope=col>group1</th><th scope=col>group2</th><th scope=col>total_weight</th><th scope=col>total_count</th><th scope=col>upper</th><th scope=col>lower</th><th scope=col>RLIE</th><th scope=col>criteria</th></tr>\n",
       "\t<tr><th scope=col>&lt;chr&gt;</th><th scope=col>&lt;chr&gt;</th><th scope=col>&lt;dbl&gt;</th><th scope=col>&lt;int&gt;</th><th scope=col>&lt;dbl&gt;</th><th scope=col>&lt;dbl&gt;</th><th scope=col>&lt;dbl&gt;</th><th scope=col>&lt;chr&gt;</th></tr>\n",
       "</thead>\n",
       "<tbody>\n",
       "\t<tr><td>Cool Temperate Forest</td><td>Argentina          </td><td> 1</td><td> 2</td><td>0.995</td><td>0.805</td><td>0.9000000</td><td>criterion_A</td></tr>\n",
       "\t<tr><td>Cool Temperate Forest</td><td>Canada             </td><td>25</td><td>10</td><td>0.910</td><td>0.200</td><td>0.5000000</td><td>criterion_A</td></tr>\n",
       "\t<tr><td>Cool Temperate Forest</td><td>Chile              </td><td> 0</td><td> 2</td><td>1.000</td><td>1.000</td><td>1.0000000</td><td>criterion_A</td></tr>\n",
       "\t<tr><td>Cool Temperate Forest</td><td>Mexico             </td><td> 2</td><td> 1</td><td>0.600</td><td>0.600</td><td>0.6000000</td><td>criterion_A</td></tr>\n",
       "\t<tr><td>Cool Temperate Forest</td><td>United States      </td><td>34</td><td>15</td><td>1.000</td><td>0.200</td><td>0.5466667</td><td>criterion_A</td></tr>\n",
       "\t<tr><td>Mangrove             </td><td>Antigua and Barbuda</td><td> 2</td><td> 1</td><td>0.600</td><td>0.600</td><td>0.6000000</td><td>criterion_A</td></tr>\n",
       "</tbody>\n",
       "</table>\n"
      ],
      "text/latex": [
       "A grouped\\_df: 6 × 8\n",
       "\\begin{tabular}{llllllll}\n",
       " group1 & group2 & total\\_weight & total\\_count & upper & lower & RLIE & criteria\\\\\n",
       " <chr> & <chr> & <dbl> & <int> & <dbl> & <dbl> & <dbl> & <chr>\\\\\n",
       "\\hline\n",
       "\t Cool Temperate Forest & Argentina           &  1 &  2 & 0.995 & 0.805 & 0.9000000 & criterion\\_A\\\\\n",
       "\t Cool Temperate Forest & Canada              & 25 & 10 & 0.910 & 0.200 & 0.5000000 & criterion\\_A\\\\\n",
       "\t Cool Temperate Forest & Chile               &  0 &  2 & 1.000 & 1.000 & 1.0000000 & criterion\\_A\\\\\n",
       "\t Cool Temperate Forest & Mexico              &  2 &  1 & 0.600 & 0.600 & 0.6000000 & criterion\\_A\\\\\n",
       "\t Cool Temperate Forest & United States       & 34 & 15 & 1.000 & 0.200 & 0.5466667 & criterion\\_A\\\\\n",
       "\t Mangrove              & Antigua and Barbuda &  2 &  1 & 0.600 & 0.600 & 0.6000000 & criterion\\_A\\\\\n",
       "\\end{tabular}\n"
      ],
      "text/markdown": [
       "\n",
       "A grouped_df: 6 × 8\n",
       "\n",
       "| group1 &lt;chr&gt; | group2 &lt;chr&gt; | total_weight &lt;dbl&gt; | total_count &lt;int&gt; | upper &lt;dbl&gt; | lower &lt;dbl&gt; | RLIE &lt;dbl&gt; | criteria &lt;chr&gt; |\n",
       "|---|---|---|---|---|---|---|---|\n",
       "| Cool Temperate Forest | Argentina           |  1 |  2 | 0.995 | 0.805 | 0.9000000 | criterion_A |\n",
       "| Cool Temperate Forest | Canada              | 25 | 10 | 0.910 | 0.200 | 0.5000000 | criterion_A |\n",
       "| Cool Temperate Forest | Chile               |  0 |  2 | 1.000 | 1.000 | 1.0000000 | criterion_A |\n",
       "| Cool Temperate Forest | Mexico              |  2 |  1 | 0.600 | 0.600 | 0.6000000 | criterion_A |\n",
       "| Cool Temperate Forest | United States       | 34 | 15 | 1.000 | 0.200 | 0.5466667 | criterion_A |\n",
       "| Mangrove              | Antigua and Barbuda |  2 |  1 | 0.600 | 0.600 | 0.6000000 | criterion_A |\n",
       "\n"
      ],
      "text/plain": [
       "  group1                group2              total_weight total_count upper\n",
       "1 Cool Temperate Forest Argentina            1            2          0.995\n",
       "2 Cool Temperate Forest Canada              25           10          0.910\n",
       "3 Cool Temperate Forest Chile                0            2          1.000\n",
       "4 Cool Temperate Forest Mexico               2            1          0.600\n",
       "5 Cool Temperate Forest United States       34           15          1.000\n",
       "6 Mangrove              Antigua and Barbuda  2            1          0.600\n",
       "  lower RLIE      criteria   \n",
       "1 0.805 0.9000000 criterion_A\n",
       "2 0.200 0.5000000 criterion_A\n",
       "3 1.000 1.0000000 criterion_A\n",
       "4 0.600 0.6000000 criterion_A\n",
       "5 0.200 0.5466667 criterion_A\n",
       "6 0.600 0.6000000 criterion_A"
      ]
     },
     "metadata": {},
     "output_type": "display_data"
    }
   ],
   "source": [
    "# Calculate the index values\n",
    "output_two_groupings <- calcRLIE(data,\n",
    "                                 RLE_criteria = \"criterion_A\",\n",
    "                                 group1 = \"ecosystem\",\n",
    "                                 group2 = \"country\")\n",
    "\n",
    "# View output\n",
    "head(output_two_groupings)"
   ]
  },
  {
   "cell_type": "markdown",
   "metadata": {},
   "source": [
    "## Author information\n",
    "\n",
    "jessica.rowland674@gmail.com  \n",
    "http://jessrowlandresearch.wordpress.com"
   ]
  },
  {
   "cell_type": "code",
   "execution_count": null,
   "metadata": {},
   "outputs": [],
   "source": [
    "write.table(output_two_groupings, file = \"outputs/collection/output_two_groupings.tsv\", sep = \"\\t\", dec = \".\", quote = FALSE, row.names = FALSE )\n",
    "write.table(output_one_grouping, file = \"outputs/collection/output_one_grouping.tsv\", sep = \"\\t\", dec = \".\", quote = FALSE, row.names = FALSE )\n",
    "write.table(output, file = \"outputs/collection/output_RLIE.tsv\", sep = \"\\t\", dec = \".\", quote = FALSE, row.names = FALSE )\n",
    "write.table(output_weights, file = \"outputs/collection/output_weights.tsv\", sep = \"\\t\", dec = \".\", quote = FALSE, row.names = FALSE )\n",
    "write.table(data, file = \"outputs/collection/output_data.tsv\", sep = \"\\t\", dec = \".\", quote = FALSE, row.names = FALSE )"
   ]
  }
 ],
 "metadata": {
  "kernelspec": {
   "display_name": "R",
   "language": "R",
   "name": "rlang-kernel"
  },
  "language_info": {
   "codemirror_mode": "r",
   "file_extension": ".r",
   "mimetype": "text/x-r-source",
   "name": "R",
   "pygments_lexer": "r",
   "version": "4.3.3"
  }
 },
 "nbformat": 4,
 "nbformat_minor": 4
}
